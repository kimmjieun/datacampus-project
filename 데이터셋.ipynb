{
  "nbformat": 4,
  "nbformat_minor": 0,
  "metadata": {
    "colab": {
      "name": "데이터셋.ipynb",
      "provenance": [],
      "private_outputs": true,
      "collapsed_sections": [
        "PIW6xkIMhDvz"
      ],
      "include_colab_link": true
    },
    "kernelspec": {
      "name": "python3",
      "display_name": "Python 3"
    },
    "accelerator": "GPU"
  },
  "cells": [
    {
      "cell_type": "markdown",
      "metadata": {
        "id": "view-in-github",
        "colab_type": "text"
      },
      "source": [
        "<a href=\"https://colab.research.google.com/github/jiieunx/datacampus/blob/master/%EB%8D%B0%EC%9D%B4%ED%84%B0%EC%85%8B.ipynb\" target=\"_parent\"><img src=\"https://colab.research.google.com/assets/colab-badge.svg\" alt=\"Open In Colab\"/></a>"
      ]
    },
    {
      "cell_type": "markdown",
      "metadata": {
        "id": "PIW6xkIMhDvz",
        "colab_type": "text"
      },
      "source": [
        "# 설치 및 패키지"
      ]
    },
    {
      "cell_type": "code",
      "metadata": {
        "id": "WqQni4QEhFUt",
        "colab_type": "code",
        "colab": {}
      },
      "source": [
        "!apt-get update\n",
        "\n",
        "!apt-get install g++ openjdk-8-jdk python-dev python3-dev\n",
        "\n",
        "!pip3 install JPype1-py3\n",
        "\n",
        "!pip3 install konlpy\n",
        "\n",
        "!JAVA_HOME=\"/usr/lib/jvm/java-8-openjdk-amd64\"\n"
      ],
      "execution_count": null,
      "outputs": []
    },
    {
      "cell_type": "code",
      "metadata": {
        "id": "1r_e34vxhFSL",
        "colab_type": "code",
        "colab": {}
      },
      "source": [
        "import pandas as pd #판다스 패키지 불러오기\n",
        "import matplotlib.pyplot as plt\n",
        "from collections import Counter\n",
        "from wordcloud import WordCloud \n",
        "import numpy as np\n",
        "\n",
        "\n",
        "import matplotlib.pyplot as plt\n",
        "\n",
        "import nltk\n",
        "from nltk.corpus import stopwords\n",
        "%matplotlib inline\n",
        "import seaborn as sns\n",
        "\n",
        "import warnings\n",
        "warnings.filterwarnings(action = 'ignore')"
      ],
      "execution_count": null,
      "outputs": []
    },
    {
      "cell_type": "code",
      "metadata": {
        "id": "vw0mhAg2hFKf",
        "colab_type": "code",
        "colab": {}
      },
      "source": [
        "import jpype\n",
        "print(jpype.isJVMStarted()) #return False:not running or 0:running"
      ],
      "execution_count": null,
      "outputs": []
    },
    {
      "cell_type": "code",
      "metadata": {
        "id": "SuoIvalAhOUD",
        "colab_type": "code",
        "colab": {}
      },
      "source": [
        "!pip install customized_konlpy\n",
        "from konlpy.tag import Twitter \n",
        "from ckonlpy.tag import Twitter"
      ],
      "execution_count": null,
      "outputs": []
    },
    {
      "cell_type": "code",
      "metadata": {
        "id": "ORQmS8VlhPcd",
        "colab_type": "code",
        "colab": {}
      },
      "source": [
        "# 일단 import \n",
        "%matplotlib inline  \n",
        "import matplotlib as mpl  # 기본 설정 만지는 용도\n",
        "import matplotlib.pyplot as plt  # 그래프 그리는 용도\n",
        "import matplotlib.font_manager as fm  # 폰트 관련 용도"
      ],
      "execution_count": null,
      "outputs": []
    },
    {
      "cell_type": "code",
      "metadata": {
        "id": "iuol6FNPhQlQ",
        "colab_type": "code",
        "colab": {}
      },
      "source": [
        "#나눔고딕인스톨\n",
        "!apt-get update -qq\n",
        "!apt-get install fonts-nanum* -qq"
      ],
      "execution_count": null,
      "outputs": []
    },
    {
      "cell_type": "code",
      "metadata": {
        "id": "L2ysVm8mhRwn",
        "colab_type": "code",
        "colab": {}
      },
      "source": [
        "# 체크해보면 폰트 개수가 늘어났다\n",
        "sys_font=fm.findSystemFonts()\n",
        "print(f\"sys_font number: {len(sys_font)}\")\n",
        "\n",
        "nanum_font = [f for f in sys_font if 'Nanum' in f]\n",
        "print(f\"nanum_font number: {len(nanum_font)}\")"
      ],
      "execution_count": null,
      "outputs": []
    },
    {
      "cell_type": "code",
      "metadata": {
        "id": "C6m113ZhhTBr",
        "colab_type": "code",
        "colab": {}
      },
      "source": [
        "# 현재 설정되어 있는 폰트 사이즈와 글꼴을 알아보자\n",
        "!python --version\n",
        "def current_font():\n",
        "  print(f\"설정 폰트 글꼴: {plt.rcParams['font.family']}, 설정 폰트 사이즈: {plt.rcParams['font.size']}\")  # 파이썬 3.6 이상 사용가능하다\n",
        "        \n",
        "current_font()"
      ],
      "execution_count": null,
      "outputs": []
    },
    {
      "cell_type": "code",
      "metadata": {
        "id": "69DTeJUbhTF2",
        "colab_type": "code",
        "colab": {}
      },
      "source": [
        "path = '/usr/share/fonts/truetype/nanum/NanumGothic.ttf'  # 설치된 나눔글꼴중 원하는 녀석의 전체 경로를 가져오자\n",
        "font_name = fm.FontProperties(fname=path, size=10).get_name()\n",
        "print(font_name)\n",
        "plt.rc('font', family=font_name)"
      ],
      "execution_count": null,
      "outputs": []
    },
    {
      "cell_type": "code",
      "metadata": {
        "id": "BpNdhoAj7S6Q",
        "colab_type": "code",
        "colab": {}
      },
      "source": [
        "from google.colab import drive\n",
        "drive.mount('/content/drive')"
      ],
      "execution_count": null,
      "outputs": []
    },
    {
      "cell_type": "markdown",
      "metadata": {
        "id": "y7HgLkbbVyRV",
        "colab_type": "text"
      },
      "source": [
        "# 데이터셋"
      ]
    },
    {
      "cell_type": "code",
      "metadata": {
        "id": "5QG3eo5IVlDV",
        "colab_type": "code",
        "colab": {}
      },
      "source": [
        "import pandas as pd\n",
        "\n",
        "df = pd.read_excel('/content/drive/My drive/Colab Notebooks/data/data2_5.xlsx', encoding='euc-kr')\n",
        "\n",
        "#df = df[df['CARE_OPEN_CLASS_NM_1'] == 10]\n",
        "df\n"
      ],
      "execution_count": null,
      "outputs": []
    },
    {
      "cell_type": "code",
      "metadata": {
        "id": "Fvgk0Vn-V550",
        "colab_type": "code",
        "colab": {}
      },
      "source": [
        "!pip3 install konlpy"
      ],
      "execution_count": null,
      "outputs": []
    },
    {
      "cell_type": "code",
      "metadata": {
        "id": "Df0tbCbmV8BG",
        "colab_type": "code",
        "colab": {}
      },
      "source": [
        "twitter = Twitter() \n",
        "twitter.add_dictionary(['허그집단프로그램','담당직원','사회복귀','당직자', '숙식보호', '직업훈련', '적극적', '보호관찰', '프로그램 종료', '지원이유', '지금', '특별한사항', '이행사항', '용접기술교육원', '취업알선', '특수용접기능사', '유의사항', '취업박람회', '허그일자리프로그램', '건강관리', '긴급원호', '상기 인', '야간반', '여성기술교육원', '용접배관', '주거지원자', '가족관계', '허그일자리지원프로그램', '고용보험', '상기자', '영농기술교육원', '안전사고', '안정적', '준수사항', '보호종료', '취업지원 프로그램', '구직활동', '대형면허', '건축도장기능사', '건강문제', '친구들', '거주지', '집단상담', '시설관리직', '필기합격', '긍정적', '주거지원', '출결관리', '가족부양', '참여자', '허그 일자리 프로그램', '전기기술교육원', '이행상황', '자기관리', '기술교육원', '기초수급자', '정산금', '특이사항', '애로사항', '용접기능사', '사후관리', '보호관찰법', '기계가공기술교육원', '지원기회', '보호사업', '보호관찰소', '생활 준칙', '위문물품', '법무보호가족교육원', '실기합격', '주거지', '지출관리', '외출 요청', '예치금', '생활관 준칙', '합동결혼식', '용접기능훈련', '미납금', '상기 대상자', '사회성향상 프로그램', '규칙적', '가족희망센터', '몸관리', '상기인', '보호관찰소장', '안전관리', '경제적', '입주자', '취업성공패키지', '보호위원', '허그일자리 프로그램', '허그일자리사업', '집단프로그램', '기초수급', '장기간', '허그 일자리 집단프로그램', '보호종료자', '자동차정비기술교육원', '허그일자리', '식구들', '변동사항', '생활관준칙', '용접훈련', '자립이행상황통보서'], 'Noun')"
      ],
      "execution_count": null,
      "outputs": []
    },
    {
      "cell_type": "code",
      "metadata": {
        "id": "W4i_INtUV9wn",
        "colab_type": "code",
        "colab": {}
      },
      "source": [
        "#불용어 처리\n",
        "#날짜 계정 등 시기를 나타내는 단어\n",
        "stopwords= [ #날짜 계정 등 시기를 나타내는 토큰\n",
        "        '개월','금일', '기간','겨울','년도', '날짜','금월','까지', '날씨', '어제', '이번','최근', '추후','하루', '한번', '항상','현재','시일','조기','그동안',\n",
        "        '다음주','평소','차후','지난','요즘','아침','오전','오후','예전','한해','전일','여름','시기', '가끔','사이','최종','명일','향후',\n",
        "\n",
        "        #지역 위치나타내는 토큰\n",
        "        '경기도','김해','서울','울산','천안','당부',\n",
        "        \n",
        "        #관련없는 토큰\n",
        "        '결과', '경우', '계속', '계획', '공단', '과정', '관련', '관리','근황','기관','본인','다른', '다소', '다시', '다음', '담당', '담당자','실시','상기',\n",
        "        '대상자','멘토링','문자', '발생', '방문', '보고','상기인', '상담', '상태', '상황', '생활', '생활관', '소하', '스스로', '시간',\n",
        "        '아직', '여건', '예정', '외박', '외출', '요청','이야기', '이행','이후', '입소', '자신', '작성','정리', '정적', '제공', '제출', '조치', '종료',\n",
        "        '주거지원', '준비','지도','지원', '직원', '진행', '참여', '처리','통보','퇴소','확인', '활동','변경','가능','일부','심사','결정','강조',\n",
        "        '보호종료','개시','동일','파악','재차','사용','주기','연결','마무리', '사실','기재','얼마','의사','사료','참여자','기타','단계','완료', '귀하','혼자','당장',\n",
        "        '해당','인계','각종', '번호','취지','참고','보도','약간','대신','진단','물음','회의','양해','완전','부분','만료','상기 대상자','상기자','패키지','가장',\n",
        "\n",
        "        #쓸모없는 토큰\n",
        "        '가지','고자', '고함','구들', '금은','기반', '기하','동안', '되어', '드림', '때문', '또한', '려고', '로부터','다해' ,'대하', '대한', '대해', '더욱', '도로',\n",
        "        '만원', '만큼' , '면서', '모습', '문하', '바로',  '보이', '보임','부분계획', '부터', '부하', '사항', '않아', '양곡','어서','위해', '유의면서','이행상',\n",
        "        '인의', '인하','있는', '있다고', '있도록', '있어', '있으며', '있음', '자로','전하', '전함','정도','중이', '중임', '지소', '통해','특이', '하겠다고', '하고',\n",
        "        '하고자', '하기', '하는', '하도록','하며', '하면서', '하여', '하였으며', '하였음', '하자', '하지','해주','통한','다가','처럼','하라','주지','무하','더라도','요하',\n",
        "        '여부','중인','달라', '물어','어가','상의','고하','라하','대로','어보','지고','이하','한지','각하','영하','알리','여러','바란','아무','이제','서도','당하','여서',\n",
        "        '립하','보기','로서','도래','지원이','남지','가기','지원기','조리','간다','만하','주어','시킴', '리지','아지','고용보', '족하','어도','성하','교하','일이','기해',\n",
        "        '일해','해하','달이','결하','조성하','제하','장일','도중','소가','심해','일어','일도','을시','도록','시운전', '이루',\n",
        "        \n",
        "        # #청소년 관련 단어 \n",
        "        # \"학생\",\"징계\",\"친구\",\"선생님\",\"잘못\",\"청소년\",\"태도\",\"핸드폰\",\"아버지\",\"프로그램\",\"광주\",\n",
        "        # \"가정법원\",\"처분\",\"취침\",\"시경\",\"학교\",\"보호자\",\"검정고시\",\"무단\",\"언니\",\"무단이탈\",\"금지\",\"허락\",\"사건\",\n",
        "        # \"합격\",\"친구들\",\"미래\",\"반성\",\"동행\",\"보호처분\",\"이유\",\"사고\",\"야간\",\"청소\",\"감정\",\"위반\",\"남자친구\",\n",
        "        # \"제한\",\"출석\",\"등교\",\"자녀\",\"고등학교\",\"아이\",\"표현\",\"학업\",\"지시\",\"인지\",'신청','저축', '건강관리',\n",
        "        \"최선\", \"면담\", \"특이사항\", \"이행상황\", \"사업\", \"전달\", \"사무실\",\n",
        "        \"설명\", \"관계\", \"특별\", \"안전사고\", \"가정\", \"마음\", \"철저\", \"아보\", \"명절\",\"사하\", \"원호\",\n",
        "        \"환경\"]"
      ],
      "execution_count": null,
      "outputs": []
    },
    {
      "cell_type": "code",
      "metadata": {
        "id": "iRHHpWetWAlh",
        "colab_type": "code",
        "colab": {}
      },
      "source": [
        "from ckonlpy.tag import Postprocessor\n",
        "#\n",
        "replace = {'주소지':'거주기','주거지':'거주지', '행동':'태도', '애로':'특이', '주의':'유의', '상황':'상태', '열심':'성실', '관리':'조치',  '애로':'필요', '직장':'업무', '회사':'일자리', '지부':'공단',\n",
        "           '근로':'근무', '근속':'근무',\n",
        "           '불편':'문제', '어려움':'문제', \n",
        "           '지지':'독려', '격려':'독려','하라':'독려',\n",
        "           '열심':'노력', '의지':'노력', '자립':'노력',\n",
        "           '지금':'현재', '오늘':'현재',\n",
        "           '전화':'연락', '통화':'연락','유선':'연락',\n",
        "           '체납':'연체', '미납':'연체'\n",
        "           ,'안정적':'안정'\n",
        "           }\n",
        "postprocessor = Postprocessor(twitter, replace = replace, passtags = 'Noun', stopwords = stopwords) \n",
        "# postprocessor.pos(data)"
      ],
      "execution_count": null,
      "outputs": []
    },
    {
      "cell_type": "code",
      "metadata": {
        "id": "9uUfD60fhg_9",
        "colab_type": "code",
        "colab": {}
      },
      "source": [
        "def get_tokens(consult):\n",
        "  noun =[]\n",
        "  tmp = postprocessor.pos(consult)\n",
        "  for word,tag in tmp:\n",
        "    if tag in ['Noun'] and len(word)>1:\n",
        "      noun.append(word)\n",
        "  return noun #twitter.pos(sentence)\n"
      ],
      "execution_count": null,
      "outputs": []
    },
    {
      "cell_type": "code",
      "metadata": {
        "id": "ziRjbpSihi2m",
        "colab_type": "code",
        "colab": {}
      },
      "source": [
        "df['noun']=df['CONSULT_CONT'].map(get_tokens)"
      ],
      "execution_count": null,
      "outputs": []
    },
    {
      "cell_type": "code",
      "metadata": {
        "id": "KH6Pct2Uhknf",
        "colab_type": "code",
        "colab": {}
      },
      "source": [
        "\n",
        "df['노력'] = df['noun'].apply(lambda x : x.count('노력'))\n",
        "df['취업'] = df['noun'].apply(lambda x : x.count('취업'))\n",
        "df['독려'] = df['noun'].apply(lambda x : x.count('독려'))\n",
        "df['연락'] = df['noun'].apply(lambda x : x.count('연락'))\n",
        "df['성실'] = df['noun'].apply(lambda x : x.count('성실'))\n",
        "df['근무'] = df['noun'].apply(lambda x : x.count('근무'))\n",
        "df['문제'] = df['noun'].apply(lambda x : x.count('문제'))\n",
        "df['저축'] = df['noun'].apply(lambda x : x.count('저축'))\n",
        "df['유의'] = df['noun'].apply(lambda x : x.count('유의'))\n",
        "df['연체'] = df['noun'].apply(lambda x : x.count('연체'))\n",
        "\n",
        "df['임대료'] = df['noun'].apply(lambda x : x.count('임대료'))\n",
        "df['건강'] = df['noun'].apply(lambda x : x.count('건강'))\n",
        "df['안정'] = df['noun'].apply(lambda x : x.count('안정'))\n",
        "df['취득'] = df['noun'].apply(lambda x : x.count('취득'))\n",
        "df['숙식'] = df['noun'].apply(lambda x : x.count('숙식'))\n",
        "df['교육'] = df['noun'].apply(lambda x : x.count('교육'))\n",
        "df['지속'] = df['noun'].apply(lambda x : x.count('지속'))\n",
        "df['건강관리'] = df['noun'].apply(lambda x : x.count('건강관리'))\n",
        "df['희망'] = df['noun'].apply(lambda x : x.count('희망'))\n",
        "df['납부'] = df['noun'].apply(lambda x : x.count('납부'))\n",
        "\n",
        "df['공단'] = df['noun'].apply(lambda x : x.count('공단'))\n",
        "df['사후관리'] = df['noun'].apply(lambda x : x.count('사후관리'))\n",
        "df['마련'] = df['noun'].apply(lambda x : x.count('마련'))\n",
        "df['일자리'] = df['noun'].apply(lambda x : x.count('일자리'))\n",
        "df['업무'] = df['noun'].apply(lambda x : x.count('업무'))\n",
        "df['연장'] = df['noun'].apply(lambda x : x.count('연장'))\n",
        "df['가족'] = df['noun'].apply(lambda x : x.count('가족'))\n",
        "df['신청'] = df['noun'].apply(lambda x : x.count('신청'))\n",
        "df['현재'] = df['noun'].apply(lambda x : x.count('현재'))\n",
        "df['자격증'] = df['noun'].apply(lambda x : x.count('자격증'))\n",
        "\n",
        "df['직업훈련'] = df['noun'].apply(lambda x : x.count('직업훈련'))\n",
        "df['보호'] = df['noun'].apply(lambda x : x.count('보호'))\n",
        "df['자녀'] = df['noun'].apply(lambda x : x.count('자녀'))\n",
        "df['운전'] = df['noun'].apply(lambda x : x.count('운전'))\n",
        "df['시험'] = df['noun'].apply(lambda x : x.count('시험'))\n",
        "df['경제적'] = df['noun'].apply(lambda x : x.count('경제적'))\n",
        "df['필요'] = df['noun'].apply(lambda x : x.count('필요'))\n",
        "df['학원'] = df['noun'].apply(lambda x : x.count('학원'))\n",
        "df['병원'] = df['noun'].apply(lambda x : x.count('병원'))\n",
        "df['장기'] = df['noun'].apply(lambda x : x.count('장기'))\n",
        "\n",
        "df['일용직'] = df['noun'].apply(lambda x : x.count('일용직'))\n",
        "df['용접'] = df['noun'].apply(lambda x : x.count('용접'))\n",
        "df['생각'] = df['noun'].apply(lambda x : x.count('생각'))\n",
        "df['구직활동'] = df['noun'].apply(lambda x : x.count('구직활동'))\n",
        "df['적응'] = df['noun'].apply(lambda x : x.count('적응'))\n",
        "df['사회'] = df['noun'].apply(lambda x : x.count('사회'))\n",
        "df['주택'] = df['noun'].apply(lambda x : x.count('주택'))\n",
        "df['치료'] = df['noun'].apply(lambda x : x.count('치료'))\n",
        "df['창업'] = df['noun'].apply(lambda x : x.count('창업'))\n",
        "df['성공'] = df['noun'].apply(lambda x : x.count('성공'))\n",
        "\n",
        "df['보증금'] = df['noun'].apply(lambda x : x.count('보증금'))\n",
        "df['현장'] = df['noun'].apply(lambda x : x.count('현장'))\n",
        "df['약속'] = df['noun'].apply(lambda x : x.count('약속'))\n",
        "df['도움'] = df['noun'].apply(lambda x : x.count('도움'))\n",
        "df['신경'] = df['noun'].apply(lambda x : x.count('신경'))\n",
        "df['업체'] = df['noun'].apply(lambda x : x.count('업체'))\n",
        "df['안전'] = df['noun'].apply(lambda x : x.count('안전'))\n",
        "df['유지'] = df['noun'].apply(lambda x : x.count('유지'))\n",
        "df['전환'] = df['noun'].apply(lambda x : x.count('전환'))\n",
        "df['임대'] = df['noun'].apply(lambda x : x.count('임대'))\n",
        "df['회복'] = df['noun'].apply(lambda x : x.count('회복'))\n",
        "\n",
        "df['점검'] = df['noun'].apply(lambda x : x.count('점검'))\n",
        "df['야간'] = df['noun'].apply(lambda x : x.count('야간'))\n",
        "df['동료'] = df['noun'].apply(lambda x : x.count('동료'))\n",
        "df['긴급원호'] = df['noun'].apply(lambda x : x.count('긴급원호'))\n",
        "df['입교'] = df['noun'].apply(lambda x : x.count('입교'))\n",
        "df['프로그램'] = df['noun'].apply(lambda x : x.count('프로그램'))\n",
        "df['기초'] = df['noun'].apply(lambda x : x.count('기초'))\n",
        "df['고지'] = df['noun'].apply(lambda x : x.count('고지'))\n",
        "df['합격'] = df['noun'].apply(lambda x : x.count('합격'))\n",
        "df['규칙'] = df['noun'].apply(lambda x : x.count('규칙'))\n",
        "\n",
        "df['지급'] = df['noun'].apply(lambda x : x.count('지급'))\n",
        "df['축하'] = df['noun'].apply(lambda x : x.count('축하'))\n",
        "df['계약'] = df['noun'].apply(lambda x : x.count('계약'))\n",
        "df['지인'] = df['noun'].apply(lambda x : x.count('지인'))\n",
        "df['자세'] = df['noun'].apply(lambda x : x.count('자세'))\n",
        "df['운영'] = df['noun'].apply(lambda x : x.count('운영'))\n",
        "df['기술'] = df['noun'].apply(lambda x : x.count('기술'))\n",
        "df['건설'] = df['noun'].apply(lambda x : x.count('건설'))\n",
        "df['생계'] = df['noun'].apply(lambda x : x.count('생계'))\n",
        "df['조속'] = df['noun'].apply(lambda x : x.count('조속'))\n",
        "\n",
        "df['시작'] = df['noun'].apply(lambda x : x.count('시작'))\n",
        "df['소재'] = df['noun'].apply(lambda x : x.count('소재'))\n",
        "df['사람'] = df['noun'].apply(lambda x : x.count('사람'))\n",
        "df['복귀'] = df['noun'].apply(lambda x : x.count('복귀'))\n",
        "df['센터'] = df['noun'].apply(lambda x : x.count('센터'))\n",
        "df['조성'] = df['noun'].apply(lambda x : x.count('조성'))\n",
        "df['공사'] = df['noun'].apply(lambda x : x.count('공사'))\n",
        "df['권유'] = df['noun'].apply(lambda x : x.count('권유'))\n",
        "df['개인'] = df['noun'].apply(lambda x : x.count('개인'))\n",
        "\n",
        "df['적극적'] = df['noun'].apply(lambda x : x.count('적극적'))\n",
        "df['주거'] = df['noun'].apply(lambda x : x.count('주거'))\n",
        "df['태도'] = df['noun'].apply(lambda x : x.count('태도'))\n",
        "df['애로사항'] = df['noun'].apply(lambda x : x.count('애로사항'))\n",
        "df['취업알선'] = df['noun'].apply(lambda x : x.count('취업알선'))\n",
        "df['조금'] = df['noun'].apply(lambda x : x.count('조금'))\n",
        "df['이상'] = df['noun'].apply(lambda x : x.count('이상'))\n",
        "df['음주'] = df['noun'].apply(lambda x : x.count('음주'))\n",
        "df['퇴거'] = df['noun'].apply(lambda x : x.count('퇴거'))\n",
        "df['허그일자리'] = df['noun'].apply(lambda x : x.count('허그일자리'))"
      ],
      "execution_count": null,
      "outputs": []
    },
    {
      "cell_type": "code",
      "metadata": {
        "id": "Uki84pPssvWJ",
        "colab_type": "code",
        "colab": {}
      },
      "source": [
        "df"
      ],
      "execution_count": null,
      "outputs": []
    },
    {
      "cell_type": "code",
      "metadata": {
        "id": "MUAZBT_qlflp",
        "colab_type": "code",
        "colab": {}
      },
      "source": [
        "\n",
        "\n",
        "df=df.drop(['DSJ_CARD_NO', 'CONSULT_CONT','JAEBUM','JAEBUM_1','출생년도','학력','CARE_OPEN_CLASS_NM_1','noun'],axis=1)"
      ],
      "execution_count": null,
      "outputs": []
    },
    {
      "cell_type": "code",
      "metadata": {
        "id": "2Gj2AeOKvNv2",
        "colab_type": "code",
        "colab": {}
      },
      "source": [
        "df"
      ],
      "execution_count": null,
      "outputs": []
    },
    {
      "cell_type": "code",
      "metadata": {
        "id": "nUxb2iMIslrR",
        "colab_type": "code",
        "colab": {}
      },
      "source": [
        "#df.to_excel(\"데이터셋.xlsx\",index=False)\n",
        "#27만개가 많아서 안돼 "
      ],
      "execution_count": null,
      "outputs": []
    },
    {
      "cell_type": "code",
      "metadata": {
        "id": "pTR38I5_6_bb",
        "colab_type": "code",
        "colab": {}
      },
      "source": [
        "df.to_excel(\"/content/drive/My drive/Colab Notebooks/data/data2_5.xlsx\",index=False)\n"
      ],
      "execution_count": null,
      "outputs": []
    },
    {
      "cell_type": "code",
      "metadata": {
        "id": "4I0Qi5ExAfaf",
        "colab_type": "code",
        "colab": {}
      },
      "source": [
        ""
      ],
      "execution_count": null,
      "outputs": []
    },
    {
      "cell_type": "code",
      "metadata": {
        "id": "i1sYFxdG67M6",
        "colab_type": "code",
        "colab": {}
      },
      "source": [
        "df1 = df[0:50000]\n",
        "df2 = df[50001:100000]\n",
        "df3 = df[100001:150000]\n",
        "df4 = df[150001:200000]\n",
        "df5 = df[200001:270232]\n"
      ],
      "execution_count": null,
      "outputs": []
    },
    {
      "cell_type": "code",
      "metadata": {
        "colab_type": "code",
        "id": "C6KiNSaGAfd7",
        "colab": {}
      },
      "source": [
        "df1.to_excel(\"/content/drive/My Drive/데이터셋1.xlsx\",index=False)"
      ],
      "execution_count": null,
      "outputs": []
    },
    {
      "cell_type": "code",
      "metadata": {
        "id": "aTIzGPHW7f2V",
        "colab_type": "code",
        "colab": {}
      },
      "source": [
        "df2.to_excel(\"/content/drive/My Drive/데이터셋2.xlsx\",index=False)"
      ],
      "execution_count": null,
      "outputs": []
    },
    {
      "cell_type": "code",
      "metadata": {
        "id": "hAYKKV_u7tfS",
        "colab_type": "code",
        "colab": {}
      },
      "source": [
        "df3.to_excel(\"/content/drive/My Drive/데이터셋3.xlsx\",index=False)"
      ],
      "execution_count": null,
      "outputs": []
    },
    {
      "cell_type": "code",
      "metadata": {
        "id": "L5vbqqoC7uka",
        "colab_type": "code",
        "colab": {}
      },
      "source": [
        "df4.to_excel(\"/content/drive/My Drive/데이터셋4.xlsx\",index=False)"
      ],
      "execution_count": null,
      "outputs": []
    },
    {
      "cell_type": "code",
      "metadata": {
        "id": "SNWY9rcp7veF",
        "colab_type": "code",
        "colab": {}
      },
      "source": [
        "df5.to_excel(\"/content/drive/My Drive/데이터셋5.xlsx\",index=False)"
      ],
      "execution_count": null,
      "outputs": []
    }
  ]
}