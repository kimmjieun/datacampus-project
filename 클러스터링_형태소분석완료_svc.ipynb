{
  "nbformat": 4,
  "nbformat_minor": 0,
  "metadata": {
    "colab": {
      "name": "클러스터링_형태소분석완료_svc.ipynb ",
      "provenance": [],
      "collapsed_sections": [
        "GA0PvUiEhZ3s",
        "PIW6xkIMhDvz",
        "EILurWKwhFvQ",
        "D0zOgNxmJfed",
        "fyx8VCnfGT8c",
        "vuSHc1cwGxXU",
        "ELndcwJLHIC5"
      ],
      "include_colab_link": true
    },
    "kernelspec": {
      "name": "python3",
      "display_name": "Python 3"
    },
    "accelerator": "GPU"
  },
  "cells": [
    {
      "cell_type": "markdown",
      "metadata": {
        "id": "view-in-github",
        "colab_type": "text"
      },
      "source": [
        "<a href=\"https://colab.research.google.com/github/jiieunx/datacampus/blob/master/%ED%81%B4%EB%9F%AC%EC%8A%A4%ED%84%B0%EB%A7%81_%ED%98%95%ED%83%9C%EC%86%8C%EB%B6%84%EC%84%9D%EC%99%84%EB%A3%8C_svc.ipynb\" target=\"_parent\"><img src=\"https://colab.research.google.com/assets/colab-badge.svg\" alt=\"Open In Colab\"/></a>"
      ]
    },
    {
      "cell_type": "markdown",
      "metadata": {
        "id": "GA0PvUiEhZ3s",
        "colab_type": "text"
      },
      "source": [
        "#그래프 한글깨짐 방지"
      ]
    },
    {
      "cell_type": "code",
      "metadata": {
        "id": "p_sGdeMZhfQo",
        "colab_type": "code",
        "colab": {
          "base_uri": "https://localhost:8080/"
        },
        "outputId": "6d65e996-e364-47be-8c20-eb87e0e5fa2b"
      },
      "source": [
        "import matplotlib as mpl\n",
        "import matplotlib.pyplot as plt\n",
        " \n",
        "%config InlineBackend.figure_format = 'retina'\n",
        " \n",
        "!apt -qq -y install fonts-nanum\n",
        " \n",
        "import matplotlib.font_manager as fm\n",
        "fontpath = '/usr/share/fonts/truetype/nanum/NanumBarunGothic.ttf'\n",
        "font = fm.FontProperties(fname=fontpath, size=9)\n",
        "plt.rc('font', family='NanumBarunGothic') \n",
        "mpl.font_manager._rebuild()"
      ],
      "execution_count": null,
      "outputs": [
        {
          "output_type": "stream",
          "text": [
            "fonts-nanum is already the newest version (20170925-1).\n",
            "The following package was automatically installed and is no longer required:\n",
            "  libnvidia-common-440\n",
            "Use 'apt autoremove' to remove it.\n",
            "0 upgraded, 0 newly installed, 0 to remove and 39 not upgraded.\n"
          ],
          "name": "stdout"
        }
      ]
    },
    {
      "cell_type": "code",
      "metadata": {
        "id": "DYB1cAOWhhtu",
        "colab_type": "code",
        "colab": {
          "base_uri": "https://localhost:8080/"
        },
        "outputId": "cbec85b5-2fc6-40b3-b4c6-fa767623c1e9"
      },
      "source": [
        "plt.figure(figsize=(5,5))\n",
        "plt.plot([0,1], [0,1], label='한글테스트용')\n",
        "plt.legend()\n",
        "plt.show()"
      ],
      "execution_count": null,
      "outputs": [
        {
          "output_type": "display_data",
          "data": {
            "image/png": "[encoded data removed]",
            "text/plain": [
              "<Figure size 360x360 with 1 Axes>"
            ]
          },
          "metadata": {
            "tags": [],
            "image/png": {
              "width": 315,
              "height": 304
            },
            "needs_background": "light"
          }
        }
      ]
    },
    {
      "cell_type": "markdown",
      "metadata": {
        "id": "PIW6xkIMhDvz",
        "colab_type": "text"
      },
      "source": [
        "# 설치 및 패키지"
      ]
    },
    {
      "cell_type": "code",
      "metadata": {
        "id": "WqQni4QEhFUt",
        "colab_type": "code",
        "colab": {
          "base_uri": "https://localhost:8080/"
        },
        "outputId": "ca866d92-8a31-451f-df42-37cceff6c9d5"
      },
      "source": [
        "!apt-get update\n",
        "\n",
        "!apt-get install g++ openjdk-8-jdk python-dev python3-dev\n",
        "\n",
        "!pip3 install JPype1-py3\n",
        "\n",
        "!pip3 install konlpy\n",
        "\n",
        "!JAVA_HOME=\"/usr/lib/jvm/java-8-openjdk-amd64\"\n"
      ],
      "execution_count": null,
      "outputs": [
        {
          "output_type": "stream",
          "text": [
            "\r0% [Working]\r            \rGet:1 http://ppa.launchpad.net/graphics-drivers/ppa/ubuntu bionic InRelease [21.3 kB]\n",
            "\r0% [Waiting for headers] [Waiting for headers] [Connected to cloud.r-project.or\r                                                                               \rGet:2 http://security.ubuntu.com/ubuntu bionic-security InRelease [88.7 kB]\n",
            "\r0% [Waiting for headers] [2 InRelease 14.2 kB/88.7 kB 16%] [Connected to cloud.\r                                                                               \rHit:3 http://archive.ubuntu.com/ubuntu bionic InRelease\n",
            "\r0% [2 InRelease 88.7 kB/88.7 kB 100%] [Connected to cloud.r-project.org (13.227\r                                                                               \rGet:4 http://archive.ubuntu.com/ubuntu bionic-updates InRelease [88.7 kB]\n",
            "\r                                                                               \rGet:5 https://cloud.r-project.org/bin/linux/ubuntu bionic-cran35/ InRelease [3,626 B]\n",
            "\r                                                                               \rGet:6 http://ppa.launchpad.net/marutter/c2d4u3.5/ubuntu bionic InRelease [15.4 kB]\n",
            "Get:7 http://archive.ubuntu.com/ubuntu bionic-backports InRelease [74.6 kB]\n",
            "Ign:8 https://developer.download.nvidia.com/compute/cuda/repos/ubuntu1804/x86_64  InRelease\n",
            "Ign:9 https://developer.download.nvidia.com/compute/machine-learning/repos/ubuntu1804/x86_64  InRelease\n",
            "Hit:10 https://developer.download.nvidia.com/compute/cuda/repos/ubuntu1804/x86_64  Release\n",
            "Get:11 https://developer.download.nvidia.com/compute/machine-learning/repos/ubuntu1804/x86_64  Release [564 B]\n",
            "Get:12 https://developer.download.nvidia.com/compute/machine-learning/repos/ubuntu1804/x86_64  Release.gpg [833 B]\n",
            "Get:13 http://security.ubuntu.com/ubuntu bionic-security/main amd64 Packages [1,066 kB]\n",
            "Get:14 http://security.ubuntu.com/ubuntu bionic-security/restricted amd64 Packages [109 kB]\n",
            "Get:15 http://security.ubuntu.com/ubuntu bionic-security/universe amd64 Packages [892 kB]\n",
            "Get:16 https://cloud.r-project.org/bin/linux/ubuntu bionic-cran35/ Packages [95.7 kB]\n",
            "Get:17 http://ppa.launchpad.net/graphics-drivers/ppa/ubuntu bionic/main amd64 Packages [43.0 kB]\n",
            "Get:18 http://ppa.launchpad.net/marutter/c2d4u3.5/ubuntu bionic/main Sources [1,864 kB]\n",
            "Get:19 http://ppa.launchpad.net/marutter/c2d4u3.5/ubuntu bionic/main amd64 Packages [900 kB]\n",
            "Get:20 http://archive.ubuntu.com/ubuntu bionic-updates/main amd64 Packages [1,362 kB]\n",
            "Get:21 http://archive.ubuntu.com/ubuntu bionic-updates/universe amd64 Packages [1,421 kB]\n",
            "Get:22 http://archive.ubuntu.com/ubuntu bionic-updates/restricted amd64 Packages [125 kB]\n",
            "Get:24 https://developer.download.nvidia.com/compute/machine-learning/repos/ubuntu1804/x86_64  Packages [47.5 kB]\n",
            "Fetched 8,218 kB in 2s (4,100 kB/s)\n",
            "Reading package lists... Done\n",
            "Reading package lists... Done\n",
            "Building dependency tree       \n",
            "Reading state information... Done\n",
            "python-dev is already the newest version (2.7.15~rc1-1).\n",
            "g++ is already the newest version (4:7.4.0-1ubuntu2.3).\n",
            "g++ set to manually installed.\n",
            "python3-dev is already the newest version (3.6.7-1~18.04).\n",
            "The following package was automatically installed and is no longer required:\n",
            "  libnvidia-common-440\n",
            "Use 'apt autoremove' to remove it.\n",
            "The following additional packages will be installed:\n",
            "  fonts-dejavu-core fonts-dejavu-extra libatk-wrapper-java\n",
            "  libatk-wrapper-java-jni libxxf86dga1 openjdk-8-jdk-headless openjdk-8-jre\n",
            "  openjdk-8-jre-headless x11-utils\n",
            "Suggested packages:\n",
            "  openjdk-8-demo openjdk-8-source visualvm icedtea-8-plugin libnss-mdns\n",
            "  fonts-ipafont-gothic fonts-ipafont-mincho fonts-wqy-microhei\n",
            "  fonts-wqy-zenhei fonts-indic mesa-utils\n",
            "The following NEW packages will be installed:\n",
            "  fonts-dejavu-core fonts-dejavu-extra libatk-wrapper-java\n",
            "  libatk-wrapper-java-jni libxxf86dga1 openjdk-8-jdk openjdk-8-jdk-headless\n",
            "  openjdk-8-jre openjdk-8-jre-headless x11-utils\n",
            "0 upgraded, 10 newly installed, 0 to remove and 62 not upgraded.\n",
            "Need to get 40.7 MB of archives.\n",
            "After this operation, 153 MB of additional disk space will be used.\n",
            "Get:1 http://archive.ubuntu.com/ubuntu bionic/main amd64 libxxf86dga1 amd64 2:1.1.4-1 [13.7 kB]\n",
            "Get:2 http://archive.ubuntu.com/ubuntu bionic/main amd64 fonts-dejavu-core all 2.37-1 [1,041 kB]\n",
            "Get:3 http://archive.ubuntu.com/ubuntu bionic/main amd64 fonts-dejavu-extra all 2.37-1 [1,953 kB]\n",
            "Get:4 http://archive.ubuntu.com/ubuntu bionic/main amd64 x11-utils amd64 7.7+3build1 [196 kB]\n",
            "Get:5 http://archive.ubuntu.com/ubuntu bionic/main amd64 libatk-wrapper-java all 0.33.3-20ubuntu0.1 [34.7 kB]\n",
            "Get:6 http://archive.ubuntu.com/ubuntu bionic/main amd64 libatk-wrapper-java-jni amd64 0.33.3-20ubuntu0.1 [28.3 kB]\n",
            "Get:7 http://archive.ubuntu.com/ubuntu bionic-updates/universe amd64 openjdk-8-jre-headless amd64 8u265-b01-0ubuntu2~18.04 [27.5 MB]\n",
            "Get:8 http://archive.ubuntu.com/ubuntu bionic-updates/universe amd64 openjdk-8-jre amd64 8u265-b01-0ubuntu2~18.04 [69.6 kB]\n",
            "Get:9 http://archive.ubuntu.com/ubuntu bionic-updates/universe amd64 openjdk-8-jdk-headless amd64 8u265-b01-0ubuntu2~18.04 [8,262 kB]\n",
            "Get:10 http://archive.ubuntu.com/ubuntu bionic-updates/universe amd64 openjdk-8-jdk amd64 8u265-b01-0ubuntu2~18.04 [1,610 kB]\n",
            "Fetched 40.7 MB in 1s (66.6 MB/s)\n",
            "Selecting previously unselected package libxxf86dga1:amd64.\n",
            "(Reading database ... 144597 files and directories currently installed.)\n",
            "Preparing to unpack .../0-libxxf86dga1_2%3a1.1.4-1_amd64.deb ...\n",
            "Unpacking libxxf86dga1:amd64 (2:1.1.4-1) ...\n",
            "Selecting previously unselected package fonts-dejavu-core.\n",
            "Preparing to unpack .../1-fonts-dejavu-core_2.37-1_all.deb ...\n",
            "Unpacking fonts-dejavu-core (2.37-1) ...\n",
            "Selecting previously unselected package fonts-dejavu-extra.\n",
            "Preparing to unpack .../2-fonts-dejavu-extra_2.37-1_all.deb ...\n",
            "Unpacking fonts-dejavu-extra (2.37-1) ...\n",
            "Selecting previously unselected package x11-utils.\n",
            "Preparing to unpack .../3-x11-utils_7.7+3build1_amd64.deb ...\n",
            "Unpacking x11-utils (7.7+3build1) ...\n",
            "Selecting previously unselected package libatk-wrapper-java.\n",
            "Preparing to unpack .../4-libatk-wrapper-java_0.33.3-20ubuntu0.1_all.deb ...\n",
            "Unpacking libatk-wrapper-java (0.33.3-20ubuntu0.1) ...\n",
            "Selecting previously unselected package libatk-wrapper-java-jni:amd64.\n",
            "Preparing to unpack .../5-libatk-wrapper-java-jni_0.33.3-20ubuntu0.1_amd64.deb ...\n",
            "Unpacking libatk-wrapper-java-jni:amd64 (0.33.3-20ubuntu0.1) ...\n",
            "Selecting previously unselected package openjdk-8-jre-headless:amd64.\n",
            "Preparing to unpack .../6-openjdk-8-jre-headless_8u265-b01-0ubuntu2~18.04_amd64.deb ...\n",
            "Unpacking openjdk-8-jre-headless:amd64 (8u265-b01-0ubuntu2~18.04) ...\n",
            "Selecting previously unselected package openjdk-8-jre:amd64.\n",
            "Preparing to unpack .../7-openjdk-8-jre_8u265-b01-0ubuntu2~18.04_amd64.deb ...\n",
            "Unpacking openjdk-8-jre:amd64 (8u265-b01-0ubuntu2~18.04) ...\n",
            "Selecting previously unselected package openjdk-8-jdk-headless:amd64.\n",
            "Preparing to unpack .../8-openjdk-8-jdk-headless_8u265-b01-0ubuntu2~18.04_amd64.deb ...\n",
            "Unpacking openjdk-8-jdk-headless:amd64 (8u265-b01-0ubuntu2~18.04) ...\n",
            "Selecting previously unselected package openjdk-8-jdk:amd64.\n",
            "Preparing to unpack .../9-openjdk-8-jdk_8u265-b01-0ubuntu2~18.04_amd64.deb ...\n",
            "Unpacking openjdk-8-jdk:amd64 (8u265-b01-0ubuntu2~18.04) ...\n",
            "Setting up fonts-dejavu-core (2.37-1) ...\n",
            "Setting up libxxf86dga1:amd64 (2:1.1.4-1) ...\n",
            "Setting up fonts-dejavu-extra (2.37-1) ...\n",
            "Setting up openjdk-8-jre-headless:amd64 (8u265-b01-0ubuntu2~18.04) ...\n",
            "update-alternatives: using /usr/lib/jvm/java-8-openjdk-amd64/jre/bin/orbd to provide /usr/bin/orbd (orbd) in auto mode\n",
            "update-alternatives: using /usr/lib/jvm/java-8-openjdk-amd64/jre/bin/servertool to provide /usr/bin/servertool (servertool) in auto mode\n",
            "update-alternatives: using /usr/lib/jvm/java-8-openjdk-amd64/jre/bin/tnameserv to provide /usr/bin/tnameserv (tnameserv) in auto mode\n",
            "Setting up openjdk-8-jdk-headless:amd64 (8u265-b01-0ubuntu2~18.04) ...\n",
            "update-alternatives: using /usr/lib/jvm/java-8-openjdk-amd64/bin/idlj to provide /usr/bin/idlj (idlj) in auto mode\n",
            "update-alternatives: using /usr/lib/jvm/java-8-openjdk-amd64/bin/wsimport to provide /usr/bin/wsimport (wsimport) in auto mode\n",
            "update-alternatives: using /usr/lib/jvm/java-8-openjdk-amd64/bin/jsadebugd to provide /usr/bin/jsadebugd (jsadebugd) in auto mode\n",
            "update-alternatives: using /usr/lib/jvm/java-8-openjdk-amd64/bin/native2ascii to provide /usr/bin/native2ascii (native2ascii) in auto mode\n",
            "update-alternatives: using /usr/lib/jvm/java-8-openjdk-amd64/bin/javah to provide /usr/bin/javah (javah) in auto mode\n",
            "update-alternatives: using /usr/lib/jvm/java-8-openjdk-amd64/bin/clhsdb to provide /usr/bin/clhsdb (clhsdb) in auto mode\n",
            "update-alternatives: using /usr/lib/jvm/java-8-openjdk-amd64/bin/jhat to provide /usr/bin/jhat (jhat) in auto mode\n",
            "update-alternatives: using /usr/lib/jvm/java-8-openjdk-amd64/bin/extcheck to provide /usr/bin/extcheck (extcheck) in auto mode\n",
            "update-alternatives: using /usr/lib/jvm/java-8-openjdk-amd64/bin/hsdb to provide /usr/bin/hsdb (hsdb) in auto mode\n",
            "update-alternatives: using /usr/lib/jvm/java-8-openjdk-amd64/bin/schemagen to provide /usr/bin/schemagen (schemagen) in auto mode\n",
            "update-alternatives: using /usr/lib/jvm/java-8-openjdk-amd64/bin/xjc to provide /usr/bin/xjc (xjc) in auto mode\n",
            "update-alternatives: using /usr/lib/jvm/java-8-openjdk-amd64/bin/wsgen to provide /usr/bin/wsgen (wsgen) in auto mode\n",
            "Setting up x11-utils (7.7+3build1) ...\n",
            "Setting up libatk-wrapper-java (0.33.3-20ubuntu0.1) ...\n",
            "Setting up libatk-wrapper-java-jni:amd64 (0.33.3-20ubuntu0.1) ...\n",
            "Setting up openjdk-8-jre:amd64 (8u265-b01-0ubuntu2~18.04) ...\n",
            "update-alternatives: using /usr/lib/jvm/java-8-openjdk-amd64/jre/bin/policytool to provide /usr/bin/policytool (policytool) in auto mode\n",
            "Setting up openjdk-8-jdk:amd64 (8u265-b01-0ubuntu2~18.04) ...\n",
            "update-alternatives: using /usr/lib/jvm/java-8-openjdk-amd64/bin/appletviewer to provide /usr/bin/appletviewer (appletviewer) in auto mode\n",
            "update-alternatives: using /usr/lib/jvm/java-8-openjdk-amd64/bin/jconsole to provide /usr/bin/jconsole (jconsole) in auto mode\n",
            "Processing triggers for man-db (2.8.3-2ubuntu0.1) ...\n",
            "Processing triggers for hicolor-icon-theme (0.17-2) ...\n",
            "Processing triggers for fontconfig (2.12.6-0ubuntu2) ...\n",
            "Processing triggers for mime-support (3.60ubuntu1) ...\n",
            "Processing triggers for libc-bin (2.27-3ubuntu1) ...\n",
            "/sbin/ldconfig.real: /usr/local/lib/python3.6/dist-packages/ideep4py/lib/libmkldnn.so.0 is not a symbolic link\n",
            "\n",
            "Collecting JPype1-py3\n",
            "\u001b[?25l  Downloading https://files.pythonhosted.org/packages/9b/81/63f5e4202c598f362ee4684b41890f993d6e58309c5d90703f570ab85f62/JPype1-py3-0.5.5.4.tar.gz (88kB)\n",
            "\u001b[K     |████████████████████████████████| 92kB 5.8MB/s \n",
            "\u001b[?25hBuilding wheels for collected packages: JPype1-py3\n",
            "  Building wheel for JPype1-py3 (setup.py) ... \u001b[?25l\u001b[?25hdone\n",
            "  Created wheel for JPype1-py3: filename=JPype1_py3-0.5.5.4-cp36-cp36m-linux_x86_64.whl size=2679293 sha256=db867f83ee312e7dbd132fd46606a9012ea3fb331a0e0281c2d5e65b67f64665\n",
            "  Stored in directory: /root/.cache/pip/wheels/52/37/1f/1015d908d12a0e9b239543d031fda0cded9823aa1306939541\n",
            "Successfully built JPype1-py3\n",
            "Installing collected packages: JPype1-py3\n",
            "Successfully installed JPype1-py3-0.5.5.4\n",
            "Collecting konlpy\n",
            "\u001b[?25l  Downloading https://files.pythonhosted.org/packages/85/0e/f385566fec837c0b83f216b2da65db9997b35dd675e107752005b7d392b1/konlpy-0.5.2-py2.py3-none-any.whl (19.4MB)\n",
            "\u001b[K     |████████████████████████████████| 19.4MB 1.2MB/s \n",
            "\u001b[?25hCollecting tweepy>=3.7.0\n",
            "  Downloading https://files.pythonhosted.org/packages/bb/7c/99d51f80f3b77b107ebae2634108717362c059a41384a1810d13e2429a81/tweepy-3.9.0-py2.py3-none-any.whl\n",
            "Collecting JPype1>=0.7.0\n",
            "\u001b[?25l  Downloading https://files.pythonhosted.org/packages/8b/f7/a368401e630f0e390dd0e62c39fb928e5b23741b53c2360ee7d376660927/JPype1-1.0.2-cp36-cp36m-manylinux2010_x86_64.whl (3.8MB)\n",
            "\u001b[K     |████████████████████████████████| 3.8MB 48.4MB/s \n",
            "\u001b[?25hRequirement already satisfied: lxml>=4.1.0 in /usr/local/lib/python3.6/dist-packages (from konlpy) (4.2.6)\n",
            "Requirement already satisfied: numpy>=1.6 in /usr/local/lib/python3.6/dist-packages (from konlpy) (1.18.5)\n",
            "Collecting colorama\n",
            "  Downloading https://files.pythonhosted.org/packages/c9/dc/45cdef1b4d119eb96316b3117e6d5708a08029992b2fee2c143c7a0a5cc5/colorama-0.4.3-py2.py3-none-any.whl\n",
            "Collecting beautifulsoup4==4.6.0\n",
            "\u001b[?25l  Downloading https://files.pythonhosted.org/packages/9e/d4/10f46e5cfac773e22707237bfcd51bbffeaf0a576b0a847ec7ab15bd7ace/beautifulsoup4-4.6.0-py3-none-any.whl (86kB)\n",
            "\u001b[K     |████████████████████████████████| 92kB 13.8MB/s \n",
            "\u001b[?25hRequirement already satisfied: requests[socks]>=2.11.1 in /usr/local/lib/python3.6/dist-packages (from tweepy>=3.7.0->konlpy) (2.23.0)\n",
            "Requirement already satisfied: six>=1.10.0 in /usr/local/lib/python3.6/dist-packages (from tweepy>=3.7.0->konlpy) (1.15.0)\n",
            "Requirement already satisfied: requests-oauthlib>=0.7.0 in /usr/local/lib/python3.6/dist-packages (from tweepy>=3.7.0->konlpy) (1.3.0)\n",
            "Requirement already satisfied: typing-extensions; python_version < \"3.8\" in /usr/local/lib/python3.6/dist-packages (from JPype1>=0.7.0->konlpy) (3.7.4.3)\n",
            "Requirement already satisfied: certifi>=2017.4.17 in /usr/local/lib/python3.6/dist-packages (from requests[socks]>=2.11.1->tweepy>=3.7.0->konlpy) (2020.6.20)\n",
            "Requirement already satisfied: idna<3,>=2.5 in /usr/local/lib/python3.6/dist-packages (from requests[socks]>=2.11.1->tweepy>=3.7.0->konlpy) (2.10)\n",
            "Requirement already satisfied: chardet<4,>=3.0.2 in /usr/local/lib/python3.6/dist-packages (from requests[socks]>=2.11.1->tweepy>=3.7.0->konlpy) (3.0.4)\n",
            "Requirement already satisfied: urllib3!=1.25.0,!=1.25.1,<1.26,>=1.21.1 in /usr/local/lib/python3.6/dist-packages (from requests[socks]>=2.11.1->tweepy>=3.7.0->konlpy) (1.24.3)\n",
            "Requirement already satisfied: PySocks!=1.5.7,>=1.5.6; extra == \"socks\" in /usr/local/lib/python3.6/dist-packages (from requests[socks]>=2.11.1->tweepy>=3.7.0->konlpy) (1.7.1)\n",
            "Requirement already satisfied: oauthlib>=3.0.0 in /usr/local/lib/python3.6/dist-packages (from requests-oauthlib>=0.7.0->tweepy>=3.7.0->konlpy) (3.1.0)\n",
            "Installing collected packages: tweepy, JPype1, colorama, beautifulsoup4, konlpy\n",
            "  Found existing installation: tweepy 3.6.0\n",
            "    Uninstalling tweepy-3.6.0:\n",
            "      Successfully uninstalled tweepy-3.6.0\n",
            "  Found existing installation: beautifulsoup4 4.6.3\n",
            "    Uninstalling beautifulsoup4-4.6.3:\n",
            "      Successfully uninstalled beautifulsoup4-4.6.3\n",
            "Successfully installed JPype1-1.0.2 beautifulsoup4-4.6.0 colorama-0.4.3 konlpy-0.5.2 tweepy-3.9.0\n"
          ],
          "name": "stdout"
        }
      ]
    },
    {
      "cell_type": "code",
      "metadata": {
        "id": "1r_e34vxhFSL",
        "colab_type": "code",
        "colab": {
          "base_uri": "https://localhost:8080/"
        },
        "outputId": "20ecbf5d-cd72-4f06-f25f-ce780b105d7e"
      },
      "source": [
        "import pandas as pd #판다스 패키지 불러오기\n",
        "import matplotlib.pyplot as plt\n",
        "from collections import Counter\n",
        "from wordcloud import WordCloud \n",
        "import numpy as np\n",
        "\n",
        "\n",
        "import matplotlib.pyplot as plt\n",
        "\n",
        "import nltk\n",
        "from nltk.corpus import stopwords\n",
        "%matplotlib inline\n",
        "import seaborn as sns\n",
        "\n",
        "import warnings\n",
        "warnings.filterwarnings(action = 'ignore')"
      ],
      "execution_count": null,
      "outputs": [
        {
          "output_type": "stream",
          "text": [
            "/usr/local/lib/python3.6/dist-packages/statsmodels/tools/_testing.py:19: FutureWarning: pandas.util.testing is deprecated. Use the functions in the public API at pandas.testing instead.\n",
            "  import pandas.util.testing as tm\n"
          ],
          "name": "stderr"
        }
      ]
    },
    {
      "cell_type": "code",
      "metadata": {
        "id": "vw0mhAg2hFKf",
        "colab_type": "code",
        "colab": {
          "base_uri": "https://localhost:8080/"
        },
        "outputId": "83cbd60e-5264-4373-ef2d-342edc0bdb55"
      },
      "source": [
        "import jpype\n",
        "print(jpype.isJVMStarted()) #return False:not running or 0:running"
      ],
      "execution_count": null,
      "outputs": [
        {
          "output_type": "stream",
          "text": [
            "False\n"
          ],
          "name": "stdout"
        }
      ]
    },
    {
      "cell_type": "code",
      "metadata": {
        "id": "SuoIvalAhOUD",
        "colab_type": "code",
        "colab": {
          "base_uri": "https://localhost:8080/"
        },
        "outputId": "f8edaf69-55e1-4fd5-af4e-efb51a267fee"
      },
      "source": [
        "!pip install customized_konlpy\n",
        "from konlpy.tag import Twitter \n",
        "from ckonlpy.tag import Twitter"
      ],
      "execution_count": null,
      "outputs": [
        {
          "output_type": "stream",
          "text": [
            "Collecting customized_konlpy\n",
            "\u001b[?25l  Downloading https://files.pythonhosted.org/packages/07/8c/d39c483b637a6d85ab2d6da50012810628982bbd5279818bdc5dd1e7da51/customized_konlpy-0.0.64-py3-none-any.whl (881kB)\n",
            "\r\u001b[K     |▍                               | 10kB 21.9MB/s eta 0:00:01\r\u001b[K     |▊                               | 20kB 6.4MB/s eta 0:00:01\r\u001b[K     |█▏                              | 30kB 7.9MB/s eta 0:00:01\r\u001b[K     |█▌                              | 40kB 8.6MB/s eta 0:00:01\r\u001b[K     |█▉                              | 51kB 7.6MB/s eta 0:00:01\r\u001b[K     |██▎                             | 61kB 8.4MB/s eta 0:00:01\r\u001b[K     |██▋                             | 71kB 8.6MB/s eta 0:00:01\r\u001b[K     |███                             | 81kB 9.1MB/s eta 0:00:01\r\u001b[K     |███▍                            | 92kB 9.3MB/s eta 0:00:01\r\u001b[K     |███▊                            | 102kB 9.8MB/s eta 0:00:01\r\u001b[K     |████                            | 112kB 9.8MB/s eta 0:00:01\r\u001b[K     |████▌                           | 122kB 9.8MB/s eta 0:00:01\r\u001b[K     |████▉                           | 133kB 9.8MB/s eta 0:00:01\r\u001b[K     |█████▏                          | 143kB 9.8MB/s eta 0:00:01\r\u001b[K     |█████▋                          | 153kB 9.8MB/s eta 0:00:01\r\u001b[K     |██████                          | 163kB 9.8MB/s eta 0:00:01\r\u001b[K     |██████▎                         | 174kB 9.8MB/s eta 0:00:01\r\u001b[K     |██████▊                         | 184kB 9.8MB/s eta 0:00:01\r\u001b[K     |███████                         | 194kB 9.8MB/s eta 0:00:01\r\u001b[K     |███████▍                        | 204kB 9.8MB/s eta 0:00:01\r\u001b[K     |███████▉                        | 215kB 9.8MB/s eta 0:00:01\r\u001b[K     |████████▏                       | 225kB 9.8MB/s eta 0:00:01\r\u001b[K     |████████▌                       | 235kB 9.8MB/s eta 0:00:01\r\u001b[K     |█████████                       | 245kB 9.8MB/s eta 0:00:01\r\u001b[K     |█████████▎                      | 256kB 9.8MB/s eta 0:00:01\r\u001b[K     |█████████▋                      | 266kB 9.8MB/s eta 0:00:01\r\u001b[K     |██████████                      | 276kB 9.8MB/s eta 0:00:01\r\u001b[K     |██████████▍                     | 286kB 9.8MB/s eta 0:00:01\r\u001b[K     |██████████▉                     | 296kB 9.8MB/s eta 0:00:01\r\u001b[K     |███████████▏                    | 307kB 9.8MB/s eta 0:00:01\r\u001b[K     |███████████▌                    | 317kB 9.8MB/s eta 0:00:01\r\u001b[K     |████████████                    | 327kB 9.8MB/s eta 0:00:01\r\u001b[K     |████████████▎                   | 337kB 9.8MB/s eta 0:00:01\r\u001b[K     |████████████▋                   | 348kB 9.8MB/s eta 0:00:01\r\u001b[K     |█████████████                   | 358kB 9.8MB/s eta 0:00:01\r\u001b[K     |█████████████▍                  | 368kB 9.8MB/s eta 0:00:01\r\u001b[K     |█████████████▊                  | 378kB 9.8MB/s eta 0:00:01\r\u001b[K     |██████████████▏                 | 389kB 9.8MB/s eta 0:00:01\r\u001b[K     |██████████████▌                 | 399kB 9.8MB/s eta 0:00:01\r\u001b[K     |██████████████▉                 | 409kB 9.8MB/s eta 0:00:01\r\u001b[K     |███████████████▎                | 419kB 9.8MB/s eta 0:00:01\r\u001b[K     |███████████████▋                | 430kB 9.8MB/s eta 0:00:01\r\u001b[K     |████████████████                | 440kB 9.8MB/s eta 0:00:01\r\u001b[K     |████████████████▍               | 450kB 9.8MB/s eta 0:00:01\r\u001b[K     |████████████████▊               | 460kB 9.8MB/s eta 0:00:01\r\u001b[K     |█████████████████               | 471kB 9.8MB/s eta 0:00:01\r\u001b[K     |█████████████████▌              | 481kB 9.8MB/s eta 0:00:01\r\u001b[K     |█████████████████▉              | 491kB 9.8MB/s eta 0:00:01\r\u001b[K     |██████████████████▏             | 501kB 9.8MB/s eta 0:00:01\r\u001b[K     |██████████████████▋             | 512kB 9.8MB/s eta 0:00:01\r\u001b[K     |███████████████████             | 522kB 9.8MB/s eta 0:00:01\r\u001b[K     |███████████████████▎            | 532kB 9.8MB/s eta 0:00:01\r\u001b[K     |███████████████████▊            | 542kB 9.8MB/s eta 0:00:01\r\u001b[K     |████████████████████            | 552kB 9.8MB/s eta 0:00:01\r\u001b[K     |████████████████████▌           | 563kB 9.8MB/s eta 0:00:01\r\u001b[K     |████████████████████▉           | 573kB 9.8MB/s eta 0:00:01\r\u001b[K     |█████████████████████▏          | 583kB 9.8MB/s eta 0:00:01\r\u001b[K     |█████████████████████▋          | 593kB 9.8MB/s eta 0:00:01\r\u001b[K     |██████████████████████          | 604kB 9.8MB/s eta 0:00:01\r\u001b[K     |██████████████████████▎         | 614kB 9.8MB/s eta 0:00:01\r\u001b[K     |██████████████████████▊         | 624kB 9.8MB/s eta 0:00:01\r\u001b[K     |███████████████████████         | 634kB 9.8MB/s eta 0:00:01\r\u001b[K     |███████████████████████▍        | 645kB 9.8MB/s eta 0:00:01\r\u001b[K     |███████████████████████▉        | 655kB 9.8MB/s eta 0:00:01\r\u001b[K     |████████████████████████▏       | 665kB 9.8MB/s eta 0:00:01\r\u001b[K     |████████████████████████▌       | 675kB 9.8MB/s eta 0:00:01\r\u001b[K     |█████████████████████████       | 686kB 9.8MB/s eta 0:00:01\r\u001b[K     |█████████████████████████▎      | 696kB 9.8MB/s eta 0:00:01\r\u001b[K     |█████████████████████████▋      | 706kB 9.8MB/s eta 0:00:01\r\u001b[K     |██████████████████████████      | 716kB 9.8MB/s eta 0:00:01\r\u001b[K     |██████████████████████████▍     | 727kB 9.8MB/s eta 0:00:01\r\u001b[K     |██████████████████████████▊     | 737kB 9.8MB/s eta 0:00:01\r\u001b[K     |███████████████████████████▏    | 747kB 9.8MB/s eta 0:00:01\r\u001b[K     |███████████████████████████▌    | 757kB 9.8MB/s eta 0:00:01\r\u001b[K     |███████████████████████████▉    | 768kB 9.8MB/s eta 0:00:01\r\u001b[K     |████████████████████████████▎   | 778kB 9.8MB/s eta 0:00:01\r\u001b[K     |████████████████████████████▋   | 788kB 9.8MB/s eta 0:00:01\r\u001b[K     |█████████████████████████████   | 798kB 9.8MB/s eta 0:00:01\r\u001b[K     |█████████████████████████████▍  | 808kB 9.8MB/s eta 0:00:01\r\u001b[K     |█████████████████████████████▊  | 819kB 9.8MB/s eta 0:00:01\r\u001b[K     |██████████████████████████████▏ | 829kB 9.8MB/s eta 0:00:01\r\u001b[K     |██████████████████████████████▌ | 839kB 9.8MB/s eta 0:00:01\r\u001b[K     |██████████████████████████████▉ | 849kB 9.8MB/s eta 0:00:01\r\u001b[K     |███████████████████████████████▎| 860kB 9.8MB/s eta 0:00:01\r\u001b[K     |███████████████████████████████▋| 870kB 9.8MB/s eta 0:00:01\r\u001b[K     |████████████████████████████████| 880kB 9.8MB/s eta 0:00:01\r\u001b[K     |████████████████████████████████| 890kB 9.8MB/s \n",
            "\u001b[?25hRequirement already satisfied: Jpype1>=0.6.1 in /usr/local/lib/python3.6/dist-packages (from customized_konlpy) (1.0.2)\n",
            "Requirement already satisfied: konlpy>=0.4.4 in /usr/local/lib/python3.6/dist-packages (from customized_konlpy) (0.5.2)\n",
            "Requirement already satisfied: typing-extensions; python_version < \"3.8\" in /usr/local/lib/python3.6/dist-packages (from Jpype1>=0.6.1->customized_konlpy) (3.7.4.3)\n",
            "Requirement already satisfied: beautifulsoup4==4.6.0 in /usr/local/lib/python3.6/dist-packages (from konlpy>=0.4.4->customized_konlpy) (4.6.0)\n",
            "Requirement already satisfied: tweepy>=3.7.0 in /usr/local/lib/python3.6/dist-packages (from konlpy>=0.4.4->customized_konlpy) (3.9.0)\n",
            "Requirement already satisfied: lxml>=4.1.0 in /usr/local/lib/python3.6/dist-packages (from konlpy>=0.4.4->customized_konlpy) (4.2.6)\n",
            "Requirement already satisfied: colorama in /usr/local/lib/python3.6/dist-packages (from konlpy>=0.4.4->customized_konlpy) (0.4.3)\n",
            "Requirement already satisfied: numpy>=1.6 in /usr/local/lib/python3.6/dist-packages (from konlpy>=0.4.4->customized_konlpy) (1.18.5)\n",
            "Requirement already satisfied: requests-oauthlib>=0.7.0 in /usr/local/lib/python3.6/dist-packages (from tweepy>=3.7.0->konlpy>=0.4.4->customized_konlpy) (1.3.0)\n",
            "Requirement already satisfied: requests[socks]>=2.11.1 in /usr/local/lib/python3.6/dist-packages (from tweepy>=3.7.0->konlpy>=0.4.4->customized_konlpy) (2.23.0)\n",
            "Requirement already satisfied: six>=1.10.0 in /usr/local/lib/python3.6/dist-packages (from tweepy>=3.7.0->konlpy>=0.4.4->customized_konlpy) (1.15.0)\n",
            "Requirement already satisfied: oauthlib>=3.0.0 in /usr/local/lib/python3.6/dist-packages (from requests-oauthlib>=0.7.0->tweepy>=3.7.0->konlpy>=0.4.4->customized_konlpy) (3.1.0)\n",
            "Requirement already satisfied: certifi>=2017.4.17 in /usr/local/lib/python3.6/dist-packages (from requests[socks]>=2.11.1->tweepy>=3.7.0->konlpy>=0.4.4->customized_konlpy) (2020.6.20)\n",
            "Requirement already satisfied: chardet<4,>=3.0.2 in /usr/local/lib/python3.6/dist-packages (from requests[socks]>=2.11.1->tweepy>=3.7.0->konlpy>=0.4.4->customized_konlpy) (3.0.4)\n",
            "Requirement already satisfied: urllib3!=1.25.0,!=1.25.1,<1.26,>=1.21.1 in /usr/local/lib/python3.6/dist-packages (from requests[socks]>=2.11.1->tweepy>=3.7.0->konlpy>=0.4.4->customized_konlpy) (1.24.3)\n",
            "Requirement already satisfied: idna<3,>=2.5 in /usr/local/lib/python3.6/dist-packages (from requests[socks]>=2.11.1->tweepy>=3.7.0->konlpy>=0.4.4->customized_konlpy) (2.10)\n",
            "Requirement already satisfied: PySocks!=1.5.7,>=1.5.6; extra == \"socks\" in /usr/local/lib/python3.6/dist-packages (from requests[socks]>=2.11.1->tweepy>=3.7.0->konlpy>=0.4.4->customized_konlpy) (1.7.1)\n",
            "Installing collected packages: customized-konlpy\n",
            "Successfully installed customized-konlpy-0.0.64\n"
          ],
          "name": "stdout"
        }
      ]
    },
    {
      "cell_type": "code",
      "metadata": {
        "id": "ORQmS8VlhPcd",
        "colab_type": "code",
        "colab": {}
      },
      "source": [
        "# 일단 import \n",
        "%matplotlib inline  \n",
        "import matplotlib as mpl  # 기본 설정 만지는 용도\n",
        "import matplotlib.pyplot as plt  # 그래프 그리는 용도\n",
        "import matplotlib.font_manager as fm  # 폰트 관련 용도"
      ],
      "execution_count": null,
      "outputs": []
    },
    {
      "cell_type": "code",
      "metadata": {
        "id": "iuol6FNPhQlQ",
        "colab_type": "code",
        "colab": {
          "base_uri": "https://localhost:8080/"
        },
        "outputId": "3f3e891d-1acb-449e-e1ba-3ba84e6b3359"
      },
      "source": [
        "#나눔고딕인스톨\n",
        "!apt-get update -qq\n",
        "!apt-get install fonts-nanum* -qq"
      ],
      "execution_count": null,
      "outputs": [
        {
          "output_type": "stream",
          "text": [
            "Selecting previously unselected package fonts-nanum-eco.\n",
            "(Reading database ... \r(Reading database ... 5%\r(Reading database ... 10%\r(Reading database ... 15%\r(Reading database ... 20%\r(Reading database ... 25%\r(Reading database ... 30%\r(Reading database ... 35%\r(Reading database ... 40%\r(Reading database ... 45%\r(Reading database ... 50%\r(Reading database ... 55%\r(Reading database ... 60%\r(Reading database ... 65%\r(Reading database ... 70%\r(Reading database ... 75%\r(Reading database ... 80%\r(Reading database ... 85%\r(Reading database ... 90%\r(Reading database ... 95%\r(Reading database ... 100%\r(Reading database ... 145101 files and directories currently installed.)\n",
            "Preparing to unpack .../fonts-nanum-eco_1.000-6_all.deb ...\n",
            "Unpacking fonts-nanum-eco (1.000-6) ...\n",
            "Selecting previously unselected package fonts-nanum-extra.\n",
            "Preparing to unpack .../fonts-nanum-extra_20170925-1_all.deb ...\n",
            "Unpacking fonts-nanum-extra (20170925-1) ...\n",
            "Selecting previously unselected package fonts-nanum-coding.\n",
            "Preparing to unpack .../fonts-nanum-coding_2.5-1_all.deb ...\n",
            "Unpacking fonts-nanum-coding (2.5-1) ...\n",
            "Setting up fonts-nanum-extra (20170925-1) ...\n",
            "Setting up fonts-nanum-coding (2.5-1) ...\n",
            "Setting up fonts-nanum-eco (1.000-6) ...\n",
            "Processing triggers for fontconfig (2.12.6-0ubuntu2) ...\n"
          ],
          "name": "stdout"
        }
      ]
    },
    {
      "cell_type": "code",
      "metadata": {
        "id": "L2ysVm8mhRwn",
        "colab_type": "code",
        "colab": {
          "base_uri": "https://localhost:8080/"
        },
        "outputId": "a75e266f-0698-4730-bd12-b2d699463775"
      },
      "source": [
        "# 체크해보면 폰트 개수가 늘어났다\n",
        "sys_font=fm.findSystemFonts()\n",
        "print(f\"sys_font number: {len(sys_font)}\")\n",
        "\n",
        "nanum_font = [f for f in sys_font if 'Nanum' in f]\n",
        "print(f\"nanum_font number: {len(nanum_font)}\")"
      ],
      "execution_count": null,
      "outputs": [
        {
          "output_type": "stream",
          "text": [
            "sys_font number: 70\n",
            "nanum_font number: 31\n"
          ],
          "name": "stdout"
        }
      ]
    },
    {
      "cell_type": "code",
      "metadata": {
        "id": "C6m113ZhhTBr",
        "colab_type": "code",
        "colab": {
          "base_uri": "https://localhost:8080/"
        },
        "outputId": "3c7155fe-971b-48d1-8fa0-95270866cea8"
      },
      "source": [
        "# 현재 설정되어 있는 폰트 사이즈와 글꼴을 알아보자\n",
        "!python --version\n",
        "def current_font():\n",
        "  print(f\"설정 폰트 글꼴: {plt.rcParams['font.family']}, 설정 폰트 사이즈: {plt.rcParams['font.size']}\")  # 파이썬 3.6 이상 사용가능하다\n",
        "        \n",
        "current_font()"
      ],
      "execution_count": null,
      "outputs": [
        {
          "output_type": "stream",
          "text": [
            "Python 3.6.9\n",
            "설정 폰트 글꼴: ['NanumBarunGothic'], 설정 폰트 사이즈: 10.0\n"
          ],
          "name": "stdout"
        }
      ]
    },
    {
      "cell_type": "code",
      "metadata": {
        "id": "69DTeJUbhTF2",
        "colab_type": "code",
        "colab": {
          "base_uri": "https://localhost:8080/"
        },
        "outputId": "c1268f2a-1543-4cda-d176-81bfb2b2f00f"
      },
      "source": [
        "path = '/usr/share/fonts/truetype/nanum/NanumGothic.ttf'  # 설치된 나눔글꼴중 원하는 녀석의 전체 경로를 가져오자\n",
        "font_name = fm.FontProperties(fname=path, size=10).get_name()\n",
        "print(font_name)\n",
        "plt.rc('font', family=font_name)"
      ],
      "execution_count": null,
      "outputs": [
        {
          "output_type": "stream",
          "text": [
            "NanumGothic\n"
          ],
          "name": "stdout"
        }
      ]
    },
    {
      "cell_type": "markdown",
      "metadata": {
        "id": "EILurWKwhFvQ",
        "colab_type": "text"
      },
      "source": [
        "#데이터 작업"
      ]
    },
    {
      "cell_type": "code",
      "metadata": {
        "id": "MGmHNFkg-aUj",
        "colab_type": "code",
        "colab": {
          "base_uri": "https://localhost:8080/"
        },
        "outputId": "e48c9a54-3a95-40e0-e3e2-2a135efce651"
      },
      "source": [
        "import pandas as pd\n",
        "\n",
        "df = pd.read_excel('data2_5.xlsx')\n",
        "df.head(3)\n",
        "\n"
      ],
      "execution_count": null,
      "outputs": [
        {
          "output_type": "execute_result",
          "data": {
            "text/html": [
              "<div>\n",
              "<style scoped>\n",
              "    .dataframe tbody tr th:only-of-type {\n",
              "        vertical-align: middle;\n",
              "    }\n",
              "\n",
              "    .dataframe tbody tr th {\n",
              "        vertical-align: top;\n",
              "    }\n",
              "\n",
              "    .dataframe thead th {\n",
              "        text-align: right;\n",
              "    }\n",
              "</style>\n",
              "<table border=\"1\" class=\"dataframe\">\n",
              "  <thead>\n",
              "    <tr style=\"text-align: right;\">\n",
              "      <th></th>\n",
              "      <th>DSJ_CARD_NO</th>\n",
              "      <th>DSJ_JUMIN_NO</th>\n",
              "      <th>CONSULT_DATE</th>\n",
              "      <th>CARE_OPEN_CLASS_NM</th>\n",
              "      <th>CONSULT_CONT</th>\n",
              "      <th>JAEBUM</th>\n",
              "      <th>JAEBUM_1</th>\n",
              "      <th>출생년도</th>\n",
              "      <th>연령</th>\n",
              "      <th>학력</th>\n",
              "      <th>죄명</th>\n",
              "      <th>CARE_OPEN_CLASS_NM_1</th>\n",
              "    </tr>\n",
              "  </thead>\n",
              "  <tbody>\n",
              "    <tr>\n",
              "      <th>0</th>\n",
              "      <td>100020070001</td>\n",
              "      <td>M0vQhLryshtSgdzJk9KWew==</td>\n",
              "      <td>20140325</td>\n",
              "      <td>50</td>\n",
              "      <td>상기자는 주소지에 거주하면서 가정환경에 잘 적응하고 있어 보호상 문제는 없어 보임....</td>\n",
              "      <td>0</td>\n",
              "      <td>0</td>\n",
              "      <td>1959</td>\n",
              "      <td>50</td>\n",
              "      <td>1</td>\n",
              "      <td>20</td>\n",
              "      <td>50</td>\n",
              "    </tr>\n",
              "    <tr>\n",
              "      <th>1</th>\n",
              "      <td>100020070001</td>\n",
              "      <td>M0vQhLryshtSgdzJk9KWew==</td>\n",
              "      <td>20130109</td>\n",
              "      <td>20</td>\n",
              "      <td>계사년 새해를 맞아 저축을 통한 자립에 힘써 줄 것과 준법심을 고취하여 건전한 사회...</td>\n",
              "      <td>0</td>\n",
              "      <td>0</td>\n",
              "      <td>1959</td>\n",
              "      <td>50</td>\n",
              "      <td>1</td>\n",
              "      <td>20</td>\n",
              "      <td>110</td>\n",
              "    </tr>\n",
              "    <tr>\n",
              "      <th>2</th>\n",
              "      <td>100020070001</td>\n",
              "      <td>M0vQhLryshtSgdzJk9KWew==</td>\n",
              "      <td>20140227</td>\n",
              "      <td>50</td>\n",
              "      <td>상기자는 승일기업 도장공으로 근무하면서 자립을 위해 성실히 저축에 임하고 있어 보호...</td>\n",
              "      <td>0</td>\n",
              "      <td>0</td>\n",
              "      <td>1959</td>\n",
              "      <td>50</td>\n",
              "      <td>1</td>\n",
              "      <td>20</td>\n",
              "      <td>50</td>\n",
              "    </tr>\n",
              "  </tbody>\n",
              "</table>\n",
              "</div>"
            ],
            "text/plain": [
              "    DSJ_CARD_NO              DSJ_JUMIN_NO  ...  죄명  CARE_OPEN_CLASS_NM_1\n",
              "0  100020070001  M0vQhLryshtSgdzJk9KWew==  ...  20                    50\n",
              "1  100020070001  M0vQhLryshtSgdzJk9KWew==  ...  20                   110\n",
              "2  100020070001  M0vQhLryshtSgdzJk9KWew==  ...  20                    50\n",
              "\n",
              "[3 rows x 12 columns]"
            ]
          },
          "metadata": {
            "tags": []
          },
          "execution_count": 12
        }
      ]
    },
    {
      "cell_type": "code",
      "metadata": {
        "id": "mHtHRsc-IlxL",
        "colab_type": "code",
        "colab": {
          "base_uri": "https://localhost:8080/"
        },
        "outputId": "280a9dbe-51b1-4ee4-93c6-96a352566060"
      },
      "source": [
        "df = df[df['CARE_OPEN_CLASS_NM']==10]\n",
        "df.head(3)"
      ],
      "execution_count": null,
      "outputs": [
        {
          "output_type": "execute_result",
          "data": {
            "text/html": [
              "<div>\n",
              "<style scoped>\n",
              "    .dataframe tbody tr th:only-of-type {\n",
              "        vertical-align: middle;\n",
              "    }\n",
              "\n",
              "    .dataframe tbody tr th {\n",
              "        vertical-align: top;\n",
              "    }\n",
              "\n",
              "    .dataframe thead th {\n",
              "        text-align: right;\n",
              "    }\n",
              "</style>\n",
              "<table border=\"1\" class=\"dataframe\">\n",
              "  <thead>\n",
              "    <tr style=\"text-align: right;\">\n",
              "      <th></th>\n",
              "      <th>DSJ_CARD_NO</th>\n",
              "      <th>DSJ_JUMIN_NO</th>\n",
              "      <th>CONSULT_DATE</th>\n",
              "      <th>CARE_OPEN_CLASS_NM</th>\n",
              "      <th>CONSULT_CONT</th>\n",
              "      <th>JAEBUM</th>\n",
              "      <th>JAEBUM_1</th>\n",
              "      <th>출생년도</th>\n",
              "      <th>연령</th>\n",
              "      <th>학력</th>\n",
              "      <th>죄명</th>\n",
              "      <th>CARE_OPEN_CLASS_NM_1</th>\n",
              "    </tr>\n",
              "  </thead>\n",
              "  <tbody>\n",
              "    <tr>\n",
              "      <th>460</th>\n",
              "      <td>100020100078</td>\n",
              "      <td>x4IdPpcY90s/iD0RH7wykQ==</td>\n",
              "      <td>20160927</td>\n",
              "      <td>10</td>\n",
              "      <td>대상자가 기술교육원  야간반 과정에 참여하고자 함에 따라 수료시까지 성실히 교육에 ...</td>\n",
              "      <td>0</td>\n",
              "      <td>1</td>\n",
              "      <td>1982</td>\n",
              "      <td>30</td>\n",
              "      <td>1</td>\n",
              "      <td>40</td>\n",
              "      <td>10</td>\n",
              "    </tr>\n",
              "    <tr>\n",
              "      <th>1103</th>\n",
              "      <td>100020110062</td>\n",
              "      <td>pWNplgZrM5H8IFl7FspEnw==</td>\n",
              "      <td>20130419</td>\n",
              "      <td>10</td>\n",
              "      <td>귀소여부에 대해 물어보았으며 금주는 귀소하여 쉬다가 출근할 계획이라고 하여 안전사고...</td>\n",
              "      <td>0</td>\n",
              "      <td>1</td>\n",
              "      <td>1986</td>\n",
              "      <td>20</td>\n",
              "      <td>1</td>\n",
              "      <td>20</td>\n",
              "      <td>10</td>\n",
              "    </tr>\n",
              "    <tr>\n",
              "      <th>1105</th>\n",
              "      <td>100020110062</td>\n",
              "      <td>pWNplgZrM5H8IFl7FspEnw==</td>\n",
              "      <td>20130620</td>\n",
              "      <td>10</td>\n",
              "      <td>최근 상황에 대해 청취하고 귀소여부에 대해 물어보았으며 향후 기간만료가 다가오고 있...</td>\n",
              "      <td>0</td>\n",
              "      <td>1</td>\n",
              "      <td>1986</td>\n",
              "      <td>20</td>\n",
              "      <td>1</td>\n",
              "      <td>20</td>\n",
              "      <td>10</td>\n",
              "    </tr>\n",
              "  </tbody>\n",
              "</table>\n",
              "</div>"
            ],
            "text/plain": [
              "       DSJ_CARD_NO              DSJ_JUMIN_NO  ...  죄명  CARE_OPEN_CLASS_NM_1\n",
              "460   100020100078  x4IdPpcY90s/iD0RH7wykQ==  ...  40                    10\n",
              "1103  100020110062  pWNplgZrM5H8IFl7FspEnw==  ...  20                    10\n",
              "1105  100020110062  pWNplgZrM5H8IFl7FspEnw==  ...  20                    10\n",
              "\n",
              "[3 rows x 12 columns]"
            ]
          },
          "metadata": {
            "tags": []
          },
          "execution_count": 13
        }
      ]
    },
    {
      "cell_type": "code",
      "metadata": {
        "id": "KOV4TClvJSID",
        "colab_type": "code",
        "colab": {
          "base_uri": "https://localhost:8080/"
        },
        "outputId": "1a23d107-6dc4-4679-bb0b-87b6871974d1"
      },
      "source": [
        "len(df)"
      ],
      "execution_count": null,
      "outputs": [
        {
          "output_type": "execute_result",
          "data": {
            "text/plain": [
              "93390"
            ]
          },
          "metadata": {
            "tags": []
          },
          "execution_count": 14
        }
      ]
    },
    {
      "cell_type": "markdown",
      "metadata": {
        "id": "EJSxULQuGH3h",
        "colab_type": "text"
      },
      "source": [
        "#Clustering"
      ]
    },
    {
      "cell_type": "markdown",
      "metadata": {
        "id": "D0zOgNxmJfed",
        "colab_type": "text"
      },
      "source": [
        "##전처리 불용어 재처리"
      ]
    },
    {
      "cell_type": "code",
      "metadata": {
        "id": "yV2JGliwJdUb",
        "colab_type": "code",
        "colab": {}
      },
      "source": [
        "twitter = Twitter() \n",
        "twitter.add_dictionary(['허그집단프로그램','담당직원','사회복귀','당직자', '숙식보호', '직업훈련', '적극적', '보호관찰', '프로그램 종료', '지원이유', '지금', '특별한사항', '이행사항', '용접기술교육원', '취업알선', '특수용접기능사', '유의사항', '취업박람회', '허그일자리프로그램', '건강관리', '긴급원호', '상기 인', '야간반', '여성기술교육원', '용접배관', '주거지원자', '가족관계', '허그일자리지원프로그램', '고용보험', '상기자', '영농기술교육원', '안전사고', '안정적', '준수사항', '보호종료', '취업지원 프로그램', '구직활동', '대형면허', '건축도장기능사', '건강문제', '친구들', '거주지', '집단상담', '시설관리직', '필기합격', '긍정적', '주거지원', '출결관리', '가족부양', '참여자', '허그 일자리 프로그램', '전기기술교육원', '이행상황', '자기관리', '기술교육원', '기초수급자', '정산금', '특이사항', '애로사항', '용접기능사', '사후관리', '보호관찰법', '기계가공기술교육원', '지원기회', '보호사업', '보호관찰소', '생활 준칙', '위문물품', '법무보호가족교육원', '실기합격', '주거지', '지출관리', '외출 요청', '예치금', '생활관 준칙', '합동결혼식', '용접기능훈련', '미납금', '상기 대상자', '사회성향상 프로그램', '규칙적', '가족희망센터', '몸관리', '상기인', '보호관찰소장', '안전관리', '경제적', '입주자', '취업성공패키지', '보호위원', '허그일자리 프로그램', '허그일자리사업', '집단프로그램', '기초수급', '장기간', '허그 일자리 집단프로그램', '보호종료자', '자동차정비기술교육원', '허그일자리', '식구들', '변동사항', '생활관준칙', '용접훈련', '자립이행상황통보서'], 'Noun')"
      ],
      "execution_count": null,
      "outputs": []
    },
    {
      "cell_type": "code",
      "metadata": {
        "id": "LvTgyyk2Jp31",
        "colab_type": "code",
        "colab": {}
      },
      "source": [
        "#불용어 처리\n",
        "#날짜 계정 등 시기를 나타내는 단어\n",
        "stopwords= [ #날짜 계정 등 시기를 나타내는 토큰\n",
        "        '개월','금일', '기간','겨울','년도', '날짜','금월','까지', '날씨', '어제', '이번','지금','최근', '추후','하루', '한번', '항상','현재','시일','오늘','조기','그동안',\n",
        "        '다음주','평소','차후','지난','요즘','아침','오전','오후','예전','한해','전일','여름','시기', '가끔','사이','최종','명일','향후',\n",
        "\n",
        "        #지역 위치나타내는 토큰\n",
        "        '경기도','김해','서울','울산','천안',\n",
        "        \n",
        "        #관련없는 토큰\n",
        "        '격려', '결과', '경우', '계속', '계획', '공단', '과정', '관련', '관리','근황','기관','보호', '본인','다른', '다소', '다시', '다음', '담당', '담당자', '당부','실시',\n",
        "        '대상자', '독려',  '마련','멘토링','문자', '문제', '발생', '방문', '보고','상기인', '상담', '상태', '상황', '생활', '생활관', '소하', '숙식', '스스로', '시간','주거',\n",
        "        '아직', '여건', '연락', '예정', '외박', '외출', '요청','유의','이야기', '이행','이후', '입소', '자신', '작성','전화','정리', '정적', '제공', '제출', '조치', '종료',\n",
        "        '주거지', '주거지원', '준비','지도','지원', '지지', '직원', '진행', '참여', '처리','통보','퇴소','확인', '활동','변경','가능','일부','심사','결정','전환','강조',\n",
        "        '보호종료','개시','동일','파악','재차','사용','주기','연결','마무리', '사실','기재','얼마','의사','사료','변동','참여자','기타','단계','완료', '귀하','혼자','당장',\n",
        "        '해당','해지','인계','각종', '번호','취지','참고','보도','약간','대신','진단','물음','회의','양해','완전','유선','부분','만료','상기 대상자','상기자','패키지','가장',\n",
        "\n",
        "        #쓸모없는 토큰\n",
        "        '가지','고자', '고함','구들', '금은','기반', '기하','동안', '되어', '드림', '때문', '또한', '려고', '로부터','다해' ,'대하', '대한', '대해', '더욱', '도로', '도록',\n",
        "        '만원', '만큼' , '면서', '모습', '문하', '바로',  '보이', '보임','부분계획', '부터', '부하', '사항', '상기', '않아', '양곡','어서','위해', '유의면서','이행상',\n",
        "        '인의', '인하','있는', '있다고', '있도록', '있어', '있으며', '있음', '자로','전하', '전함','정도','중이', '중임', '지부', '지소', '통해','특이', '하겠다고', '하고',\n",
        "        '하고자', '하기', '하는', '하도록','하며', '하면서', '하여', '하였으며', '하였음', '하자', '하지','해주','통한','다가','처럼','하라','주지','무하','더라도','요하',\n",
        "        '여부','중인','달라', '물어','어가','상의','고하','라하','대로','어보','지고','이하','한지','각하','영하','알리','여러','바란','아무','이제','서도','당하','여서',\n",
        "        '립하','보기','로서','도래','지원이','남지','가기','지원기','조리','간다','만하','주어','시킴', '리지','아지','고용보', '족하','어도','성하','교하','일이','기해',\n",
        "        '일해','해하','달이','결하','조성하','제하','장일','도중','소가','심해','일어','일도','을시','도록','시운전'\n",
        "        # #청소년 관련 단어 \n",
        "        # \"학생\",\"징계\",\"친구\",\"선생님\",\"잘못\",\"청소년\",\"태도\",\"핸드폰\",\"아버지\",\"프로그램\",\"광주\",\"보호관찰소\",\n",
        "        # \"가정법원\",\"처분\",\"취침\",\"시경\",\"학교\",\"보호자\",\"검정고시\",\"무단\",\"언니\",\"무단이탈\",\"금지\",\"허락\",\"사건\",\n",
        "        # \"합격\",\"친구들\",\"미래\",\"반성\",\"동행\",\"보호처분\",\"이유\",\"사고\",\"야간\",\"청소\",\"감정\",\"위반\",\"남자친구\",\n",
        "        # \"보호관찰\",\"제한\",\"출석\",\"등교\",\"자녀\",\"고등학교\",\"아이\",\"표현\",\"학업\",\"지시\",\"인지\",'신청','저축', '일자리', '건강관리'#,\"전화\", '연락'\n",
        "        ]"
      ],
      "execution_count": null,
      "outputs": []
    },
    {
      "cell_type": "code",
      "metadata": {
        "id": "J9KBFqvrJq_l",
        "colab_type": "code",
        "colab": {}
      },
      "source": [
        "from ckonlpy.tag import Postprocessor\n",
        "#\n",
        "replace = {'주거지':'거주지' , \"행동\":\"태도\", \"애로\":\"특이\",\"주의\":\"유의\", \"상황\":\"상태\",\"열심\":\"성실\", \"불편\":\"어려움\", \"관리\":\"조치\", \n",
        "           '근로':'근무', '근속':'근무', '주의':'유의', '지지':'독려', '격려':'독려', '열심':'노력', '애로':'필요', '어려움':'문제', \n",
        "           '하라':'독려','의지':'노력', '지부':'공단', '지금':'현재', '회사':'일자리', '오늘':'현재',\n",
        "            \"전화\":\"통화\", \"통화\":\"연락\",\"유선\":\"연락\"}\n",
        "postprocessor = Postprocessor(twitter, replace = replace, passtags = 'Noun', stopwords = stopwords) \n",
        "# postprocessor.pos(data)"
      ],
      "execution_count": null,
      "outputs": []
    },
    {
      "cell_type": "markdown",
      "metadata": {
        "id": "fyx8VCnfGT8c",
        "colab_type": "text"
      },
      "source": [
        "##트위터유저데이터, PRETRAINED W2V"
      ]
    },
    {
      "cell_type": "code",
      "metadata": {
        "id": "d5MVXsJeGShj",
        "colab_type": "code",
        "colab": {
          "base_uri": "https://localhost:8080/"
        },
        "outputId": "887e16fa-78c9-48f6-bd97-4286ddd2e264"
      },
      "source": [
        "!curl gdrive.sh | bash -s 13fQZtkz4SSzVNcqh73SBqnUDw2mSDgzL\n",
        "!curl gdrive.sh | bash -s 1W8u9ZuEhKCkTbaGLzUF4YcF2F_hYeE1B\n",
        "!curl gdrive.sh | bash -s 1GffvAF3tBtSpjsblIdP1Tcv25XEyBewm\n",
        "!curl gdrive.sh | bash -s 103jom7lxjiqQptIRjrIdSjXR8jRqrlEd"
      ],
      "execution_count": null,
      "outputs": [
        {
          "output_type": "stream",
          "text": [
            "  % Total    % Received % Xferd  Average Speed   Time    Time     Time  Current\n",
            "                                 Dload  Upload   Total   Spent    Left  Speed\n",
            "\r  0     0    0     0    0     0      0      0 --:--:-- --:--:-- --:--:--     0\r100  2874  100  2874    0     0  17850      0 --:--:-- --:--:-- --:--:-- 17850\n",
            "  % Total    % Received % Xferd  Average Speed   Time    Time     Time  Current\n",
            "                                 Dload  Upload   Total   Spent    Left  Speed\n",
            "100   388    0   388    0     0    357      0 --:--:--  0:00:01 --:--:--   357\n",
            "100 3019k    0 3019k    0     0  1889k      0 --:--:--  0:00:01 --:--:-- 9801k\n",
            "curl: Saved to filename 'twitter_users.tsv'\n",
            "  % Total    % Received % Xferd  Average Speed   Time    Time     Time  Current\n",
            "                                 Dload  Upload   Total   Spent    Left  Speed\n",
            "100  2874  100  2874    0     0  41652      0 --:--:-- --:--:-- --:--:-- 41652\n",
            "  % Total    % Received % Xferd  Average Speed   Time    Time     Time  Current\n",
            "                                 Dload  Upload   Total   Spent    Left  Speed\n",
            "100  3266    0  3266    0     0  11108      0 --:--:-- --:--:-- --:--:-- 11108\n",
            "  % Total    % Received % Xferd  Average Speed   Time    Time     Time  Current\n",
            "                                 Dload  Upload   Total   Spent    Left  Speed\n",
            "100   408    0   408    0     0   1915      0 --:--:-- --:--:-- --:--:--  1906\n",
            "  0     0    0     0    0     0      0      0 --:--:-- --:--:-- --:--:--     0\n",
            "  0     0    0     0    0     0      0      0 --:--:-- --:--:-- --:--:--     0\n",
            "100  198M    0  198M    0     0  81.7M      0 --:--:--  0:00:02 --:--:--  148M\n",
            "curl: Saved to filename 'embedding.save.wv.vectors.npy'\n",
            "  % Total    % Received % Xferd  Average Speed   Time    Time     Time  Current\n",
            "                                 Dload  Upload   Total   Spent    Left  Speed\n",
            "100  2874  100  2874    0     0  21609      0 --:--:-- --:--:-- --:--:-- 21609\n",
            "  % Total    % Received % Xferd  Average Speed   Time    Time     Time  Current\n",
            "                                 Dload  Upload   Total   Spent    Left  Speed\n",
            "100  3274    0  3274    0     0   7908      0 --:--:-- --:--:-- --:--:--  7908\n",
            "  % Total    % Received % Xferd  Average Speed   Time    Time     Time  Current\n",
            "                                 Dload  Upload   Total   Spent    Left  Speed\n",
            "100   408    0   408    0     0   1880      0 --:--:-- --:--:-- --:--:--  1880\n",
            "  0     0    0     0    0     0      0      0 --:--:-- --:--:-- --:--:--     0\n",
            "  0     0    0     0    0     0      0      0 --:--:-- --:--:-- --:--:--     0\n",
            "100  198M    0  198M    0     0  45.4M      0 --:--:--  0:00:04 --:--:-- 80.8M\n",
            "curl: Saved to filename 'embedding.save.trainables.syn1neg.npy'\n",
            "  % Total    % Received % Xferd  Average Speed   Time    Time     Time  Current\n",
            "                                 Dload  Upload   Total   Spent    Left  Speed\n",
            "100  2874  100  2874    0     0  41652      0 --:--:-- --:--:-- --:--:-- 41652\n",
            "  % Total    % Received % Xferd  Average Speed   Time    Time     Time  Current\n",
            "                                 Dload  Upload   Total   Spent    Left  Speed\n",
            "100   388    0   388    0     0    333      0 --:--:--  0:00:01 --:--:--   333\n",
            "100 11.2M    0 11.2M    0     0  5878k      0 --:--:--  0:00:01 --:--:-- 41.3M\n",
            "curl: Saved to filename 'embedding.save'\n"
          ],
          "name": "stdout"
        }
      ]
    },
    {
      "cell_type": "code",
      "metadata": {
        "id": "-k_GrxK8Ge6b",
        "colab_type": "code",
        "colab": {}
      },
      "source": [
        "from gensim.models import Word2Vec"
      ],
      "execution_count": null,
      "outputs": []
    },
    {
      "cell_type": "code",
      "metadata": {
        "id": "zCzRlA08Ggyw",
        "colab_type": "code",
        "colab": {}
      },
      "source": [
        "# w2v모델 불러오기 \n",
        "model = Word2Vec.load('embedding.save')"
      ],
      "execution_count": null,
      "outputs": []
    },
    {
      "cell_type": "code",
      "metadata": {
        "id": "wSYF8jLhGl3w",
        "colab_type": "code",
        "colab": {}
      },
      "source": [
        "#명사, 두글자이상 추출\n",
        "def get_tokens(x):\n",
        "    try:\n",
        "        return [i for i in postprocessor.pos(x) if len(i) > 1] if x else []\n",
        "    except Exception as e:\n",
        "        if str(x) == 'nan':\n",
        "            return []\n",
        "        print(e)\n",
        "        print(str(x))\n",
        "        raise e"
      ],
      "execution_count": null,
      "outputs": []
    },
    {
      "cell_type": "code",
      "metadata": {
        "id": "Tp_yLM1SGozX",
        "colab_type": "code",
        "colab": {}
      },
      "source": [
        "df['user_twtt'] = df['CONSULT_CONT'].map(get_tokens)"
      ],
      "execution_count": null,
      "outputs": []
    },
    {
      "cell_type": "markdown",
      "metadata": {
        "id": "J8CpGk_lYVVY",
        "colab_type": "text"
      },
      "source": [
        "##'noun'제거 및 데이터프레임에 추가."
      ]
    },
    {
      "cell_type": "code",
      "metadata": {
        "id": "MCenICcoSDn8",
        "colab_type": "code",
        "colab": {}
      },
      "source": [
        "nouns = []\n",
        "for i in range(0,93390):\n",
        "  words = [n for n, tag in df['user_twtt'].tolist()[i] if tag == 'Noun']\n",
        "  nouns.append(words)\n"
      ],
      "execution_count": null,
      "outputs": []
    },
    {
      "cell_type": "code",
      "metadata": {
        "id": "tcjlzVq-YmXh",
        "colab_type": "code",
        "colab": {}
      },
      "source": [
        "df = df.assign(user_twtt=nouns)\n"
      ],
      "execution_count": null,
      "outputs": []
    },
    {
      "cell_type": "code",
      "metadata": {
        "id": "eXgG970WZTIr",
        "colab_type": "code",
        "colab": {}
      },
      "source": [
        "df['user_twtt_len'] = df['user_twtt'].map(len)"
      ],
      "execution_count": null,
      "outputs": []
    },
    {
      "cell_type": "code",
      "metadata": {
        "id": "t7qX-iLhZB0X",
        "colab_type": "code",
        "colab": {
          "base_uri": "https://localhost:8080/",
          "height": 1000
        },
        "outputId": "ae090300-0a8c-48fb-c830-5aca42de8048"
      },
      "source": [
        "df"
      ],
      "execution_count": null,
      "outputs": [
        {
          "output_type": "execute_result",
          "data": {
            "text/html": [
              "<div>\n",
              "<style scoped>\n",
              "    .dataframe tbody tr th:only-of-type {\n",
              "        vertical-align: middle;\n",
              "    }\n",
              "\n",
              "    .dataframe tbody tr th {\n",
              "        vertical-align: top;\n",
              "    }\n",
              "\n",
              "    .dataframe thead th {\n",
              "        text-align: right;\n",
              "    }\n",
              "</style>\n",
              "<table border=\"1\" class=\"dataframe\">\n",
              "  <thead>\n",
              "    <tr style=\"text-align: right;\">\n",
              "      <th></th>\n",
              "      <th>DSJ_CARD_NO</th>\n",
              "      <th>DSJ_JUMIN_NO</th>\n",
              "      <th>CONSULT_DATE</th>\n",
              "      <th>CARE_OPEN_CLASS_NM</th>\n",
              "      <th>CONSULT_CONT</th>\n",
              "      <th>JAEBUM</th>\n",
              "      <th>JAEBUM_1</th>\n",
              "      <th>출생년도</th>\n",
              "      <th>연령</th>\n",
              "      <th>학력</th>\n",
              "      <th>죄명</th>\n",
              "      <th>CARE_OPEN_CLASS_NM_1</th>\n",
              "      <th>user_twtt</th>\n",
              "      <th>user_twtt_len</th>\n",
              "    </tr>\n",
              "  </thead>\n",
              "  <tbody>\n",
              "    <tr>\n",
              "      <th>460</th>\n",
              "      <td>100020100078</td>\n",
              "      <td>x4IdPpcY90s/iD0RH7wykQ==</td>\n",
              "      <td>20160927</td>\n",
              "      <td>10</td>\n",
              "      <td>대상자가 기술교육원  야간반 과정에 참여하고자 함에 따라 수료시까지 성실히 교육에 ...</td>\n",
              "      <td>0</td>\n",
              "      <td>1</td>\n",
              "      <td>1982</td>\n",
              "      <td>30</td>\n",
              "      <td>1</td>\n",
              "      <td>40</td>\n",
              "      <td>10</td>\n",
              "      <td>[기술교육원, 야간반, 자, 함, 수료, 시, 성실, 교육, 임해, 줄, 것, 출결...</td>\n",
              "      <td>16</td>\n",
              "    </tr>\n",
              "    <tr>\n",
              "      <th>1103</th>\n",
              "      <td>100020110062</td>\n",
              "      <td>pWNplgZrM5H8IFl7FspEnw==</td>\n",
              "      <td>20130419</td>\n",
              "      <td>10</td>\n",
              "      <td>귀소여부에 대해 물어보았으며 금주는 귀소하여 쉬다가 출근할 계획이라고 하여 안전사고...</td>\n",
              "      <td>0</td>\n",
              "      <td>1</td>\n",
              "      <td>1986</td>\n",
              "      <td>20</td>\n",
              "      <td>1</td>\n",
              "      <td>20</td>\n",
              "      <td>10</td>\n",
              "      <td>[소, 금주, 귀, 쉬, 출근, 안전사고, 각별, 유의, 것, 함]</td>\n",
              "      <td>10</td>\n",
              "    </tr>\n",
              "    <tr>\n",
              "      <th>1105</th>\n",
              "      <td>100020110062</td>\n",
              "      <td>pWNplgZrM5H8IFl7FspEnw==</td>\n",
              "      <td>20130620</td>\n",
              "      <td>10</td>\n",
              "      <td>최근 상황에 대해 청취하고 귀소여부에 대해 물어보았으며 향후 기간만료가 다가오고 있...</td>\n",
              "      <td>0</td>\n",
              "      <td>1</td>\n",
              "      <td>1986</td>\n",
              "      <td>20</td>\n",
              "      <td>1</td>\n",
              "      <td>20</td>\n",
              "      <td>10</td>\n",
              "      <td>[청취, 소, 가오, 곳, 알, 아보, 함]</td>\n",
              "      <td>7</td>\n",
              "    </tr>\n",
              "    <tr>\n",
              "      <th>1106</th>\n",
              "      <td>100020110062</td>\n",
              "      <td>pWNplgZrM5H8IFl7FspEnw==</td>\n",
              "      <td>20130628</td>\n",
              "      <td>10</td>\n",
              "      <td>2년 만기가 다가와 숙소를 구해 퇴소하게 되었으며 퇴소후에도 꾸준히 노력하여 반드시...</td>\n",
              "      <td>0</td>\n",
              "      <td>1</td>\n",
              "      <td>1986</td>\n",
              "      <td>20</td>\n",
              "      <td>1</td>\n",
              "      <td>20</td>\n",
              "      <td>10</td>\n",
              "      <td>[만기, 숙소, 구해, 퇴, 퇴, 후, 노력, 반드시, 자립, 성공, 취업알선, 함]</td>\n",
              "      <td>12</td>\n",
              "    </tr>\n",
              "    <tr>\n",
              "      <th>1107</th>\n",
              "      <td>100020110062</td>\n",
              "      <td>pWNplgZrM5H8IFl7FspEnw==</td>\n",
              "      <td>20130217</td>\n",
              "      <td>10</td>\n",
              "      <td>회사 숙소에서 생활하는데 대한 문제점과 회사생활의 애로사항 등에 대해 청취하였으며 ...</td>\n",
              "      <td>0</td>\n",
              "      <td>1</td>\n",
              "      <td>1986</td>\n",
              "      <td>20</td>\n",
              "      <td>1</td>\n",
              "      <td>20</td>\n",
              "      <td>10</td>\n",
              "      <td>[일자리, 숙소, 문제점, 회, 사생활, 애로사항, 등, 청취, 앞, 주말, 마다,...</td>\n",
              "      <td>18</td>\n",
              "    </tr>\n",
              "    <tr>\n",
              "      <th>...</th>\n",
              "      <td>...</td>\n",
              "      <td>...</td>\n",
              "      <td>...</td>\n",
              "      <td>...</td>\n",
              "      <td>...</td>\n",
              "      <td>...</td>\n",
              "      <td>...</td>\n",
              "      <td>...</td>\n",
              "      <td>...</td>\n",
              "      <td>...</td>\n",
              "      <td>...</td>\n",
              "      <td>...</td>\n",
              "      <td>...</td>\n",
              "      <td>...</td>\n",
              "    </tr>\n",
              "    <tr>\n",
              "      <th>270219</th>\n",
              "      <td>90020200457</td>\n",
              "      <td>QavnP/cLBhgcmExbuFIpYA==</td>\n",
              "      <td>20200714</td>\n",
              "      <td>10</td>\n",
              "      <td>허그일자리지원프로그램 참여 독려하여 구직응원하자, 현재 보호관찰 교육 등으로 훈련일...</td>\n",
              "      <td>0</td>\n",
              "      <td>0</td>\n",
              "      <td>1997</td>\n",
              "      <td>20</td>\n",
              "      <td>1</td>\n",
              "      <td>80</td>\n",
              "      <td>10</td>\n",
              "      <td>[허그일자리지원프로그램, 구직, 응원, 보호관찰, 교육, 등, 훈련, 일정, 조율,...</td>\n",
              "      <td>24</td>\n",
              "    </tr>\n",
              "    <tr>\n",
              "      <th>270220</th>\n",
              "      <td>90020200457</td>\n",
              "      <td>QavnP/cLBhgcmExbuFIpYA==</td>\n",
              "      <td>20200625</td>\n",
              "      <td>10</td>\n",
              "      <td>상기인은 숙식 생활을 한지는 오래되지 않았지만, 앞으로 열심히 생활할 것을 당부하고...</td>\n",
              "      <td>0</td>\n",
              "      <td>0</td>\n",
              "      <td>1997</td>\n",
              "      <td>20</td>\n",
              "      <td>1</td>\n",
              "      <td>80</td>\n",
              "      <td>10</td>\n",
              "      <td>[오래, 앞, 노력, 것, 코로나, 를, 예방, 마스크, 착용, 것, 후, 함]</td>\n",
              "      <td>12</td>\n",
              "    </tr>\n",
              "    <tr>\n",
              "      <th>270221</th>\n",
              "      <td>90020200457</td>\n",
              "      <td>QavnP/cLBhgcmExbuFIpYA==</td>\n",
              "      <td>20200618</td>\n",
              "      <td>10</td>\n",
              "      <td>부산보호관찰소 의뢰로 숙식임시보호개시함. 숙식과 관련된 제반사항 안내 및 초도지급품...</td>\n",
              "      <td>0</td>\n",
              "      <td>0</td>\n",
              "      <td>1997</td>\n",
              "      <td>20</td>\n",
              "      <td>1</td>\n",
              "      <td>80</td>\n",
              "      <td>10</td>\n",
              "      <td>[부산, 보호관찰소, 의뢰, 임시, 함, 제반사, 항, 안내, 및, 초도, 지급, ...</td>\n",
              "      <td>20</td>\n",
              "    </tr>\n",
              "    <tr>\n",
              "      <th>270222</th>\n",
              "      <td>90020200457</td>\n",
              "      <td>QavnP/cLBhgcmExbuFIpYA==</td>\n",
              "      <td>20200623</td>\n",
              "      <td>10</td>\n",
              "      <td>사회성향상교육참여하여 멘토의 강연에 집중하는 모습보임. 숙식생활에 애로점이 있다하더...</td>\n",
              "      <td>0</td>\n",
              "      <td>0</td>\n",
              "      <td>1997</td>\n",
              "      <td>20</td>\n",
              "      <td>1</td>\n",
              "      <td>80</td>\n",
              "      <td>10</td>\n",
              "      <td>[사회, 성향, 상, 교육, 멘토, 강연, 집, 중하, 숙, 식생활, 필요, 점, ...</td>\n",
              "      <td>17</td>\n",
              "    </tr>\n",
              "    <tr>\n",
              "      <th>270223</th>\n",
              "      <td>90020200457</td>\n",
              "      <td>QavnP/cLBhgcmExbuFIpYA==</td>\n",
              "      <td>20200717</td>\n",
              "      <td>10</td>\n",
              "      <td>심사를 통해 임시보호 종료 및 정식으로 숙식보호 개시되었음을 알리고 임시보호기간동안...</td>\n",
              "      <td>0</td>\n",
              "      <td>0</td>\n",
              "      <td>1997</td>\n",
              "      <td>20</td>\n",
              "      <td>1</td>\n",
              "      <td>80</td>\n",
              "      <td>10</td>\n",
              "      <td>[임시, 및, 정식, 숙식보호, 임시, 것, 것, 함, 근무, 매진, 저축, 적극적...</td>\n",
              "      <td>13</td>\n",
              "    </tr>\n",
              "  </tbody>\n",
              "</table>\n",
              "<p>93390 rows × 14 columns</p>\n",
              "</div>"
            ],
            "text/plain": [
              "         DSJ_CARD_NO  ... user_twtt_len\n",
              "460     100020100078  ...            16\n",
              "1103    100020110062  ...            10\n",
              "1105    100020110062  ...             7\n",
              "1106    100020110062  ...            12\n",
              "1107    100020110062  ...            18\n",
              "...              ...  ...           ...\n",
              "270219   90020200457  ...            24\n",
              "270220   90020200457  ...            12\n",
              "270221   90020200457  ...            20\n",
              "270222   90020200457  ...            17\n",
              "270223   90020200457  ...            13\n",
              "\n",
              "[93390 rows x 14 columns]"
            ]
          },
          "metadata": {
            "tags": []
          },
          "execution_count": 26
        }
      ]
    },
    {
      "cell_type": "markdown",
      "metadata": {
        "id": "vuSHc1cwGxXU",
        "colab_type": "text"
      },
      "source": [
        "## 명사수 5개 이상인 유저만 추출 "
      ]
    },
    {
      "cell_type": "code",
      "metadata": {
        "id": "0s81HX2mGzjs",
        "colab_type": "code",
        "colab": {
          "base_uri": "https://localhost:8080/"
        },
        "outputId": "369c906a-6386-4571-8ac0-b8f64ad54c89"
      },
      "source": [
        "#명사 5개이상 추출 \n",
        "df['user_twtt_len'].hist()"
      ],
      "execution_count": null,
      "outputs": [
        {
          "output_type": "execute_result",
          "data": {
            "text/plain": [
              "<matplotlib.axes._subplots.AxesSubplot at 0x7f2226176940>"
            ]
          },
          "metadata": {
            "tags": []
          },
          "execution_count": 27
        },
        {
          "output_type": "display_data",
          "data": {
            "image/png": "[encoded data removed]",
            "text/plain": [
              "<Figure size 432x288 with 1 Axes>"
            ]
          },
          "metadata": {
            "tags": [],
            "image/png": {
              "width": 386,
              "height": 248
            },
            "needs_background": "light"
          }
        }
      ]
    },
    {
      "cell_type": "code",
      "metadata": {
        "id": "DzrQu11DG1ER",
        "colab_type": "code",
        "colab": {}
      },
      "source": [
        "bio_exists_df = df[df['user_twtt_len'] >= 25]"
      ],
      "execution_count": null,
      "outputs": []
    },
    {
      "cell_type": "code",
      "metadata": {
        "id": "ytW7qtWkG2fn",
        "colab_type": "code",
        "colab": {
          "base_uri": "https://localhost:8080/"
        },
        "outputId": "6edc08be-6f1f-4829-d87e-c33a660ce146"
      },
      "source": [
        "len(bio_exists_df)"
      ],
      "execution_count": null,
      "outputs": [
        {
          "output_type": "execute_result",
          "data": {
            "text/plain": [
              "24399"
            ]
          },
          "metadata": {
            "tags": []
          },
          "execution_count": 29
        }
      ]
    },
    {
      "cell_type": "code",
      "metadata": {
        "id": "5dsSQ99dHFGe",
        "colab_type": "code",
        "colab": {
          "base_uri": "https://localhost:8080/"
        },
        "outputId": "c5cfe143-58c0-4da1-ff3c-3069551adfe5"
      },
      "source": [
        "bio_exists_df.sample(3)"
      ],
      "execution_count": null,
      "outputs": [
        {
          "output_type": "execute_result",
          "data": {
            "text/html": [
              "<div>\n",
              "<style scoped>\n",
              "    .dataframe tbody tr th:only-of-type {\n",
              "        vertical-align: middle;\n",
              "    }\n",
              "\n",
              "    .dataframe tbody tr th {\n",
              "        vertical-align: top;\n",
              "    }\n",
              "\n",
              "    .dataframe thead th {\n",
              "        text-align: right;\n",
              "    }\n",
              "</style>\n",
              "<table border=\"1\" class=\"dataframe\">\n",
              "  <thead>\n",
              "    <tr style=\"text-align: right;\">\n",
              "      <th></th>\n",
              "      <th>DSJ_CARD_NO</th>\n",
              "      <th>DSJ_JUMIN_NO</th>\n",
              "      <th>CONSULT_DATE</th>\n",
              "      <th>CARE_OPEN_CLASS_NM</th>\n",
              "      <th>CONSULT_CONT</th>\n",
              "      <th>JAEBUM</th>\n",
              "      <th>JAEBUM_1</th>\n",
              "      <th>출생년도</th>\n",
              "      <th>연령</th>\n",
              "      <th>학력</th>\n",
              "      <th>죄명</th>\n",
              "      <th>CARE_OPEN_CLASS_NM_1</th>\n",
              "      <th>user_twtt</th>\n",
              "      <th>user_twtt_len</th>\n",
              "    </tr>\n",
              "  </thead>\n",
              "  <tbody>\n",
              "    <tr>\n",
              "      <th>109833</th>\n",
              "      <td>122020170045</td>\n",
              "      <td>xIgakdYF15KFv03FE7EZEw==</td>\n",
              "      <td>20170720</td>\n",
              "      <td>10</td>\n",
              "      <td>-입소시 부터 안내했던 생활관 규정과 규칙안내를 통해 준수 당부함\\r\\n-단체생활로...</td>\n",
              "      <td>0</td>\n",
              "      <td>0</td>\n",
              "      <td>2001</td>\n",
              "      <td>10</td>\n",
              "      <td>1</td>\n",
              "      <td>60</td>\n",
              "      <td>10</td>\n",
              "      <td>[시, 안내, 규정, 규칙, 안내, 준수, 함, 단체, 최소한, 규정, 규칙, 음,...</td>\n",
              "      <td>37</td>\n",
              "    </tr>\n",
              "    <tr>\n",
              "      <th>80580</th>\n",
              "      <td>111020170092</td>\n",
              "      <td>2DJGfSK+XVQKVj3XGn/iFQ==</td>\n",
              "      <td>20170626</td>\n",
              "      <td>10</td>\n",
              "      <td>금요일날 면접을 본 창원소재 정인테크에서 일을 시작하기로 하였고 금일 창원으로 이동...</td>\n",
              "      <td>1</td>\n",
              "      <td>1</td>\n",
              "      <td>1971</td>\n",
              "      <td>40</td>\n",
              "      <td>1</td>\n",
              "      <td>40</td>\n",
              "      <td>10</td>\n",
              "      <td>[금요일, 날, 면접, 창원, 소재, 정인, 테크, 일, 시작, 창원, 이, 동하,...</td>\n",
              "      <td>26</td>\n",
              "    </tr>\n",
              "    <tr>\n",
              "      <th>107115</th>\n",
              "      <td>121020190253</td>\n",
              "      <td>OFk6eHLoUETtsMULmajvxw==</td>\n",
              "      <td>20200130</td>\n",
              "      <td>10</td>\n",
              "      <td>-20시경 보호자모에게 자녀가 무단이탈함을 유선으로 연락함\\r\\n-현재 광주가는 고...</td>\n",
              "      <td>0</td>\n",
              "      <td>0</td>\n",
              "      <td>2006</td>\n",
              "      <td>10</td>\n",
              "      <td>1</td>\n",
              "      <td>40</td>\n",
              "      <td>10</td>\n",
              "      <td>[시경, 보호자, 모에, 자녀, 무단이탈, 함, 함, 광주, 고속버스, 임, 안내,...</td>\n",
              "      <td>29</td>\n",
              "    </tr>\n",
              "  </tbody>\n",
              "</table>\n",
              "</div>"
            ],
            "text/plain": [
              "         DSJ_CARD_NO  ... user_twtt_len\n",
              "109833  122020170045  ...            37\n",
              "80580   111020170092  ...            26\n",
              "107115  121020190253  ...            29\n",
              "\n",
              "[3 rows x 14 columns]"
            ]
          },
          "metadata": {
            "tags": []
          },
          "execution_count": 30
        }
      ]
    },
    {
      "cell_type": "markdown",
      "metadata": {
        "id": "Art8VTvC2YdP",
        "colab_type": "text"
      },
      "source": [
        "TF-IDF\n"
      ]
    },
    {
      "cell_type": "code",
      "metadata": {
        "id": "jZQ7-z9j2cFp",
        "colab_type": "code",
        "colab": {}
      },
      "source": [
        ""
      ],
      "execution_count": null,
      "outputs": []
    },
    {
      "cell_type": "markdown",
      "metadata": {
        "id": "ELndcwJLHIC5",
        "colab_type": "text"
      },
      "source": [
        "##유저의 벡터 = 각명사들 벡터의 MEAN "
      ]
    },
    {
      "cell_type": "code",
      "metadata": {
        "id": "D6wEsYvk1RQU",
        "colab_type": "code",
        "colab": {}
      },
      "source": [
        ""
      ],
      "execution_count": null,
      "outputs": []
    },
    {
      "cell_type": "code",
      "metadata": {
        "id": "h74EtpZWHGA4",
        "colab_type": "code",
        "colab": {}
      },
      "source": [
        "#문맥이해하는 더 좋은 방법 적용 \n",
        "def get_sentence_mean_vector(morphs):\n",
        "    vector = []\n",
        "    for i in morphs:\n",
        "        try:\n",
        "            vector.append(model.wv[i])\n",
        "        except KeyError as e:\n",
        "            pass\n",
        "    try:\n",
        "        return np.mean(vector, axis=0)\n",
        "    except IndexError as e:\n",
        "        pass"
      ],
      "execution_count": null,
      "outputs": []
    },
    {
      "cell_type": "code",
      "metadata": {
        "id": "K7xdNTSMHMbr",
        "colab_type": "code",
        "colab": {}
      },
      "source": [
        "bio_exists_df['wv'] = bio_exists_df['user_twtt'].map(get_sentence_mean_vector)"
      ],
      "execution_count": null,
      "outputs": []
    },
    {
      "cell_type": "markdown",
      "metadata": {
        "id": "rbv1GFeNHQyw",
        "colab_type": "text"
      },
      "source": [
        "##300차원벡터"
      ]
    },
    {
      "cell_type": "code",
      "metadata": {
        "id": "KGFva2oGHOKn",
        "colab_type": "code",
        "colab": {
          "base_uri": "https://localhost:8080/",
          "height": 35
        },
        "outputId": "a6f653d0-1307-4e01-f67c-2bd8d9399a8e"
      },
      "source": [
        "len(bio_exists_df.dropna().head(1)['wv'].to_list()[0])"
      ],
      "execution_count": null,
      "outputs": [
        {
          "output_type": "execute_result",
          "data": {
            "text/plain": [
              "300"
            ]
          },
          "metadata": {
            "tags": []
          },
          "execution_count": 33
        }
      ]
    },
    {
      "cell_type": "markdown",
      "metadata": {
        "id": "dG0Vyz3pHWPp",
        "colab_type": "text"
      },
      "source": [
        "##빈것 제거"
      ]
    },
    {
      "cell_type": "code",
      "metadata": {
        "id": "aBVt9nOkHXfR",
        "colab_type": "code",
        "colab": {}
      },
      "source": [
        "bio_exists_df = bio_exists_df.dropna()\n",
        "#bio_exists_df = bio_exists_df.drop_duplicates('user.id')"
      ],
      "execution_count": null,
      "outputs": []
    },
    {
      "cell_type": "code",
      "metadata": {
        "id": "AjCg4JPkHYoW",
        "colab_type": "code",
        "colab": {
          "base_uri": "https://localhost:8080/",
          "height": 35
        },
        "outputId": "e2a9da1f-84c4-4ee5-a2cf-f00054528bbe"
      },
      "source": [
        "len(bio_exists_df)"
      ],
      "execution_count": null,
      "outputs": [
        {
          "output_type": "execute_result",
          "data": {
            "text/plain": [
              "24399"
            ]
          },
          "metadata": {
            "tags": []
          },
          "execution_count": 35
        }
      ]
    },
    {
      "cell_type": "markdown",
      "metadata": {
        "id": "-92_mroOHcCC",
        "colab_type": "text"
      },
      "source": [
        "#KMEANS"
      ]
    },
    {
      "cell_type": "markdown",
      "metadata": {
        "id": "45r6LOYnNHYI",
        "colab_type": "text"
      },
      "source": [
        "###클러스터링"
      ]
    },
    {
      "cell_type": "code",
      "metadata": {
        "id": "RjUPp98fQSHT",
        "colab_type": "code",
        "colab": {}
      },
      "source": [
        "from sklearn.cluster import KMeans\n",
        "import time"
      ],
      "execution_count": null,
      "outputs": []
    },
    {
      "cell_type": "code",
      "metadata": {
        "id": "6bDgi6I5cQSZ",
        "colab_type": "code",
        "colab": {}
      },
      "source": [
        "word_vectors = bio_exists_df.wv.to_list() "
      ],
      "execution_count": null,
      "outputs": []
    },
    {
      "cell_type": "code",
      "metadata": {
        "id": "x2VJIRruh9kb",
        "colab_type": "code",
        "colab": {
          "base_uri": "https://localhost:8080/",
          "height": 35
        },
        "outputId": "fcd3a819-7435-4f1b-817a-f01805b55a01"
      },
      "source": [
        "start = time.time() # 시작시간\n",
        "\n",
        "word_vectors = bio_exists_df.wv.to_list() \n",
        "num_clusters = 40\n",
        "\n",
        "# K means 를 정의하고 학습시킨다.\n",
        "kmeans_clustering = KMeans( n_clusters = num_clusters )\n",
        "idx = kmeans_clustering.fit_predict( word_vectors )\n",
        "bio_exists_df['category'] = idx\n",
        "\n",
        "# 끝난 시간에서 시작시각을 빼서 걸린 시간을 구한다.\n",
        "end = time.time()\n",
        "elapsed = end - start\n",
        "print(\"Time taken for K Means clustering: \", elapsed, \"seconds.\")"
      ],
      "execution_count": null,
      "outputs": [
        {
          "output_type": "stream",
          "text": [
            "Time taken for K Means clustering:  48.699835777282715 seconds.\n"
          ],
          "name": "stdout"
        }
      ]
    },
    {
      "cell_type": "code",
      "metadata": {
        "id": "SM5PcTpe7uYS",
        "colab_type": "code",
        "colab": {}
      },
      "source": [
        "bio_exists_df.to_excel('클러스터링3.xlsx')"
      ],
      "execution_count": null,
      "outputs": []
    },
    {
      "cell_type": "code",
      "metadata": {
        "id": "SulshXEQcvk1",
        "colab_type": "code",
        "colab": {
          "base_uri": "https://localhost:8080/",
          "height": 277
        },
        "outputId": "36b7f507-b98e-4a3e-fc8e-112058f30a54"
      },
      "source": [
        "word_vectors = bio_exists_df.wv.to_list() \n",
        "\n",
        "def elbow(X):\n",
        "    sse = []\n",
        "\n",
        "    for i in range(10,51):\n",
        "        km = KMeans(n_clusters=i,algorithm='auto', random_state=42)\n",
        "        km.fit(word_vectors)\n",
        "        sse.append(km.inertia_)\n",
        "\n",
        "    plt.plot(range(10,51), sse, marker='o')\n",
        "    plt.xlabel('K')\n",
        "    plt.ylabel('SSE')\n",
        "    plt.show()\n",
        "\n",
        "elbow(bio_exists_df)"
      ],
      "execution_count": null,
      "outputs": [
        {
          "output_type": "display_data",
          "data": {
            "image/png": "[encoded data removed]",
            "text/plain": [
              "<Figure size 432x288 with 1 Axes>"
            ]
          },
          "metadata": {
            "tags": [],
            "image/png": {
              "width": 401,
              "height": 261
            },
            "needs_background": "light"
          }
        }
      ]
    },
    {
      "cell_type": "code",
      "metadata": {
        "id": "HqwoY9DUiW9V",
        "colab_type": "code",
        "colab": {
          "base_uri": "https://localhost:8080/",
          "height": 277
        },
        "outputId": "9e4e9607-c765-46e3-f003-36082a826aad"
      },
      "source": [
        "word_vectors = bio_exists_df.wv.to_list() \n",
        "\n",
        "def elbow(X):\n",
        "    sse = []\n",
        "\n",
        "    for i in range(10,100):\n",
        "        km = KMeans(n_clusters=i,algorithm='auto', random_state=42)\n",
        "        km.fit(word_vectors)\n",
        "        sse.append(km.inertia_)\n",
        "\n",
        "    plt.plot(range(10,100), sse, marker='o')\n",
        "    plt.xlabel('K')\n",
        "    plt.ylabel('SSE')\n",
        "    plt.show()\n",
        "\n",
        "elbow(bio_exists_df)"
      ],
      "execution_count": null,
      "outputs": [
        {
          "output_type": "display_data",
          "data": {
            "image/png": "[encoded data removed]",
            "text/plain": [
              "<Figure size 432x288 with 1 Axes>"
            ]
          },
          "metadata": {
            "tags": [],
            "needs_background": "light"
          }
        }
      ]
    },
    {
      "cell_type": "code",
      "metadata": {
        "id": "gl2rL-l8QP_S",
        "colab_type": "code",
        "colab": {
          "base_uri": "https://localhost:8080/",
          "height": 277
        },
        "outputId": "43a9c64d-f8d3-417b-fd14-ffb20cf599bf"
      },
      "source": [
        "word_vectors = bio_exists_df.wv.to_list() \n",
        "\n",
        "def elbow(X):\n",
        "    sse = []\n",
        "\n",
        "    for i in range(20,41):\n",
        "        km = KMeans(n_clusters=i,algorithm='auto', random_state=42)\n",
        "        km.fit(word_vectors)\n",
        "        sse.append(km.inertia_)\n",
        "\n",
        "    plt.plot(range(20,41), sse, marker='o')\n",
        "    plt.xlabel('K')\n",
        "    plt.ylabel('SSE')\n",
        "    plt.show()\n",
        "\n",
        "elbow(bio_exists_df)"
      ],
      "execution_count": null,
      "outputs": [
        {
          "output_type": "display_data",
          "data": {
            "image/png": "[encoded data removed]",
            "text/plain": [
              "<Figure size 432x288 with 1 Axes>"
            ]
          },
          "metadata": {
            "tags": [],
            "image/png": {
              "width": 401,
              "height": 261
            },
            "needs_background": "light"
          }
        }
      ]
    },
    {
      "cell_type": "code",
      "metadata": {
        "id": "i7BTDiuEWjnL",
        "colab_type": "code",
        "colab": {
          "base_uri": "https://localhost:8080/",
          "height": 277
        },
        "outputId": "5e632901-092e-4424-fd5f-5faf8560c4d8"
      },
      "source": [
        "word_vectors = bio_exists_df.wv.to_list() \n",
        "\n",
        "def elbow(X):\n",
        "    sse = []\n",
        "\n",
        "    for i in range(41,61):\n",
        "        km = KMeans(n_clusters=i,algorithm='auto', random_state=42)\n",
        "        km.fit(word_vectors)\n",
        "        sse.append(km.inertia_)\n",
        "\n",
        "    plt.plot(range(41,61), sse, marker='o')\n",
        "    plt.xlabel('K')\n",
        "    plt.ylabel('SSE')\n",
        "    plt.show()\n",
        "\n",
        "elbow(bio_exists_df)"
      ],
      "execution_count": null,
      "outputs": [
        {
          "output_type": "display_data",
          "data": {
            "image/png": "[encoded data removed]",
            "text/plain": [
              "<Figure size 432x288 with 1 Axes>"
            ]
          },
          "metadata": {
            "tags": [],
            "image/png": {
              "width": 401,
              "height": 261
            },
            "needs_background": "light"
          }
        }
      ]
    },
    {
      "cell_type": "markdown",
      "metadata": {
        "id": "cvvQOHNEYIuL",
        "colab_type": "text"
      },
      "source": [
        "#svm"
      ]
    },
    {
      "cell_type": "code",
      "metadata": {
        "id": "SVmOPS0GW_zl",
        "colab_type": "code",
        "colab": {
          "base_uri": "https://localhost:8080/",
          "height": 35
        },
        "outputId": "2c310955-7cb6-4734-c036-560f338e0e6c"
      },
      "source": [
        "x = bio_exists_df['wv']\n",
        "y = bio_exists_df['category']\n",
        "\n",
        "print(x.shape, y.shape)"
      ],
      "execution_count": null,
      "outputs": [
        {
          "output_type": "stream",
          "text": [
            "(24399,) (24399,)\n"
          ],
          "name": "stdout"
        }
      ]
    },
    {
      "cell_type": "code",
      "metadata": {
        "id": "JiZglZOKXIgZ",
        "colab_type": "code",
        "colab": {
          "base_uri": "https://localhost:8080/",
          "height": 35
        },
        "outputId": "f5983d52-a184-41c5-a2ca-c6f138be609d"
      },
      "source": [
        "from sklearn.model_selection import train_test_split\n",
        "\n",
        "# 데이터 나누기 - 6:2:2 비율\n",
        "x_train, x_test, y_train, y_test = train_test_split(x, y, test_size=0.2, random_state=1)\n",
        "x_train, x_val, y_train, y_val = train_test_split(x_train, y_train, test_size=0.25, random_state=1)\n",
        "\n",
        "print(x_train.shape, x_val.shape, x_test.shape)"
      ],
      "execution_count": null,
      "outputs": [
        {
          "output_type": "stream",
          "text": [
            "(14639,) (4880,) (4880,)\n"
          ],
          "name": "stdout"
        }
      ]
    },
    {
      "cell_type": "code",
      "metadata": {
        "id": "Mr9_w36aYR__",
        "colab_type": "code",
        "colab": {}
      },
      "source": [
        "from sklearn.svm import SVC"
      ],
      "execution_count": null,
      "outputs": []
    },
    {
      "cell_type": "code",
      "metadata": {
        "id": "48PJ9HDvYX36",
        "colab_type": "code",
        "colab": {
          "base_uri": "https://localhost:8080/",
          "height": 90
        },
        "outputId": "0f2df5ee-c484-403a-d8dc-a34620ca134c"
      },
      "source": [
        "# linear SVM 학습하기\n",
        "linear_svm = SVC(kernel='linear')\n",
        "list_x_train = x_train.tolist()\n",
        "linear_svm.fit(list_x_train, y_train)"
      ],
      "execution_count": null,
      "outputs": [
        {
          "output_type": "execute_result",
          "data": {
            "text/plain": [
              "SVC(C=1.0, break_ties=False, cache_size=200, class_weight=None, coef0=0.0,\n",
              "    decision_function_shape='ovr', degree=3, gamma='scale', kernel='linear',\n",
              "    max_iter=-1, probability=False, random_state=None, shrinking=True,\n",
              "    tol=0.001, verbose=False)"
            ]
          },
          "metadata": {
            "tags": []
          },
          "execution_count": 42
        }
      ]
    },
    {
      "cell_type": "code",
      "metadata": {
        "id": "rIXVw7XNXSsS",
        "colab_type": "code",
        "colab": {
          "base_uri": "https://localhost:8080/",
          "height": 35
        },
        "outputId": "1b2124e2-ad94-4827-96d7-5fcb11c70923"
      },
      "source": [
        "# linear SVM accuracy 계산하기\n",
        "from sklearn.metrics import accuracy_score\n",
        "list_x_val = x_val.tolist()\n",
        "pred_val = linear_svm.predict(list_x_val)\n",
        "print(f\"accuracy:{accuracy_score(y_val, pred_val)}\")"
      ],
      "execution_count": null,
      "outputs": [
        {
          "output_type": "stream",
          "text": [
            "accuracy:0.8819672131147541\n"
          ],
          "name": "stdout"
        }
      ]
    },
    {
      "cell_type": "code",
      "metadata": {
        "id": "TRQYTJYjYoIT",
        "colab_type": "code",
        "colab": {
          "base_uri": "https://localhost:8080/",
          "height": 126
        },
        "outputId": "daf945b2-6b16-481e-cf20-2c318b35a4f1"
      },
      "source": [
        "# 여러 가지 kernel을 사용해 SVM 학습하고 accuracy 계산하기\n",
        "kernels = ['poly','rbf','sigmoid']\n",
        "\n",
        "for kernel in kernels:\n",
        "    print(\"==========================================\") \n",
        "    model = SVC(kernel = kernel)\n",
        "    model.fit(list_x_train, y_train)\n",
        "    pred_val = model.predict(list_x_val)\n",
        "    print(f\"accuracy of {kernel}: {accuracy_score(y_val, pred_val)}\")\n"
      ],
      "execution_count": null,
      "outputs": [
        {
          "output_type": "stream",
          "text": [
            "==========================================\n",
            "accuracy of poly: 0.8868852459016393\n",
            "==========================================\n",
            "accuracy of rbf: 0.889344262295082\n",
            "==========================================\n",
            "accuracy of sigmoid: 0.8887295081967214\n"
          ],
          "name": "stdout"
        }
      ]
    },
    {
      "cell_type": "code",
      "metadata": {
        "id": "RiO2jqnuYuDN",
        "colab_type": "code",
        "colab": {
          "base_uri": "https://localhost:8080/",
          "height": 35
        },
        "outputId": "84eb78a4-3041-47fb-e321-52e94ddcb486"
      },
      "source": [
        "# 가장 좋다고 판단되는 SVM 모델로 test data 정확도 확인하기\n",
        "rbf_svm = SVC(kernel = 'rbf')\n",
        "rbf_svm.fit(list_x_train, y_train)\n",
        "list_x_test = x_test.tolist()\n",
        "pred_test = rbf_svm.predict(list_x_test)\n",
        "\n",
        "print(f'test accuracy of rbf SVM: {accuracy_score(y_test, pred_test)}')"
      ],
      "execution_count": null,
      "outputs": [
        {
          "output_type": "stream",
          "text": [
            "test accuracy of rbf SVM: 0.8979508196721312\n"
          ],
          "name": "stdout"
        }
      ]
    },
    {
      "cell_type": "code",
      "metadata": {
        "id": "_hR-WJ4Z741I",
        "colab_type": "code",
        "colab": {}
      },
      "source": [
        "bio_exists_df.to_excel('클러스터링3.xlsx')"
      ],
      "execution_count": null,
      "outputs": []
    },
    {
      "cell_type": "markdown",
      "metadata": {
        "id": "KLIUpoFvHlFF",
        "colab_type": "text"
      },
      "source": [
        "# Embedding & Clustering 시각화하기"
      ]
    },
    {
      "cell_type": "code",
      "metadata": {
        "id": "8oW27OtwHm5D",
        "colab_type": "code",
        "colab": {}
      },
      "source": [
        "from sklearn.manifold import TSNE"
      ],
      "execution_count": null,
      "outputs": []
    },
    {
      "cell_type": "code",
      "metadata": {
        "id": "fUWNlPUmHoM8",
        "colab_type": "code",
        "colab": {}
      },
      "source": [
        "X = bio_exists_df['wv'].to_list()\n",
        "y = bio_exists_df['category'].to_list()"
      ],
      "execution_count": null,
      "outputs": []
    },
    {
      "cell_type": "code",
      "metadata": {
        "id": "SN0OVWf1XM_4",
        "colab_type": "code",
        "colab": {}
      },
      "source": [
        "from sklearn.svm import SVC"
      ],
      "execution_count": null,
      "outputs": []
    },
    {
      "cell_type": "markdown",
      "metadata": {
        "id": "f1uEuc0hHqWg",
        "colab_type": "text"
      },
      "source": [
        "차원축소 300->2차원으로 \n",
        "\n",
        "TSNE - 차원 축소 알고리즘 "
      ]
    },
    {
      "cell_type": "code",
      "metadata": {
        "id": "6JdHSAFZHuCU",
        "colab_type": "code",
        "colab": {}
      },
      "source": [
        "import os.path\n",
        "import pickle\n",
        "\n",
        "tsne_filepath = 'tsne3000.pkl'\n",
        "\n",
        "# File Cache\n",
        "if not os.path.exists(tsne_filepath):\n",
        "    tsne = TSNE(random_state=42)\n",
        "    tsne_points = tsne.fit_transform(X)\n",
        "    with open(tsne_filepath, 'wb+') as f:\n",
        "        pickle.dump(tsne_points, f)\n",
        "else: # Cache Hits!\n",
        "    with open(tsne_filepath, 'rb') as f:\n",
        "        tsne_points = pickle.load(f)\n",
        "\n",
        "tsne_df = pd.DataFrame(tsne_points, index=range(len(X)), columns=['x_coord', 'y_coord'])"
      ],
      "execution_count": null,
      "outputs": []
    },
    {
      "cell_type": "code",
      "metadata": {
        "id": "1Ql2MTNsHvFs",
        "colab_type": "code",
        "colab": {}
      },
      "source": [
        "tsne_df['user_bio'] = bio_exists_df['CONSULT_CONT'].to_list()"
      ],
      "execution_count": null,
      "outputs": []
    },
    {
      "cell_type": "code",
      "metadata": {
        "id": "dHJT7vm1HwAP",
        "colab_type": "code",
        "colab": {}
      },
      "source": [
        "tsne_df['cluster_no'] = y"
      ],
      "execution_count": null,
      "outputs": []
    },
    {
      "cell_type": "code",
      "metadata": {
        "id": "aXZGMiwSHxJc",
        "colab_type": "code",
        "colab": {
          "base_uri": "https://localhost:8080/",
          "height": 138
        },
        "outputId": "dfd6aae3-4094-4b47-f46c-a779cc351a1a"
      },
      "source": [
        "\n",
        "tsne_df.sample(3)"
      ],
      "execution_count": null,
      "outputs": [
        {
          "output_type": "execute_result",
          "data": {
            "text/html": [
              "<div>\n",
              "<style scoped>\n",
              "    .dataframe tbody tr th:only-of-type {\n",
              "        vertical-align: middle;\n",
              "    }\n",
              "\n",
              "    .dataframe tbody tr th {\n",
              "        vertical-align: top;\n",
              "    }\n",
              "\n",
              "    .dataframe thead th {\n",
              "        text-align: right;\n",
              "    }\n",
              "</style>\n",
              "<table border=\"1\" class=\"dataframe\">\n",
              "  <thead>\n",
              "    <tr style=\"text-align: right;\">\n",
              "      <th></th>\n",
              "      <th>x_coord</th>\n",
              "      <th>y_coord</th>\n",
              "      <th>user_bio</th>\n",
              "      <th>cluster_no</th>\n",
              "    </tr>\n",
              "  </thead>\n",
              "  <tbody>\n",
              "    <tr>\n",
              "      <th>1145</th>\n",
              "      <td>20.343283</td>\n",
              "      <td>29.062687</td>\n",
              "      <td>현재 신문 배달 및 음식배달원으로 취업활동을 꾸준히하며 지내고 있는 중. 현재 취업...</td>\n",
              "      <td>6</td>\n",
              "    </tr>\n",
              "    <tr>\n",
              "      <th>13780</th>\n",
              "      <td>-9.056777</td>\n",
              "      <td>-46.611084</td>\n",
              "      <td>* 상기 대상자는 생활실 천장에서 테크에서 가루가 떨어진다고 하며, 생활관 점검을 ...</td>\n",
              "      <td>20</td>\n",
              "    </tr>\n",
              "    <tr>\n",
              "      <th>16896</th>\n",
              "      <td>-15.746404</td>\n",
              "      <td>23.182713</td>\n",
              "      <td>사기혐의로 처벌받고 가석방으로 출소하였으나 거처가 없고\\r\\n합의금으로 모아놓은 돈...</td>\n",
              "      <td>36</td>\n",
              "    </tr>\n",
              "  </tbody>\n",
              "</table>\n",
              "</div>"
            ],
            "text/plain": [
              "         x_coord  ...  cluster_no\n",
              "1145   20.343283  ...           6\n",
              "13780  -9.056777  ...          20\n",
              "16896 -15.746404  ...          36\n",
              "\n",
              "[3 rows x 4 columns]"
            ]
          },
          "metadata": {
            "tags": []
          },
          "execution_count": 53
        }
      ]
    },
    {
      "cell_type": "code",
      "metadata": {
        "id": "_XeHy5jgHzrB",
        "colab_type": "code",
        "colab": {}
      },
      "source": [
        "from bokeh.plotting import figure, show, output_notebook\n",
        "from bokeh.models import HoverTool, ColumnDataSource, value\n",
        "from bokeh.palettes import brewer\n",
        "\n",
        "output_notebook()"
      ],
      "execution_count": null,
      "outputs": []
    },
    {
      "cell_type": "code",
      "metadata": {
        "id": "L0E88nOhH0lb",
        "colab_type": "code",
        "colab": {
          "base_uri": "https://localhost:8080/",
          "height": 245
        },
        "outputId": "6998df79-d682-46c5-c32a-45c09333617a"
      },
      "source": [
        "# Get the number of colors we'll need for the plot.\n",
        "colors = brewer[\"Spectral\"][len(tsne_df['cluster_no'].unique())]\n",
        "\n",
        "# Create a map between factor and color.\n",
        "colormap = {i: colors[i] for i in tsne_df['cluster_no'].unique()}\n",
        "\n",
        "# Create a list of colors for each value that we will be looking at.\n",
        "colors = [colormap[x] for x in tsne_df['cluster_no']]"
      ],
      "execution_count": null,
      "outputs": [
        {
          "output_type": "error",
          "ename": "KeyError",
          "evalue": "ignored",
          "traceback": [
            "\u001b[0;31m---------------------------------------------------------------------------\u001b[0m",
            "\u001b[0;31mKeyError\u001b[0m                                  Traceback (most recent call last)",
            "\u001b[0;32m<ipython-input-56-06a8ae01fc08>\u001b[0m in \u001b[0;36m<module>\u001b[0;34m()\u001b[0m\n\u001b[1;32m      1\u001b[0m \u001b[0;31m# Get the number of colors we'll need for the plot.\u001b[0m\u001b[0;34m\u001b[0m\u001b[0;34m\u001b[0m\u001b[0;34m\u001b[0m\u001b[0m\n\u001b[0;32m----> 2\u001b[0;31m \u001b[0mcolors\u001b[0m \u001b[0;34m=\u001b[0m \u001b[0mbrewer\u001b[0m\u001b[0;34m[\u001b[0m\u001b[0;34m\"Spectral\"\u001b[0m\u001b[0;34m]\u001b[0m\u001b[0;34m[\u001b[0m\u001b[0mlen\u001b[0m\u001b[0;34m(\u001b[0m\u001b[0mtsne_df\u001b[0m\u001b[0;34m[\u001b[0m\u001b[0;34m'cluster_no'\u001b[0m\u001b[0;34m]\u001b[0m\u001b[0;34m.\u001b[0m\u001b[0munique\u001b[0m\u001b[0;34m(\u001b[0m\u001b[0;34m)\u001b[0m\u001b[0;34m)\u001b[0m\u001b[0;34m]\u001b[0m\u001b[0;34m\u001b[0m\u001b[0;34m\u001b[0m\u001b[0m\n\u001b[0m\u001b[1;32m      3\u001b[0m \u001b[0;34m\u001b[0m\u001b[0m\n\u001b[1;32m      4\u001b[0m \u001b[0;31m# Create a map between factor and color.\u001b[0m\u001b[0;34m\u001b[0m\u001b[0;34m\u001b[0m\u001b[0;34m\u001b[0m\u001b[0m\n\u001b[1;32m      5\u001b[0m \u001b[0mcolormap\u001b[0m \u001b[0;34m=\u001b[0m \u001b[0;34m{\u001b[0m\u001b[0mi\u001b[0m\u001b[0;34m:\u001b[0m \u001b[0mcolors\u001b[0m\u001b[0;34m[\u001b[0m\u001b[0mi\u001b[0m\u001b[0;34m]\u001b[0m \u001b[0;32mfor\u001b[0m \u001b[0mi\u001b[0m \u001b[0;32min\u001b[0m \u001b[0mtsne_df\u001b[0m\u001b[0;34m[\u001b[0m\u001b[0;34m'cluster_no'\u001b[0m\u001b[0;34m]\u001b[0m\u001b[0;34m.\u001b[0m\u001b[0munique\u001b[0m\u001b[0;34m(\u001b[0m\u001b[0;34m)\u001b[0m\u001b[0;34m}\u001b[0m\u001b[0;34m\u001b[0m\u001b[0;34m\u001b[0m\u001b[0m\n",
            "\u001b[0;31mKeyError\u001b[0m: 40"
          ]
        }
      ]
    },
    {
      "cell_type": "code",
      "metadata": {
        "id": "7mKJiGNPH1lx",
        "colab_type": "code",
        "colab": {}
      },
      "source": [
        "tsne_df['color'] = colors"
      ],
      "execution_count": null,
      "outputs": []
    },
    {
      "cell_type": "code",
      "metadata": {
        "id": "2SsLf8xMH2cM",
        "colab_type": "code",
        "colab": {}
      },
      "source": [
        "# Bokeh Datasouce 만들기\n",
        "plot_data = ColumnDataSource(\n",
        "    data=tsne_df.to_dict(orient='list')\n",
        ")\n",
        "\n",
        "# Plot 만들기(배경)\n",
        "tsne_plot = figure(\n",
        "    # title='TSNE Twitter BIO Embeddings',\n",
        "    plot_width = 650,\n",
        "    plot_height = 650,\n",
        "    active_scroll='wheel_zoom',\n",
        "    output_backend=\"webgl\",\n",
        ")\n",
        "\n",
        "# 해당 Hover 툴팁 만들기\n",
        "tsne_plot.add_tools(\n",
        "    HoverTool(\n",
        "        tooltips='@user_bio'\n",
        "    )\n",
        ")\n",
        "\n",
        "tsne_plot.circle(\n",
        "    source=plot_data,\n",
        "    x='x_coord',\n",
        "    y='y_coord',\n",
        "    line_alpha=0.3, \n",
        "    fill_alpha=0.2,\n",
        "    size=10,\n",
        "    fill_color='color',\n",
        "    line_color='color',\n",
        ")\n",
        "\n",
        "# 각 값들 추가해주기 \n",
        "tsne_plot.title.text_font_size = value('16pt')\n",
        "tsne_plot.xaxis.visible = False\n",
        "tsne_plot.yaxis.visible = False\n",
        "tsne_plot.grid.grid_line_color = None\n",
        "tsne_plot.outline_line_color = None\n",
        "\n",
        "# 짠!\n",
        "show(tsne_plot)"
      ],
      "execution_count": null,
      "outputs": []
    },
    {
      "cell_type": "code",
      "metadata": {
        "id": "Zb0FL5ZvH3tI",
        "colab_type": "code",
        "colab": {
          "base_uri": "https://localhost:8080/",
          "height": 198
        },
        "outputId": "2ad0cac3-e412-46bb-9e98-bd4394daa194"
      },
      "source": [
        "bio_exists_df[\n",
        "    bio_exists_df['category'] == 0\n",
        "][['CONSULT_CONT', 'category']].head()"
      ],
      "execution_count": null,
      "outputs": [
        {
          "output_type": "execute_result",
          "data": {
            "text/html": [
              "<div>\n",
              "<style scoped>\n",
              "    .dataframe tbody tr th:only-of-type {\n",
              "        vertical-align: middle;\n",
              "    }\n",
              "\n",
              "    .dataframe tbody tr th {\n",
              "        vertical-align: top;\n",
              "    }\n",
              "\n",
              "    .dataframe thead th {\n",
              "        text-align: right;\n",
              "    }\n",
              "</style>\n",
              "<table border=\"1\" class=\"dataframe\">\n",
              "  <thead>\n",
              "    <tr style=\"text-align: right;\">\n",
              "      <th></th>\n",
              "      <th>CONSULT_CONT</th>\n",
              "      <th>category</th>\n",
              "    </tr>\n",
              "  </thead>\n",
              "  <tbody>\n",
              "    <tr>\n",
              "      <th>6508</th>\n",
              "      <td>주민센터 방문하여 주민등록 전입신고를 한 후 기초수급과 관련하여 질의하였으나 담당직...</td>\n",
              "      <td>0</td>\n",
              "    </tr>\n",
              "    <tr>\n",
              "      <th>8106</th>\n",
              "      <td>내담자는 취업성공패키지에 참가하여 용접훈련중에 있으며, 훈련참여수당을 신청한 상태임...</td>\n",
              "      <td>0</td>\n",
              "    </tr>\n",
              "    <tr>\n",
              "      <th>12117</th>\n",
              "      <td>국민건강보험료 미납으로 인한 상담중 건강보험공단에 무상거주사실확인서를 제출하면 감면...</td>\n",
              "      <td>0</td>\n",
              "    </tr>\n",
              "    <tr>\n",
              "      <th>20152</th>\n",
              "      <td>전자발찌라 취업하기가 어려워 일용직을 계속 하고 있는바 손떨림이 심해 치료를 희망하...</td>\n",
              "      <td>0</td>\n",
              "    </tr>\n",
              "    <tr>\n",
              "      <th>21110</th>\n",
              "      <td>건강보험 공단의 무상거주사실 확인서 발급을 요청하여 발급을 완료하며 신용회복위원회 ...</td>\n",
              "      <td>0</td>\n",
              "    </tr>\n",
              "  </tbody>\n",
              "</table>\n",
              "</div>"
            ],
            "text/plain": [
              "                                            CONSULT_CONT  category\n",
              "6508   주민센터 방문하여 주민등록 전입신고를 한 후 기초수급과 관련하여 질의하였으나 담당직...         0\n",
              "8106   내담자는 취업성공패키지에 참가하여 용접훈련중에 있으며, 훈련참여수당을 신청한 상태임...         0\n",
              "12117  국민건강보험료 미납으로 인한 상담중 건강보험공단에 무상거주사실확인서를 제출하면 감면...         0\n",
              "20152  전자발찌라 취업하기가 어려워 일용직을 계속 하고 있는바 손떨림이 심해 치료를 희망하...         0\n",
              "21110  건강보험 공단의 무상거주사실 확인서 발급을 요청하여 발급을 완료하며 신용회복위원회 ...         0"
            ]
          },
          "metadata": {
            "tags": []
          },
          "execution_count": 57
        }
      ]
    },
    {
      "cell_type": "code",
      "metadata": {
        "id": "4cgK3xN_H5cd",
        "colab_type": "code",
        "colab": {
          "base_uri": "https://localhost:8080/",
          "height": 198
        },
        "outputId": "c8632bd6-1508-4acb-8500-5509bb6ad9ac"
      },
      "source": [
        "bio_exists_df[\n",
        "    bio_exists_df['category'] == 1\n",
        "][['CONSULT_CONT', 'category']].head()"
      ],
      "execution_count": null,
      "outputs": [
        {
          "output_type": "execute_result",
          "data": {
            "text/html": [
              "<div>\n",
              "<style scoped>\n",
              "    .dataframe tbody tr th:only-of-type {\n",
              "        vertical-align: middle;\n",
              "    }\n",
              "\n",
              "    .dataframe tbody tr th {\n",
              "        vertical-align: top;\n",
              "    }\n",
              "\n",
              "    .dataframe thead th {\n",
              "        text-align: right;\n",
              "    }\n",
              "</style>\n",
              "<table border=\"1\" class=\"dataframe\">\n",
              "  <thead>\n",
              "    <tr style=\"text-align: right;\">\n",
              "      <th></th>\n",
              "      <th>CONSULT_CONT</th>\n",
              "      <th>category</th>\n",
              "    </tr>\n",
              "  </thead>\n",
              "  <tbody>\n",
              "    <tr>\n",
              "      <th>2754</th>\n",
              "      <td>상기인은 허그일자리지원 담당자와 함께 금호하이테크에 동행면접을 보고 7월 3일 부터...</td>\n",
              "      <td>1</td>\n",
              "    </tr>\n",
              "    <tr>\n",
              "      <th>4730</th>\n",
              "      <td>취업처를 구하지 못하고 있고 본인이 생각했던것과 상당부분이 다른것에 대해 괴리감을 ...</td>\n",
              "      <td>1</td>\n",
              "    </tr>\n",
              "    <tr>\n",
              "      <th>6082</th>\n",
              "      <td>내담자는 평소 성실하게 근로하고 생활하여, 금일 긴급원호 30만원을 지급받았음. 내...</td>\n",
              "      <td>1</td>\n",
              "    </tr>\n",
              "    <tr>\n",
              "      <th>8002</th>\n",
              "      <td>대상자와 면담을 하였는데, 취업외박을 나가긴 하지만, 일용직 형태로 일하는 것이라 ...</td>\n",
              "      <td>1</td>\n",
              "    </tr>\n",
              "    <tr>\n",
              "      <th>12026</th>\n",
              "      <td>내담자는 6월 30일자로 성창산업에서 퇴사했지만, 회사에서 일이 마무리되지 않아 며...</td>\n",
              "      <td>1</td>\n",
              "    </tr>\n",
              "  </tbody>\n",
              "</table>\n",
              "</div>"
            ],
            "text/plain": [
              "                                            CONSULT_CONT  category\n",
              "2754   상기인은 허그일자리지원 담당자와 함께 금호하이테크에 동행면접을 보고 7월 3일 부터...         1\n",
              "4730   취업처를 구하지 못하고 있고 본인이 생각했던것과 상당부분이 다른것에 대해 괴리감을 ...         1\n",
              "6082   내담자는 평소 성실하게 근로하고 생활하여, 금일 긴급원호 30만원을 지급받았음. 내...         1\n",
              "8002   대상자와 면담을 하였는데, 취업외박을 나가긴 하지만, 일용직 형태로 일하는 것이라 ...         1\n",
              "12026  내담자는 6월 30일자로 성창산업에서 퇴사했지만, 회사에서 일이 마무리되지 않아 며...         1"
            ]
          },
          "metadata": {
            "tags": []
          },
          "execution_count": 58
        }
      ]
    },
    {
      "cell_type": "code",
      "metadata": {
        "id": "kcUtwwOXH6YL",
        "colab_type": "code",
        "colab": {
          "base_uri": "https://localhost:8080/",
          "height": 198
        },
        "outputId": "d9f1ec63-336c-4afa-d7bd-355c5092fb46"
      },
      "source": [
        "bio_exists_df[\n",
        "    bio_exists_df['category'] == 2\n",
        "][['CONSULT_CONT']].head()"
      ],
      "execution_count": null,
      "outputs": [
        {
          "output_type": "execute_result",
          "data": {
            "text/html": [
              "<div>\n",
              "<style scoped>\n",
              "    .dataframe tbody tr th:only-of-type {\n",
              "        vertical-align: middle;\n",
              "    }\n",
              "\n",
              "    .dataframe tbody tr th {\n",
              "        vertical-align: top;\n",
              "    }\n",
              "\n",
              "    .dataframe thead th {\n",
              "        text-align: right;\n",
              "    }\n",
              "</style>\n",
              "<table border=\"1\" class=\"dataframe\">\n",
              "  <thead>\n",
              "    <tr style=\"text-align: right;\">\n",
              "      <th></th>\n",
              "      <th>CONSULT_CONT</th>\n",
              "    </tr>\n",
              "  </thead>\n",
              "  <tbody>\n",
              "    <tr>\n",
              "      <th>24298</th>\n",
              "      <td>자율형 생활관 자치당번을 하고 있으며, 힘든 점이 없는지 상담실시. 특별히 힘든 점...</td>\n",
              "    </tr>\n",
              "    <tr>\n",
              "      <th>24563</th>\n",
              "      <td>자율형 생활관 자치당번을 하고 있으며, 힘든 점이 없는지 상담실시. 특별히 힘든 점...</td>\n",
              "    </tr>\n",
              "    <tr>\n",
              "      <th>48144</th>\n",
              "      <td>현재 청소용역업체에서 일용직 형태로 근로를 하며 지내고 있는 중. 아침일찍 출근하기...</td>\n",
              "    </tr>\n",
              "    <tr>\n",
              "      <th>68065</th>\n",
              "      <td>상기대상자는 2월 6일 오후 9시 당직점검 시간에 3차례 전화를 하였음.(21:06...</td>\n",
              "    </tr>\n",
              "    <tr>\n",
              "      <th>69173</th>\n",
              "      <td>숙식제공 담당자 변경 및 관리지도 상담 실시하였음.\\r\\n생활관입소이후 자치당번,근...</td>\n",
              "    </tr>\n",
              "  </tbody>\n",
              "</table>\n",
              "</div>"
            ],
            "text/plain": [
              "                                            CONSULT_CONT\n",
              "24298  자율형 생활관 자치당번을 하고 있으며, 힘든 점이 없는지 상담실시. 특별히 힘든 점...\n",
              "24563  자율형 생활관 자치당번을 하고 있으며, 힘든 점이 없는지 상담실시. 특별히 힘든 점...\n",
              "48144  현재 청소용역업체에서 일용직 형태로 근로를 하며 지내고 있는 중. 아침일찍 출근하기...\n",
              "68065  상기대상자는 2월 6일 오후 9시 당직점검 시간에 3차례 전화를 하였음.(21:06...\n",
              "69173  숙식제공 담당자 변경 및 관리지도 상담 실시하였음.\\r\\n생활관입소이후 자치당번,근..."
            ]
          },
          "metadata": {
            "tags": []
          },
          "execution_count": 61
        }
      ]
    },
    {
      "cell_type": "code",
      "metadata": {
        "id": "hbdu69aEH9EH",
        "colab_type": "code",
        "colab": {
          "base_uri": "https://localhost:8080/",
          "height": 198
        },
        "outputId": "40a23224-671a-4cb0-fca8-0973b417106d"
      },
      "source": [
        "bio_exists_df[\n",
        "    bio_exists_df['category'] == 3\n",
        "][['CONSULT_CONT', 'category']].head(5)"
      ],
      "execution_count": null,
      "outputs": [
        {
          "output_type": "execute_result",
          "data": {
            "text/html": [
              "<div>\n",
              "<style scoped>\n",
              "    .dataframe tbody tr th:only-of-type {\n",
              "        vertical-align: middle;\n",
              "    }\n",
              "\n",
              "    .dataframe tbody tr th {\n",
              "        vertical-align: top;\n",
              "    }\n",
              "\n",
              "    .dataframe thead th {\n",
              "        text-align: right;\n",
              "    }\n",
              "</style>\n",
              "<table border=\"1\" class=\"dataframe\">\n",
              "  <thead>\n",
              "    <tr style=\"text-align: right;\">\n",
              "      <th></th>\n",
              "      <th>CONSULT_CONT</th>\n",
              "      <th>category</th>\n",
              "    </tr>\n",
              "  </thead>\n",
              "  <tbody>\n",
              "    <tr>\n",
              "      <th>8100</th>\n",
              "      <td>ct는 훈련교통비 및 식비가 지급되지 않아 공단에 확인차 연락옴. 확인해 보니 ct...</td>\n",
              "      <td>3</td>\n",
              "    </tr>\n",
              "    <tr>\n",
              "      <th>13472</th>\n",
              "      <td>내담자가 지갑을 분실하였는데, 지갑을 주었다는 연락이 와 내담자에게 연락처를 줘 지...</td>\n",
              "      <td>3</td>\n",
              "    </tr>\n",
              "    <tr>\n",
              "      <th>19535</th>\n",
              "      <td>상기인은 수감전 카드빚이 좀 있었는데 수감후 시간이 많이 지나 빚이 얼마나 늘었는지...</td>\n",
              "      <td>3</td>\n",
              "    </tr>\n",
              "    <tr>\n",
              "      <th>20011</th>\n",
              "      <td>위 대상자는 일용근로를 통해 들어온 수입금을 통장 예치금으로 사업주가 바로 입금한다...</td>\n",
              "      <td>3</td>\n",
              "    </tr>\n",
              "    <tr>\n",
              "      <th>20190</th>\n",
              "      <td>입소 후 애로사항 유무 확인함 현재 부산보호관찰소에 설연휴 후 성폭력 교육을 수강하...</td>\n",
              "      <td>3</td>\n",
              "    </tr>\n",
              "  </tbody>\n",
              "</table>\n",
              "</div>"
            ],
            "text/plain": [
              "                                            CONSULT_CONT  category\n",
              "8100   ct는 훈련교통비 및 식비가 지급되지 않아 공단에 확인차 연락옴. 확인해 보니 ct...         3\n",
              "13472  내담자가 지갑을 분실하였는데, 지갑을 주었다는 연락이 와 내담자에게 연락처를 줘 지...         3\n",
              "19535  상기인은 수감전 카드빚이 좀 있었는데 수감후 시간이 많이 지나 빚이 얼마나 늘었는지...         3\n",
              "20011  위 대상자는 일용근로를 통해 들어온 수입금을 통장 예치금으로 사업주가 바로 입금한다...         3\n",
              "20190  입소 후 애로사항 유무 확인함 현재 부산보호관찰소에 설연휴 후 성폭력 교육을 수강하...         3"
            ]
          },
          "metadata": {
            "tags": []
          },
          "execution_count": 65
        }
      ]
    },
    {
      "cell_type": "code",
      "metadata": {
        "id": "wn2yMy6eD3PV",
        "colab_type": "code",
        "colab": {}
      },
      "source": [
        ""
      ],
      "execution_count": null,
      "outputs": []
    }
  ]
}