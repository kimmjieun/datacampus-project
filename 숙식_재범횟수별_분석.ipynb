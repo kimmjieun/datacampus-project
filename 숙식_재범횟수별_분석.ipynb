{
  "nbformat": 4,
  "nbformat_minor": 0,
  "metadata": {
    "colab": {
      "name": "숙식_재범횟수별 분석.ipynb",
      "provenance": [],
      "collapsed_sections": [
        "K4X83lKFGr3B",
        "3N1u46vtHv7v",
        "T1seVs5YPqey"
      ],
      "toc_visible": true
    },
    "kernelspec": {
      "name": "python3",
      "display_name": "Python 3"
    },
    "accelerator": "GPU"
  },
  "cells": [
    {
      "cell_type": "markdown",
      "metadata": {
        "id": "view-in-github"
      },
      "source": [
        "<a href=\"https://colab.research.google.com/github/jiieunx/datacampus/blob/master/%EC%88%99%EC%8B%9D_%EC%9E%AC%EB%B2%94%ED%9A%9F%EC%88%98%EB%B3%84%EB%A1%9C_0829.ipynb\" target=\"_parent\"><img src=\"https://colab.research.google.com/assets/colab-badge.svg\" alt=\"Open In Colab\"/></a>"
      ]
    },
    {
      "cell_type": "code",
      "metadata": {
        "id": "12XNFdCLpYJf"
      },
      "source": [
        "#설치파일 , 글꼴 돌리고 다시시작 "
      ],
      "execution_count": null,
      "outputs": []
    },
    {
      "cell_type": "markdown",
      "metadata": {
        "id": "K4X83lKFGr3B"
      },
      "source": [
        "# 설치파일\n"
      ]
    },
    {
      "cell_type": "code",
      "metadata": {
        "id": "Q4fwV7BAHSsB"
      },
      "source": [
        "!apt-get update\n",
        "\n",
        "!apt-get install g++ openjdk-8-jdk python-dev python3-dev\n",
        "\n",
        "!pip3 install JPype1-py3\n",
        "\n",
        "!pip3 install konlpy\n",
        "\n",
        "!JAVA_HOME=\"/usr/lib/jvm/java-8-openjdk-amd64\"\n"
      ],
      "execution_count": null,
      "outputs": []
    },
    {
      "cell_type": "code",
      "metadata": {
        "id": "h4smFStJHXjE"
      },
      "source": [
        "import pandas as pd \n",
        "import matplotlib.pyplot as plt\n",
        "from collections import Counter\n",
        "from wordcloud import WordCloud \n",
        "import numpy as np\n",
        "\n",
        "\n",
        "import matplotlib.pyplot as plt\n",
        "\n",
        "import nltk\n",
        "from nltk.corpus import stopwords\n",
        "%matplotlib inline\n",
        "import seaborn as sns\n",
        "\n",
        "import warnings\n",
        "warnings.filterwarnings(action = 'ignore')\n"
      ],
      "execution_count": null,
      "outputs": []
    },
    {
      "cell_type": "code",
      "metadata": {
        "id": "J6yltvk0HZUV"
      },
      "source": [
        "import jpype\n",
        "print(jpype.isJVMStarted()) #return False:not running or 0:running"
      ],
      "execution_count": null,
      "outputs": []
    },
    {
      "cell_type": "code",
      "metadata": {
        "id": "iUF-bpL1HefQ"
      },
      "source": [
        "!pip install customized_konlpy"
      ],
      "execution_count": null,
      "outputs": []
    },
    {
      "cell_type": "code",
      "metadata": {
        "id": "hkG49c0fHgnw"
      },
      "source": [
        "from konlpy.tag import Twitter \n",
        "from ckonlpy.tag import Twitter"
      ],
      "execution_count": null,
      "outputs": []
    },
    {
      "cell_type": "code",
      "metadata": {
        "id": "i128LCeQrzjS"
      },
      "source": [
        "from google.colab import drive\n",
        "drive.mount('/content/drive')"
      ],
      "execution_count": null,
      "outputs": []
    },
    {
      "cell_type": "markdown",
      "metadata": {
        "id": "3N1u46vtHv7v"
      },
      "source": [
        "# 글꼴"
      ]
    },
    {
      "cell_type": "code",
      "metadata": {
        "id": "neOBjVw3Hi2Q"
      },
      "source": [
        "%matplotlib inline  \n",
        "import matplotlib as mpl  # 기본 설정 만지는 용도\n",
        "import matplotlib.pyplot as plt  # 그래프 그리는 용도\n",
        "import matplotlib.font_manager as fm  # 폰트 관련 용도"
      ],
      "execution_count": null,
      "outputs": []
    },
    {
      "cell_type": "code",
      "metadata": {
        "id": "anZwy2hvH2Pi"
      },
      "source": [
        "#나눔고딕인스톨\n",
        "!apt-get update -qq\n",
        "!apt-get install fonts-nanum* -qq"
      ],
      "execution_count": null,
      "outputs": []
    },
    {
      "cell_type": "code",
      "metadata": {
        "id": "3ZFAkMmAH3yW"
      },
      "source": [
        "# 체크해보면 폰트 개수가 늘어났다\n",
        "sys_font=fm.findSystemFonts()\n",
        "print(f\"sys_font number: {len(sys_font)}\")\n",
        "\n",
        "nanum_font = [f for f in sys_font if 'Nanum' in f]\n",
        "print(f\"nanum_font number: {len(nanum_font)}\")"
      ],
      "execution_count": null,
      "outputs": []
    },
    {
      "cell_type": "code",
      "metadata": {
        "id": "H-lWQOCYH_PT"
      },
      "source": [
        "# 한번 프린트 해보자\n",
        "nanum_font"
      ],
      "execution_count": null,
      "outputs": []
    },
    {
      "cell_type": "code",
      "metadata": {
        "id": "-FewIEOAIBZA"
      },
      "source": [
        "# 현재 설정되어 있는 폰트 사이즈와 글꼴을 알아보자\n",
        "!python --version\n",
        "def current_font():\n",
        "  print(f\"설정 폰트 글꼴: {plt.rcParams['font.family']}, 설정 폰트 사이즈: {plt.rcParams['font.size']}\")  # 파이썬 3.6 이상 사용가능하다\n",
        "        \n",
        "current_font()"
      ],
      "execution_count": null,
      "outputs": []
    },
    {
      "cell_type": "code",
      "metadata": {
        "id": "WI1q-OXMIFMP"
      },
      "source": [
        "path = '/usr/share/fonts/truetype/nanum/NanumGothic.ttf'  # 설치된 나눔글꼴중 원하는 녀석의 전체 경로를 가져오자\n",
        "font_name = fm.FontProperties(fname=path, size=10).get_name()\n",
        "print(font_name)\n",
        "plt.rc('font', family=font_name)"
      ],
      "execution_count": null,
      "outputs": []
    },
    {
      "cell_type": "code",
      "metadata": {
        "id": "ToUAUhhfIGxz"
      },
      "source": [
        "data = np.random.randint(-200, 100, 50).cumsum()\n",
        "data"
      ],
      "execution_count": null,
      "outputs": []
    },
    {
      "cell_type": "code",
      "metadata": {
        "id": "H0Yui0xZIK7i"
      },
      "source": [
        "# 그래프를 그려보자. 하지만 한글은 깨진다\n",
        "plt.plot(range(50), data, 'r')\n",
        "plt.title('시간별 가격 추이')\n",
        "plt.ylabel('주식 가격')\n",
        "plt.xlabel('시간(분)')\n",
        "plt.style.use('seaborn-pastel')\n",
        "plt.show()"
      ],
      "execution_count": null,
      "outputs": []
    },
    {
      "cell_type": "code",
      "metadata": {
        "id": "BSwqewRuIMT9"
      },
      "source": [
        "fm._rebuild()"
      ],
      "execution_count": null,
      "outputs": []
    },
    {
      "cell_type": "markdown",
      "metadata": {
        "id": "T1seVs5YPqey"
      },
      "source": [
        "# 전처리"
      ]
    },
    {
      "cell_type": "code",
      "metadata": {
        "id": "gQx5bOP7INzJ"
      },
      "source": [
        "df = pd.read_excel('data2_5.xlsx')\n",
        "df.head()"
      ],
      "execution_count": null,
      "outputs": []
    },
    {
      "cell_type": "code",
      "metadata": {
        "id": "2OE--z2tnSes"
      },
      "source": [
        "df = df[(df['CARE_OPEN_CLASS_NM']==10) & (df['연령']!=10)]\n",
        "df"
      ],
      "execution_count": null,
      "outputs": []
    },
    {
      "cell_type": "code",
      "metadata": {
        "id": "DkP7zprxo1b2"
      },
      "source": [
        "a = df['JAEBUM_1']\n",
        "pro = pd.value_counts(a)\n",
        "\n",
        "pro = pd.DataFrame(pro)\n",
        "pro"
      ],
      "execution_count": null,
      "outputs": []
    },
    {
      "cell_type": "code",
      "metadata": {
        "id": "QQPfsjvpA__M"
      },
      "source": [
        "a = df['JAEBUM']\n",
        "pro = pd.value_counts(a)\n",
        "\n",
        "pro = pd.DataFrame(pro)\n",
        "pro"
      ],
      "execution_count": null,
      "outputs": []
    },
    {
      "cell_type": "code",
      "metadata": {
        "id": "algz7oZOolSa"
      },
      "source": [
        "a0 = df[df['JAEBUM_1']==0]\n",
        "len(a0)"
      ],
      "execution_count": null,
      "outputs": []
    },
    {
      "cell_type": "code",
      "metadata": {
        "id": "QV09MCGfwNCy"
      },
      "source": [
        "a1 =df[(df['JAEBUM']>=1) & (df['JAEBUM']<2)]\n",
        "len(a1)"
      ],
      "execution_count": null,
      "outputs": []
    },
    {
      "cell_type": "code",
      "metadata": {
        "id": "v9_UbdgBBC0M"
      },
      "source": [
        "a2 = df[df['JAEBUM']>=2]\n",
        "len(a2)"
      ],
      "execution_count": null,
      "outputs": []
    },
    {
      "cell_type": "code",
      "metadata": {
        "id": "y1kVYsbBP2Xe"
      },
      "source": [
        "df0 = df[df['JAEBUM_1']==0]\n",
        "df1 = df[(df['JAEBUM']>=1) & (df['JAEBUM']<2)]\n",
        "df2 = df[df['JAEBUM']>=2]"
      ],
      "execution_count": null,
      "outputs": []
    },
    {
      "cell_type": "code",
      "metadata": {
        "id": "OWzUSWn_SoLQ"
      },
      "source": [
        "df0"
      ],
      "execution_count": null,
      "outputs": []
    },
    {
      "cell_type": "code",
      "metadata": {
        "id": "2lrFcARRTohU"
      },
      "source": [
        "df1"
      ],
      "execution_count": null,
      "outputs": []
    },
    {
      "cell_type": "code",
      "metadata": {
        "id": "pRxuWEQ7eSVR"
      },
      "source": [
        "df2"
      ],
      "execution_count": null,
      "outputs": []
    },
    {
      "cell_type": "code",
      "metadata": {
        "id": "PSMmDkDfUeHe"
      },
      "source": [
        "twitter = Twitter() \n",
        "twitter.add_dictionary(['당직자','허그집단프로그램', '숙식보호', '직업훈련', '적극적', '보호관찰', '프로그램 종료', '지원이유', '지금', '특별한사항', '이행사항', '용접기술교육원', '취업알선', '특수용접기능사', '유의사항', '취업박람회', '허그일자리프로그램', '건강관리', '긴급원호', '상기 인', '야간반', '여성기술교육원', '용접배관', '주거지원자', '가족관계', '허그일자리지원프로그램', '고용보험', '상기자', '영농기술교육원', '안전사고', '안정적', '준수사항', '보호종료', '취업지원 프로그램', '구직활동', '대형면허', '건축도장기능사', '건강문제', '친구들', '거주지', '집단상담', '시설관리직', '필기합격', '긍정적', '주거지원', '출결관리', '가족부양', '참여자', '허그 일자리 프로그램', '전기기술교육원', '이행상황', '자기관리', '기술교육원', '기초수급자', '정산금', '특이사항', '애로사항', '용접기능사', '사후관리', '보호관찰법', '기계가공기술교육원', '지원기회', '보호사업', '보호관찰소', '생활 준칙', '위문물품', '법무보호가족교육원', '실기합격', '주거지', '지출관리', '외출 요청', '예치금', '생활관 준칙', '합동결혼식', '용접기능훈련', '미납금', '상기 대상자', '사회성향상 프로그램', '규칙적', '가족희망센터', '몸관리', '상기인', '보호관찰소장', '안전관리', '경제적', '입주자', '취업성공패키지', '보호위원', '허그일자리 프로그램', '허그일자리사업', '집단프로그램', '기초수급', '장기간', '허그 일자리 집단프로그램', '보호종료자', '자동차정비기술교육원', '허그일자리', '식구들', '변동사항', '생활관준칙', '용접훈련', '자립이행상황통보서'], 'Noun')"
      ],
      "execution_count": null,
      "outputs": []
    },
    {
      "cell_type": "code",
      "metadata": {
        "id": "9pN8vMbzvw4W"
      },
      "source": [
        "from ckonlpy.tag import Postprocessor\n",
        "\n",
        "\n",
        "stopwords= ['도록', '만원','개월','금일', '기간','겨울','년도', '날짜','금월','까지', '날씨', '어제', '이번','지금','최근', '추후','하루', '한번', '항상','현재','시일','오늘','조기','그동안','다음주',\n",
        "        '평소','차후','지난','요즘','아침','오전','오후','예전','한해','전일','여름','시기', '가끔','사이','최종','명일',\n",
        "        #지역 위치나타내는 단어\n",
        "        '경기도','김해','서울','울산','천안',\n",
        "        #필요없어보이는 단어\n",
        "          '격려', '결과', '경우', '계속', '계획', '공단', '과정', '관련', '관리','근황','기관','보호', '본인','다른', '다소', '다시', '다음', '담당', '담당자', '당부',\n",
        "        '대상자', '독려',  '마련','멘토링','문자', '문제', '발생', '방문', '보고','상기인', '상담', '상태', '상황', '생활', '생활관', '소하', '숙식', '스스로', '시간', '실시',\n",
        "        '아직', '여건', '연락', '예정', '외박', '외출', '요청','유의','이야기', '이행','이후', '입소', '자신', '작성','전화','정리', '정적', '제공', '제출', '조치', '종료', '주거', \n",
        "        '주거지', '주거지원', '준비','지도','지원', '지지', '직원', '진행', '참여', '처리','통보','퇴소','확인', '활동','변경','가능','일부','심사','결정','전환','강조', '패키지',\n",
        "        '보호종료','개시','동일','파악','재차','사용','주기','연결','마무리', '사실','기재','얼마','의사','사료','변동','참여자','기타','단계','완료', '귀하','혼자','당장','가장',\n",
        "         '해당','해지','인계','각종', '번호','취지','참고','보도','약간','대신','진단','물음','회의','양해','완전','유선','부분','만료',\n",
        "        #걸러야하는 단어\n",
        "        '가지','고자', '고함','구들', '금은','기반', '기하','동안', '되어', '드림', '때문', '또한', '려고', '로부터','다해' ,'대하', '대한', '대해', '더욱', '도로', '도록'\n",
        "        '만원', '만큼' , '면서', '모습', '문하', '바로',  '보이', '보임','부분계획', '부터', '부하', '사항', '상기', '않아', '양곡','어서','위해', '유의면서','이행상',\n",
        "        '인의', '인하','있는', '있다고', '있도록', '있어', '있으며', '있음', '자로','전하', '전함','정도','중이', '중임', '지부', '지소', '통해','특이', '하겠다고', '하고',\n",
        "        '하고자', '하기', '하는', '하도록','하며', '하면서', '하여', '하였으며', '하였음', '하자', '하지','해주','통한','다가','처럼','하라','주지','무하','더라도','요하',\n",
        "        '여부','중인','달라', '물어','어가','상의','고하','라하','대로','어보','지고','이하','한지','각하','영하','알리','여러','바란','아무','이제','서도','당하','여서',\n",
        "        '립하','보기','로서','도래','지원이','남지','가기','지원기','조리','간다','만하','주어','시킴', '리지','아지','고용보', '족하','어도','성하','교하','일이','기해','시운전',\n",
        "        '일해','해하','달이','결하','조성하','제하','장일','도중','소가','심해','일어','일도','을시',\n",
        "        \n",
        "        '자립','성실','노력','열심','희망']\n",
        "\n",
        "\n",
        "replace = {'거주지': '주거지', \"행동\":\"태도\", \"통화\":\"전화\", \"연락\":\"통화\", \"애로\":\"특이\",\"주의\":\"유의\", \"상황\":\"상태\",\"열심\":\"성실\", \"불편\":\"어려움\", \"관리\":\"조치\", '근로':'근무', '근속':'근무', '주의':'유의', '지지':'독려', '격려':'독려', '열심':'노력', '애로':'필요', '어려움':'문제', '하라':'독려', '유선':'연락', '전화':'연락', '의지':'노력', '지부':'공단', '지금':'현재', '회사':'일자리', '오늘':'현재'}\n",
        "postprocessor = Postprocessor(twitter, replace = replace, passtags = 'Noun', stopwords = stopwords)"
      ],
      "execution_count": null,
      "outputs": []
    },
    {
      "cell_type": "code",
      "metadata": {
        "id": "_ugTXa8dvFqG"
      },
      "source": [
        "\n",
        "def twtt(dfname):  \n",
        "  lists = np.array(dfname['CONSULT_CONT'].tolist())\n",
        "\n",
        "  dfname = np.array(dfname['CONSULT_CONT'].tolist())\n",
        "\n",
        "  morphs = [] \n",
        "  for sentence in lists: \n",
        "    morphs.append(postprocessor.pos(sentence)) \n",
        "\n",
        "  noun=[] \n",
        "\n",
        "  for sentence in morphs : \n",
        "    for word, tag in sentence : \n",
        "      if tag in ['Noun'] and (\"것\" not in word) and (\"내\" not in word)and (\"나\" not in word) and (\"수\" not in word) and (\"게\"not in word) and (\"말\"not in word): \n",
        "          if len(word) > 1:\n",
        "            noun.append(word)\n",
        "  count = Counter(noun)\n",
        "  words = dict(count.most_common(150))\n",
        "  return words\n"
      ],
      "execution_count": null,
      "outputs": []
    },
    {
      "cell_type": "markdown",
      "metadata": {
        "id": "wC27am3UUuVu"
      },
      "source": [
        "#df0"
      ]
    },
    {
      "cell_type": "code",
      "metadata": {
        "id": "1p7yICiswUpw"
      },
      "source": [
        "words0=twtt(df0)"
      ],
      "execution_count": null,
      "outputs": []
    },
    {
      "cell_type": "code",
      "metadata": {
        "id": "Wq6psUDlwUlH"
      },
      "source": [
        "# removewords = []\n",
        "\n",
        "\n",
        "# for i in removewords:\n",
        "#   if i in words0:\n",
        "#     del words0[i]\n",
        "#   else:\n",
        "#     pass"
      ],
      "execution_count": null,
      "outputs": []
    },
    {
      "cell_type": "code",
      "metadata": {
        "id": "Wp3LYopgUwBZ"
      },
      "source": [
        "\n",
        "np.array(words0)"
      ],
      "execution_count": null,
      "outputs": []
    },
    {
      "cell_type": "code",
      "metadata": {
        "id": "N6_zuaR1aHJ6"
      },
      "source": [
        "wordcloud = WordCloud(font_path = '/usr/share/fonts/truetype/nanum/NanumGothic.ttf' ,background_color='white',width=1500, height=1000).generate_from_frequencies(words0) \n",
        "plt.imshow(wordcloud) \n",
        "plt.axis('off')\n",
        "plt.show()\n",
        "wordcloud.to_file('숙식_초범_wordcloud.png')"
      ],
      "execution_count": null,
      "outputs": []
    },
    {
      "cell_type": "code",
      "metadata": {
        "id": "2F33T4cUaIcp"
      },
      "source": [
        "word_list = sorted(words0.items(), key=lambda x: x[1], reverse=True)\n"
      ],
      "execution_count": null,
      "outputs": []
    },
    {
      "cell_type": "code",
      "metadata": {
        "id": "_uLiaCuraJg_"
      },
      "source": [
        "plt.rc('font',size=15)\n",
        "fontprop = fm.FontProperties(fname= '/usr/share/fonts/truetype/nanum/NanumBarunGothic.ttf', size=20)\n",
        "fig = plt.figure(figsize=(15,10))\n",
        "fig.patch.set_facecolor('white')\n",
        "max = 20\n",
        "sns_plot=sns.barplot([i[1] for i in word_list[:max]],\n",
        "            [i[0] for i in word_list[:max]])\n",
        "sns_plot.set_title(\"Frequency Top 20\")\n",
        "sns_plot.set_ylabel(\"단어\")\n",
        "sns_plot.set_xlabel(\"빈도\")\n",
        "fig = sns_plot.get_figure()\n",
        "fig.savefig('숙식_초범_빈도.png')"
      ],
      "execution_count": null,
      "outputs": []
    },
    {
      "cell_type": "markdown",
      "metadata": {
        "id": "qpW8FCT3aOxc"
      },
      "source": [
        "# df1"
      ]
    },
    {
      "cell_type": "code",
      "metadata": {
        "id": "9L9jyvo8aVtN"
      },
      "source": [
        "words1=twtt(df1)"
      ],
      "execution_count": null,
      "outputs": []
    },
    {
      "cell_type": "code",
      "metadata": {
        "id": "VecQj_qMaVte"
      },
      "source": [
        "words1"
      ],
      "execution_count": null,
      "outputs": []
    },
    {
      "cell_type": "code",
      "metadata": {
        "id": "4J4dEj9YaVtn"
      },
      "source": [
        "# removewords= []\n",
        "# for i in removewords:\n",
        "#   if i in words1:\n",
        "#     del words1[i]\n",
        "#   else:\n",
        "#     pass"
      ],
      "execution_count": null,
      "outputs": []
    },
    {
      "cell_type": "code",
      "metadata": {
        "id": "S9iYKUiraVtw"
      },
      "source": [
        "wordcloud = WordCloud(font_path = '/usr/share/fonts/truetype/nanum/NanumGothic.ttf' ,background_color='white',width=1500, height=1000).generate_from_frequencies(words1) \n",
        "plt.imshow(wordcloud) \n",
        "plt.axis('off') \n",
        "plt.show()\n",
        "wordcloud.to_file('숙식_재범1번_wordcloud.png')"
      ],
      "execution_count": null,
      "outputs": []
    },
    {
      "cell_type": "code",
      "metadata": {
        "id": "n9zXSRpyaVt2"
      },
      "source": [
        "word_list = sorted(words1.items(), key=lambda x: x[1], reverse=True)\n"
      ],
      "execution_count": null,
      "outputs": []
    },
    {
      "cell_type": "code",
      "metadata": {
        "id": "n88XWFVLaVt7"
      },
      "source": [
        "plt.rc('font',size=15)\n",
        "fontprop = fm.FontProperties(fname= '/usr/share/fonts/truetype/nanum/NanumBarunGothic.ttf', size=20)\n",
        "fig = plt.figure(figsize=(15,10))\n",
        "fig.patch.set_facecolor('white')\n",
        "max = 20\n",
        "sns_plot=sns.barplot([i[1] for i in word_list[:max]],\n",
        "            [i[0] for i in word_list[:max]])\n",
        "sns_plot.set_title(\"Frequency Top 20\")\n",
        "sns_plot.set_ylabel(\"단어\")\n",
        "sns_plot.set_xlabel(\"빈도\")\n",
        "fig = sns_plot.get_figure()\n",
        "fig.savefig('숙식_재범1번_빈도.png')"
      ],
      "execution_count": null,
      "outputs": []
    },
    {
      "cell_type": "markdown",
      "metadata": {
        "id": "rFhOyXX2b8TG"
      },
      "source": [
        "#df2"
      ]
    },
    {
      "cell_type": "code",
      "metadata": {
        "id": "3VH-WKKyewci"
      },
      "source": [
        "words2=twtt(df2)"
      ],
      "execution_count": null,
      "outputs": []
    },
    {
      "cell_type": "code",
      "metadata": {
        "id": "FaLsNSd6ewcu"
      },
      "source": [
        "words2"
      ],
      "execution_count": null,
      "outputs": []
    },
    {
      "cell_type": "code",
      "metadata": {
        "id": "LupUuHKLewc6"
      },
      "source": [
        "# removewords = ['제출','통보','만원','유의''면서', '생활', '예정', '있다고', '있음', '개월', '정리', '지금', '문하', '시간', '사항', '확인', '더욱', '하였음', '또한', '있으며', '관련', '하루', '하도록', '자로', '통해', '다해', '있도록', '본인', '상태', '하고', '바로', '하기', '가지', '모습', '보임', '관리', '안전사고', '참여', '있어', '보고', '이행', '실시', '하고자', '다시', '부하', '하겠다고', '계획', '부터', '드림', '상기인', '고자', '입소', '하여', '대상자', '다음', '보이', '대한', '대해', '있는', '퇴소', '상황', '기간', '상기', '격려', '전함', '위해', '활동', '외출', '보호', '하면서', '때문', '경우', '다른', '중임', '되어', '기관', '지원', '상담', '종료', '않아', '당부', '까지', '하는', '이행상', '현재', '진행', '외박', '이번', '금일', '하며', '조치', '만큼', '계속', '지부', '소하', '담당자', '하였으며', '중이', '직원', '지도', '한번', '어제', '만원', '다소', '생활관', '도록', '최근', '작성', '제공', '처리', '정도', '하자', '하지']\n",
        "# for i in removewords:\n",
        "#   if i in words2:\n",
        "#     del words2[i]\n",
        "#   else:\n",
        "#     pass"
      ],
      "execution_count": null,
      "outputs": []
    },
    {
      "cell_type": "code",
      "metadata": {
        "id": "Qxh8wBT3ewdD"
      },
      "source": [
        "wordcloud = WordCloud(font_path = '/usr/share/fonts/truetype/nanum/NanumGothic.ttf' ,background_color='white',width=1500, height=1000).generate_from_frequencies(words2) \n",
        "plt.imshow(wordcloud) \n",
        "plt.axis('off') \n",
        "plt.show()\n",
        "wordcloud.to_file('숙식_재범2번이상_wordcloud.png')"
      ],
      "execution_count": null,
      "outputs": []
    },
    {
      "cell_type": "code",
      "metadata": {
        "id": "ntDm-oc5ewdM"
      },
      "source": [
        "word_list = sorted(words2.items(), key=lambda x: x[1], reverse=True)\n"
      ],
      "execution_count": null,
      "outputs": []
    },
    {
      "cell_type": "code",
      "metadata": {
        "id": "tM6qfijkewdU"
      },
      "source": [
        "plt.rc('font',size=15)\n",
        "fontprop = fm.FontProperties(fname= '/usr/share/fonts/truetype/nanum/NanumBarunGothic.ttf', size=20)\n",
        "fig = plt.figure(figsize=(15,10))\n",
        "fig.patch.set_facecolor('white')\n",
        "max = 20\n",
        "sns_plot=sns.barplot([i[1] for i in word_list[:max]],\n",
        "            [i[0] for i in word_list[:max]])\n",
        "sns_plot.set_title(\"Frequency Top 20\")\n",
        "sns_plot.set_ylabel(\"단어\")\n",
        "sns_plot.set_xlabel(\"빈도\")\n",
        "fig = sns_plot.get_figure()\n",
        "fig.savefig('숙식_재범2번이상_빈도.png')"
      ],
      "execution_count": null,
      "outputs": []
    },
    {
      "cell_type": "markdown",
      "metadata": {
        "id": "8Z-PkuV9NWOa"
      },
      "source": [
        "#히트맵"
      ]
    },
    {
      "cell_type": "code",
      "metadata": {
        "id": "Vdn7NMaF0UZN"
      },
      "source": [
        "words0=twtt(df0)\n",
        "words1=twtt(df1)\n",
        "words2=twtt(df2)\n"
      ],
      "execution_count": null,
      "outputs": []
    },
    {
      "cell_type": "code",
      "metadata": {
        "id": "wrd7K6IrkLEL"
      },
      "source": [
        "words_AA=words0\n",
        "words_BB=words1\n",
        "words_CC=words2"
      ],
      "execution_count": null,
      "outputs": []
    },
    {
      "cell_type": "code",
      "metadata": {
        "id": "C1NZYuAekPWw"
      },
      "source": [
        "#removewords = ['건강관리','유의','가족','교육','건강','신청','연장','복귀','태도','전달','사무실','지속','문제','생각','규칙','개인','사회','일자리','허그일자리','시험','최선','적응','마음','안정적','현장','노력','사람','관계','초범','취득','운전','필요','병원','장기','애로사항','특이사항','조금','신경','저녁','청소','출근','어려움','용접','업체','특별','직장','설명','권유','적극적','약속','성공','아보','동료','철저']\n",
        "\n",
        "removewords = ['건강','교육','일자리','건강관리','병원','지속','문제','연장','신청','취득','생각','사회','개인','유의','최선','복귀','현장','사무실','적응','운전','구직활동','필요','출근','전달','시험','마음','특이사항','애로사항','노력','장기','업체','어려움','안정적','신경','가족','직장','사람','용접','조금','성공','규칙','아보','지인','권유','관계']"
      ],
      "execution_count": null,
      "outputs": []
    },
    {
      "cell_type": "code",
      "metadata": {
        "id": "M-D9SSOHjzD7"
      },
      "source": [
        "for i in removewords:\n",
        "  if i in words_AA:\n",
        "    del words_AA[i]\n",
        "  else:\n",
        "    pass\n",
        "for i in removewords:\n",
        "  if i in words_BB:\n",
        "    del words_BB[i]\n",
        "  else:\n",
        "    pass\n",
        "for i in removewords:\n",
        "  if i in words_CC:\n",
        "    del words_CC[i]\n",
        "  else:\n",
        "    pass  \n"
      ],
      "execution_count": null,
      "outputs": []
    },
    {
      "cell_type": "code",
      "metadata": {
        "id": "HD6WOnOWNYT6"
      },
      "source": [
        "\n",
        "df = pd.DataFrame([words_AA, words_BB, words_CC]).T\n",
        "df.columns = ['초범', '재범1번', '재범2번이상']\n",
        "\n",
        "df = df.apply(lambda x : x / np.sum(x))\n",
        "df = df.apply(lambda x : (x-np.min(x)) / (np.max(x)-np.min(x))) #Heatmap에 상대적인 빈도수 출력하고싶을때\n",
        "\n",
        "plt.rc('font',size=16)\n",
        "figure = plt.figure(figsize=(6,5))\n",
        "ax = plt.axes()\n",
        "heat=sns.heatmap(df.sort_values(df.columns[0], ascending=False).iloc[:10], annot=True, fmt = '.3f', linewidths=0.3, cmap = 'Blues', ax = ax)\n",
        "plt.show()\n",
        "figure.savefig('숙식 데이터.png', format='png',dpi=1200)"
      ],
      "execution_count": null,
      "outputs": []
    }
  ]
}