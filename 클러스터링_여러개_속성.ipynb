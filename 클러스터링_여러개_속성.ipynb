{
  "nbformat": 4,
  "nbformat_minor": 0,
  "metadata": {
    "colab": {
      "name": "클러스터링_여러개 속성.ipynb",
      "provenance": [],
      "collapsed_sections": [
        "2uJJxKmW-Duq",
        "e3DzWUfS-Hj5",
        "WlKpFarGAJnj",
        "TrmtjEHIAPFe",
        "yJvCNEF7AT1Y",
        "QVJUJZwXAXxM",
        "34uyotfgDj8D",
        "CSZYb5reDuDi",
        "d15oY_xlD43E",
        "sKVKs-1sEEn3",
        "MKWq4_1NErBO"
      ],
      "authorship_tag": "ABX9TyPoH8MvkE1vctKz1ewyuZBU",
      "include_colab_link": true
    },
    "kernelspec": {
      "name": "python3",
      "display_name": "Python 3"
    },
    "accelerator": "GPU"
  },
  "cells": [
    {
      "cell_type": "markdown",
      "metadata": {
        "id": "view-in-github",
        "colab_type": "text"
      },
      "source": [
        "<a href=\"https://colab.research.google.com/github/jiieunx/datacampus/blob/master/%ED%81%B4%EB%9F%AC%EC%8A%A4%ED%84%B0%EB%A7%81_%EC%97%AC%EB%9F%AC%EA%B0%9C_%EC%86%8D%EC%84%B1.ipynb\" target=\"_parent\"><img src=\"https://colab.research.google.com/assets/colab-badge.svg\" alt=\"Open In Colab\"/></a>"
      ]
    },
    {
      "cell_type": "markdown",
      "metadata": {
        "id": "2uJJxKmW-Duq",
        "colab_type": "text"
      },
      "source": [
        "#데이터준비"
      ]
    },
    {
      "cell_type": "code",
      "metadata": {
        "id": "x0eqwJdM93GY",
        "colab_type": "code",
        "colab": {
          "base_uri": "https://localhost:8080/",
          "height": 72
        },
        "outputId": "08c09599-6d26-4726-c4f4-17ef2398922d"
      },
      "source": [
        "from tqdm.auto import tqdm\n",
        "import pandas as pd\n",
        "import numpy as np\n",
        "import json\n",
        "\n",
        "pd.set_option('display.max_columns', None)  # or 1000\n",
        "pd.set_option('display.max_rows', 100)  # or 1000\n",
        "pd.set_option('display.max_colwidth', -1)  # or 199"
      ],
      "execution_count": null,
      "outputs": [
        {
          "output_type": "stream",
          "text": [
            "/usr/local/lib/python3.6/dist-packages/ipykernel_launcher.py:8: FutureWarning: Passing a negative integer is deprecated in version 1.0 and will not be supported in future version. Instead, use None to not limit the column width.\n",
            "  \n"
          ],
          "name": "stderr"
        }
      ]
    },
    {
      "cell_type": "markdown",
      "metadata": {
        "id": "e3DzWUfS-Hj5",
        "colab_type": "text"
      },
      "source": [
        "#트위터유저데이터, PRETRAINED W2V"
      ]
    },
    {
      "cell_type": "code",
      "metadata": {
        "id": "1L1UWb1O-Cvq",
        "colab_type": "code",
        "colab": {
          "base_uri": "https://localhost:8080/",
          "height": 872
        },
        "outputId": "b595654b-9b1e-4739-e80f-588b9ba1697f"
      },
      "source": [
        "!curl gdrive.sh | bash -s 13fQZtkz4SSzVNcqh73SBqnUDw2mSDgzL\n",
        "!curl gdrive.sh | bash -s 1W8u9ZuEhKCkTbaGLzUF4YcF2F_hYeE1B\n",
        "!curl gdrive.sh | bash -s 1GffvAF3tBtSpjsblIdP1Tcv25XEyBewm\n",
        "!curl gdrive.sh | bash -s 103jom7lxjiqQptIRjrIdSjXR8jRqrlEd"
      ],
      "execution_count": null,
      "outputs": [
        {
          "output_type": "stream",
          "text": [
            "  % Total    % Received % Xferd  Average Speed   Time    Time     Time  Current\n",
            "                                 Dload  Upload   Total   Spent    Left  Speed\n",
            "\r  0     0    0     0    0     0      0      0 --:--:-- --:--:-- --:--:--     0\r  0     0    0     0    0     0      0      0 --:--:-- --:--:-- --:--:--     0\r100  2874  100  2874    0     0  18784      0 --:--:-- --:--:-- --:--:-- 18662\n",
            "  % Total    % Received % Xferd  Average Speed   Time    Time     Time  Current\n",
            "                                 Dload  Upload   Total   Spent    Left  Speed\n",
            "100   388    0   388    0     0    535      0 --:--:-- --:--:-- --:--:--   536\n",
            "  0     0    0     0    0     0      0      0 --:--:-- --:--:-- --:--:--     0Warning: Refusing to overwrite twitter_users.tsv: File exists\n",
            "100  1377    0  1377    0     0   1412      0 --:--:-- --:--:-- --:--:-- 36236\n",
            "curl: (23) Failed writing body (0 != 1377)\n",
            "  % Total    % Received % Xferd  Average Speed   Time    Time     Time  Current\n",
            "                                 Dload  Upload   Total   Spent    Left  Speed\n",
            "100  2874  100  2874    0     0  20239      0 --:--:-- --:--:-- --:--:-- 20239\n",
            "  % Total    % Received % Xferd  Average Speed   Time    Time     Time  Current\n",
            "                                 Dload  Upload   Total   Spent    Left  Speed\n",
            "100  3266    0  3266    0     0  22839      0 --:--:-- --:--:-- --:--:-- 22839\n",
            "  % Total    % Received % Xferd  Average Speed   Time    Time     Time  Current\n",
            "                                 Dload  Upload   Total   Spent    Left  Speed\n",
            "100   408    0   408    0     0   3212      0 --:--:-- --:--:-- --:--:--  3212\n",
            "  0     0    0     0    0     0      0      0 --:--:-- --:--:-- --:--:--     0\n",
            "  0     0    0     0    0     0      0      0 --:--:-- --:--:-- --:--:--     0\n",
            "Warning: Refusing to overwrite embedding.save.wv.vectors.npy: File exists\n",
            "100  1377    0  1377    0     0   3053      0 --:--:-- --:--:-- --:--:--  3053\n",
            "curl: (23) Failed writing body (0 != 1377)\n",
            "  % Total    % Received % Xferd  Average Speed   Time    Time     Time  Current\n",
            "                                 Dload  Upload   Total   Spent    Left  Speed\n",
            "100  2874  100  2874    0     0  10684      0 --:--:-- --:--:-- --:--:-- 10644\n",
            "  % Total    % Received % Xferd  Average Speed   Time    Time     Time  Current\n",
            "                                 Dload  Upload   Total   Spent    Left  Speed\n",
            "100  3274    0  3274    0     0  24073      0 --:--:-- --:--:-- --:--:-- 24073\n",
            "  % Total    % Received % Xferd  Average Speed   Time    Time     Time  Current\n",
            "                                 Dload  Upload   Total   Spent    Left  Speed\n",
            "100   408    0   408    0     0   3578      0 --:--:-- --:--:-- --:--:--  3578\n",
            "  0     0    0     0    0     0      0      0 --:--:-- --:--:-- --:--:--     0\n",
            "  0     0    0     0    0     0      0      0 --:--:-- --:--:-- --:--:--     0\n",
            "Warning: Refusing to overwrite embedding.save.trainables.syn1neg.npy: File \n",
            "Warning: exists\n",
            "100  1377    0  1377    0     0   3019      0 --:--:-- --:--:-- --:--:--  3019\n",
            "curl: (23) Failed writing body (0 != 1377)\n",
            "  % Total    % Received % Xferd  Average Speed   Time    Time     Time  Current\n",
            "                                 Dload  Upload   Total   Spent    Left  Speed\n",
            "100  2874  100  2874    0     0  10644      0 --:--:-- --:--:-- --:--:-- 10605\n",
            "  % Total    % Received % Xferd  Average Speed   Time    Time     Time  Current\n",
            "                                 Dload  Upload   Total   Spent    Left  Speed\n",
            "100   388    0   388    0     0    721      0 --:--:-- --:--:-- --:--:--   721\n",
            "  0     0    0     0    0     0      0      0 --:--:-- --:--:-- --:--:--     0Warning: Refusing to overwrite embedding.save: File exists\n",
            "100  1377    0  1377    0     0   1765      0 --:--:-- --:--:-- --:--:-- 49178\n",
            "curl: (23) Failed writing body (0 != 1377)\n"
          ],
          "name": "stdout"
        }
      ]
    },
    {
      "cell_type": "markdown",
      "metadata": {
        "id": "WlKpFarGAJnj",
        "colab_type": "text"
      },
      "source": [
        "#data load"
      ]
    },
    {
      "cell_type": "code",
      "metadata": {
        "id": "KrHTQLSo-Qlj",
        "colab_type": "code",
        "colab": {
          "base_uri": "https://localhost:8080/",
          "height": 907
        },
        "outputId": "656b9207-bbc0-40d2-d705-ca0e7d07ab46"
      },
      "source": [
        "df = pd.read_excel('data2_5.xlsx')\n",
        "df.head(3)"
      ],
      "execution_count": null,
      "outputs": [
        {
          "output_type": "execute_result",
          "data": {
            "text/html": [
              "<div>\n",
              "<style scoped>\n",
              "    .dataframe tbody tr th:only-of-type {\n",
              "        vertical-align: middle;\n",
              "    }\n",
              "\n",
              "    .dataframe tbody tr th {\n",
              "        vertical-align: top;\n",
              "    }\n",
              "\n",
              "    .dataframe thead th {\n",
              "        text-align: right;\n",
              "    }\n",
              "</style>\n",
              "<table border=\"1\" class=\"dataframe\">\n",
              "  <thead>\n",
              "    <tr style=\"text-align: right;\">\n",
              "      <th></th>\n",
              "      <th>DSJ_CARD_NO</th>\n",
              "      <th>DSJ_JUMIN_NO</th>\n",
              "      <th>CONSULT_DATE</th>\n",
              "      <th>CARE_OPEN_CLASS_NM</th>\n",
              "      <th>CONSULT_CONT</th>\n",
              "      <th>JAEBUM</th>\n",
              "      <th>JAEBUM_1</th>\n",
              "      <th>출생년도</th>\n",
              "      <th>연령</th>\n",
              "      <th>학력</th>\n",
              "      <th>죄명</th>\n",
              "      <th>CARE_OPEN_CLASS_NM_1</th>\n",
              "    </tr>\n",
              "  </thead>\n",
              "  <tbody>\n",
              "    <tr>\n",
              "      <th>0</th>\n",
              "      <td>100020070001</td>\n",
              "      <td>M0vQhLryshtSgdzJk9KWew==</td>\n",
              "      <td>20140325</td>\n",
              "      <td>50</td>\n",
              "      <td>상기자는 주소지에 거주하면서 가정환경에 잘 적응하고 있어 보호상 문제는 없어 보임. 승일기업 도장공으로 계속 근무하면서 자립대책 마련을 위해 성실히 저축하고 있는 등 건전한 사회복귀를 위해 성실히 노력중에 있음.</td>\n",
              "      <td>0</td>\n",
              "      <td>0</td>\n",
              "      <td>1959</td>\n",
              "      <td>50</td>\n",
              "      <td>1</td>\n",
              "      <td>20</td>\n",
              "      <td>50</td>\n",
              "    </tr>\n",
              "    <tr>\n",
              "      <th>1</th>\n",
              "      <td>100020070001</td>\n",
              "      <td>M0vQhLryshtSgdzJk9KWew==</td>\n",
              "      <td>20130109</td>\n",
              "      <td>20</td>\n",
              "      <td>계사년 새해를 맞아 저축을 통한 자립에 힘써 줄 것과 준법심을 고취하여 건전한 사회복귀, 동절기 건강관리 유의하여 취업활동에 지장을 초래하지 않도록 하며, 직장 동료들과 원만한 대인관계 유지 등 취업전반에 대해 지도 함.\\r\\n</td>\n",
              "      <td>0</td>\n",
              "      <td>0</td>\n",
              "      <td>1959</td>\n",
              "      <td>50</td>\n",
              "      <td>1</td>\n",
              "      <td>20</td>\n",
              "      <td>110</td>\n",
              "    </tr>\n",
              "    <tr>\n",
              "      <th>2</th>\n",
              "      <td>100020070001</td>\n",
              "      <td>M0vQhLryshtSgdzJk9KWew==</td>\n",
              "      <td>20140227</td>\n",
              "      <td>50</td>\n",
              "      <td>상기자는 승일기업 도장공으로 근무하면서 자립을 위해 성실히 저축에 임하고 있어 보호상 문제는 없어 보이며, 근무 중 안전사고를 사전에 예방하기 위해 안전수칙을 잘 준수해 줄 것과 동료간 원만한 대인관계를 유지해 줄 것을 지도 함.</td>\n",
              "      <td>0</td>\n",
              "      <td>0</td>\n",
              "      <td>1959</td>\n",
              "      <td>50</td>\n",
              "      <td>1</td>\n",
              "      <td>20</td>\n",
              "      <td>50</td>\n",
              "    </tr>\n",
              "  </tbody>\n",
              "</table>\n",
              "</div>"
            ],
            "text/plain": [
              "    DSJ_CARD_NO              DSJ_JUMIN_NO  CONSULT_DATE  CARE_OPEN_CLASS_NM  \\\n",
              "0  100020070001  M0vQhLryshtSgdzJk9KWew==  20140325      50                   \n",
              "1  100020070001  M0vQhLryshtSgdzJk9KWew==  20130109      20                   \n",
              "2  100020070001  M0vQhLryshtSgdzJk9KWew==  20140227      50                   \n",
              "\n",
              "                                                                                                                       CONSULT_CONT  \\\n",
              "0  상기자는 주소지에 거주하면서 가정환경에 잘 적응하고 있어 보호상 문제는 없어 보임. 승일기업 도장공으로 계속 근무하면서 자립대책 마련을 위해 성실히 저축하고 있는 등 건전한 사회복귀를 위해 성실히 노력중에 있음.             \n",
              "1  계사년 새해를 맞아 저축을 통한 자립에 힘써 줄 것과 준법심을 고취하여 건전한 사회복귀, 동절기 건강관리 유의하여 취업활동에 지장을 초래하지 않도록 하며, 직장 동료들과 원만한 대인관계 유지 등 취업전반에 대해 지도 함.\\r\\n    \n",
              "2  상기자는 승일기업 도장공으로 근무하면서 자립을 위해 성실히 저축에 임하고 있어 보호상 문제는 없어 보이며, 근무 중 안전사고를 사전에 예방하기 위해 안전수칙을 잘 준수해 줄 것과 동료간 원만한 대인관계를 유지해 줄 것을 지도 함.   \n",
              "\n",
              "   JAEBUM  JAEBUM_1  출생년도  연령  학력  죄명  CARE_OPEN_CLASS_NM_1  \n",
              "0  0       0         1959  50  1   20  50                    \n",
              "1  0       0         1959  50  1   20  110                   \n",
              "2  0       0         1959  50  1   20  50                    "
            ]
          },
          "metadata": {
            "tags": []
          },
          "execution_count": 5
        }
      ]
    },
    {
      "cell_type": "code",
      "metadata": {
        "id": "eQhKLchS-trv",
        "colab_type": "code",
        "colab": {
          "base_uri": "https://localhost:8080/",
          "height": 591
        },
        "outputId": "7a76e2ad-40c9-4af4-f66c-c5a355416c4f"
      },
      "source": [
        "df = df[df['CARE_OPEN_CLASS_NM']==10]\n",
        "df.head(3)"
      ],
      "execution_count": null,
      "outputs": [
        {
          "output_type": "execute_result",
          "data": {
            "text/html": [
              "<div>\n",
              "<style scoped>\n",
              "    .dataframe tbody tr th:only-of-type {\n",
              "        vertical-align: middle;\n",
              "    }\n",
              "\n",
              "    .dataframe tbody tr th {\n",
              "        vertical-align: top;\n",
              "    }\n",
              "\n",
              "    .dataframe thead th {\n",
              "        text-align: right;\n",
              "    }\n",
              "</style>\n",
              "<table border=\"1\" class=\"dataframe\">\n",
              "  <thead>\n",
              "    <tr style=\"text-align: right;\">\n",
              "      <th></th>\n",
              "      <th>DSJ_CARD_NO</th>\n",
              "      <th>DSJ_JUMIN_NO</th>\n",
              "      <th>CONSULT_DATE</th>\n",
              "      <th>CARE_OPEN_CLASS_NM</th>\n",
              "      <th>CONSULT_CONT</th>\n",
              "      <th>JAEBUM</th>\n",
              "      <th>JAEBUM_1</th>\n",
              "      <th>출생년도</th>\n",
              "      <th>연령</th>\n",
              "      <th>학력</th>\n",
              "      <th>죄명</th>\n",
              "      <th>CARE_OPEN_CLASS_NM_1</th>\n",
              "    </tr>\n",
              "  </thead>\n",
              "  <tbody>\n",
              "    <tr>\n",
              "      <th>460</th>\n",
              "      <td>100020100078</td>\n",
              "      <td>x4IdPpcY90s/iD0RH7wykQ==</td>\n",
              "      <td>20160927</td>\n",
              "      <td>10</td>\n",
              "      <td>대상자가 기술교육원  야간반 과정에 참여하고자 함에 따라 수료시까지 성실히 교육에 임해줄 것과 출결관리에 신경써 줄 것을 지도함</td>\n",
              "      <td>0</td>\n",
              "      <td>1</td>\n",
              "      <td>1982</td>\n",
              "      <td>30</td>\n",
              "      <td>1</td>\n",
              "      <td>40</td>\n",
              "      <td>10</td>\n",
              "    </tr>\n",
              "    <tr>\n",
              "      <th>1103</th>\n",
              "      <td>100020110062</td>\n",
              "      <td>pWNplgZrM5H8IFl7FspEnw==</td>\n",
              "      <td>20130419</td>\n",
              "      <td>10</td>\n",
              "      <td>귀소여부에 대해 물어보았으며 금주는 귀소하여 쉬다가 출근할 계획이라고 하여 안전사고에 각별히 주의 할 것을 당부함</td>\n",
              "      <td>0</td>\n",
              "      <td>1</td>\n",
              "      <td>1986</td>\n",
              "      <td>20</td>\n",
              "      <td>1</td>\n",
              "      <td>20</td>\n",
              "      <td>10</td>\n",
              "    </tr>\n",
              "    <tr>\n",
              "      <th>1105</th>\n",
              "      <td>100020110062</td>\n",
              "      <td>pWNplgZrM5H8IFl7FspEnw==</td>\n",
              "      <td>20130620</td>\n",
              "      <td>10</td>\n",
              "      <td>최근 상황에 대해 청취하고 귀소여부에 대해 물어보았으며 향후 기간만료가 다가오고 있으니 생활할 곳을 알아보고 다닐것을 당부함</td>\n",
              "      <td>0</td>\n",
              "      <td>1</td>\n",
              "      <td>1986</td>\n",
              "      <td>20</td>\n",
              "      <td>1</td>\n",
              "      <td>20</td>\n",
              "      <td>10</td>\n",
              "    </tr>\n",
              "  </tbody>\n",
              "</table>\n",
              "</div>"
            ],
            "text/plain": [
              "       DSJ_CARD_NO              DSJ_JUMIN_NO  CONSULT_DATE  \\\n",
              "460   100020100078  x4IdPpcY90s/iD0RH7wykQ==  20160927       \n",
              "1103  100020110062  pWNplgZrM5H8IFl7FspEnw==  20130419       \n",
              "1105  100020110062  pWNplgZrM5H8IFl7FspEnw==  20130620       \n",
              "\n",
              "      CARE_OPEN_CLASS_NM  \\\n",
              "460   10                   \n",
              "1103  10                   \n",
              "1105  10                   \n",
              "\n",
              "                                                                 CONSULT_CONT  \\\n",
              "460   대상자가 기술교육원  야간반 과정에 참여하고자 함에 따라 수료시까지 성실히 교육에 임해줄 것과 출결관리에 신경써 줄 것을 지도함   \n",
              "1103  귀소여부에 대해 물어보았으며 금주는 귀소하여 쉬다가 출근할 계획이라고 하여 안전사고에 각별히 주의 할 것을 당부함           \n",
              "1105  최근 상황에 대해 청취하고 귀소여부에 대해 물어보았으며 향후 기간만료가 다가오고 있으니 생활할 곳을 알아보고 다닐것을 당부함     \n",
              "\n",
              "      JAEBUM  JAEBUM_1  출생년도  연령  학력  죄명  CARE_OPEN_CLASS_NM_1  \n",
              "460   0       1         1982  30  1   40  10                    \n",
              "1103  0       1         1986  20  1   20  10                    \n",
              "1105  0       1         1986  20  1   20  10                    "
            ]
          },
          "metadata": {
            "tags": []
          },
          "execution_count": 6
        }
      ]
    },
    {
      "cell_type": "code",
      "metadata": {
        "id": "X9-YgEZZ_kF8",
        "colab_type": "code",
        "colab": {
          "base_uri": "https://localhost:8080/",
          "height": 34
        },
        "outputId": "0a8f18ea-73c4-42d3-bdf2-ab6ed5cd5a5a"
      },
      "source": [
        "len(df)"
      ],
      "execution_count": null,
      "outputs": [
        {
          "output_type": "execute_result",
          "data": {
            "text/plain": [
              "93390"
            ]
          },
          "metadata": {
            "tags": []
          },
          "execution_count": 7
        }
      ]
    },
    {
      "cell_type": "code",
      "metadata": {
        "id": "Qacwm-___3zE",
        "colab_type": "code",
        "colab": {}
      },
      "source": [
        "from gensim.models import Word2Vec"
      ],
      "execution_count": null,
      "outputs": []
    },
    {
      "cell_type": "code",
      "metadata": {
        "id": "_PFXHrZC_4b0",
        "colab_type": "code",
        "colab": {
          "base_uri": "https://localhost:8080/",
          "height": 72
        },
        "outputId": "6070e0d5-0b28-4f02-9f70-134d8a975e39"
      },
      "source": [
        "\n",
        "# w2v모델 불러오기 \n",
        "model = Word2Vec.load('embedding.save')"
      ],
      "execution_count": null,
      "outputs": [
        {
          "output_type": "stream",
          "text": [
            "/usr/local/lib/python3.6/dist-packages/smart_open/smart_open_lib.py:254: UserWarning: This function is deprecated, use smart_open.open instead. See the migration notes for details: https://github.com/RaRe-Technologies/smart_open/blob/master/README.rst#migrating-to-the-new-open-function\n",
            "  'See the migration notes for details: %s' % _MIGRATION_NOTES_URL\n"
          ],
          "name": "stderr"
        }
      ]
    },
    {
      "cell_type": "markdown",
      "metadata": {
        "id": "TrmtjEHIAPFe",
        "colab_type": "text"
      },
      "source": [
        "#KoNLPy 설치 "
      ]
    },
    {
      "cell_type": "code",
      "metadata": {
        "id": "kcWvSuH6_5lF",
        "colab_type": "code",
        "colab": {}
      },
      "source": [
        "!pip install -q konlpy"
      ],
      "execution_count": null,
      "outputs": []
    },
    {
      "cell_type": "markdown",
      "metadata": {
        "id": "yJvCNEF7AT1Y",
        "colab_type": "text"
      },
      "source": [
        "#Mecab 설치"
      ]
    },
    {
      "cell_type": "code",
      "metadata": {
        "id": "fJebHb6zAGO1",
        "colab_type": "code",
        "colab": {
          "base_uri": "https://localhost:8080/",
          "height": 87
        },
        "outputId": "2b4ab8f1-8897-401c-f065-b4a9c87ce0b6"
      },
      "source": [
        "!bash <(curl -s https://raw.githubusercontent.com/konlpy/konlpy/master/scripts/mecab.sh)"
      ],
      "execution_count": null,
      "outputs": [
        {
          "output_type": "stream",
          "text": [
            "mecab-ko is already installed\n",
            "mecab-ko-dic is already installed\n",
            "mecab-python is already installed\n",
            "Done.\n"
          ],
          "name": "stdout"
        }
      ]
    },
    {
      "cell_type": "markdown",
      "metadata": {
        "id": "QVJUJZwXAXxM",
        "colab_type": "text"
      },
      "source": [
        "# Mecab으로 상담 내용에서 명사만 추출 "
      ]
    },
    {
      "cell_type": "code",
      "metadata": {
        "id": "n53aaGhvATX3",
        "colab_type": "code",
        "colab": {}
      },
      "source": [
        "from konlpy.tag import Mecab"
      ],
      "execution_count": null,
      "outputs": []
    },
    {
      "cell_type": "code",
      "metadata": {
        "id": "TeLDqxF6AbH2",
        "colab_type": "code",
        "colab": {}
      },
      "source": [
        "mecab = Mecab()"
      ],
      "execution_count": null,
      "outputs": []
    },
    {
      "cell_type": "code",
      "metadata": {
        "id": "XHuaoRUTAb8I",
        "colab_type": "code",
        "colab": {
          "base_uri": "https://localhost:8080/",
          "height": 318
        },
        "outputId": "37d06f95-d043-4253-ef8f-c3e083f08ff3"
      },
      "source": [
        "mecab.morphs('안녕하세요 반가워요'), mecab.morphs('나는 대한민국을 너무 좋아하고 사랑하는 국민이다.\t')"
      ],
      "execution_count": null,
      "outputs": [
        {
          "output_type": "execute_result",
          "data": {
            "text/plain": [
              "(['안녕', '하', '세요', '반가워요'],\n",
              " ['나',\n",
              "  '는',\n",
              "  '대한민국',\n",
              "  '을',\n",
              "  '너무',\n",
              "  '좋',\n",
              "  '아',\n",
              "  '하',\n",
              "  '고',\n",
              "  '사랑',\n",
              "  '하',\n",
              "  '는',\n",
              "  '국민',\n",
              "  '이',\n",
              "  '다',\n",
              "  '.'])"
            ]
          },
          "metadata": {
            "tags": []
          },
          "execution_count": 14
        }
      ]
    },
    {
      "cell_type": "code",
      "metadata": {
        "id": "2DqHtzNcAfBI",
        "colab_type": "code",
        "colab": {}
      },
      "source": [
        "#명사, 두글자이상 추출\n",
        "def get_tokens(x):\n",
        "    try:\n",
        "        return [i for i in mecab.nouns(x) if len(i) > 1] if x else []\n",
        "    except Exception as e:\n",
        "        if str(x) == 'nan':\n",
        "            return []\n",
        "        print(e)\n",
        "        print(str(x))\n",
        "        raise e"
      ],
      "execution_count": null,
      "outputs": []
    },
    {
      "cell_type": "code",
      "metadata": {
        "id": "nE6pIs1DAs08",
        "colab_type": "code",
        "colab": {}
      },
      "source": [
        "df['user_mecab'] = df['CONSULT_CONT'].map(get_tokens)\n",
        "df['user_mecab_len'] = df['user_mecab'].map(len)"
      ],
      "execution_count": null,
      "outputs": []
    },
    {
      "cell_type": "code",
      "metadata": {
        "id": "JmxxSzsDAxhu",
        "colab_type": "code",
        "colab": {
          "base_uri": "https://localhost:8080/",
          "height": 591
        },
        "outputId": "f9822f69-4ebf-49ab-b773-3334167f87d7"
      },
      "source": [
        "df.head(3)"
      ],
      "execution_count": null,
      "outputs": [
        {
          "output_type": "execute_result",
          "data": {
            "text/html": [
              "<div>\n",
              "<style scoped>\n",
              "    .dataframe tbody tr th:only-of-type {\n",
              "        vertical-align: middle;\n",
              "    }\n",
              "\n",
              "    .dataframe tbody tr th {\n",
              "        vertical-align: top;\n",
              "    }\n",
              "\n",
              "    .dataframe thead th {\n",
              "        text-align: right;\n",
              "    }\n",
              "</style>\n",
              "<table border=\"1\" class=\"dataframe\">\n",
              "  <thead>\n",
              "    <tr style=\"text-align: right;\">\n",
              "      <th></th>\n",
              "      <th>DSJ_CARD_NO</th>\n",
              "      <th>DSJ_JUMIN_NO</th>\n",
              "      <th>CONSULT_DATE</th>\n",
              "      <th>CARE_OPEN_CLASS_NM</th>\n",
              "      <th>CONSULT_CONT</th>\n",
              "      <th>JAEBUM</th>\n",
              "      <th>JAEBUM_1</th>\n",
              "      <th>출생년도</th>\n",
              "      <th>연령</th>\n",
              "      <th>학력</th>\n",
              "      <th>죄명</th>\n",
              "      <th>CARE_OPEN_CLASS_NM_1</th>\n",
              "      <th>user_mecab</th>\n",
              "      <th>user_mecab_len</th>\n",
              "    </tr>\n",
              "  </thead>\n",
              "  <tbody>\n",
              "    <tr>\n",
              "      <th>460</th>\n",
              "      <td>100020100078</td>\n",
              "      <td>x4IdPpcY90s/iD0RH7wykQ==</td>\n",
              "      <td>20160927</td>\n",
              "      <td>10</td>\n",
              "      <td>대상자가 기술교육원  야간반 과정에 참여하고자 함에 따라 수료시까지 성실히 교육에 임해줄 것과 출결관리에 신경써 줄 것을 지도함</td>\n",
              "      <td>0</td>\n",
              "      <td>1</td>\n",
              "      <td>1982</td>\n",
              "      <td>30</td>\n",
              "      <td>1</td>\n",
              "      <td>40</td>\n",
              "      <td>10</td>\n",
              "      <td>[대상자, 기술, 교육, 야간, 과정, 참여, 수료, 교육, 출결, 관리, 신경, 지도]</td>\n",
              "      <td>12</td>\n",
              "    </tr>\n",
              "    <tr>\n",
              "      <th>1103</th>\n",
              "      <td>100020110062</td>\n",
              "      <td>pWNplgZrM5H8IFl7FspEnw==</td>\n",
              "      <td>20130419</td>\n",
              "      <td>10</td>\n",
              "      <td>귀소여부에 대해 물어보았으며 금주는 귀소하여 쉬다가 출근할 계획이라고 하여 안전사고에 각별히 주의 할 것을 당부함</td>\n",
              "      <td>0</td>\n",
              "      <td>1</td>\n",
              "      <td>1986</td>\n",
              "      <td>20</td>\n",
              "      <td>1</td>\n",
              "      <td>20</td>\n",
              "      <td>10</td>\n",
              "      <td>[귀소, 여부, 금주, 귀소, 출근, 계획, 안전, 사고, 주의, 당부]</td>\n",
              "      <td>10</td>\n",
              "    </tr>\n",
              "    <tr>\n",
              "      <th>1105</th>\n",
              "      <td>100020110062</td>\n",
              "      <td>pWNplgZrM5H8IFl7FspEnw==</td>\n",
              "      <td>20130620</td>\n",
              "      <td>10</td>\n",
              "      <td>최근 상황에 대해 청취하고 귀소여부에 대해 물어보았으며 향후 기간만료가 다가오고 있으니 생활할 곳을 알아보고 다닐것을 당부함</td>\n",
              "      <td>0</td>\n",
              "      <td>1</td>\n",
              "      <td>1986</td>\n",
              "      <td>20</td>\n",
              "      <td>1</td>\n",
              "      <td>20</td>\n",
              "      <td>10</td>\n",
              "      <td>[최근, 상황, 청취, 귀소, 여부, 향후, 기간, 만료, 생활, 당부]</td>\n",
              "      <td>10</td>\n",
              "    </tr>\n",
              "  </tbody>\n",
              "</table>\n",
              "</div>"
            ],
            "text/plain": [
              "       DSJ_CARD_NO              DSJ_JUMIN_NO  CONSULT_DATE  \\\n",
              "460   100020100078  x4IdPpcY90s/iD0RH7wykQ==  20160927       \n",
              "1103  100020110062  pWNplgZrM5H8IFl7FspEnw==  20130419       \n",
              "1105  100020110062  pWNplgZrM5H8IFl7FspEnw==  20130620       \n",
              "\n",
              "      CARE_OPEN_CLASS_NM  \\\n",
              "460   10                   \n",
              "1103  10                   \n",
              "1105  10                   \n",
              "\n",
              "                                                                 CONSULT_CONT  \\\n",
              "460   대상자가 기술교육원  야간반 과정에 참여하고자 함에 따라 수료시까지 성실히 교육에 임해줄 것과 출결관리에 신경써 줄 것을 지도함   \n",
              "1103  귀소여부에 대해 물어보았으며 금주는 귀소하여 쉬다가 출근할 계획이라고 하여 안전사고에 각별히 주의 할 것을 당부함           \n",
              "1105  최근 상황에 대해 청취하고 귀소여부에 대해 물어보았으며 향후 기간만료가 다가오고 있으니 생활할 곳을 알아보고 다닐것을 당부함     \n",
              "\n",
              "      JAEBUM  JAEBUM_1  출생년도  연령  학력  죄명  CARE_OPEN_CLASS_NM_1  \\\n",
              "460   0       1         1982  30  1   40  10                     \n",
              "1103  0       1         1986  20  1   20  10                     \n",
              "1105  0       1         1986  20  1   20  10                     \n",
              "\n",
              "                                             user_mecab  user_mecab_len  \n",
              "460   [대상자, 기술, 교육, 야간, 과정, 참여, 수료, 교육, 출결, 관리, 신경, 지도]  12              \n",
              "1103  [귀소, 여부, 금주, 귀소, 출근, 계획, 안전, 사고, 주의, 당부]           10              \n",
              "1105  [최근, 상황, 청취, 귀소, 여부, 향후, 기간, 만료, 생활, 당부]           10              "
            ]
          },
          "metadata": {
            "tags": []
          },
          "execution_count": 17
        }
      ]
    },
    {
      "cell_type": "markdown",
      "metadata": {
        "id": "34uyotfgDj8D",
        "colab_type": "text"
      },
      "source": [
        "# 명사수 5개 이상인 유저만 추출 "
      ]
    },
    {
      "cell_type": "code",
      "metadata": {
        "id": "Dc5D-pBrA0lM",
        "colab_type": "code",
        "colab": {
          "base_uri": "https://localhost:8080/",
          "height": 282
        },
        "outputId": "17285fee-c2cd-4eee-cf83-eb490665b4af"
      },
      "source": [
        "#명사 5개이상 추출 \n",
        "df['user_mecab_len'].hist()"
      ],
      "execution_count": null,
      "outputs": [
        {
          "output_type": "execute_result",
          "data": {
            "text/plain": [
              "<matplotlib.axes._subplots.AxesSubplot at 0x7fdfe659f278>"
            ]
          },
          "metadata": {
            "tags": []
          },
          "execution_count": 18
        },
        {
          "output_type": "display_data",
          "data": {
            "image/png": "[encoded data removed]",
            "text/plain": [
              "<Figure size 432x288 with 1 Axes>"
            ]
          },
          "metadata": {
            "tags": [],
            "needs_background": "light"
          }
        }
      ]
    },
    {
      "cell_type": "code",
      "metadata": {
        "id": "3nAZdA5xDnGE",
        "colab_type": "code",
        "colab": {}
      },
      "source": [
        "bio_exists_df = df[df['user_mecab_len'] >= 25]"
      ],
      "execution_count": null,
      "outputs": []
    },
    {
      "cell_type": "code",
      "metadata": {
        "id": "vbvdbEiNDo9f",
        "colab_type": "code",
        "colab": {
          "base_uri": "https://localhost:8080/",
          "height": 34
        },
        "outputId": "01a4266d-775c-4e68-f0a8-ada3a1d21edd"
      },
      "source": [
        "len(bio_exists_df)"
      ],
      "execution_count": null,
      "outputs": [
        {
          "output_type": "execute_result",
          "data": {
            "text/plain": [
              "21191"
            ]
          },
          "metadata": {
            "tags": []
          },
          "execution_count": 20
        }
      ]
    },
    {
      "cell_type": "code",
      "metadata": {
        "id": "oCSKYmYEDqOy",
        "colab_type": "code",
        "colab": {
          "base_uri": "https://localhost:8080/",
          "height": 1000
        },
        "outputId": "ad0bd6aa-20b9-4341-8786-761ea948fadd"
      },
      "source": [
        "bio_exists_df.sample(3)"
      ],
      "execution_count": null,
      "outputs": [
        {
          "output_type": "execute_result",
          "data": {
            "text/html": [
              "<div>\n",
              "<style scoped>\n",
              "    .dataframe tbody tr th:only-of-type {\n",
              "        vertical-align: middle;\n",
              "    }\n",
              "\n",
              "    .dataframe tbody tr th {\n",
              "        vertical-align: top;\n",
              "    }\n",
              "\n",
              "    .dataframe thead th {\n",
              "        text-align: right;\n",
              "    }\n",
              "</style>\n",
              "<table border=\"1\" class=\"dataframe\">\n",
              "  <thead>\n",
              "    <tr style=\"text-align: right;\">\n",
              "      <th></th>\n",
              "      <th>DSJ_CARD_NO</th>\n",
              "      <th>DSJ_JUMIN_NO</th>\n",
              "      <th>CONSULT_DATE</th>\n",
              "      <th>CARE_OPEN_CLASS_NM</th>\n",
              "      <th>CONSULT_CONT</th>\n",
              "      <th>JAEBUM</th>\n",
              "      <th>JAEBUM_1</th>\n",
              "      <th>출생년도</th>\n",
              "      <th>연령</th>\n",
              "      <th>학력</th>\n",
              "      <th>죄명</th>\n",
              "      <th>CARE_OPEN_CLASS_NM_1</th>\n",
              "      <th>user_mecab</th>\n",
              "      <th>user_mecab_len</th>\n",
              "    </tr>\n",
              "  </thead>\n",
              "  <tbody>\n",
              "    <tr>\n",
              "      <th>112719</th>\n",
              "      <td>122020190176</td>\n",
              "      <td>9BtMRDmSWeIbAuSPcDauGA==</td>\n",
              "      <td>20191215</td>\n",
              "      <td>10</td>\n",
              "      <td>2019.12.15 18:50경 생활관 내에서 금일 입소한 차유정이 계속 쳐다 본다는 이유로 대상자가 \"겁나 꼬라보네\" 하고 201호로 들어가자 차유정이 \"니 방금한말  나 한테 한거냐\"고 하며 시비가 되어 서로 머리채를 잡고 발길질을 하는 등 몸싸움을 하여 싸움을 발견한 당직 근무자가 싸움을 제지하며 그만 둘 것을 지시하였으나 지시에 따르지 않고 머리채를 잡고 계속 싸웠으며 먼저 대상자가 머리채를 놓았으나 차유정이 계속 머리채를 잡고 발길질하여 당직근무자가 두 대상자의 가운데서 완력으로 엉겨붙은 두 사람을 떼어 놓아 싸움이 그쳤으며 대상자과 분리하여 먼저 차유정과 조혜원를 사무실로 동행, 싸움에 대한 자술서를 징구하고 사건 경위를 청취한 후 생활관에 두 사람을 대기시키고 대상자와 목격자인 정채연,박민서도 사무실로 동행 자술서 징구 및 사건 경위를 청취 후 정채연과 박민선은 생활관으로 올려 보내고 대상자와 싸움의 자세한 경위 등을 면담을 하고 있는 도중 생활관에 올라 갔던 정채연으로 부터 신입 대상자 두 명이 보이지 않는다는 보고를 받고 생활관으로 올라가 확인한 바, 신입 대상자의 소지품이 없어 생활관 주변 등을 찾아보았으나 보이지 않아 신입 대상자들이 무단외출 했음을 확인하였음.</td>\n",
              "      <td>0</td>\n",
              "      <td>1</td>\n",
              "      <td>2002</td>\n",
              "      <td>10</td>\n",
              "      <td>1</td>\n",
              "      <td>80</td>\n",
              "      <td>10</td>\n",
              "      <td>[생활관, 금일, 입소, 차유정, 이유, 대상자, 차유정, 시비, 머리채, 발길, 몸싸움, 싸움, 발견, 당직, 근무자, 싸움, 제지, 지시, 지시, 머리채, 대상자, 머리채, 차유정, 머리채, 발길, 당직, 근무자, 대상자, 가운데, 완력, 사람, 싸움, 대상, 자과, 분리, 차유정, 조혜원, 사무실, 동행, 싸움, 자술서, 징구, 사건, 경위, 청취, 생활관, 사람, 대기, 대상자, 목격자, 정채, 박민서, 사무실, 동행, 자술서, 징구, 사건, 경위, 청취, 정채, 연과, 박민선, 생활관, 대상자, 싸움, 경위, 면담, 도중, 생활관, 정채, 신입, 대상자, 보고, 생활관, 확인, 신입, 대상자, 소지품, 생활관, 주변, 신입, 대상자, 무단, 확인]</td>\n",
              "      <td>84</td>\n",
              "    </tr>\n",
              "    <tr>\n",
              "      <th>244159</th>\n",
              "      <td>80020180511</td>\n",
              "      <td>0Ki0GdoIj5300oEBJiTPlQ==</td>\n",
              "      <td>20190830</td>\n",
              "      <td>10</td>\n",
              "      <td>정재영 Ct와 금일 생활상담을 실시한 결과, Ct는 현재까지 전기기능사 자격증 취득을 위한 기술학원에 수강중이라고 하였으며, 틈틈이 보험설계영업일을 하면서 생활비를 마련하고 있다고 하였음. Ct가 학원수강으로 인해 평소 귀소시간이 늦은관계로 생활관리 철저를 당부하고 금일 상담을 종결하였음.</td>\n",
              "      <td>0</td>\n",
              "      <td>1</td>\n",
              "      <td>1982</td>\n",
              "      <td>30</td>\n",
              "      <td>1</td>\n",
              "      <td>40</td>\n",
              "      <td>10</td>\n",
              "      <td>[정재영, 금일, 생활, 상담, 실시, 결과, 현재, 전기, 기능사, 자격증, 취득, 기술, 학원, 수강, 보험, 설계, 영업, 생활비, 마련, 학원, 수강, 평소, 귀소, 시간, 관계, 생활, 관리, 철저, 당부, 금일, 상담, 종결]</td>\n",
              "      <td>32</td>\n",
              "    </tr>\n",
              "    <tr>\n",
              "      <th>112459</th>\n",
              "      <td>122020190112</td>\n",
              "      <td>Is2XAsjNtuenoAUva0zxQA==</td>\n",
              "      <td>20190924</td>\n",
              "      <td>10</td>\n",
              "      <td>- 9/23 23시 취침이후 야간점검 중 0시20분경 김하늬가 본인 방에 없고, 이하은 방문에서 불빛이 세어나오며 걸어잠근 사실을 확인함.\\r\\n- 문을 열라고 종용하였으나 방안에서 이하은과 김하늬가 분주하게 움직이며 물건을 치우고 수습하는 소리를 들음. 재차 방문을 열라고 지시하였으나 한참후에 문을 열음. 두 사람 모두 진한 화장을 한 차림으로 바닥에는 화장품과 해어도구들이 정신없이 흩어져 있음.\\r\\n- 야간취침시간대 창문을 제외하고, 모든 방문을 걸어잠그지 말도록 이하은에게 여러번 주의를 주었음에도 또 방문을 걸어잠근 사실과 취침시간대 이후 취침하지 않고 있는 부분, 방문을 열도록 여러번 지시하였으나 지도에 한참동안 불응한 부분에 대해 훈계하고, 익일 이후 반성문을 작성하도록 지도함.\\r\\n- 01시40분경 야간시간 점검중 이하은과 김하늬 모두 취침중임을 확인함.\\r\\n- 03시경 외부에서 딸깔하는 소리를 확인 후 방을 점검한 결과 둘다 자리에 없음을 확인하고, 화장실과 흡연실 옥상 점검결과 외부로 무단이탈하였음을 확인함.\\r\\n- 05시, 06시경 몰래 들어왔는지 점검하였으나 아직 귀소하지 않음.\\r\\n- 07시20분경 대문앞 택시에서 내리는 이하은과 김하늬를 발견, 김하늬가 대문 사이로 손을 집어넣어 문을 열고 몰래 들어오는 모습을 포착하고 둘다 사무실로 들어와 경위를 조사함.\\r\\n- 둘다 5시30분경 편의점을 다녀왔을 뿐이라며 거짓말을 함. 김하늬를 사무실로 따로 불러 사실을 종용한 결과 02시 경 이하은과 몰래 이탈하여 택시를 타고 이하은 목포친구를 만나 노래방을 가서 소주와 맥주 등 3병을 나눠마시고 놀다 들어왔다고 진술함.\\r\\n- 둘다에게 사실대로 경위서를 작성해서 제출토록 하였는데 김하늬만 사실대로 쓰고 이하은은 계속해서 배가고파 새벽 5시반경 나가 편의점을 다녀왔을 뿐이라며 거짓말을 함.\\r\\n- 김하늬를 생활관으로 올려보내고 사실대로 쓸때까지 경위서를 다시 쓰도록 지도하니 욕설과 안하무인 행동을 일삼으며 자신의 핸드폰을 당장 내놓으라고 바로 가출하겠다며 직원을 위협함. 사무실까지 난입하여 사무실밖으로 나가 거실에서 대기하라는 직원의 말을 무시하며 계속해서 욕설과 함께 소리를 지르며 폭주함.\\r\\n- 폭주하며 소리를 지르고 거친 행동을 일삼는 이하은을 겨우 진정시키고 상담을 진행함. 직원이 새벽 2시 이후부터 점검한 시간대를 설명하고, 김하늬가 진실대로 이야기 한 부분을 짚어주며 자신이 거짓말을 하고 있음을 확인시켜주니 그때부터 갑자기 태도를 봐꾸며 잘못했다고 시인함. 거짓말이면서 계속해서 새벽5시반에 편의점을 갔다온거처럼 거짓말을 한것인지 물으니 답변하지 않음 .\\r\\n- 보호관찰 준수사항으로 야간외출이 제한되어 있으면서 무단으로 이탈한점, 음주한 점, 귀소후 반성치 않고 거짓말을 반복하며 직원에게 폭언과 위협을 가한 점에 대해 훈계하고 숙식담당직원에게 인계함.</td>\n",
              "      <td>0</td>\n",
              "      <td>0</td>\n",
              "      <td>2003</td>\n",
              "      <td>10</td>\n",
              "      <td>1</td>\n",
              "      <td>40</td>\n",
              "      <td>10</td>\n",
              "      <td>[취침, 이후, 야간, 점검, 분경, 김하늬, 본인, 이하은, 방문, 불빛, 사실, 확인, 종용, 이하은, 김하늬, 분주, 물건, 수습, 소리, 방문, 지시, 한참, 사람, 화장, 차림, 바닥, 화장품, 해어, 도구, 야간, 취침, 시간, 창문, 제외, 방문, 이하은, 주의, 방문, 사실, 취침, 시간, 이후, 취침, 부분, 방문, 지시, 지도, 한참, 동안, 불응, 부분, 훈계, 익일, 이후, 반성문, 작성, 지도, 분경, 야간, 시간, 점검, 이하은, 김하늬, 취침, 중임, 확인, 외부, 소리, 확인, 점검, 결과, 자리, 확인, 화장실, 흡연실, 옥상, 검결, 외부, 무단이탈, 확인, 점검, 귀소, 분경, 대문, 택시, 이하은, 김하늬, 발견, 김하늬, 대문, 사이, 모습, 포착, 사무실, 경위, 조사, 분경, 편의점, 거짓말, 김하늬, ...]</td>\n",
              "      <td>200</td>\n",
              "    </tr>\n",
              "  </tbody>\n",
              "</table>\n",
              "</div>"
            ],
            "text/plain": [
              "         DSJ_CARD_NO              DSJ_JUMIN_NO  CONSULT_DATE  \\\n",
              "112719  122020190176  9BtMRDmSWeIbAuSPcDauGA==  20191215       \n",
              "244159  80020180511   0Ki0GdoIj5300oEBJiTPlQ==  20190830       \n",
              "112459  122020190112  Is2XAsjNtuenoAUva0zxQA==  20190924       \n",
              "\n",
              "        CARE_OPEN_CLASS_NM  \\\n",
              "112719  10                   \n",
              "244159  10                   \n",
              "112459  10                   \n",
              "\n",
              "                                                                                                                                                                                                                                                                                                                                                                                                                                                                                                                                                                                                                                                                                                                                                                                                                                                                                                                                                                                                                                                                                                                                                                                                                                                                                                                                                                                                                                                                  CONSULT_CONT  \\\n",
              "112719  2019.12.15 18:50경 생활관 내에서 금일 입소한 차유정이 계속 쳐다 본다는 이유로 대상자가 \"겁나 꼬라보네\" 하고 201호로 들어가자 차유정이 \"니 방금한말  나 한테 한거냐\"고 하며 시비가 되어 서로 머리채를 잡고 발길질을 하는 등 몸싸움을 하여 싸움을 발견한 당직 근무자가 싸움을 제지하며 그만 둘 것을 지시하였으나 지시에 따르지 않고 머리채를 잡고 계속 싸웠으며 먼저 대상자가 머리채를 놓았으나 차유정이 계속 머리채를 잡고 발길질하여 당직근무자가 두 대상자의 가운데서 완력으로 엉겨붙은 두 사람을 떼어 놓아 싸움이 그쳤으며 대상자과 분리하여 먼저 차유정과 조혜원를 사무실로 동행, 싸움에 대한 자술서를 징구하고 사건 경위를 청취한 후 생활관에 두 사람을 대기시키고 대상자와 목격자인 정채연,박민서도 사무실로 동행 자술서 징구 및 사건 경위를 청취 후 정채연과 박민선은 생활관으로 올려 보내고 대상자와 싸움의 자세한 경위 등을 면담을 하고 있는 도중 생활관에 올라 갔던 정채연으로 부터 신입 대상자 두 명이 보이지 않는다는 보고를 받고 생활관으로 올라가 확인한 바, 신입 대상자의 소지품이 없어 생활관 주변 등을 찾아보았으나 보이지 않아 신입 대상자들이 무단외출 했음을 확인하였음.                                                                                                                                                                                                                                                                                                                                                                                                                                                                                                                                                                                                                                                                                                                                                                                                                                    \n",
              "244159  정재영 Ct와 금일 생활상담을 실시한 결과, Ct는 현재까지 전기기능사 자격증 취득을 위한 기술학원에 수강중이라고 하였으며, 틈틈이 보험설계영업일을 하면서 생활비를 마련하고 있다고 하였음. Ct가 학원수강으로 인해 평소 귀소시간이 늦은관계로 생활관리 철저를 당부하고 금일 상담을 종결하였음.                                                                                                                                                                                                                                                                                                                                                                                                                                                                                                                                                                                                                                                                                                                                                                                                                                                                                                                                                                                                                                                                                                                                                                                                                                                                                                       \n",
              "112459  - 9/23 23시 취침이후 야간점검 중 0시20분경 김하늬가 본인 방에 없고, 이하은 방문에서 불빛이 세어나오며 걸어잠근 사실을 확인함.\\r\\n- 문을 열라고 종용하였으나 방안에서 이하은과 김하늬가 분주하게 움직이며 물건을 치우고 수습하는 소리를 들음. 재차 방문을 열라고 지시하였으나 한참후에 문을 열음. 두 사람 모두 진한 화장을 한 차림으로 바닥에는 화장품과 해어도구들이 정신없이 흩어져 있음.\\r\\n- 야간취침시간대 창문을 제외하고, 모든 방문을 걸어잠그지 말도록 이하은에게 여러번 주의를 주었음에도 또 방문을 걸어잠근 사실과 취침시간대 이후 취침하지 않고 있는 부분, 방문을 열도록 여러번 지시하였으나 지도에 한참동안 불응한 부분에 대해 훈계하고, 익일 이후 반성문을 작성하도록 지도함.\\r\\n- 01시40분경 야간시간 점검중 이하은과 김하늬 모두 취침중임을 확인함.\\r\\n- 03시경 외부에서 딸깔하는 소리를 확인 후 방을 점검한 결과 둘다 자리에 없음을 확인하고, 화장실과 흡연실 옥상 점검결과 외부로 무단이탈하였음을 확인함.\\r\\n- 05시, 06시경 몰래 들어왔는지 점검하였으나 아직 귀소하지 않음.\\r\\n- 07시20분경 대문앞 택시에서 내리는 이하은과 김하늬를 발견, 김하늬가 대문 사이로 손을 집어넣어 문을 열고 몰래 들어오는 모습을 포착하고 둘다 사무실로 들어와 경위를 조사함.\\r\\n- 둘다 5시30분경 편의점을 다녀왔을 뿐이라며 거짓말을 함. 김하늬를 사무실로 따로 불러 사실을 종용한 결과 02시 경 이하은과 몰래 이탈하여 택시를 타고 이하은 목포친구를 만나 노래방을 가서 소주와 맥주 등 3병을 나눠마시고 놀다 들어왔다고 진술함.\\r\\n- 둘다에게 사실대로 경위서를 작성해서 제출토록 하였는데 김하늬만 사실대로 쓰고 이하은은 계속해서 배가고파 새벽 5시반경 나가 편의점을 다녀왔을 뿐이라며 거짓말을 함.\\r\\n- 김하늬를 생활관으로 올려보내고 사실대로 쓸때까지 경위서를 다시 쓰도록 지도하니 욕설과 안하무인 행동을 일삼으며 자신의 핸드폰을 당장 내놓으라고 바로 가출하겠다며 직원을 위협함. 사무실까지 난입하여 사무실밖으로 나가 거실에서 대기하라는 직원의 말을 무시하며 계속해서 욕설과 함께 소리를 지르며 폭주함.\\r\\n- 폭주하며 소리를 지르고 거친 행동을 일삼는 이하은을 겨우 진정시키고 상담을 진행함. 직원이 새벽 2시 이후부터 점검한 시간대를 설명하고, 김하늬가 진실대로 이야기 한 부분을 짚어주며 자신이 거짓말을 하고 있음을 확인시켜주니 그때부터 갑자기 태도를 봐꾸며 잘못했다고 시인함. 거짓말이면서 계속해서 새벽5시반에 편의점을 갔다온거처럼 거짓말을 한것인지 물으니 답변하지 않음 .\\r\\n- 보호관찰 준수사항으로 야간외출이 제한되어 있으면서 무단으로 이탈한점, 음주한 점, 귀소후 반성치 않고 거짓말을 반복하며 직원에게 폭언과 위협을 가한 점에 대해 훈계하고 숙식담당직원에게 인계함.   \n",
              "\n",
              "        JAEBUM  JAEBUM_1  출생년도  연령  학력  죄명  CARE_OPEN_CLASS_NM_1  \\\n",
              "112719  0       1         2002  10  1   80  10                     \n",
              "244159  0       1         1982  30  1   40  10                     \n",
              "112459  0       0         2003  10  1   40  10                     \n",
              "\n",
              "                                                                                                                                                                                                                                                                                                                                                                                                                                       user_mecab  \\\n",
              "112719  [생활관, 금일, 입소, 차유정, 이유, 대상자, 차유정, 시비, 머리채, 발길, 몸싸움, 싸움, 발견, 당직, 근무자, 싸움, 제지, 지시, 지시, 머리채, 대상자, 머리채, 차유정, 머리채, 발길, 당직, 근무자, 대상자, 가운데, 완력, 사람, 싸움, 대상, 자과, 분리, 차유정, 조혜원, 사무실, 동행, 싸움, 자술서, 징구, 사건, 경위, 청취, 생활관, 사람, 대기, 대상자, 목격자, 정채, 박민서, 사무실, 동행, 자술서, 징구, 사건, 경위, 청취, 정채, 연과, 박민선, 생활관, 대상자, 싸움, 경위, 면담, 도중, 생활관, 정채, 신입, 대상자, 보고, 생활관, 확인, 신입, 대상자, 소지품, 생활관, 주변, 신입, 대상자, 무단, 확인]                                                         \n",
              "244159  [정재영, 금일, 생활, 상담, 실시, 결과, 현재, 전기, 기능사, 자격증, 취득, 기술, 학원, 수강, 보험, 설계, 영업, 생활비, 마련, 학원, 수강, 평소, 귀소, 시간, 관계, 생활, 관리, 철저, 당부, 금일, 상담, 종결]                                                                                                                                                                                                                                                                                                        \n",
              "112459  [취침, 이후, 야간, 점검, 분경, 김하늬, 본인, 이하은, 방문, 불빛, 사실, 확인, 종용, 이하은, 김하늬, 분주, 물건, 수습, 소리, 방문, 지시, 한참, 사람, 화장, 차림, 바닥, 화장품, 해어, 도구, 야간, 취침, 시간, 창문, 제외, 방문, 이하은, 주의, 방문, 사실, 취침, 시간, 이후, 취침, 부분, 방문, 지시, 지도, 한참, 동안, 불응, 부분, 훈계, 익일, 이후, 반성문, 작성, 지도, 분경, 야간, 시간, 점검, 이하은, 김하늬, 취침, 중임, 확인, 외부, 소리, 확인, 점검, 결과, 자리, 확인, 화장실, 흡연실, 옥상, 검결, 외부, 무단이탈, 확인, 점검, 귀소, 분경, 대문, 택시, 이하은, 김하늬, 발견, 김하늬, 대문, 사이, 모습, 포착, 사무실, 경위, 조사, 분경, 편의점, 거짓말, 김하늬, ...]   \n",
              "\n",
              "        user_mecab_len  \n",
              "112719  84              \n",
              "244159  32              \n",
              "112459  200             "
            ]
          },
          "metadata": {
            "tags": []
          },
          "execution_count": 21
        }
      ]
    },
    {
      "cell_type": "markdown",
      "metadata": {
        "id": "CSZYb5reDuDi",
        "colab_type": "text"
      },
      "source": [
        "#유저의 벡터 = 각명사들 벡터의 MEAN "
      ]
    },
    {
      "cell_type": "code",
      "metadata": {
        "id": "FeqinAdTDrIM",
        "colab_type": "code",
        "colab": {}
      },
      "source": [
        "#문맥이해하는 더 좋은 방법 적용 \n",
        "def get_sentence_mean_vector(morphs):\n",
        "    vector = []\n",
        "    for i in morphs:\n",
        "        try:\n",
        "            vector.append(model.wv[i])\n",
        "        except KeyError as e:\n",
        "            pass\n",
        "    try:\n",
        "        return np.mean(vector, axis=0)\n",
        "    except IndexError as e:\n",
        "        pass"
      ],
      "execution_count": null,
      "outputs": []
    },
    {
      "cell_type": "code",
      "metadata": {
        "id": "gUJwh89RDxE6",
        "colab_type": "code",
        "colab": {
          "base_uri": "https://localhost:8080/",
          "height": 123
        },
        "outputId": "8bb2f1a6-8bfc-4b9a-e69a-8d4111910e1b"
      },
      "source": [
        "\n",
        "bio_exists_df['wv'] = bio_exists_df['user_mecab'].map(get_sentence_mean_vector)"
      ],
      "execution_count": null,
      "outputs": [
        {
          "output_type": "stream",
          "text": [
            "/usr/local/lib/python3.6/dist-packages/ipykernel_launcher.py:2: SettingWithCopyWarning: \n",
            "A value is trying to be set on a copy of a slice from a DataFrame.\n",
            "Try using .loc[row_indexer,col_indexer] = value instead\n",
            "\n",
            "See the caveats in the documentation: https://pandas.pydata.org/pandas-docs/stable/user_guide/indexing.html#returning-a-view-versus-a-copy\n",
            "  \n"
          ],
          "name": "stderr"
        }
      ]
    },
    {
      "cell_type": "code",
      "metadata": {
        "id": "ExoHwJ6-EJLI",
        "colab_type": "code",
        "colab": {
          "base_uri": "https://localhost:8080/",
          "height": 250
        },
        "outputId": "8d0bb536-c2f5-421b-8cb6-bc9b8eabb443"
      },
      "source": [
        "bio_exists_df['wv']"
      ],
      "execution_count": null,
      "outputs": [
        {
          "output_type": "execute_result",
          "data": {
            "text/plain": [
              "2583      [0.022427034, 0.20771548, 0.15720652, 0.041360263, -0.2586705, -0.049667887, 0.15541458, 0.0008102008, 0.018608604, 0.1271001, -0.023626462, -0.21867129, 0.10545426, -0.010349628, -0.0005828898, -0.08517236, -0.07292266, -0.09192299, 0.16128847, -0.08617859, 0.08614653, 0.1997228, 0.018213466, -0.0029917315, 0.111996286, -0.013965525, 0.03408659, -0.24751055, 0.037857603, -0.11053614, 0.0707694, 0.11527688, 0.032823477, -0.036801506, -0.07037376, -0.07503013, 0.18551004, 0.11486343, -0.019247122, -0.15579675, -0.011566204, -0.06820336, 0.14685856, 0.14364074, -0.2498748, 0.017659435, -0.12734531, -0.24599133, 0.23310846, -0.113730274, 0.07487614, -0.046728, 0.07864619, -0.22571386, 0.21350747, 0.086509466, -0.052435018, -0.04727672, -0.057193194, -0.041738868, 0.009822437, 0.17759638, 0.05228128, -0.15126926, 0.03204389, -0.15385017, -0.11346399, -0.15373087, 0.035629187, -0.010854018, -0.008044587, -0.04176231, 0.066286154, 0.10626233, 0.15844719, 0.08412814, -0.01572698, 0.041869313, -0.019369218, 0.0777311, -0.10025058, -0.011132741, -0.0289444, -0.15027015, 0.14524275, 0.05637732, -0.035015795, 0.16119067, 0.088129014, 0.008788134, 0.10065247, -0.11232715, -0.05042138, 0.046035673, -0.14953803, 0.0035652716, 0.013114619, 0.100665204, -0.24380256, -0.14170904, ...]               \n",
              "2637      [0.0024143592, 0.22359283, 0.23931776, -0.009176803, -0.1724028, -0.083909586, 0.1681236, -0.063299514, 0.0022536581, 0.10028522, -0.061160978, -0.26443684, 0.1035318, -0.0053499066, -0.08260588, -0.06697911, -0.15039046, -0.08976439, 0.16005832, -0.043520432, 0.055920128, 0.19715787, 0.015458684, -0.08049787, 0.13672799, 0.03363407, 0.1086228, -0.25755742, -0.0047695427, -0.16981412, 0.0035845698, 0.16977301, 0.021523194, -0.034833618, 0.018917833, -0.15472627, 0.2378537, 0.12229541, -0.028515767, -0.10188825, 0.011147623, -0.007516608, 0.12794548, 0.1338913, -0.18557578, -0.00695003, -0.13810477, -0.21401376, 0.2947855, -0.14790349, 0.04717244, -0.041193433, 0.08038572, -0.14352846, 0.25293458, 0.062639534, 0.056940798, 0.0056231664, -0.099885665, -0.10206846, 0.011044491, 0.12550586, 0.01897038, -0.0954658, 0.020290684, -0.19155909, -0.14847237, -0.13973011, 0.021392789, -0.05533848, -0.034090385, -0.056887127, 0.070846885, 0.18100236, 0.13492021, 0.10983113, -0.01194415, 0.0033753673, -0.011688378, 0.093306266, -0.062177517, 0.04379096, -0.061857775, -0.19817796, 0.123153985, 0.12517229, -0.05018671, 0.12057526, 0.04936708, -0.046084672, 0.19931737, -0.097214945, -0.102353685, 0.06863962, -0.108220235, 0.02734404, -0.033453, 0.08155671, -0.15385462, -0.14619125, ...]            \n",
              "2754      [0.035521317, 0.11344594, 0.20214505, 0.030586706, -0.18599339, 0.0023682078, 0.15518484, -0.088988446, -0.0104938755, 0.045920946, -0.027077213, -0.18725951, 0.15366842, -0.03896866, -0.021850925, -0.13101338, -0.10214641, -0.06529482, 0.17001376, -0.0628186, 0.0033504146, 0.17959574, 0.1745243, -0.037275847, -0.0066113085, -0.099213734, -0.032222137, -0.224235, -0.023048347, -0.1622159, 0.030492632, 0.05025616, 0.054242965, -0.037106544, 0.01056069, -0.06961764, 0.24684761, 0.05160781, -0.105255954, -0.039963923, 0.092465244, -0.06562354, 0.1423415, 0.041160073, -0.11967535, 0.011229293, -0.10604253, -0.07551366, 0.24972035, -0.11008073, 0.029405864, -0.031956356, 0.11673564, -0.23975939, 0.2206031, -0.006652824, 0.13796648, 0.02493328, -0.08505754, -0.07662575, 0.026460316, 0.17698872, 0.00384591, -0.08069256, -0.02962594, -0.13137546, -0.10723997, -0.08942419, 0.007662861, -0.050180756, -0.04497927, -0.1553057, 0.12933822, 0.09268846, 0.11506009, 0.16449124, -0.12975566, 0.06980442, 0.036397323, 0.1359983, -0.03710519, 0.10247635, -0.02619242, -0.18685071, 0.009886602, 0.11994891, 0.08273077, 0.1247979, -0.0144852325, 0.06030652, 0.13289072, -0.051739503, 0.013979459, 0.0006190551, -0.08353992, 0.020923948, -0.038797107, 0.09403739, -0.22667259, -0.05378552, ...]                \n",
              "3216      [0.07012301, 0.1384207, 0.19392891, 0.020883476, -0.23781216, -0.12072172, 0.09286812, 0.0050702025, -0.114125855, 0.10981894, -0.08373932, -0.23300056, 0.0661852, -0.06937147, -0.004935902, -0.1303974, -0.18628578, -0.06731547, 0.16967085, 0.014301596, 0.0003203202, 0.23201506, 0.05630607, -0.047448978, 0.019453201, -0.058994636, 0.06175878, -0.27741084, 0.017615857, -0.19785416, 0.05915198, 0.06816087, 0.04872551, -0.07564955, -0.06695653, -0.100706115, 0.15206687, 0.033646505, -0.03265463, -0.12519343, 0.064447634, -0.0553304, 0.11476245, 0.11978253, -0.23045386, -0.028558314, -0.13545573, -0.116904885, 0.18965958, -0.17142579, -0.003695987, -0.0004604227, 0.090968326, -0.22387685, 0.20671436, 0.018805906, -0.019053442, -0.07116402, -0.06402162, -0.03277472, -0.006289546, 0.15163668, 0.021244267, -0.13052927, 0.05549249, -0.20190175, -0.103610806, -0.113659665, 0.008459582, -0.00898721, -0.0155398315, -0.016423292, 0.114019096, 0.19940723, 0.109354585, 0.051847782, 0.026119566, -0.013899744, -0.011542566, 0.052683633, -0.068537064, 0.095948994, -0.035912845, -0.16463648, 0.15997465, 0.17252226, 0.006106722, 0.15603407, 0.0053312844, 0.08639623, 0.14515692, -0.021130817, -0.03409917, -0.065693125, -0.094659574, 0.0056654327, -0.017579326, 0.05984129, -0.11102351, -0.14903106, ...]\n",
              "3401      [0.066284366, 0.107436806, 0.08907313, 0.022531116, -0.12776099, -0.06363263, 0.07041971, -0.0035944602, 0.010436697, 0.028398357, 0.035279587, -0.27112153, 0.18039596, -0.015602231, -0.033659115, 0.016302992, -0.059191067, -0.023679897, 0.08683318, -0.022216719, -0.010800552, 0.18379477, 0.07507139, -0.016954754, 0.07295834, -0.02651989, -0.077968426, -0.32457796, 0.04659885, -0.16904835, 0.1520303, 0.15350461, -0.055607576, -0.043302335, -0.013580326, -0.049449615, 0.2006787, 0.055692885, -0.019439625, -0.043646894, 0.08001556, 0.026359025, 0.1396713, 0.1805677, -0.3709413, 0.17302115, -0.07603202, -0.28320047, 0.17713135, -0.052278563, -0.0009908128, -0.087477066, 0.03680349, -0.16414578, 0.15821978, 0.03067554, 0.018637007, -0.058290865, 0.02458914, 0.04505344, -0.048292495, 0.1464259, 0.1011878, -0.08550969, -0.046184525, -0.08884234, -0.07536882, -0.119170636, -0.014240101, 0.032573298, -0.115134254, -0.12116162, 0.047118858, 0.11799453, 0.16181824, 0.09877602, -0.009063922, 0.025984632, -0.087686166, 0.09792509, -0.022249024, 0.08633423, -0.035579883, -0.20665821, 0.12310149, 0.10407425, -0.110776015, 0.13186778, 0.037117627, 0.1379455, 0.2088759, -0.05637233, -0.0412194, -0.018723961, 0.028411485, 0.17208233, -0.018258996, 0.07629001, -0.21054903, -0.041586664, ...]         \n",
              "                                                                                                                                                                                                                                                                                                                                                                                                                                                                                                                                                                                                                                                                               ...                                                                                                                                                                                                                                                                                                                                                                                                                                                                                                                                                                                                                                                                               \n",
              "270200    [0.0017499519, 0.17464335, 0.083666794, 0.02820431, -0.2710408, -0.058749955, 0.06740842, 0.0010984086, 0.038274914, 0.053490516, -0.04005226, -0.29226094, 0.018834779, -0.071472235, 0.008529278, -0.028939683, -0.1209844, -0.058602024, 0.061163608, -0.0016560383, 0.05105861, 0.18731281, 0.04631133, -0.009880656, 0.14673269, -0.12867698, 0.032452095, -0.297189, 0.01255286, -0.14043756, 0.04631367, 0.17067039, 0.036166225, -0.02518599, -0.0059882663, -0.16641377, 0.10247686, 0.13488564, 0.0020343927, -0.12586147, 0.11636151, -0.09349889, 0.09265143, 0.07464666, -0.19308971, 0.039285555, -0.17786817, -0.25244308, 0.27977404, -0.063864306, 0.04663258, -0.016278023, 0.116595395, -0.26485005, 0.24171199, 0.08865095, -0.10322589, -0.09144106, -0.005427989, -0.08172429, 0.063589364, 0.19140248, -0.018238563, -0.21471158, 0.10732858, -0.23266757, -0.14086947, -0.15136516, 0.076534756, 0.010766976, -0.084221855, -0.056099944, 0.1003934, 0.17580399, 0.1521699, 0.023099137, -0.0759999, -0.015495787, 0.0063635292, 0.022400234, -0.019980913, -0.04731796, -0.051737692, -0.14683615, 0.08251996, 0.13260993, -0.005105643, 0.14320028, 0.05148525, 0.06337676, 0.13927822, -0.12238546, -0.063496664, -0.056103002, -0.10768141, 0.08007989, -0.08349852, 0.06968385, -0.23113681, -0.12564571, ...]            \n",
              "270205    [-0.063595526, 0.1902669, 0.13067032, -0.10649878, -0.22613035, 0.048192825, 0.009167756, -0.031295672, 0.016185205, 0.046043303, 0.0013872252, -0.29489672, 0.06544105, 0.08706392, -0.08880157, -0.03701522, -0.08349582, 0.013448624, 0.088279165, 0.023385368, 0.010996801, 0.10837623, 0.00423224, -0.038581707, 0.07384785, -0.06579751, -0.020765904, -0.23834188, -0.08035318, -0.13792416, 0.15461996, 0.04415903, -0.09334254, -0.021852275, 0.011149674, -0.10823261, 0.16677754, 0.04906786, -0.01898527, -0.060883254, 0.02206366, -0.03453759, 0.042406328, 0.09738561, -0.12915419, -0.056283854, -0.109968044, -0.093038954, 0.3167045, -0.08262424, -0.049246147, 0.007387765, 0.13382943, -0.16608979, 0.228444, 0.061720796, 0.0806963, -0.08892803, -0.011025398, -0.114547856, 0.10120339, 0.13127401, -0.019914363, -0.029133024, 0.018668775, -0.056391127, -0.14638215, -0.1310993, 0.032141894, 0.10916532, 0.06424299, -0.06594679, 0.07754815, 0.16327742, 0.1940891, 0.10353498, 0.13256446, -0.048989534, 0.038547922, -0.021097615, -0.14637539, 0.16417295, -0.03847835, -0.18270357, 0.06536267, 0.092305094, 0.036275063, 0.1652984, 0.104883306, 0.060827285, 0.07579061, -0.049205367, 0.0047681397, 0.04518836, -0.11780865, 0.06631169, 0.0360218, 0.07257901, -0.24594495, -0.078222096, ...]                    \n",
              "270214    [0.02166095, 0.124250434, 0.052808512, -0.0020240778, -0.24546936, 0.10091282, 0.07216278, -0.13200988, 0.030949576, 0.035976697, 0.04246255, -0.2567844, 0.03692534, 0.02937337, 0.0033025516, -0.04610607, -0.096312076, -0.07494678, 0.04598494, -0.07570729, 0.031249564, 0.12786713, 0.040455338, -0.015117434, 0.029128145, -0.08896143, -0.15172619, -0.13378367, 0.14949742, -0.16669737, 0.044017654, 0.05821296, -0.030061722, -0.11884167, 0.014902871, -0.13425903, 0.16763312, 0.11945402, -0.016428733, -0.100924924, 0.008129455, -0.05944462, 0.054787703, 0.007865145, -0.1608329, -0.008095077, -0.0626848, -0.18797287, 0.25922322, -0.11421653, 0.088085815, -0.0064635593, 0.18842916, -0.22207084, 0.24592938, 0.07528881, 0.028584117, 0.017533991, -0.0366691, -0.0667317, 0.050948933, 0.1747478, 0.13217157, -0.122126885, 0.111756794, -0.14902906, -0.20096041, -0.113159, 0.002015851, -0.07167791, -0.12984759, -0.09494193, 0.1885524, 0.06708584, 0.11425447, 0.09936483, 0.08534933, 0.050169773, 0.024164857, 0.0787299, -0.03971531, 0.16426027, -0.05901534, -0.21070683, 0.09659182, 0.12133629, -0.009551722, 0.17661321, -0.06870182, 0.101909876, 0.13267334, -0.123416446, 0.021386957, -0.016088031, -0.0770355, 0.089714095, -0.057483822, 0.10363595, -0.21528757, -0.14109841, ...]                       \n",
              "270219    [-0.020872924, 0.15045087, 0.22216074, -0.03671194, -0.21011965, -0.07896047, 0.027388118, -0.00974219, -0.04109941, 0.046385918, -0.04741293, -0.2671561, 0.1077762, -0.06328338, -0.07015671, 0.021243183, -0.17634182, -0.010188909, 0.13842079, 0.007528806, 0.034672167, 0.20001777, 0.016538283, -0.044484496, 0.0768115, 0.027027033, -0.032283466, -0.15172857, -0.05738869, -0.09355502, 0.0494618, 0.10554514, -0.022377206, -0.03897224, -0.08745273, -0.073527135, 0.22611596, -0.0035869805, -0.09320458, -0.10445137, 0.052494697, 0.030228853, 0.13349077, 0.10351267, -0.1737384, -0.022463365, -0.08542483, -0.22231588, 0.3387359, -0.14249887, 0.02612635, -0.031535827, 0.18258837, -0.15869486, 0.22862491, 0.03682631, 0.11299711, -0.049226277, 0.0032050712, -0.0148343695, 0.0120555535, 0.11719651, -0.060557887, -0.1060162, -0.06184582, -0.13303682, -0.15845336, -0.07083641, -0.02162607, -0.039469555, 0.023886548, -0.034458183, -0.04891806, 0.115902655, 0.14284495, 0.055352196, -0.02901526, 0.03016634, -0.056156024, 0.09596373, -0.07848696, 0.14587949, 0.006388407, -0.19417259, 0.06739709, 0.04981194, 0.049328256, 0.120934196, 0.09756311, 0.05931317, 0.17395118, -0.12147247, 0.005020241, -0.009281226, -0.07042524, 0.09124932, -0.044629857, 0.06234077, -0.1900276, -0.112745635, ...]             \n",
              "270221    [-0.015674746, 0.18593992, 0.06134362, -0.049367532, -0.21038805, 0.00530573, 0.018039886, -0.06717119, -0.0023720032, 0.13727671, 0.00057190453, -0.27278745, 0.051579714, -0.036743876, -0.11318744, -0.06112517, -0.0924193, -0.13969713, 0.1652835, 0.09566143, -0.030316044, 0.076383136, 0.05013611, -0.0813955, 0.0969651, -0.040396545, 0.05717282, -0.2610391, -0.020258408, -0.15936404, 0.05961411, 0.097439, -0.031500652, -0.09377665, 0.018353218, -0.11368094, 0.15131277, 0.1090386, -0.0005718578, -0.08844679, 0.0063490127, 0.0010749474, 0.05527006, 0.16652928, -0.1340014, 0.0693948, -0.1430464, -0.18869351, 0.27770814, -0.068437204, 0.06731185, 0.031329278, 0.12822218, -0.2254223, 0.3134405, 0.12737113, -0.04133178, -0.09055358, -0.038326237, -0.19388925, 0.07175182, 0.09235618, 0.0010589171, -0.16885231, 0.16303316, -0.08954043, -0.17268308, -0.105265185, 0.11831129, 0.03995135, -0.013324776, -0.14344372, 0.12067104, 0.1789305, 0.18529047, 0.112051964, 0.015900461, -0.06880937, 0.00402317, 0.030913364, -0.11410463, 0.041669548, -0.04242217, -0.2115788, 0.12441141, 0.08140363, 0.0036972722, 0.11126865, -0.030893587, 0.05128317, 0.09411795, -0.057935335, -0.100540645, -0.0038976744, -0.12632428, 0.12167633, -0.1069977, 0.031914793, -0.145937, -0.09689271, ...]                          \n",
              "Name: wv, Length: 21191, dtype: object"
            ]
          },
          "metadata": {
            "tags": []
          },
          "execution_count": 24
        }
      ]
    },
    {
      "cell_type": "markdown",
      "metadata": {
        "id": "w2SU0ollDzaL",
        "colab_type": "text"
      },
      "source": [
        "#각벡터 300차원"
      ]
    },
    {
      "cell_type": "code",
      "metadata": {
        "id": "6U5R8hJND1nl",
        "colab_type": "code",
        "colab": {
          "base_uri": "https://localhost:8080/",
          "height": 34
        },
        "outputId": "27d21553-c6ea-4688-be84-b73f784a5442"
      },
      "source": [
        "len(bio_exists_df.dropna().head(1)['wv'].to_list()[0])"
      ],
      "execution_count": null,
      "outputs": [
        {
          "output_type": "execute_result",
          "data": {
            "text/plain": [
              "300"
            ]
          },
          "metadata": {
            "tags": []
          },
          "execution_count": 25
        }
      ]
    },
    {
      "cell_type": "code",
      "metadata": {
        "id": "vIc0g6WeqlnZ",
        "colab_type": "code",
        "colab": {
          "base_uri": "https://localhost:8080/",
          "height": 1000
        },
        "outputId": "99d2a7de-6a5d-4478-908a-e332a8380d5b"
      },
      "source": [
        "bio_exists_df.dropna().head(1)['wv'].to_list()[0]"
      ],
      "execution_count": null,
      "outputs": [
        {
          "output_type": "execute_result",
          "data": {
            "text/plain": [
              "array([ 2.24270336e-02,  2.07715482e-01,  1.57206520e-01,  4.13602628e-02,\n",
              "       -2.58670509e-01, -4.96678874e-02,  1.55414581e-01,  8.10200814e-04,\n",
              "        1.86086036e-02,  1.27100095e-01, -2.36264616e-02, -2.18671292e-01,\n",
              "        1.05454259e-01, -1.03496276e-02, -5.82889828e-04, -8.51723626e-02,\n",
              "       -7.29226619e-02, -9.19229910e-02,  1.61288470e-01, -8.61785933e-02,\n",
              "        8.61465335e-02,  1.99722797e-01,  1.82134658e-02, -2.99173151e-03,\n",
              "        1.11996286e-01, -1.39655247e-02,  3.40865888e-02, -2.47510552e-01,\n",
              "        3.78576033e-02, -1.10536143e-01,  7.07693994e-02,  1.15276881e-01,\n",
              "        3.28234769e-02, -3.68015058e-02, -7.03737587e-02, -7.50301331e-02,\n",
              "        1.85510039e-01,  1.14863433e-01, -1.92471221e-02, -1.55796751e-01,\n",
              "       -1.15662040e-02, -6.82033598e-02,  1.46858558e-01,  1.43640742e-01,\n",
              "       -2.49874800e-01,  1.76594350e-02, -1.27345309e-01, -2.45991334e-01,\n",
              "        2.33108461e-01, -1.13730274e-01,  7.48761371e-02, -4.67280000e-02,\n",
              "        7.86461905e-02, -2.25713864e-01,  2.13507473e-01,  8.65094662e-02,\n",
              "       -5.24350181e-02, -4.72767204e-02, -5.71931936e-02, -4.17388678e-02,\n",
              "        9.82243661e-03,  1.77596375e-01,  5.22812791e-02, -1.51269257e-01,\n",
              "        3.20438892e-02, -1.53850168e-01, -1.13463990e-01, -1.53730869e-01,\n",
              "        3.56291868e-02, -1.08540179e-02, -8.04458745e-03, -4.17623110e-02,\n",
              "        6.62861541e-02,  1.06262334e-01,  1.58447191e-01,  8.41281414e-02,\n",
              "       -1.57269798e-02,  4.18693125e-02, -1.93692185e-02,  7.77311027e-02,\n",
              "       -1.00250579e-01, -1.11327413e-02, -2.89443992e-02, -1.50270149e-01,\n",
              "        1.45242751e-01,  5.63773215e-02, -3.50157954e-02,  1.61190674e-01,\n",
              "        8.81290138e-02,  8.78813397e-03,  1.00652471e-01, -1.12327151e-01,\n",
              "       -5.04213795e-02,  4.60356735e-02, -1.49538025e-01,  3.56527162e-03,\n",
              "        1.31146191e-02,  1.00665204e-01, -2.43802562e-01, -1.41709045e-01,\n",
              "       -7.41166621e-02,  2.87555605e-01,  1.46532491e-01, -4.54583578e-02,\n",
              "       -4.19542938e-02, -8.76769647e-02,  1.80340901e-01,  5.71763702e-02,\n",
              "        3.51380780e-02,  5.57953455e-02, -1.27323002e-01, -9.64710489e-03,\n",
              "        7.50422804e-03, -1.03745587e-01, -3.68271023e-02,  1.82413742e-01,\n",
              "        1.01810060e-01, -3.45135927e-02,  1.25123471e-01,  9.20067877e-02,\n",
              "       -1.47226408e-01, -1.62434518e-01, -1.01970874e-01,  1.00007378e-01,\n",
              "       -3.68612539e-03, -7.82461315e-02,  1.18303061e-01,  5.68348623e-04,\n",
              "       -7.94507563e-02, -5.27352793e-03, -1.07995071e-01, -6.22935146e-02,\n",
              "       -5.83267249e-02,  3.49471085e-02,  4.31568809e-02, -5.12540415e-02,\n",
              "       -8.04138428e-04, -3.29270810e-02,  1.44609571e-01, -1.23401165e-01,\n",
              "       -9.97269303e-02,  1.16201311e-01, -5.75975738e-02,  1.11631237e-01,\n",
              "        1.91049844e-01, -1.11704677e-01,  2.67542917e-02, -1.16645709e-01,\n",
              "        5.35080731e-02, -4.94893752e-02, -1.26801252e-01, -8.47359300e-02,\n",
              "        1.19716413e-02,  3.86183523e-02, -5.37715591e-02,  7.20947012e-02,\n",
              "        4.46149111e-02,  1.67666778e-01, -1.30635425e-01, -3.08565656e-03,\n",
              "       -1.04228621e-02,  1.27967820e-02, -1.48149990e-02, -9.22072381e-02,\n",
              "       -8.17252174e-02,  9.42005515e-02,  8.45240504e-02,  6.33936003e-02,\n",
              "       -5.66420630e-02,  4.51487489e-02,  7.23912343e-02,  9.37512591e-02,\n",
              "        1.36438742e-01, -8.12414810e-02, -6.00933954e-02, -3.05842366e-02,\n",
              "        4.08580936e-02, -3.61906961e-02,  1.08534902e-01,  3.54494564e-02,\n",
              "       -2.00046927e-01,  6.44578338e-02,  8.42343494e-02,  1.10648870e-02,\n",
              "       -5.97733594e-02,  2.63240874e-01, -5.87658733e-02, -4.07727100e-02,\n",
              "       -5.60098104e-02,  1.36915641e-03, -2.99043879e-02,  1.80062696e-01,\n",
              "       -6.56535253e-02, -2.47152001e-02,  1.53042048e-01,  1.12437472e-01,\n",
              "       -1.08982390e-02,  9.36081707e-02,  1.64027244e-01,  9.48378257e-03,\n",
              "       -2.17534944e-01, -1.08076394e-01,  5.84276170e-02,  1.04228295e-02,\n",
              "        1.41940251e-01, -8.08390230e-02,  2.56738454e-01, -1.01015024e-01,\n",
              "       -4.53607208e-04,  1.88635916e-01,  6.75216988e-02,  1.57058786e-03,\n",
              "       -4.17658649e-02, -7.17451051e-02,  7.89458826e-02, -2.37868622e-01,\n",
              "       -1.01692721e-01,  1.49238318e-01, -1.52440280e-01,  9.19994935e-02,\n",
              "        1.66947961e-01,  9.31353644e-02,  2.85555199e-02, -2.10141558e-02,\n",
              "        1.73486024e-01, -6.28496408e-02, -4.74775629e-03, -1.42149270e-01,\n",
              "       -1.06373452e-01, -2.27603316e-01,  1.42874405e-01, -1.32312894e-01,\n",
              "        1.14349611e-02, -4.13383283e-02,  5.09092398e-02,  1.98880315e-01,\n",
              "       -6.19411990e-02, -1.14763826e-01,  1.36493847e-01,  1.44016534e-01,\n",
              "        4.55037411e-03, -2.20232923e-02,  4.34188843e-02,  5.35286702e-02,\n",
              "       -2.00600833e-01, -6.73310384e-02,  2.62497574e-01,  3.56619693e-02,\n",
              "        3.65983695e-02,  1.43130682e-02, -5.78353181e-02, -1.00832274e-02,\n",
              "       -2.77106240e-02,  1.77775264e-01,  4.82496386e-03,  1.07689314e-01,\n",
              "        1.12845749e-01, -6.60591051e-02,  7.73759261e-02, -1.59720480e-02,\n",
              "        2.09726670e-04, -5.71387969e-02,  8.12593773e-02, -1.45967826e-02,\n",
              "        1.21779189e-01,  7.62843788e-02,  9.00024548e-02, -8.22149739e-02,\n",
              "       -2.31824040e-01,  1.08838715e-01, -2.43081022e-02, -8.85356590e-02,\n",
              "       -1.10790551e-01, -1.15568928e-01, -1.65540382e-01,  1.23444935e-02,\n",
              "        6.86995611e-02,  6.51366496e-03, -4.75230515e-02,  7.98451975e-02,\n",
              "       -1.08815067e-01,  9.03563872e-02, -8.68607610e-02,  2.74889618e-01,\n",
              "        6.07025363e-02, -7.35006705e-02, -9.51639339e-02,  1.67910486e-01,\n",
              "       -9.56001952e-02,  8.32426697e-02, -1.28910825e-01, -3.68003733e-02,\n",
              "       -2.09726214e-01, -3.64784449e-02, -2.02397369e-02, -1.05181888e-01,\n",
              "        8.74254778e-02,  2.15489939e-01, -9.07814875e-02, -1.60424978e-01],\n",
              "      dtype=float32)"
            ]
          },
          "metadata": {
            "tags": []
          },
          "execution_count": 40
        }
      ]
    },
    {
      "cell_type": "code",
      "metadata": {
        "id": "o_WmLh5drwLQ",
        "colab_type": "code",
        "colab": {
          "base_uri": "https://localhost:8080/",
          "height": 627
        },
        "outputId": "dc0d926b-72da-4fa8-9b79-79ff78ee263b"
      },
      "source": [
        "bio_exists_df.head(1)"
      ],
      "execution_count": null,
      "outputs": [
        {
          "output_type": "execute_result",
          "data": {
            "text/html": [
              "<div>\n",
              "<style scoped>\n",
              "    .dataframe tbody tr th:only-of-type {\n",
              "        vertical-align: middle;\n",
              "    }\n",
              "\n",
              "    .dataframe tbody tr th {\n",
              "        vertical-align: top;\n",
              "    }\n",
              "\n",
              "    .dataframe thead th {\n",
              "        text-align: right;\n",
              "    }\n",
              "</style>\n",
              "<table border=\"1\" class=\"dataframe\">\n",
              "  <thead>\n",
              "    <tr style=\"text-align: right;\">\n",
              "      <th></th>\n",
              "      <th>DSJ_CARD_NO</th>\n",
              "      <th>DSJ_JUMIN_NO</th>\n",
              "      <th>CONSULT_DATE</th>\n",
              "      <th>CARE_OPEN_CLASS_NM</th>\n",
              "      <th>CONSULT_CONT</th>\n",
              "      <th>JAEBUM</th>\n",
              "      <th>JAEBUM_1</th>\n",
              "      <th>출생년도</th>\n",
              "      <th>연령</th>\n",
              "      <th>학력</th>\n",
              "      <th>죄명</th>\n",
              "      <th>CARE_OPEN_CLASS_NM_1</th>\n",
              "      <th>user_mecab</th>\n",
              "      <th>user_mecab_len</th>\n",
              "      <th>wv</th>\n",
              "      <th>category</th>\n",
              "    </tr>\n",
              "  </thead>\n",
              "  <tbody>\n",
              "    <tr>\n",
              "      <th>2583</th>\n",
              "      <td>100020120288</td>\n",
              "      <td>4ITuomhVxxwhUfg9Hxg/6A==</td>\n",
              "      <td>20130828</td>\n",
              "      <td>10</td>\n",
              "      <td>숙식제공 연장과 관련하여 면담을 실시하였으며 현재 저축실적이 없고 성실하지 못한 태도로 생활해 왔던 점을 지적하고 연장이 어려울 것같다고 알려주었으며 본인이 나가는 현장에서 제공하는 숙소에서 생활하겠다며 퇴소를 희망하여 성실히 노력해 자립할 수 있도록 노력해 줄것을 당부하고 보호종료 처리함</td>\n",
              "      <td>0</td>\n",
              "      <td>0</td>\n",
              "      <td>1979</td>\n",
              "      <td>30</td>\n",
              "      <td>1</td>\n",
              "      <td>40</td>\n",
              "      <td>10</td>\n",
              "      <td>[숙식, 제공, 연장, 관련, 면담, 실시, 저축, 실적, 성실, 태도, 생활, 지적, 연장, 본인, 현장, 제공, 숙소, 생활, 퇴소, 희망, 노력, 자립, 노력, 당부, 보호, 종료, 처리]</td>\n",
              "      <td>27</td>\n",
              "      <td>[0.022427034, 0.20771548, 0.15720652, 0.041360263, -0.2586705, -0.049667887, 0.15541458, 0.0008102008, 0.018608604, 0.1271001, -0.023626462, -0.21867129, 0.10545426, -0.010349628, -0.0005828898, -0.08517236, -0.07292266, -0.09192299, 0.16128847, -0.08617859, 0.08614653, 0.1997228, 0.018213466, -0.0029917315, 0.111996286, -0.013965525, 0.03408659, -0.24751055, 0.037857603, -0.11053614, 0.0707694, 0.11527688, 0.032823477, -0.036801506, -0.07037376, -0.07503013, 0.18551004, 0.11486343, -0.019247122, -0.15579675, -0.011566204, -0.06820336, 0.14685856, 0.14364074, -0.2498748, 0.017659435, -0.12734531, -0.24599133, 0.23310846, -0.113730274, 0.07487614, -0.046728, 0.07864619, -0.22571386, 0.21350747, 0.086509466, -0.052435018, -0.04727672, -0.057193194, -0.041738868, 0.009822437, 0.17759638, 0.05228128, -0.15126926, 0.03204389, -0.15385017, -0.11346399, -0.15373087, 0.035629187, -0.010854018, -0.008044587, -0.04176231, 0.066286154, 0.10626233, 0.15844719, 0.08412814, -0.01572698, 0.041869313, -0.019369218, 0.0777311, -0.10025058, -0.011132741, -0.0289444, -0.15027015, 0.14524275, 0.05637732, -0.035015795, 0.16119067, 0.088129014, 0.008788134, 0.10065247, -0.11232715, -0.05042138, 0.046035673, -0.14953803, 0.0035652716, 0.013114619, 0.100665204, -0.24380256, -0.14170904, ...]</td>\n",
              "      <td>1</td>\n",
              "    </tr>\n",
              "  </tbody>\n",
              "</table>\n",
              "</div>"
            ],
            "text/plain": [
              "       DSJ_CARD_NO              DSJ_JUMIN_NO  CONSULT_DATE  \\\n",
              "2583  100020120288  4ITuomhVxxwhUfg9Hxg/6A==  20130828       \n",
              "\n",
              "      CARE_OPEN_CLASS_NM  \\\n",
              "2583  10                   \n",
              "\n",
              "                                                                                                                                                            CONSULT_CONT  \\\n",
              "2583  숙식제공 연장과 관련하여 면담을 실시하였으며 현재 저축실적이 없고 성실하지 못한 태도로 생활해 왔던 점을 지적하고 연장이 어려울 것같다고 알려주었으며 본인이 나가는 현장에서 제공하는 숙소에서 생활하겠다며 퇴소를 희망하여 성실히 노력해 자립할 수 있도록 노력해 줄것을 당부하고 보호종료 처리함   \n",
              "\n",
              "      JAEBUM  JAEBUM_1  출생년도  연령  학력  죄명  CARE_OPEN_CLASS_NM_1  \\\n",
              "2583  0       0         1979  30  1   40  10                     \n",
              "\n",
              "                                                                                                        user_mecab  \\\n",
              "2583  [숙식, 제공, 연장, 관련, 면담, 실시, 저축, 실적, 성실, 태도, 생활, 지적, 연장, 본인, 현장, 제공, 숙소, 생활, 퇴소, 희망, 노력, 자립, 노력, 당부, 보호, 종료, 처리]   \n",
              "\n",
              "      user_mecab_len  \\\n",
              "2583  27               \n",
              "\n",
              "                                                                                                                                                                                                                                                                                                                                                                                                                                                                                                                                                                                                                                                                                                                                                                                                                                                                                                                                                                                                                                                                                                                                                                                                                                                                                                                                            wv  \\\n",
              "2583  [0.022427034, 0.20771548, 0.15720652, 0.041360263, -0.2586705, -0.049667887, 0.15541458, 0.0008102008, 0.018608604, 0.1271001, -0.023626462, -0.21867129, 0.10545426, -0.010349628, -0.0005828898, -0.08517236, -0.07292266, -0.09192299, 0.16128847, -0.08617859, 0.08614653, 0.1997228, 0.018213466, -0.0029917315, 0.111996286, -0.013965525, 0.03408659, -0.24751055, 0.037857603, -0.11053614, 0.0707694, 0.11527688, 0.032823477, -0.036801506, -0.07037376, -0.07503013, 0.18551004, 0.11486343, -0.019247122, -0.15579675, -0.011566204, -0.06820336, 0.14685856, 0.14364074, -0.2498748, 0.017659435, -0.12734531, -0.24599133, 0.23310846, -0.113730274, 0.07487614, -0.046728, 0.07864619, -0.22571386, 0.21350747, 0.086509466, -0.052435018, -0.04727672, -0.057193194, -0.041738868, 0.009822437, 0.17759638, 0.05228128, -0.15126926, 0.03204389, -0.15385017, -0.11346399, -0.15373087, 0.035629187, -0.010854018, -0.008044587, -0.04176231, 0.066286154, 0.10626233, 0.15844719, 0.08412814, -0.01572698, 0.041869313, -0.019369218, 0.0777311, -0.10025058, -0.011132741, -0.0289444, -0.15027015, 0.14524275, 0.05637732, -0.035015795, 0.16119067, 0.088129014, 0.008788134, 0.10065247, -0.11232715, -0.05042138, 0.046035673, -0.14953803, 0.0035652716, 0.013114619, 0.100665204, -0.24380256, -0.14170904, ...]   \n",
              "\n",
              "      category  \n",
              "2583  1         "
            ]
          },
          "metadata": {
            "tags": []
          },
          "execution_count": 44
        }
      ]
    },
    {
      "cell_type": "code",
      "metadata": {
        "id": "kf5WgHeBrzpp",
        "colab_type": "code",
        "colab": {}
      },
      "source": [
        "newdata=bio_exists_df[['CONSULT_CONT','user_mecab','wv','category']]"
      ],
      "execution_count": null,
      "outputs": []
    },
    {
      "cell_type": "code",
      "metadata": {
        "id": "N-5jVoXStPHc",
        "colab_type": "code",
        "colab": {
          "base_uri": "https://localhost:8080/",
          "height": 1000
        },
        "outputId": "e4a1fb58-bb12-4f51-88cd-8210dc0276f3"
      },
      "source": [
        "newdata"
      ],
      "execution_count": null,
      "outputs": [
        {
          "output_type": "execute_result",
          "data": {
            "text/html": [
              "<div>\n",
              "<style scoped>\n",
              "    .dataframe tbody tr th:only-of-type {\n",
              "        vertical-align: middle;\n",
              "    }\n",
              "\n",
              "    .dataframe tbody tr th {\n",
              "        vertical-align: top;\n",
              "    }\n",
              "\n",
              "    .dataframe thead th {\n",
              "        text-align: right;\n",
              "    }\n",
              "</style>\n",
              "<table border=\"1\" class=\"dataframe\">\n",
              "  <thead>\n",
              "    <tr style=\"text-align: right;\">\n",
              "      <th></th>\n",
              "      <th>CONSULT_CONT</th>\n",
              "      <th>user_mecab</th>\n",
              "      <th>wv</th>\n",
              "      <th>category</th>\n",
              "    </tr>\n",
              "  </thead>\n",
              "  <tbody>\n",
              "    <tr>\n",
              "      <th>2583</th>\n",
              "      <td>숙식제공 연장과 관련하여 면담을 실시하였으며 현재 저축실적이 없고 성실하지 못한 태도로 생활해 왔던 점을 지적하고 연장이 어려울 것같다고 알려주었으며 본인이 나가는 현장에서 제공하는 숙소에서 생활하겠다며 퇴소를 희망하여 성실히 노력해 자립할 수 있도록 노력해 줄것을 당부하고 보호종료 처리함</td>\n",
              "      <td>[숙식, 제공, 연장, 관련, 면담, 실시, 저축, 실적, 성실, 태도, 생활, 지적, 연장, 본인, 현장, 제공, 숙소, 생활, 퇴소, 희망, 노력, 자립, 노력, 당부, 보호, 종료, 처리]</td>\n",
              "      <td>[0.022427034, 0.20771548, 0.15720652, 0.041360263, -0.2586705, -0.049667887, 0.15541458, 0.0008102008, 0.018608604, 0.1271001, -0.023626462, -0.21867129, 0.10545426, -0.010349628, -0.0005828898, -0.08517236, -0.07292266, -0.09192299, 0.16128847, -0.08617859, 0.08614653, 0.1997228, 0.018213466, -0.0029917315, 0.111996286, -0.013965525, 0.03408659, -0.24751055, 0.037857603, -0.11053614, 0.0707694, 0.11527688, 0.032823477, -0.036801506, -0.07037376, -0.07503013, 0.18551004, 0.11486343, -0.019247122, -0.15579675, -0.011566204, -0.06820336, 0.14685856, 0.14364074, -0.2498748, 0.017659435, -0.12734531, -0.24599133, 0.23310846, -0.113730274, 0.07487614, -0.046728, 0.07864619, -0.22571386, 0.21350747, 0.086509466, -0.052435018, -0.04727672, -0.057193194, -0.041738868, 0.009822437, 0.17759638, 0.05228128, -0.15126926, 0.03204389, -0.15385017, -0.11346399, -0.15373087, 0.035629187, -0.010854018, -0.008044587, -0.04176231, 0.066286154, 0.10626233, 0.15844719, 0.08412814, -0.01572698, 0.041869313, -0.019369218, 0.0777311, -0.10025058, -0.011132741, -0.0289444, -0.15027015, 0.14524275, 0.05637732, -0.035015795, 0.16119067, 0.088129014, 0.008788134, 0.10065247, -0.11232715, -0.05042138, 0.046035673, -0.14953803, 0.0035652716, 0.013114619, 0.100665204, -0.24380256, -0.14170904, ...]</td>\n",
              "      <td>1</td>\n",
              "    </tr>\n",
              "    <tr>\n",
              "      <th>2637</th>\n",
              "      <td>상기자는 그간 취업성공패키지에 참여하여 일을 해오다 숙식기간이 만료가 되어 퇴소를 하게되었으며 평소 성실하지 못한 생활태도를 반드시 개선하고 열심히 취업활동을 하여 자립할 수 있도록 노력해 줄것을 당부하고 취업알선 보호전환 종료함</td>\n",
              "      <td>[상기, 그간, 취업, 성공, 패키지, 참여, 숙식, 기간, 만료, 퇴소, 평소, 성실, 생활, 태도, 개선, 취업, 활동, 자립, 노력, 당부, 취업, 알선, 보호, 전환, 종료]</td>\n",
              "      <td>[0.0024143592, 0.22359283, 0.23931776, -0.009176803, -0.1724028, -0.083909586, 0.1681236, -0.063299514, 0.0022536581, 0.10028522, -0.061160978, -0.26443684, 0.1035318, -0.0053499066, -0.08260588, -0.06697911, -0.15039046, -0.08976439, 0.16005832, -0.043520432, 0.055920128, 0.19715787, 0.015458684, -0.08049787, 0.13672799, 0.03363407, 0.1086228, -0.25755742, -0.0047695427, -0.16981412, 0.0035845698, 0.16977301, 0.021523194, -0.034833618, 0.018917833, -0.15472627, 0.2378537, 0.12229541, -0.028515767, -0.10188825, 0.011147623, -0.007516608, 0.12794548, 0.1338913, -0.18557578, -0.00695003, -0.13810477, -0.21401376, 0.2947855, -0.14790349, 0.04717244, -0.041193433, 0.08038572, -0.14352846, 0.25293458, 0.062639534, 0.056940798, 0.0056231664, -0.099885665, -0.10206846, 0.011044491, 0.12550586, 0.01897038, -0.0954658, 0.020290684, -0.19155909, -0.14847237, -0.13973011, 0.021392789, -0.05533848, -0.034090385, -0.056887127, 0.070846885, 0.18100236, 0.13492021, 0.10983113, -0.01194415, 0.0033753673, -0.011688378, 0.093306266, -0.062177517, 0.04379096, -0.061857775, -0.19817796, 0.123153985, 0.12517229, -0.05018671, 0.12057526, 0.04936708, -0.046084672, 0.19931737, -0.097214945, -0.102353685, 0.06863962, -0.108220235, 0.02734404, -0.033453, 0.08155671, -0.15385462, -0.14619125, ...]</td>\n",
              "      <td>1</td>\n",
              "    </tr>\n",
              "    <tr>\n",
              "      <th>2754</th>\n",
              "      <td>상기인은 허그일자리지원 담당자와 함께 금호하이테크에 동행면접을 보고 7월 3일 부터 취업하고자 하였으나 심경의 변화가 생겨 다른 회사에 이력서를 넣고자 하여 이력서 클리닉 실시함. 대상자에게 금호하이테크에 연락하여 입사하지 않음을 고지하고 마무리를 지으라고 조언함. 그리고 대상자가 취업에 성공할것이라는 자신감을 심어줌.</td>\n",
              "      <td>[기인, 허그, 일자리, 지원, 담당자, 금호, 하이테크, 동행, 면접, 취업, 심경, 변화, 회사, 이력서, 이력서, 클리닉, 실시, 대상자, 금호, 하이테크, 연락, 입사, 고지, 마무리, 조언, 대상자, 취업, 성공, 자신감]</td>\n",
              "      <td>[0.035521317, 0.11344594, 0.20214505, 0.030586706, -0.18599339, 0.0023682078, 0.15518484, -0.088988446, -0.0104938755, 0.045920946, -0.027077213, -0.18725951, 0.15366842, -0.03896866, -0.021850925, -0.13101338, -0.10214641, -0.06529482, 0.17001376, -0.0628186, 0.0033504146, 0.17959574, 0.1745243, -0.037275847, -0.0066113085, -0.099213734, -0.032222137, -0.224235, -0.023048347, -0.1622159, 0.030492632, 0.05025616, 0.054242965, -0.037106544, 0.01056069, -0.06961764, 0.24684761, 0.05160781, -0.105255954, -0.039963923, 0.092465244, -0.06562354, 0.1423415, 0.041160073, -0.11967535, 0.011229293, -0.10604253, -0.07551366, 0.24972035, -0.11008073, 0.029405864, -0.031956356, 0.11673564, -0.23975939, 0.2206031, -0.006652824, 0.13796648, 0.02493328, -0.08505754, -0.07662575, 0.026460316, 0.17698872, 0.00384591, -0.08069256, -0.02962594, -0.13137546, -0.10723997, -0.08942419, 0.007662861, -0.050180756, -0.04497927, -0.1553057, 0.12933822, 0.09268846, 0.11506009, 0.16449124, -0.12975566, 0.06980442, 0.036397323, 0.1359983, -0.03710519, 0.10247635, -0.02619242, -0.18685071, 0.009886602, 0.11994891, 0.08273077, 0.1247979, -0.0144852325, 0.06030652, 0.13289072, -0.051739503, 0.013979459, 0.0006190551, -0.08353992, 0.020923948, -0.038797107, 0.09403739, -0.22667259, -0.05378552, ...]</td>\n",
              "      <td>3</td>\n",
              "    </tr>\n",
              "    <tr>\n",
              "      <th>3216</th>\n",
              "      <td>취업활동 및 저축 등에 대해 신경써 줄것을 당부하고 생활태도를 개선하는 등 전반적으로 달라진 모습을 보여줄 것을 요구하였으나 여기서 생활하는것이 직원들과 동료들에게 폐를 끼치는것 같아 지인의 도움을 얻어 방을 구해 나가고자 희망하여 어디서든 성실히 생활하며 자립의지를 잃지 말고 자립할때까지 최선을 다해줄 것을 당부하고 보호종료 처리함</td>\n",
              "      <td>[취업, 활동, 저축, 신경, 당부, 생활, 태도, 개선, 전반, 모습, 요구, 여기, 생활, 직원, 동료, 지인, 도움, 희망, 어디, 생활, 자립, 자립, 최선, 당부, 보호, 종료, 처리]</td>\n",
              "      <td>[0.07012301, 0.1384207, 0.19392891, 0.020883476, -0.23781216, -0.12072172, 0.09286812, 0.0050702025, -0.114125855, 0.10981894, -0.08373932, -0.23300056, 0.0661852, -0.06937147, -0.004935902, -0.1303974, -0.18628578, -0.06731547, 0.16967085, 0.014301596, 0.0003203202, 0.23201506, 0.05630607, -0.047448978, 0.019453201, -0.058994636, 0.06175878, -0.27741084, 0.017615857, -0.19785416, 0.05915198, 0.06816087, 0.04872551, -0.07564955, -0.06695653, -0.100706115, 0.15206687, 0.033646505, -0.03265463, -0.12519343, 0.064447634, -0.0553304, 0.11476245, 0.11978253, -0.23045386, -0.028558314, -0.13545573, -0.116904885, 0.18965958, -0.17142579, -0.003695987, -0.0004604227, 0.090968326, -0.22387685, 0.20671436, 0.018805906, -0.019053442, -0.07116402, -0.06402162, -0.03277472, -0.006289546, 0.15163668, 0.021244267, -0.13052927, 0.05549249, -0.20190175, -0.103610806, -0.113659665, 0.008459582, -0.00898721, -0.0155398315, -0.016423292, 0.114019096, 0.19940723, 0.109354585, 0.051847782, 0.026119566, -0.013899744, -0.011542566, 0.052683633, -0.068537064, 0.095948994, -0.035912845, -0.16463648, 0.15997465, 0.17252226, 0.006106722, 0.15603407, 0.0053312844, 0.08639623, 0.14515692, -0.021130817, -0.03409917, -0.065693125, -0.094659574, 0.0056654327, -0.017579326, 0.05984129, -0.11102351, -0.14903106, ...]</td>\n",
              "      <td>1</td>\n",
              "    </tr>\n",
              "    <tr>\n",
              "      <th>3401</th>\n",
              "      <td>숙식제공 대상자를 위한 초기상담, 심리검사를 실시하였음.\\r\\n초기상담-심리적 성격적 특성을 파악하기 위해 과거력, 정신질환의 유무, 가족관계 등에 대한 심층상담을 실시하였음.\\r\\n심리검사-다면적인성검사(mmpi), 문장완성검사(sct)를 실시하였음. 개인의 특성을 파악하기 위한 검사임을 설명하고 성실히 임하도록 지도함.\\r\\n</td>\n",
              "      <td>[숙식, 제공, 대상자, 초기, 상담, 심리, 검사, 실시, 초기, 상담, 심리, 성격, 특성, 파악, 과거, 정신, 질환, 유무, 가족, 관계, 심층, 상담, 실시, 심리, 검사, 다면, 성검사, 문장, 완성, 검사, 실시, 개인, 특성, 파악, 검사, 설명, 지도]</td>\n",
              "      <td>[0.066284366, 0.107436806, 0.08907313, 0.022531116, -0.12776099, -0.06363263, 0.07041971, -0.0035944602, 0.010436697, 0.028398357, 0.035279587, -0.27112153, 0.18039596, -0.015602231, -0.033659115, 0.016302992, -0.059191067, -0.023679897, 0.08683318, -0.022216719, -0.010800552, 0.18379477, 0.07507139, -0.016954754, 0.07295834, -0.02651989, -0.077968426, -0.32457796, 0.04659885, -0.16904835, 0.1520303, 0.15350461, -0.055607576, -0.043302335, -0.013580326, -0.049449615, 0.2006787, 0.055692885, -0.019439625, -0.043646894, 0.08001556, 0.026359025, 0.1396713, 0.1805677, -0.3709413, 0.17302115, -0.07603202, -0.28320047, 0.17713135, -0.052278563, -0.0009908128, -0.087477066, 0.03680349, -0.16414578, 0.15821978, 0.03067554, 0.018637007, -0.058290865, 0.02458914, 0.04505344, -0.048292495, 0.1464259, 0.1011878, -0.08550969, -0.046184525, -0.08884234, -0.07536882, -0.119170636, -0.014240101, 0.032573298, -0.115134254, -0.12116162, 0.047118858, 0.11799453, 0.16181824, 0.09877602, -0.009063922, 0.025984632, -0.087686166, 0.09792509, -0.022249024, 0.08633423, -0.035579883, -0.20665821, 0.12310149, 0.10407425, -0.110776015, 0.13186778, 0.037117627, 0.1379455, 0.2088759, -0.05637233, -0.0412194, -0.018723961, 0.028411485, 0.17208233, -0.018258996, 0.07629001, -0.21054903, -0.041586664, ...]</td>\n",
              "      <td>4</td>\n",
              "    </tr>\n",
              "    <tr>\n",
              "      <th>...</th>\n",
              "      <td>...</td>\n",
              "      <td>...</td>\n",
              "      <td>...</td>\n",
              "      <td>...</td>\n",
              "    </tr>\n",
              "    <tr>\n",
              "      <th>270200</th>\n",
              "      <td>상기인은 출소 후 자립기반마련에 어려움있어 보호의뢰해온바, 숙식제공통해 도움받기로 함. 자율형생활관에 대해 설명하고 생활준칙, 근로수익금 예치 등 숙식과 관련된 제반사항 설명하고 생활 잘할 것 당부함.</td>\n",
              "      <td>[기인, 출소, 자립, 기반, 마련, 어려움, 보호, 의뢰, 숙식, 제공, 도움, 자율, 생활관, 설명, 생활, 준칙, 근로, 수익금, 예치, 숙식, 관련, 제반, 사항, 설명, 생활, 당부]</td>\n",
              "      <td>[0.0017499519, 0.17464335, 0.083666794, 0.02820431, -0.2710408, -0.058749955, 0.06740842, 0.0010984086, 0.038274914, 0.053490516, -0.04005226, -0.29226094, 0.018834779, -0.071472235, 0.008529278, -0.028939683, -0.1209844, -0.058602024, 0.061163608, -0.0016560383, 0.05105861, 0.18731281, 0.04631133, -0.009880656, 0.14673269, -0.12867698, 0.032452095, -0.297189, 0.01255286, -0.14043756, 0.04631367, 0.17067039, 0.036166225, -0.02518599, -0.0059882663, -0.16641377, 0.10247686, 0.13488564, 0.0020343927, -0.12586147, 0.11636151, -0.09349889, 0.09265143, 0.07464666, -0.19308971, 0.039285555, -0.17786817, -0.25244308, 0.27977404, -0.063864306, 0.04663258, -0.016278023, 0.116595395, -0.26485005, 0.24171199, 0.08865095, -0.10322589, -0.09144106, -0.005427989, -0.08172429, 0.063589364, 0.19140248, -0.018238563, -0.21471158, 0.10732858, -0.23266757, -0.14086947, -0.15136516, 0.076534756, 0.010766976, -0.084221855, -0.056099944, 0.1003934, 0.17580399, 0.1521699, 0.023099137, -0.0759999, -0.015495787, 0.0063635292, 0.022400234, -0.019980913, -0.04731796, -0.051737692, -0.14683615, 0.08251996, 0.13260993, -0.005105643, 0.14320028, 0.05148525, 0.06337676, 0.13927822, -0.12238546, -0.063496664, -0.056103002, -0.10768141, 0.08007989, -0.08349852, 0.06968385, -0.23113681, -0.12564571, ...]</td>\n",
              "      <td>1</td>\n",
              "    </tr>\n",
              "    <tr>\n",
              "      <th>270205</th>\n",
              "      <td>출소자긴급지원과 관련하여 장전동쪽으로 주민센터 등 볼일보고 있다고 함. 다음주 월요일에도 방문예정이며 잘 진행될 것 같다고 함. 허그일자리에 관심있어 참여하고자하는 모습보여 긴급지원 및 임시보호후 정식개시 완료되었을시 상의해볼 것 권유함.</td>\n",
              "      <td>[출소, 긴급, 지원, 관련, 장전, 동쪽, 주민, 센터, 볼일, 다음, 월요일, 방문, 예정, 진행, 일자리, 관심, 참여, 모습, 긴급, 지원, 임시, 보호, 정식, 개시, 완료, 상의, 권유]</td>\n",
              "      <td>[-0.063595526, 0.1902669, 0.13067032, -0.10649878, -0.22613035, 0.048192825, 0.009167756, -0.031295672, 0.016185205, 0.046043303, 0.0013872252, -0.29489672, 0.06544105, 0.08706392, -0.08880157, -0.03701522, -0.08349582, 0.013448624, 0.088279165, 0.023385368, 0.010996801, 0.10837623, 0.00423224, -0.038581707, 0.07384785, -0.06579751, -0.020765904, -0.23834188, -0.08035318, -0.13792416, 0.15461996, 0.04415903, -0.09334254, -0.021852275, 0.011149674, -0.10823261, 0.16677754, 0.04906786, -0.01898527, -0.060883254, 0.02206366, -0.03453759, 0.042406328, 0.09738561, -0.12915419, -0.056283854, -0.109968044, -0.093038954, 0.3167045, -0.08262424, -0.049246147, 0.007387765, 0.13382943, -0.16608979, 0.228444, 0.061720796, 0.0806963, -0.08892803, -0.011025398, -0.114547856, 0.10120339, 0.13127401, -0.019914363, -0.029133024, 0.018668775, -0.056391127, -0.14638215, -0.1310993, 0.032141894, 0.10916532, 0.06424299, -0.06594679, 0.07754815, 0.16327742, 0.1940891, 0.10353498, 0.13256446, -0.048989534, 0.038547922, -0.021097615, -0.14637539, 0.16417295, -0.03847835, -0.18270357, 0.06536267, 0.092305094, 0.036275063, 0.1652984, 0.104883306, 0.060827285, 0.07579061, -0.049205367, 0.0047681397, 0.04518836, -0.11780865, 0.06631169, 0.0360218, 0.07257901, -0.24594495, -0.078222096, ...]</td>\n",
              "      <td>2</td>\n",
              "    </tr>\n",
              "    <tr>\n",
              "      <th>270214</th>\n",
              "      <td>- 보호대상자는 6/18 입소자로서, 당일 당직활동으로 대상자에게 지부 생활관 입소와 관련한 생활에 대해 물어봄.\\r\\n- 보호대상자는 현재 숙식제공에 만족한다 전하함. 이에 추후라도 애로사항이나 문의사항이 있을 시 숙식담당자, 당직자, 이외 기타 직원을 통해 말해줄 것을 당부함.</td>\n",
              "      <td>[보호, 대상자, 입소자, 당일, 당직, 활동, 대상자, 지부, 생활관, 입소, 관련, 생활, 보호, 대상자, 숙식, 제공, 만족, 전하, 추후, 사항, 사항, 숙식, 담당자, 당직자, 이외, 기타, 직원, 당부]</td>\n",
              "      <td>[0.02166095, 0.124250434, 0.052808512, -0.0020240778, -0.24546936, 0.10091282, 0.07216278, -0.13200988, 0.030949576, 0.035976697, 0.04246255, -0.2567844, 0.03692534, 0.02937337, 0.0033025516, -0.04610607, -0.096312076, -0.07494678, 0.04598494, -0.07570729, 0.031249564, 0.12786713, 0.040455338, -0.015117434, 0.029128145, -0.08896143, -0.15172619, -0.13378367, 0.14949742, -0.16669737, 0.044017654, 0.05821296, -0.030061722, -0.11884167, 0.014902871, -0.13425903, 0.16763312, 0.11945402, -0.016428733, -0.100924924, 0.008129455, -0.05944462, 0.054787703, 0.007865145, -0.1608329, -0.008095077, -0.0626848, -0.18797287, 0.25922322, -0.11421653, 0.088085815, -0.0064635593, 0.18842916, -0.22207084, 0.24592938, 0.07528881, 0.028584117, 0.017533991, -0.0366691, -0.0667317, 0.050948933, 0.1747478, 0.13217157, -0.122126885, 0.111756794, -0.14902906, -0.20096041, -0.113159, 0.002015851, -0.07167791, -0.12984759, -0.09494193, 0.1885524, 0.06708584, 0.11425447, 0.09936483, 0.08534933, 0.050169773, 0.024164857, 0.0787299, -0.03971531, 0.16426027, -0.05901534, -0.21070683, 0.09659182, 0.12133629, -0.009551722, 0.17661321, -0.06870182, 0.101909876, 0.13267334, -0.123416446, 0.021386957, -0.016088031, -0.0770355, 0.089714095, -0.057483822, 0.10363595, -0.21528757, -0.14109841, ...]</td>\n",
              "      <td>2</td>\n",
              "    </tr>\n",
              "    <tr>\n",
              "      <th>270219</th>\n",
              "      <td>허그일자리지원프로그램 참여 독려하여 구직응원하자, 현재 보호관찰 교육 등으로 훈련일정 조율이 어렵고, 단순 일용직형태로 근무를 희망하기때문에 허그일자리 참여를 기피함. 본인 의지가 없을경우 참여가 어려움을 안내하고, 추후 필요시 신청할 수 있도록 함.</td>\n",
              "      <td>[일자리, 지원, 프로그램, 참여, 독려, 구직, 응원, 보호관찰, 교육, 훈련, 일정, 조율, 단순, 일용직, 형태, 근무, 희망, 때문, 일자리, 참여, 기피, 본인, 의지, 경우, 참여, 어려움, 안내, 추후, 필요시, 신청]</td>\n",
              "      <td>[-0.020872924, 0.15045087, 0.22216074, -0.03671194, -0.21011965, -0.07896047, 0.027388118, -0.00974219, -0.04109941, 0.046385918, -0.04741293, -0.2671561, 0.1077762, -0.06328338, -0.07015671, 0.021243183, -0.17634182, -0.010188909, 0.13842079, 0.007528806, 0.034672167, 0.20001777, 0.016538283, -0.044484496, 0.0768115, 0.027027033, -0.032283466, -0.15172857, -0.05738869, -0.09355502, 0.0494618, 0.10554514, -0.022377206, -0.03897224, -0.08745273, -0.073527135, 0.22611596, -0.0035869805, -0.09320458, -0.10445137, 0.052494697, 0.030228853, 0.13349077, 0.10351267, -0.1737384, -0.022463365, -0.08542483, -0.22231588, 0.3387359, -0.14249887, 0.02612635, -0.031535827, 0.18258837, -0.15869486, 0.22862491, 0.03682631, 0.11299711, -0.049226277, 0.0032050712, -0.0148343695, 0.0120555535, 0.11719651, -0.060557887, -0.1060162, -0.06184582, -0.13303682, -0.15845336, -0.07083641, -0.02162607, -0.039469555, 0.023886548, -0.034458183, -0.04891806, 0.115902655, 0.14284495, 0.055352196, -0.02901526, 0.03016634, -0.056156024, 0.09596373, -0.07848696, 0.14587949, 0.006388407, -0.19417259, 0.06739709, 0.04981194, 0.049328256, 0.120934196, 0.09756311, 0.05931317, 0.17395118, -0.12147247, 0.005020241, -0.009281226, -0.07042524, 0.09124932, -0.044629857, 0.06234077, -0.1900276, -0.112745635, ...]</td>\n",
              "      <td>3</td>\n",
              "    </tr>\n",
              "    <tr>\n",
              "      <th>270221</th>\n",
              "      <td>부산보호관찰소 의뢰로 숙식임시보호개시함. 숙식과 관련된 제반사항 안내 및 초도지급품, 침구류 불출하고 향후 자립과 관련된 활동 열심히 할 것 당부함. 1개월 임시보호 조치.</td>\n",
              "      <td>[부산, 보호관찰, 의뢰, 숙식, 임시, 보호, 개시, 숙식, 관련, 제반, 사항, 안내, 초도, 지급품, 침구류, 불출, 향후, 자립, 관련, 활동, 당부, 개월, 임시, 보호, 조치]</td>\n",
              "      <td>[-0.015674746, 0.18593992, 0.06134362, -0.049367532, -0.21038805, 0.00530573, 0.018039886, -0.06717119, -0.0023720032, 0.13727671, 0.00057190453, -0.27278745, 0.051579714, -0.036743876, -0.11318744, -0.06112517, -0.0924193, -0.13969713, 0.1652835, 0.09566143, -0.030316044, 0.076383136, 0.05013611, -0.0813955, 0.0969651, -0.040396545, 0.05717282, -0.2610391, -0.020258408, -0.15936404, 0.05961411, 0.097439, -0.031500652, -0.09377665, 0.018353218, -0.11368094, 0.15131277, 0.1090386, -0.0005718578, -0.08844679, 0.0063490127, 0.0010749474, 0.05527006, 0.16652928, -0.1340014, 0.0693948, -0.1430464, -0.18869351, 0.27770814, -0.068437204, 0.06731185, 0.031329278, 0.12822218, -0.2254223, 0.3134405, 0.12737113, -0.04133178, -0.09055358, -0.038326237, -0.19388925, 0.07175182, 0.09235618, 0.0010589171, -0.16885231, 0.16303316, -0.08954043, -0.17268308, -0.105265185, 0.11831129, 0.03995135, -0.013324776, -0.14344372, 0.12067104, 0.1789305, 0.18529047, 0.112051964, 0.015900461, -0.06880937, 0.00402317, 0.030913364, -0.11410463, 0.041669548, -0.04242217, -0.2115788, 0.12441141, 0.08140363, 0.0036972722, 0.11126865, -0.030893587, 0.05128317, 0.09411795, -0.057935335, -0.100540645, -0.0038976744, -0.12632428, 0.12167633, -0.1069977, 0.031914793, -0.145937, -0.09689271, ...]</td>\n",
              "      <td>1</td>\n",
              "    </tr>\n",
              "  </tbody>\n",
              "</table>\n",
              "<p>21191 rows × 4 columns</p>\n",
              "</div>"
            ],
            "text/plain": [
              "                                                                                                                                                                                       CONSULT_CONT  \\\n",
              "2583    숙식제공 연장과 관련하여 면담을 실시하였으며 현재 저축실적이 없고 성실하지 못한 태도로 생활해 왔던 점을 지적하고 연장이 어려울 것같다고 알려주었으며 본인이 나가는 현장에서 제공하는 숙소에서 생활하겠다며 퇴소를 희망하여 성실히 노력해 자립할 수 있도록 노력해 줄것을 당부하고 보호종료 처리함                            \n",
              "2637    상기자는 그간 취업성공패키지에 참여하여 일을 해오다 숙식기간이 만료가 되어 퇴소를 하게되었으며 평소 성실하지 못한 생활태도를 반드시 개선하고 열심히 취업활동을 하여 자립할 수 있도록 노력해 줄것을 당부하고 취업알선 보호전환 종료함                                                              \n",
              "2754    상기인은 허그일자리지원 담당자와 함께 금호하이테크에 동행면접을 보고 7월 3일 부터 취업하고자 하였으나 심경의 변화가 생겨 다른 회사에 이력서를 넣고자 하여 이력서 클리닉 실시함. 대상자에게 금호하이테크에 연락하여 입사하지 않음을 고지하고 마무리를 지으라고 조언함. 그리고 대상자가 취업에 성공할것이라는 자신감을 심어줌.           \n",
              "3216    취업활동 및 저축 등에 대해 신경써 줄것을 당부하고 생활태도를 개선하는 등 전반적으로 달라진 모습을 보여줄 것을 요구하였으나 여기서 생활하는것이 직원들과 동료들에게 폐를 끼치는것 같아 지인의 도움을 얻어 방을 구해 나가고자 희망하여 어디서든 성실히 생활하며 자립의지를 잃지 말고 자립할때까지 최선을 다해줄 것을 당부하고 보호종료 처리함   \n",
              "3401    숙식제공 대상자를 위한 초기상담, 심리검사를 실시하였음.\\r\\n초기상담-심리적 성격적 특성을 파악하기 위해 과거력, 정신질환의 유무, 가족관계 등에 대한 심층상담을 실시하였음.\\r\\n심리검사-다면적인성검사(mmpi), 문장완성검사(sct)를 실시하였음. 개인의 특성을 파악하기 위한 검사임을 설명하고 성실히 임하도록 지도함.\\r\\n     \n",
              "...                                                                                                                                                                                           ...     \n",
              "270200  상기인은 출소 후 자립기반마련에 어려움있어 보호의뢰해온바, 숙식제공통해 도움받기로 함. 자율형생활관에 대해 설명하고 생활준칙, 근로수익금 예치 등 숙식과 관련된 제반사항 설명하고 생활 잘할 것 당부함.                                                                              \n",
              "270205  출소자긴급지원과 관련하여 장전동쪽으로 주민센터 등 볼일보고 있다고 함. 다음주 월요일에도 방문예정이며 잘 진행될 것 같다고 함. 허그일자리에 관심있어 참여하고자하는 모습보여 긴급지원 및 임시보호후 정식개시 완료되었을시 상의해볼 것 권유함.                                                         \n",
              "270214  - 보호대상자는 6/18 입소자로서, 당일 당직활동으로 대상자에게 지부 생활관 입소와 관련한 생활에 대해 물어봄.\\r\\n- 보호대상자는 현재 숙식제공에 만족한다 전하함. 이에 추후라도 애로사항이나 문의사항이 있을 시 숙식담당자, 당직자, 이외 기타 직원을 통해 말해줄 것을 당부함.                                 \n",
              "270219  허그일자리지원프로그램 참여 독려하여 구직응원하자, 현재 보호관찰 교육 등으로 훈련일정 조율이 어렵고, 단순 일용직형태로 근무를 희망하기때문에 허그일자리 참여를 기피함. 본인 의지가 없을경우 참여가 어려움을 안내하고, 추후 필요시 신청할 수 있도록 함.                                                  \n",
              "270221  부산보호관찰소 의뢰로 숙식임시보호개시함. 숙식과 관련된 제반사항 안내 및 초도지급품, 침구류 불출하고 향후 자립과 관련된 활동 열심히 할 것 당부함. 1개월 임시보호 조치.                                                                                              \n",
              "\n",
              "                                                                                                                                                    user_mecab  \\\n",
              "2583    [숙식, 제공, 연장, 관련, 면담, 실시, 저축, 실적, 성실, 태도, 생활, 지적, 연장, 본인, 현장, 제공, 숙소, 생활, 퇴소, 희망, 노력, 자립, 노력, 당부, 보호, 종료, 처리]                                             \n",
              "2637    [상기, 그간, 취업, 성공, 패키지, 참여, 숙식, 기간, 만료, 퇴소, 평소, 성실, 생활, 태도, 개선, 취업, 활동, 자립, 노력, 당부, 취업, 알선, 보호, 전환, 종료]                                                    \n",
              "2754    [기인, 허그, 일자리, 지원, 담당자, 금호, 하이테크, 동행, 면접, 취업, 심경, 변화, 회사, 이력서, 이력서, 클리닉, 실시, 대상자, 금호, 하이테크, 연락, 입사, 고지, 마무리, 조언, 대상자, 취업, 성공, 자신감]                        \n",
              "3216    [취업, 활동, 저축, 신경, 당부, 생활, 태도, 개선, 전반, 모습, 요구, 여기, 생활, 직원, 동료, 지인, 도움, 희망, 어디, 생활, 자립, 자립, 최선, 당부, 보호, 종료, 처리]                                             \n",
              "3401    [숙식, 제공, 대상자, 초기, 상담, 심리, 검사, 실시, 초기, 상담, 심리, 성격, 특성, 파악, 과거, 정신, 질환, 유무, 가족, 관계, 심층, 상담, 실시, 심리, 검사, 다면, 성검사, 문장, 완성, 검사, 실시, 개인, 특성, 파악, 검사, 설명, 지도]   \n",
              "...                                                                                                                                                        ...   \n",
              "270200  [기인, 출소, 자립, 기반, 마련, 어려움, 보호, 의뢰, 숙식, 제공, 도움, 자율, 생활관, 설명, 생활, 준칙, 근로, 수익금, 예치, 숙식, 관련, 제반, 사항, 설명, 생활, 당부]                                              \n",
              "270205  [출소, 긴급, 지원, 관련, 장전, 동쪽, 주민, 센터, 볼일, 다음, 월요일, 방문, 예정, 진행, 일자리, 관심, 참여, 모습, 긴급, 지원, 임시, 보호, 정식, 개시, 완료, 상의, 권유]                                           \n",
              "270214  [보호, 대상자, 입소자, 당일, 당직, 활동, 대상자, 지부, 생활관, 입소, 관련, 생활, 보호, 대상자, 숙식, 제공, 만족, 전하, 추후, 사항, 사항, 숙식, 담당자, 당직자, 이외, 기타, 직원, 당부]                                  \n",
              "270219  [일자리, 지원, 프로그램, 참여, 독려, 구직, 응원, 보호관찰, 교육, 훈련, 일정, 조율, 단순, 일용직, 형태, 근무, 희망, 때문, 일자리, 참여, 기피, 본인, 의지, 경우, 참여, 어려움, 안내, 추후, 필요시, 신청]                        \n",
              "270221  [부산, 보호관찰, 의뢰, 숙식, 임시, 보호, 개시, 숙식, 관련, 제반, 사항, 안내, 초도, 지급품, 침구류, 불출, 향후, 자립, 관련, 활동, 당부, 개월, 임시, 보호, 조치]                                                 \n",
              "\n",
              "                                                                                                                                                                                                                                                                                                                                                                                                                                                                                                                                                                                                                                                                                                                                                                                                                                                                                                                                                                                                                                                                                                                                                                                                                                                                                                                                                             wv  \\\n",
              "2583    [0.022427034, 0.20771548, 0.15720652, 0.041360263, -0.2586705, -0.049667887, 0.15541458, 0.0008102008, 0.018608604, 0.1271001, -0.023626462, -0.21867129, 0.10545426, -0.010349628, -0.0005828898, -0.08517236, -0.07292266, -0.09192299, 0.16128847, -0.08617859, 0.08614653, 0.1997228, 0.018213466, -0.0029917315, 0.111996286, -0.013965525, 0.03408659, -0.24751055, 0.037857603, -0.11053614, 0.0707694, 0.11527688, 0.032823477, -0.036801506, -0.07037376, -0.07503013, 0.18551004, 0.11486343, -0.019247122, -0.15579675, -0.011566204, -0.06820336, 0.14685856, 0.14364074, -0.2498748, 0.017659435, -0.12734531, -0.24599133, 0.23310846, -0.113730274, 0.07487614, -0.046728, 0.07864619, -0.22571386, 0.21350747, 0.086509466, -0.052435018, -0.04727672, -0.057193194, -0.041738868, 0.009822437, 0.17759638, 0.05228128, -0.15126926, 0.03204389, -0.15385017, -0.11346399, -0.15373087, 0.035629187, -0.010854018, -0.008044587, -0.04176231, 0.066286154, 0.10626233, 0.15844719, 0.08412814, -0.01572698, 0.041869313, -0.019369218, 0.0777311, -0.10025058, -0.011132741, -0.0289444, -0.15027015, 0.14524275, 0.05637732, -0.035015795, 0.16119067, 0.088129014, 0.008788134, 0.10065247, -0.11232715, -0.05042138, 0.046035673, -0.14953803, 0.0035652716, 0.013114619, 0.100665204, -0.24380256, -0.14170904, ...]                  \n",
              "2637    [0.0024143592, 0.22359283, 0.23931776, -0.009176803, -0.1724028, -0.083909586, 0.1681236, -0.063299514, 0.0022536581, 0.10028522, -0.061160978, -0.26443684, 0.1035318, -0.0053499066, -0.08260588, -0.06697911, -0.15039046, -0.08976439, 0.16005832, -0.043520432, 0.055920128, 0.19715787, 0.015458684, -0.08049787, 0.13672799, 0.03363407, 0.1086228, -0.25755742, -0.0047695427, -0.16981412, 0.0035845698, 0.16977301, 0.021523194, -0.034833618, 0.018917833, -0.15472627, 0.2378537, 0.12229541, -0.028515767, -0.10188825, 0.011147623, -0.007516608, 0.12794548, 0.1338913, -0.18557578, -0.00695003, -0.13810477, -0.21401376, 0.2947855, -0.14790349, 0.04717244, -0.041193433, 0.08038572, -0.14352846, 0.25293458, 0.062639534, 0.056940798, 0.0056231664, -0.099885665, -0.10206846, 0.011044491, 0.12550586, 0.01897038, -0.0954658, 0.020290684, -0.19155909, -0.14847237, -0.13973011, 0.021392789, -0.05533848, -0.034090385, -0.056887127, 0.070846885, 0.18100236, 0.13492021, 0.10983113, -0.01194415, 0.0033753673, -0.011688378, 0.093306266, -0.062177517, 0.04379096, -0.061857775, -0.19817796, 0.123153985, 0.12517229, -0.05018671, 0.12057526, 0.04936708, -0.046084672, 0.19931737, -0.097214945, -0.102353685, 0.06863962, -0.108220235, 0.02734404, -0.033453, 0.08155671, -0.15385462, -0.14619125, ...]               \n",
              "2754    [0.035521317, 0.11344594, 0.20214505, 0.030586706, -0.18599339, 0.0023682078, 0.15518484, -0.088988446, -0.0104938755, 0.045920946, -0.027077213, -0.18725951, 0.15366842, -0.03896866, -0.021850925, -0.13101338, -0.10214641, -0.06529482, 0.17001376, -0.0628186, 0.0033504146, 0.17959574, 0.1745243, -0.037275847, -0.0066113085, -0.099213734, -0.032222137, -0.224235, -0.023048347, -0.1622159, 0.030492632, 0.05025616, 0.054242965, -0.037106544, 0.01056069, -0.06961764, 0.24684761, 0.05160781, -0.105255954, -0.039963923, 0.092465244, -0.06562354, 0.1423415, 0.041160073, -0.11967535, 0.011229293, -0.10604253, -0.07551366, 0.24972035, -0.11008073, 0.029405864, -0.031956356, 0.11673564, -0.23975939, 0.2206031, -0.006652824, 0.13796648, 0.02493328, -0.08505754, -0.07662575, 0.026460316, 0.17698872, 0.00384591, -0.08069256, -0.02962594, -0.13137546, -0.10723997, -0.08942419, 0.007662861, -0.050180756, -0.04497927, -0.1553057, 0.12933822, 0.09268846, 0.11506009, 0.16449124, -0.12975566, 0.06980442, 0.036397323, 0.1359983, -0.03710519, 0.10247635, -0.02619242, -0.18685071, 0.009886602, 0.11994891, 0.08273077, 0.1247979, -0.0144852325, 0.06030652, 0.13289072, -0.051739503, 0.013979459, 0.0006190551, -0.08353992, 0.020923948, -0.038797107, 0.09403739, -0.22667259, -0.05378552, ...]                   \n",
              "3216    [0.07012301, 0.1384207, 0.19392891, 0.020883476, -0.23781216, -0.12072172, 0.09286812, 0.0050702025, -0.114125855, 0.10981894, -0.08373932, -0.23300056, 0.0661852, -0.06937147, -0.004935902, -0.1303974, -0.18628578, -0.06731547, 0.16967085, 0.014301596, 0.0003203202, 0.23201506, 0.05630607, -0.047448978, 0.019453201, -0.058994636, 0.06175878, -0.27741084, 0.017615857, -0.19785416, 0.05915198, 0.06816087, 0.04872551, -0.07564955, -0.06695653, -0.100706115, 0.15206687, 0.033646505, -0.03265463, -0.12519343, 0.064447634, -0.0553304, 0.11476245, 0.11978253, -0.23045386, -0.028558314, -0.13545573, -0.116904885, 0.18965958, -0.17142579, -0.003695987, -0.0004604227, 0.090968326, -0.22387685, 0.20671436, 0.018805906, -0.019053442, -0.07116402, -0.06402162, -0.03277472, -0.006289546, 0.15163668, 0.021244267, -0.13052927, 0.05549249, -0.20190175, -0.103610806, -0.113659665, 0.008459582, -0.00898721, -0.0155398315, -0.016423292, 0.114019096, 0.19940723, 0.109354585, 0.051847782, 0.026119566, -0.013899744, -0.011542566, 0.052683633, -0.068537064, 0.095948994, -0.035912845, -0.16463648, 0.15997465, 0.17252226, 0.006106722, 0.15603407, 0.0053312844, 0.08639623, 0.14515692, -0.021130817, -0.03409917, -0.065693125, -0.094659574, 0.0056654327, -0.017579326, 0.05984129, -0.11102351, -0.14903106, ...]   \n",
              "3401    [0.066284366, 0.107436806, 0.08907313, 0.022531116, -0.12776099, -0.06363263, 0.07041971, -0.0035944602, 0.010436697, 0.028398357, 0.035279587, -0.27112153, 0.18039596, -0.015602231, -0.033659115, 0.016302992, -0.059191067, -0.023679897, 0.08683318, -0.022216719, -0.010800552, 0.18379477, 0.07507139, -0.016954754, 0.07295834, -0.02651989, -0.077968426, -0.32457796, 0.04659885, -0.16904835, 0.1520303, 0.15350461, -0.055607576, -0.043302335, -0.013580326, -0.049449615, 0.2006787, 0.055692885, -0.019439625, -0.043646894, 0.08001556, 0.026359025, 0.1396713, 0.1805677, -0.3709413, 0.17302115, -0.07603202, -0.28320047, 0.17713135, -0.052278563, -0.0009908128, -0.087477066, 0.03680349, -0.16414578, 0.15821978, 0.03067554, 0.018637007, -0.058290865, 0.02458914, 0.04505344, -0.048292495, 0.1464259, 0.1011878, -0.08550969, -0.046184525, -0.08884234, -0.07536882, -0.119170636, -0.014240101, 0.032573298, -0.115134254, -0.12116162, 0.047118858, 0.11799453, 0.16181824, 0.09877602, -0.009063922, 0.025984632, -0.087686166, 0.09792509, -0.022249024, 0.08633423, -0.035579883, -0.20665821, 0.12310149, 0.10407425, -0.110776015, 0.13186778, 0.037117627, 0.1379455, 0.2088759, -0.05637233, -0.0412194, -0.018723961, 0.028411485, 0.17208233, -0.018258996, 0.07629001, -0.21054903, -0.041586664, ...]            \n",
              "...                                                                                                                                                                                                                                                                                                                                                                                                                                                                                                                                                                                                                                                                                                                                                                                                                                                                                                                                                                                                                                                                                                                                                                                                                                                                                                                                                ...            \n",
              "270200  [0.0017499519, 0.17464335, 0.083666794, 0.02820431, -0.2710408, -0.058749955, 0.06740842, 0.0010984086, 0.038274914, 0.053490516, -0.04005226, -0.29226094, 0.018834779, -0.071472235, 0.008529278, -0.028939683, -0.1209844, -0.058602024, 0.061163608, -0.0016560383, 0.05105861, 0.18731281, 0.04631133, -0.009880656, 0.14673269, -0.12867698, 0.032452095, -0.297189, 0.01255286, -0.14043756, 0.04631367, 0.17067039, 0.036166225, -0.02518599, -0.0059882663, -0.16641377, 0.10247686, 0.13488564, 0.0020343927, -0.12586147, 0.11636151, -0.09349889, 0.09265143, 0.07464666, -0.19308971, 0.039285555, -0.17786817, -0.25244308, 0.27977404, -0.063864306, 0.04663258, -0.016278023, 0.116595395, -0.26485005, 0.24171199, 0.08865095, -0.10322589, -0.09144106, -0.005427989, -0.08172429, 0.063589364, 0.19140248, -0.018238563, -0.21471158, 0.10732858, -0.23266757, -0.14086947, -0.15136516, 0.076534756, 0.010766976, -0.084221855, -0.056099944, 0.1003934, 0.17580399, 0.1521699, 0.023099137, -0.0759999, -0.015495787, 0.0063635292, 0.022400234, -0.019980913, -0.04731796, -0.051737692, -0.14683615, 0.08251996, 0.13260993, -0.005105643, 0.14320028, 0.05148525, 0.06337676, 0.13927822, -0.12238546, -0.063496664, -0.056103002, -0.10768141, 0.08007989, -0.08349852, 0.06968385, -0.23113681, -0.12564571, ...]               \n",
              "270205  [-0.063595526, 0.1902669, 0.13067032, -0.10649878, -0.22613035, 0.048192825, 0.009167756, -0.031295672, 0.016185205, 0.046043303, 0.0013872252, -0.29489672, 0.06544105, 0.08706392, -0.08880157, -0.03701522, -0.08349582, 0.013448624, 0.088279165, 0.023385368, 0.010996801, 0.10837623, 0.00423224, -0.038581707, 0.07384785, -0.06579751, -0.020765904, -0.23834188, -0.08035318, -0.13792416, 0.15461996, 0.04415903, -0.09334254, -0.021852275, 0.011149674, -0.10823261, 0.16677754, 0.04906786, -0.01898527, -0.060883254, 0.02206366, -0.03453759, 0.042406328, 0.09738561, -0.12915419, -0.056283854, -0.109968044, -0.093038954, 0.3167045, -0.08262424, -0.049246147, 0.007387765, 0.13382943, -0.16608979, 0.228444, 0.061720796, 0.0806963, -0.08892803, -0.011025398, -0.114547856, 0.10120339, 0.13127401, -0.019914363, -0.029133024, 0.018668775, -0.056391127, -0.14638215, -0.1310993, 0.032141894, 0.10916532, 0.06424299, -0.06594679, 0.07754815, 0.16327742, 0.1940891, 0.10353498, 0.13256446, -0.048989534, 0.038547922, -0.021097615, -0.14637539, 0.16417295, -0.03847835, -0.18270357, 0.06536267, 0.092305094, 0.036275063, 0.1652984, 0.104883306, 0.060827285, 0.07579061, -0.049205367, 0.0047681397, 0.04518836, -0.11780865, 0.06631169, 0.0360218, 0.07257901, -0.24594495, -0.078222096, ...]                       \n",
              "270214  [0.02166095, 0.124250434, 0.052808512, -0.0020240778, -0.24546936, 0.10091282, 0.07216278, -0.13200988, 0.030949576, 0.035976697, 0.04246255, -0.2567844, 0.03692534, 0.02937337, 0.0033025516, -0.04610607, -0.096312076, -0.07494678, 0.04598494, -0.07570729, 0.031249564, 0.12786713, 0.040455338, -0.015117434, 0.029128145, -0.08896143, -0.15172619, -0.13378367, 0.14949742, -0.16669737, 0.044017654, 0.05821296, -0.030061722, -0.11884167, 0.014902871, -0.13425903, 0.16763312, 0.11945402, -0.016428733, -0.100924924, 0.008129455, -0.05944462, 0.054787703, 0.007865145, -0.1608329, -0.008095077, -0.0626848, -0.18797287, 0.25922322, -0.11421653, 0.088085815, -0.0064635593, 0.18842916, -0.22207084, 0.24592938, 0.07528881, 0.028584117, 0.017533991, -0.0366691, -0.0667317, 0.050948933, 0.1747478, 0.13217157, -0.122126885, 0.111756794, -0.14902906, -0.20096041, -0.113159, 0.002015851, -0.07167791, -0.12984759, -0.09494193, 0.1885524, 0.06708584, 0.11425447, 0.09936483, 0.08534933, 0.050169773, 0.024164857, 0.0787299, -0.03971531, 0.16426027, -0.05901534, -0.21070683, 0.09659182, 0.12133629, -0.009551722, 0.17661321, -0.06870182, 0.101909876, 0.13267334, -0.123416446, 0.021386957, -0.016088031, -0.0770355, 0.089714095, -0.057483822, 0.10363595, -0.21528757, -0.14109841, ...]                          \n",
              "270219  [-0.020872924, 0.15045087, 0.22216074, -0.03671194, -0.21011965, -0.07896047, 0.027388118, -0.00974219, -0.04109941, 0.046385918, -0.04741293, -0.2671561, 0.1077762, -0.06328338, -0.07015671, 0.021243183, -0.17634182, -0.010188909, 0.13842079, 0.007528806, 0.034672167, 0.20001777, 0.016538283, -0.044484496, 0.0768115, 0.027027033, -0.032283466, -0.15172857, -0.05738869, -0.09355502, 0.0494618, 0.10554514, -0.022377206, -0.03897224, -0.08745273, -0.073527135, 0.22611596, -0.0035869805, -0.09320458, -0.10445137, 0.052494697, 0.030228853, 0.13349077, 0.10351267, -0.1737384, -0.022463365, -0.08542483, -0.22231588, 0.3387359, -0.14249887, 0.02612635, -0.031535827, 0.18258837, -0.15869486, 0.22862491, 0.03682631, 0.11299711, -0.049226277, 0.0032050712, -0.0148343695, 0.0120555535, 0.11719651, -0.060557887, -0.1060162, -0.06184582, -0.13303682, -0.15845336, -0.07083641, -0.02162607, -0.039469555, 0.023886548, -0.034458183, -0.04891806, 0.115902655, 0.14284495, 0.055352196, -0.02901526, 0.03016634, -0.056156024, 0.09596373, -0.07848696, 0.14587949, 0.006388407, -0.19417259, 0.06739709, 0.04981194, 0.049328256, 0.120934196, 0.09756311, 0.05931317, 0.17395118, -0.12147247, 0.005020241, -0.009281226, -0.07042524, 0.09124932, -0.044629857, 0.06234077, -0.1900276, -0.112745635, ...]                \n",
              "270221  [-0.015674746, 0.18593992, 0.06134362, -0.049367532, -0.21038805, 0.00530573, 0.018039886, -0.06717119, -0.0023720032, 0.13727671, 0.00057190453, -0.27278745, 0.051579714, -0.036743876, -0.11318744, -0.06112517, -0.0924193, -0.13969713, 0.1652835, 0.09566143, -0.030316044, 0.076383136, 0.05013611, -0.0813955, 0.0969651, -0.040396545, 0.05717282, -0.2610391, -0.020258408, -0.15936404, 0.05961411, 0.097439, -0.031500652, -0.09377665, 0.018353218, -0.11368094, 0.15131277, 0.1090386, -0.0005718578, -0.08844679, 0.0063490127, 0.0010749474, 0.05527006, 0.16652928, -0.1340014, 0.0693948, -0.1430464, -0.18869351, 0.27770814, -0.068437204, 0.06731185, 0.031329278, 0.12822218, -0.2254223, 0.3134405, 0.12737113, -0.04133178, -0.09055358, -0.038326237, -0.19388925, 0.07175182, 0.09235618, 0.0010589171, -0.16885231, 0.16303316, -0.08954043, -0.17268308, -0.105265185, 0.11831129, 0.03995135, -0.013324776, -0.14344372, 0.12067104, 0.1789305, 0.18529047, 0.112051964, 0.015900461, -0.06880937, 0.00402317, 0.030913364, -0.11410463, 0.041669548, -0.04242217, -0.2115788, 0.12441141, 0.08140363, 0.0036972722, 0.11126865, -0.030893587, 0.05128317, 0.09411795, -0.057935335, -0.100540645, -0.0038976744, -0.12632428, 0.12167633, -0.1069977, 0.031914793, -0.145937, -0.09689271, ...]                             \n",
              "\n",
              "        category  \n",
              "2583    1         \n",
              "2637    1         \n",
              "2754    3         \n",
              "3216    1         \n",
              "3401    4         \n",
              "...    ..         \n",
              "270200  1         \n",
              "270205  2         \n",
              "270214  2         \n",
              "270219  3         \n",
              "270221  1         \n",
              "\n",
              "[21191 rows x 4 columns]"
            ]
          },
          "metadata": {
            "tags": []
          },
          "execution_count": 48
        }
      ]
    },
    {
      "cell_type": "code",
      "metadata": {
        "id": "cy376xhytSmq",
        "colab_type": "code",
        "colab": {
          "base_uri": "https://localhost:8080/",
          "height": 34
        },
        "outputId": "6f6c19c3-e53a-4b01-eb4d-260cb5b3462b"
      },
      "source": [
        "import numpy as np\n",
        "\n",
        "\n",
        "x = newdata['wv']\n",
        "y = newdata['category']\n",
        "\n",
        "print(x.shape, y.shape)"
      ],
      "execution_count": null,
      "outputs": [
        {
          "output_type": "stream",
          "text": [
            "(21191,) (21191,)\n"
          ],
          "name": "stdout"
        }
      ]
    },
    {
      "cell_type": "code",
      "metadata": {
        "id": "DLsmXKmltwCI",
        "colab_type": "code",
        "colab": {
          "base_uri": "https://localhost:8080/",
          "height": 34
        },
        "outputId": "6f470008-819a-45d7-f94e-7b25db1eedf0"
      },
      "source": [
        "from sklearn.model_selection import train_test_split\n",
        "\n",
        "# 데이터 나누기 - 6:2:2 비율\n",
        "x_train, x_test, y_train, y_test = train_test_split(x, y, test_size=0.2, random_state=1)\n",
        "x_train, x_val, y_train, y_val = train_test_split(x_train, y_train, test_size=0.25, random_state=1)\n",
        "\n",
        "print(x_train.shape, x_val.shape, x_test.shape)"
      ],
      "execution_count": null,
      "outputs": [
        {
          "output_type": "stream",
          "text": [
            "(12714,) (4238,) (4239,)\n"
          ],
          "name": "stdout"
        }
      ]
    },
    {
      "cell_type": "code",
      "metadata": {
        "id": "qZ2X27EztSjN",
        "colab_type": "code",
        "colab": {}
      },
      "source": [
        "from sklearn.svm import SVC"
      ],
      "execution_count": null,
      "outputs": []
    },
    {
      "cell_type": "code",
      "metadata": {
        "id": "hO_aIgXlt4T1",
        "colab_type": "code",
        "colab": {}
      },
      "source": [
        "list_x_train=x_train.tolist()"
      ],
      "execution_count": null,
      "outputs": []
    },
    {
      "cell_type": "code",
      "metadata": {
        "id": "4V3V0JbWtpPh",
        "colab_type": "code",
        "colab": {
          "base_uri": "https://localhost:8080/",
          "height": 87
        },
        "outputId": "d7fe7393-7c67-4e2a-c4ec-927a6aaae580"
      },
      "source": [
        "# linear SVM 학습하기\n",
        "linear_svm = SVC(kernel='linear')\n",
        "linear_svm.fit(list_x_train, y_train)"
      ],
      "execution_count": null,
      "outputs": [
        {
          "output_type": "execute_result",
          "data": {
            "text/plain": [
              "SVC(C=1.0, break_ties=False, cache_size=200, class_weight=None, coef0=0.0,\n",
              "    decision_function_shape='ovr', degree=3, gamma='scale', kernel='linear',\n",
              "    max_iter=-1, probability=False, random_state=None, shrinking=True,\n",
              "    tol=0.001, verbose=False)"
            ]
          },
          "metadata": {
            "tags": []
          },
          "execution_count": 60
        }
      ]
    },
    {
      "cell_type": "code",
      "metadata": {
        "id": "OaiVfk3Xvagw",
        "colab_type": "code",
        "colab": {
          "base_uri": "https://localhost:8080/",
          "height": 34
        },
        "outputId": "bc16a9ed-6159-4a61-f26b-1a4e09beb9b7"
      },
      "source": [
        "# linear SVM accuracy 계산하기\n",
        "from sklearn.metrics import accuracy_score, confusion_matrix\n",
        "list_x_val=x_val.tolist()\n",
        "pred_val = linear_svm.predict(list_x_val)\n",
        "print(f\"accuracy:{accuracy_score(y_val, pred_val)}\")"
      ],
      "execution_count": null,
      "outputs": [
        {
          "output_type": "stream",
          "text": [
            "accuracy:0.9660217083529967\n"
          ],
          "name": "stdout"
        }
      ]
    },
    {
      "cell_type": "code",
      "metadata": {
        "id": "_nX76DoFvycS",
        "colab_type": "code",
        "colab": {
          "base_uri": "https://localhost:8080/",
          "height": 123
        },
        "outputId": "7659371c-c116-4d75-b704-6dd28a8f6545"
      },
      "source": [
        "# 여러 가지 kernel을 사용해 SVM 학습하고 accuracy 계산하기\n",
        "kernels = ['poly','rbf','sigmoid']\n",
        "\n",
        "for kernel in kernels:\n",
        "    print(\"==========================================\") \n",
        "    model = SVC(kernel = kernel)\n",
        "    model.fit(list_x_train, y_train)\n",
        "    pred_val = model.predict(list_x_val)\n",
        "    print(f\"accuracy of {kernel}: {accuracy_score(y_val, pred_val)}\")\n"
      ],
      "execution_count": null,
      "outputs": [
        {
          "output_type": "stream",
          "text": [
            "==========================================\n",
            "accuracy of poly: 0.9650778669183577\n",
            "==========================================\n",
            "accuracy of rbf: 0.9664936290703162\n",
            "==========================================\n",
            "accuracy of sigmoid: 0.9613025011798018\n"
          ],
          "name": "stdout"
        }
      ]
    },
    {
      "cell_type": "code",
      "metadata": {
        "id": "Obtefa_vxdhV",
        "colab_type": "code",
        "colab": {
          "base_uri": "https://localhost:8080/",
          "height": 34
        },
        "outputId": "49c42b9e-f2c3-40bc-ef9a-de5df9640ed1"
      },
      "source": [
        "# 가장 좋다고 판단되는 SVM 모델로 test data 정확도 확인하기\n",
        "rbf_svm = SVC(kernel = 'rbf')\n",
        "rbf_svm.fit(list_x_train, y_train)\n",
        "list_x_test= x_test.tolist()\n",
        "pred_test = rbf_svm.predict(list_x_test)\n",
        "\n",
        "print(f'test accuracy of rbf SVM: {accuracy_score(y_test, pred_test)}')\n"
      ],
      "execution_count": null,
      "outputs": [
        {
          "output_type": "stream",
          "text": [
            "test accuracy of rbf SVM: 0.9648502005189903\n"
          ],
          "name": "stdout"
        }
      ]
    },
    {
      "cell_type": "code",
      "metadata": {
        "id": "DcCGb5PhzDKB",
        "colab_type": "code",
        "colab": {}
      },
      "source": [
        ""
      ],
      "execution_count": null,
      "outputs": []
    },
    {
      "cell_type": "code",
      "metadata": {
        "id": "EstJw2Cuykbl",
        "colab_type": "code",
        "colab": {}
      },
      "source": [
        "from gensim.models import Word2Vec"
      ],
      "execution_count": null,
      "outputs": []
    },
    {
      "cell_type": "code",
      "metadata": {
        "id": "1n1rJK67ylYT",
        "colab_type": "code",
        "colab": {
          "base_uri": "https://localhost:8080/",
          "height": 72
        },
        "outputId": "dc45fb2c-2c32-4ae7-dd95-57fb44f472d8"
      },
      "source": [
        "\n",
        "# w2v모델 불러오기 \n",
        "model = Word2Vec.load('embedding.save')"
      ],
      "execution_count": null,
      "outputs": [
        {
          "output_type": "stream",
          "text": [
            "/usr/local/lib/python3.6/dist-packages/smart_open/smart_open_lib.py:254: UserWarning: This function is deprecated, use smart_open.open instead. See the migration notes for details: https://github.com/RaRe-Technologies/smart_open/blob/master/README.rst#migrating-to-the-new-open-function\n",
            "  'See the migration notes for details: %s' % _MIGRATION_NOTES_URL\n"
          ],
          "name": "stderr"
        }
      ]
    },
    {
      "cell_type": "code",
      "metadata": {
        "id": "6HeV6v1pyto8",
        "colab_type": "code",
        "colab": {
          "base_uri": "https://localhost:8080/",
          "height": 347
        },
        "outputId": "93d89013-82d5-4ba2-d79c-4d58887266c0"
      },
      "source": [
        "mecab = Mecab()\n",
        "ex= '''\n",
        "지인의 집에서 짐을 챙기고 들어옴\n",
        "기초생활비 집행이 되었음을 알리고 교통비등으로 사용할것을 안내함\n",
        "생활관 입소목표에 대하여 물으니 운전면허를 이용한 취업 예를 들어 요양병원 환자 이송 운전원,농산물 시장 운전등을 이야기 하여 허그일자리를 연계함\n",
        "대상자는 사고로 인해서 한쪽 눈과 귀가 불능이라고 하였지만 운전면허 적성검사를 합격하여 2027년까지 운전이 가능하다함.\n",
        "'''\n",
        "\n",
        "ex = get_tokens(ex)\n",
        "vector = get_sentence_mean_vector(ex)\n",
        "len(vector)"
      ],
      "execution_count": null,
      "outputs": [
        {
          "output_type": "error",
          "ename": "AttributeError",
          "evalue": "ignored",
          "traceback": [
            "\u001b[0;31m---------------------------------------------------------------------------\u001b[0m",
            "\u001b[0;31mAttributeError\u001b[0m                            Traceback (most recent call last)",
            "\u001b[0;32m<ipython-input-69-523d41732071>\u001b[0m in \u001b[0;36m<module>\u001b[0;34m()\u001b[0m\n\u001b[1;32m      8\u001b[0m \u001b[0;34m\u001b[0m\u001b[0m\n\u001b[1;32m      9\u001b[0m \u001b[0mex\u001b[0m \u001b[0;34m=\u001b[0m \u001b[0mget_tokens\u001b[0m\u001b[0;34m(\u001b[0m\u001b[0mex\u001b[0m\u001b[0;34m)\u001b[0m\u001b[0;34m\u001b[0m\u001b[0;34m\u001b[0m\u001b[0m\n\u001b[0;32m---> 10\u001b[0;31m \u001b[0mvector\u001b[0m \u001b[0;34m=\u001b[0m \u001b[0mget_sentence_mean_vector\u001b[0m\u001b[0;34m(\u001b[0m\u001b[0mex\u001b[0m\u001b[0;34m)\u001b[0m\u001b[0;34m\u001b[0m\u001b[0;34m\u001b[0m\u001b[0m\n\u001b[0m\u001b[1;32m     11\u001b[0m \u001b[0mlen\u001b[0m\u001b[0;34m(\u001b[0m\u001b[0mvector\u001b[0m\u001b[0;34m)\u001b[0m\u001b[0;34m\u001b[0m\u001b[0;34m\u001b[0m\u001b[0m\n",
            "\u001b[0;32m<ipython-input-22-34aff8b9bebe>\u001b[0m in \u001b[0;36mget_sentence_mean_vector\u001b[0;34m(morphs)\u001b[0m\n\u001b[1;32m      4\u001b[0m     \u001b[0;32mfor\u001b[0m \u001b[0mi\u001b[0m \u001b[0;32min\u001b[0m \u001b[0mmorphs\u001b[0m\u001b[0;34m:\u001b[0m\u001b[0;34m\u001b[0m\u001b[0;34m\u001b[0m\u001b[0m\n\u001b[1;32m      5\u001b[0m         \u001b[0;32mtry\u001b[0m\u001b[0;34m:\u001b[0m\u001b[0;34m\u001b[0m\u001b[0;34m\u001b[0m\u001b[0m\n\u001b[0;32m----> 6\u001b[0;31m             \u001b[0mvector\u001b[0m\u001b[0;34m.\u001b[0m\u001b[0mappend\u001b[0m\u001b[0;34m(\u001b[0m\u001b[0mmodel\u001b[0m\u001b[0;34m.\u001b[0m\u001b[0mwv\u001b[0m\u001b[0;34m[\u001b[0m\u001b[0mi\u001b[0m\u001b[0;34m]\u001b[0m\u001b[0;34m)\u001b[0m\u001b[0;34m\u001b[0m\u001b[0;34m\u001b[0m\u001b[0m\n\u001b[0m\u001b[1;32m      7\u001b[0m         \u001b[0;32mexcept\u001b[0m \u001b[0mKeyError\u001b[0m \u001b[0;32mas\u001b[0m \u001b[0me\u001b[0m\u001b[0;34m:\u001b[0m\u001b[0;34m\u001b[0m\u001b[0;34m\u001b[0m\u001b[0m\n\u001b[1;32m      8\u001b[0m             \u001b[0;32mpass\u001b[0m\u001b[0;34m\u001b[0m\u001b[0;34m\u001b[0m\u001b[0m\n",
            "\u001b[0;31mAttributeError\u001b[0m: 'SVC' object has no attribute 'wv'"
          ]
        }
      ]
    },
    {
      "cell_type": "code",
      "metadata": {
        "id": "3QIilr48yGrs",
        "colab_type": "code",
        "colab": {}
      },
      "source": [
        "#테스트\n",
        "ex= '''\n",
        "지인의 집에서 짐을 챙기고 들어옴\n",
        "기초생활비 집행이 되었음을 알리고 교통비등으로 사용할것을 안내함\n",
        "생활관 입소목표에 대하여 물으니 운전면허를 이용한 취업 예를 들어 요양병원 환자 이송 운전원,농산물 시장 운전등을 이야기 하여 허그일자리를 연계함\n",
        "대상자는 사고로 인해서 한쪽 눈과 귀가 불능이라고 하였지만 운전면허 적성검사를 합격하여 2027년까지 운전이 가능하다함.\n",
        "'''\n",
        "\n",
        "\n",
        "#명사로 바꾸고 워드투백 적용 트위터에서 했던거 다적ㅇ용\n",
        "#아웃풋은 벡터 그값이 테스트 "
      ],
      "execution_count": null,
      "outputs": []
    },
    {
      "cell_type": "code",
      "metadata": {
        "id": "DCXVyZB6yj24",
        "colab_type": "code",
        "colab": {}
      },
      "source": [
        "# 각 조합에 대해 SVM 학습하고 accuracy 계산하기\n",
        "C = [1, 10, 100, 1000]\n",
        "Gamma = [0.00001, 0.0001, 0.001, 0.01]\n",
        "\n",
        "for c in C:\n",
        "    for gamma in Gamma:\n",
        "        print(\"======================================\")\n",
        "        model = SVC(kernel = 'rbf', C=c, gamma=gamma)\n",
        "        model.fit(list_x_train, y_train)\n",
        "        pred_val = model.predict(list_x_val)\n",
        "        print(f\"accuracy of C={c}, gamma={gamma}: {accuracy_score(y_val, pred_val)}\")\n",
        "        "
      ],
      "execution_count": null,
      "outputs": []
    },
    {
      "cell_type": "code",
      "metadata": {
        "id": "dLRej0vmwKKH",
        "colab_type": "code",
        "colab": {}
      },
      "source": [
        "from sklearn.model_selection import GridSearchCV\n",
        "\n",
        "# GridSearchCV에서 cross validation을 하므로, validation data가 필요없음\n",
        "x_train, x_test, y_train, y_test = train_test_split(x, y, test_size=0.2, random_state=1)\n",
        "\n",
        "# 아래와 같이 탐색할 조합들을 지정\n",
        "param_grid = {'C': [1, 10, 100, 1000,10000], \n",
        "              'gamma': [0.00001,0.00001, 0.0001, 0.001, 0.01]}"
      ],
      "execution_count": null,
      "outputs": []
    },
    {
      "cell_type": "code",
      "metadata": {
        "id": "WMdPdcElwQ4E",
        "colab_type": "code",
        "colab": {}
      },
      "source": [
        "# GridSearchCV를 이용하여 분류하기\n",
        "svm_grid = GridSearchCV(estimator=SVC(), param_grid=param_grid, cv=4, scoring='accuracy')\n",
        "list_x_train = x_train.tolist()\n",
        "svm_grid.fit(list_x_train, y_train)"
      ],
      "execution_count": null,
      "outputs": []
    },
    {
      "cell_type": "code",
      "metadata": {
        "id": "AYfE6ybVwX8B",
        "colab_type": "code",
        "colab": {}
      },
      "source": [
        "# 최적의 조합과 그 때의 점수 알아보기\n",
        "print(svm_grid.best_params_)\n",
        "print(svm_grid.best_score_)"
      ],
      "execution_count": null,
      "outputs": []
    },
    {
      "cell_type": "code",
      "metadata": {
        "id": "kHqm_FJpwhMd",
        "colab_type": "code",
        "colab": {}
      },
      "source": [
        "# test data에 대한 정확도 계산하기\n",
        "pred_test2 = svm_grid.best_estimator_.predict(x_test)\n",
        "print(f'test accuracy of rbf SVM grid: {accuracy_score(y_test, pred_test2)}')"
      ],
      "execution_count": null,
      "outputs": []
    },
    {
      "cell_type": "code",
      "metadata": {
        "id": "GpJmRTrzwiDY",
        "colab_type": "code",
        "colab": {}
      },
      "source": [
        ""
      ],
      "execution_count": null,
      "outputs": []
    },
    {
      "cell_type": "markdown",
      "metadata": {
        "id": "d15oY_xlD43E",
        "colab_type": "text"
      },
      "source": [
        "#빈것 제거 "
      ]
    },
    {
      "cell_type": "code",
      "metadata": {
        "id": "hDA6KwfUD3N-",
        "colab_type": "code",
        "colab": {}
      },
      "source": [
        "bio_exists_df = bio_exists_df.dropna()\n",
        "#bio_exists_df = bio_exists_df.drop_duplicates('user.id')"
      ],
      "execution_count": null,
      "outputs": []
    },
    {
      "cell_type": "code",
      "metadata": {
        "id": "vgsiSdMdD6tJ",
        "colab_type": "code",
        "colab": {
          "base_uri": "https://localhost:8080/",
          "height": 34
        },
        "outputId": "4933e567-56e7-477a-9ff8-15a51cb15f2c"
      },
      "source": [
        "len(bio_exists_df)"
      ],
      "execution_count": null,
      "outputs": [
        {
          "output_type": "execute_result",
          "data": {
            "text/plain": [
              "21191"
            ]
          },
          "metadata": {
            "tags": []
          },
          "execution_count": 27
        }
      ]
    },
    {
      "cell_type": "markdown",
      "metadata": {
        "id": "sKVKs-1sEEn3",
        "colab_type": "text"
      },
      "source": [
        "#KMEANS"
      ]
    },
    {
      "cell_type": "code",
      "metadata": {
        "id": "0Z3n0TCrGUkX",
        "colab_type": "code",
        "colab": {
          "base_uri": "https://localhost:8080/",
          "height": 527
        },
        "outputId": "2ef9937a-8597-4a5c-eb52-39d110e99a8e"
      },
      "source": [
        "bio_exists_df.head(1)"
      ],
      "execution_count": null,
      "outputs": [
        {
          "output_type": "execute_result",
          "data": {
            "text/html": [
              "<div>\n",
              "<style scoped>\n",
              "    .dataframe tbody tr th:only-of-type {\n",
              "        vertical-align: middle;\n",
              "    }\n",
              "\n",
              "    .dataframe tbody tr th {\n",
              "        vertical-align: top;\n",
              "    }\n",
              "\n",
              "    .dataframe thead th {\n",
              "        text-align: right;\n",
              "    }\n",
              "</style>\n",
              "<table border=\"1\" class=\"dataframe\">\n",
              "  <thead>\n",
              "    <tr style=\"text-align: right;\">\n",
              "      <th></th>\n",
              "      <th>DSJ_CARD_NO</th>\n",
              "      <th>DSJ_JUMIN_NO</th>\n",
              "      <th>CONSULT_DATE</th>\n",
              "      <th>CARE_OPEN_CLASS_NM</th>\n",
              "      <th>CONSULT_CONT</th>\n",
              "      <th>JAEBUM</th>\n",
              "      <th>JAEBUM_1</th>\n",
              "      <th>출생년도</th>\n",
              "      <th>연령</th>\n",
              "      <th>학력</th>\n",
              "      <th>죄명</th>\n",
              "      <th>CARE_OPEN_CLASS_NM_1</th>\n",
              "      <th>user_mecab</th>\n",
              "      <th>user_mecab_len</th>\n",
              "      <th>wv</th>\n",
              "    </tr>\n",
              "  </thead>\n",
              "  <tbody>\n",
              "    <tr>\n",
              "      <th>2583</th>\n",
              "      <td>100020120288</td>\n",
              "      <td>4ITuomhVxxwhUfg9Hxg/6A==</td>\n",
              "      <td>20130828</td>\n",
              "      <td>10</td>\n",
              "      <td>숙식제공 연장과 관련하여 면담을 실시하였으며 현재 저축실적이 없고 성실하지 못한 태도로 생활해 왔던 점을 지적하고 연장이 어려울 것같다고 알려주었으며 본인이 나가는 현장에서 제공하는 숙소에서 생활하겠다며 퇴소를 희망하여 성실히 노력해 자립할 수 있도록 노력해 줄것을 당부하고 보호종료 처리함</td>\n",
              "      <td>0</td>\n",
              "      <td>0</td>\n",
              "      <td>1979</td>\n",
              "      <td>30</td>\n",
              "      <td>1</td>\n",
              "      <td>40</td>\n",
              "      <td>10</td>\n",
              "      <td>[숙식, 제공, 연장, 관련, 면담, 실시, 저축, 실적, 성실, 태도, 생활, 지적, 연장, 본인, 현장, 제공, 숙소, 생활, 퇴소, 희망, 노력, 자립, 노력, 당부, 보호, 종료, 처리]</td>\n",
              "      <td>27</td>\n",
              "      <td>[0.022427034, 0.20771548, 0.15720652, 0.041360263, -0.2586705, -0.049667887, 0.15541458, 0.0008102008, 0.018608604, 0.1271001, -0.023626462, -0.21867129, 0.10545426, -0.010349628, -0.0005828898, -0.08517236, -0.07292266, -0.09192299, 0.16128847, -0.08617859, 0.08614653, 0.1997228, 0.018213466, -0.0029917315, 0.111996286, -0.013965525, 0.03408659, -0.24751055, 0.037857603, -0.11053614, 0.0707694, 0.11527688, 0.032823477, -0.036801506, -0.07037376, -0.07503013, 0.18551004, 0.11486343, -0.019247122, -0.15579675, -0.011566204, -0.06820336, 0.14685856, 0.14364074, -0.2498748, 0.017659435, -0.12734531, -0.24599133, 0.23310846, -0.113730274, 0.07487614, -0.046728, 0.07864619, -0.22571386, 0.21350747, 0.086509466, -0.052435018, -0.04727672, -0.057193194, -0.041738868, 0.009822437, 0.17759638, 0.05228128, -0.15126926, 0.03204389, -0.15385017, -0.11346399, -0.15373087, 0.035629187, -0.010854018, -0.008044587, -0.04176231, 0.066286154, 0.10626233, 0.15844719, 0.08412814, -0.01572698, 0.041869313, -0.019369218, 0.0777311, -0.10025058, -0.011132741, -0.0289444, -0.15027015, 0.14524275, 0.05637732, -0.035015795, 0.16119067, 0.088129014, 0.008788134, 0.10065247, -0.11232715, -0.05042138, 0.046035673, -0.14953803, 0.0035652716, 0.013114619, 0.100665204, -0.24380256, -0.14170904, ...]</td>\n",
              "    </tr>\n",
              "  </tbody>\n",
              "</table>\n",
              "</div>"
            ],
            "text/plain": [
              "       DSJ_CARD_NO              DSJ_JUMIN_NO  CONSULT_DATE  \\\n",
              "2583  100020120288  4ITuomhVxxwhUfg9Hxg/6A==  20130828       \n",
              "\n",
              "      CARE_OPEN_CLASS_NM  \\\n",
              "2583  10                   \n",
              "\n",
              "                                                                                                                                                            CONSULT_CONT  \\\n",
              "2583  숙식제공 연장과 관련하여 면담을 실시하였으며 현재 저축실적이 없고 성실하지 못한 태도로 생활해 왔던 점을 지적하고 연장이 어려울 것같다고 알려주었으며 본인이 나가는 현장에서 제공하는 숙소에서 생활하겠다며 퇴소를 희망하여 성실히 노력해 자립할 수 있도록 노력해 줄것을 당부하고 보호종료 처리함   \n",
              "\n",
              "      JAEBUM  JAEBUM_1  출생년도  연령  학력  죄명  CARE_OPEN_CLASS_NM_1  \\\n",
              "2583  0       0         1979  30  1   40  10                     \n",
              "\n",
              "                                                                                                        user_mecab  \\\n",
              "2583  [숙식, 제공, 연장, 관련, 면담, 실시, 저축, 실적, 성실, 태도, 생활, 지적, 연장, 본인, 현장, 제공, 숙소, 생활, 퇴소, 희망, 노력, 자립, 노력, 당부, 보호, 종료, 처리]   \n",
              "\n",
              "      user_mecab_len  \\\n",
              "2583  27               \n",
              "\n",
              "                                                                                                                                                                                                                                                                                                                                                                                                                                                                                                                                                                                                                                                                                                                                                                                                                                                                                                                                                                                                                                                                                                                                                                                                                                                                                                                                            wv  \n",
              "2583  [0.022427034, 0.20771548, 0.15720652, 0.041360263, -0.2586705, -0.049667887, 0.15541458, 0.0008102008, 0.018608604, 0.1271001, -0.023626462, -0.21867129, 0.10545426, -0.010349628, -0.0005828898, -0.08517236, -0.07292266, -0.09192299, 0.16128847, -0.08617859, 0.08614653, 0.1997228, 0.018213466, -0.0029917315, 0.111996286, -0.013965525, 0.03408659, -0.24751055, 0.037857603, -0.11053614, 0.0707694, 0.11527688, 0.032823477, -0.036801506, -0.07037376, -0.07503013, 0.18551004, 0.11486343, -0.019247122, -0.15579675, -0.011566204, -0.06820336, 0.14685856, 0.14364074, -0.2498748, 0.017659435, -0.12734531, -0.24599133, 0.23310846, -0.113730274, 0.07487614, -0.046728, 0.07864619, -0.22571386, 0.21350747, 0.086509466, -0.052435018, -0.04727672, -0.057193194, -0.041738868, 0.009822437, 0.17759638, 0.05228128, -0.15126926, 0.03204389, -0.15385017, -0.11346399, -0.15373087, 0.035629187, -0.010854018, -0.008044587, -0.04176231, 0.066286154, 0.10626233, 0.15844719, 0.08412814, -0.01572698, 0.041869313, -0.019369218, 0.0777311, -0.10025058, -0.011132741, -0.0289444, -0.15027015, 0.14524275, 0.05637732, -0.035015795, 0.16119067, 0.088129014, 0.008788134, 0.10065247, -0.11232715, -0.05042138, 0.046035673, -0.14953803, 0.0035652716, 0.013114619, 0.100665204, -0.24380256, -0.14170904, ...]  "
            ]
          },
          "metadata": {
            "tags": []
          },
          "execution_count": 28
        }
      ]
    },
    {
      "cell_type": "code",
      "metadata": {
        "id": "Nvw_EN-0D69S",
        "colab_type": "code",
        "colab": {}
      },
      "source": [
        "from sklearn.cluster import KMeans\n",
        "import time"
      ],
      "execution_count": null,
      "outputs": []
    },
    {
      "cell_type": "code",
      "metadata": {
        "id": "CqLhZIi_Ghfs",
        "colab_type": "code",
        "colab": {
          "base_uri": "https://localhost:8080/"
        },
        "outputId": "2231c66e-5623-42c9-85f4-aa44e816e63f"
      },
      "source": [
        "feature= bio_exists_df[ ['JAEBUM','JAEBUM_1','출생년도','연령','학력','죄명','wv']]\n",
        "feature.head()"
      ],
      "execution_count": null,
      "outputs": [
        {
          "output_type": "execute_result",
          "data": {
            "text/html": [
              "<div>\n",
              "<style scoped>\n",
              "    .dataframe tbody tr th:only-of-type {\n",
              "        vertical-align: middle;\n",
              "    }\n",
              "\n",
              "    .dataframe tbody tr th {\n",
              "        vertical-align: top;\n",
              "    }\n",
              "\n",
              "    .dataframe thead th {\n",
              "        text-align: right;\n",
              "    }\n",
              "</style>\n",
              "<table border=\"1\" class=\"dataframe\">\n",
              "  <thead>\n",
              "    <tr style=\"text-align: right;\">\n",
              "      <th></th>\n",
              "      <th>JAEBUM</th>\n",
              "      <th>JAEBUM_1</th>\n",
              "      <th>출생년도</th>\n",
              "      <th>연령</th>\n",
              "      <th>학력</th>\n",
              "      <th>죄명</th>\n",
              "      <th>wv</th>\n",
              "    </tr>\n",
              "  </thead>\n",
              "  <tbody>\n",
              "    <tr>\n",
              "      <th>2583</th>\n",
              "      <td>0</td>\n",
              "      <td>0</td>\n",
              "      <td>1979</td>\n",
              "      <td>30</td>\n",
              "      <td>1</td>\n",
              "      <td>40</td>\n",
              "      <td>[0.022427034, 0.20771548, 0.15720652, 0.041360263, -0.2586705, -0.049667887, 0.15541458, 0.0008102008, 0.018608604, 0.1271001, -0.023626462, -0.21867129, 0.10545426, -0.010349628, -0.0005828898, -0.08517236, -0.07292266, -0.09192299, 0.16128847, -0.08617859, 0.08614653, 0.1997228, 0.018213466, -0.0029917315, 0.111996286, -0.013965525, 0.03408659, -0.24751055, 0.037857603, -0.11053614, 0.0707694, 0.11527688, 0.032823477, -0.036801506, -0.07037376, -0.07503013, 0.18551004, 0.11486343, -0.019247122, -0.15579675, -0.011566204, -0.06820336, 0.14685856, 0.14364074, -0.2498748, 0.017659435, -0.12734531, -0.24599133, 0.23310846, -0.113730274, 0.07487614, -0.046728, 0.07864619, -0.22571386, 0.21350747, 0.086509466, -0.052435018, -0.04727672, -0.057193194, -0.041738868, 0.009822437, 0.17759638, 0.05228128, -0.15126926, 0.03204389, -0.15385017, -0.11346399, -0.15373087, 0.035629187, -0.010854018, -0.008044587, -0.04176231, 0.066286154, 0.10626233, 0.15844719, 0.08412814, -0.01572698, 0.041869313, -0.019369218, 0.0777311, -0.10025058, -0.011132741, -0.0289444, -0.15027015, 0.14524275, 0.05637732, -0.035015795, 0.16119067, 0.088129014, 0.008788134, 0.10065247, -0.11232715, -0.05042138, 0.046035673, -0.14953803, 0.0035652716, 0.013114619, 0.100665204, -0.24380256, -0.14170904, ...]</td>\n",
              "    </tr>\n",
              "    <tr>\n",
              "      <th>2637</th>\n",
              "      <td>0</td>\n",
              "      <td>0</td>\n",
              "      <td>1951</td>\n",
              "      <td>60</td>\n",
              "      <td>1</td>\n",
              "      <td>80</td>\n",
              "      <td>[0.0024143592, 0.22359283, 0.23931776, -0.009176803, -0.1724028, -0.083909586, 0.1681236, -0.063299514, 0.0022536581, 0.10028522, -0.061160978, -0.26443684, 0.1035318, -0.0053499066, -0.08260588, -0.06697911, -0.15039046, -0.08976439, 0.16005832, -0.043520432, 0.055920128, 0.19715787, 0.015458684, -0.08049787, 0.13672799, 0.03363407, 0.1086228, -0.25755742, -0.0047695427, -0.16981412, 0.0035845698, 0.16977301, 0.021523194, -0.034833618, 0.018917833, -0.15472627, 0.2378537, 0.12229541, -0.028515767, -0.10188825, 0.011147623, -0.007516608, 0.12794548, 0.1338913, -0.18557578, -0.00695003, -0.13810477, -0.21401376, 0.2947855, -0.14790349, 0.04717244, -0.041193433, 0.08038572, -0.14352846, 0.25293458, 0.062639534, 0.056940798, 0.0056231664, -0.099885665, -0.10206846, 0.011044491, 0.12550586, 0.01897038, -0.0954658, 0.020290684, -0.19155909, -0.14847237, -0.13973011, 0.021392789, -0.05533848, -0.034090385, -0.056887127, 0.070846885, 0.18100236, 0.13492021, 0.10983113, -0.01194415, 0.0033753673, -0.011688378, 0.093306266, -0.062177517, 0.04379096, -0.061857775, -0.19817796, 0.123153985, 0.12517229, -0.05018671, 0.12057526, 0.04936708, -0.046084672, 0.19931737, -0.097214945, -0.102353685, 0.06863962, -0.108220235, 0.02734404, -0.033453, 0.08155671, -0.15385462, -0.14619125, ...]</td>\n",
              "    </tr>\n",
              "    <tr>\n",
              "      <th>2754</th>\n",
              "      <td>0</td>\n",
              "      <td>1</td>\n",
              "      <td>1954</td>\n",
              "      <td>50</td>\n",
              "      <td>2</td>\n",
              "      <td>80</td>\n",
              "      <td>[0.035521317, 0.11344594, 0.20214505, 0.030586706, -0.18599339, 0.0023682078, 0.15518484, -0.088988446, -0.0104938755, 0.045920946, -0.027077213, -0.18725951, 0.15366842, -0.03896866, -0.021850925, -0.13101338, -0.10214641, -0.06529482, 0.17001376, -0.0628186, 0.0033504146, 0.17959574, 0.1745243, -0.037275847, -0.0066113085, -0.099213734, -0.032222137, -0.224235, -0.023048347, -0.1622159, 0.030492632, 0.05025616, 0.054242965, -0.037106544, 0.01056069, -0.06961764, 0.24684761, 0.05160781, -0.105255954, -0.039963923, 0.092465244, -0.06562354, 0.1423415, 0.041160073, -0.11967535, 0.011229293, -0.10604253, -0.07551366, 0.24972035, -0.11008073, 0.029405864, -0.031956356, 0.11673564, -0.23975939, 0.2206031, -0.006652824, 0.13796648, 0.02493328, -0.08505754, -0.07662575, 0.026460316, 0.17698872, 0.00384591, -0.08069256, -0.02962594, -0.13137546, -0.10723997, -0.08942419, 0.007662861, -0.050180756, -0.04497927, -0.1553057, 0.12933822, 0.09268846, 0.11506009, 0.16449124, -0.12975566, 0.06980442, 0.036397323, 0.1359983, -0.03710519, 0.10247635, -0.02619242, -0.18685071, 0.009886602, 0.11994891, 0.08273077, 0.1247979, -0.0144852325, 0.06030652, 0.13289072, -0.051739503, 0.013979459, 0.0006190551, -0.08353992, 0.020923948, -0.038797107, 0.09403739, -0.22667259, -0.05378552, ...]</td>\n",
              "    </tr>\n",
              "    <tr>\n",
              "      <th>3216</th>\n",
              "      <td>0</td>\n",
              "      <td>1</td>\n",
              "      <td>1958</td>\n",
              "      <td>50</td>\n",
              "      <td>1</td>\n",
              "      <td>60</td>\n",
              "      <td>[0.07012301, 0.1384207, 0.19392891, 0.020883476, -0.23781216, -0.12072172, 0.09286812, 0.0050702025, -0.114125855, 0.10981894, -0.08373932, -0.23300056, 0.0661852, -0.06937147, -0.004935902, -0.1303974, -0.18628578, -0.06731547, 0.16967085, 0.014301596, 0.0003203202, 0.23201506, 0.05630607, -0.047448978, 0.019453201, -0.058994636, 0.06175878, -0.27741084, 0.017615857, -0.19785416, 0.05915198, 0.06816087, 0.04872551, -0.07564955, -0.06695653, -0.100706115, 0.15206687, 0.033646505, -0.03265463, -0.12519343, 0.064447634, -0.0553304, 0.11476245, 0.11978253, -0.23045386, -0.028558314, -0.13545573, -0.116904885, 0.18965958, -0.17142579, -0.003695987, -0.0004604227, 0.090968326, -0.22387685, 0.20671436, 0.018805906, -0.019053442, -0.07116402, -0.06402162, -0.03277472, -0.006289546, 0.15163668, 0.021244267, -0.13052927, 0.05549249, -0.20190175, -0.103610806, -0.113659665, 0.008459582, -0.00898721, -0.0155398315, -0.016423292, 0.114019096, 0.19940723, 0.109354585, 0.051847782, 0.026119566, -0.013899744, -0.011542566, 0.052683633, -0.068537064, 0.095948994, -0.035912845, -0.16463648, 0.15997465, 0.17252226, 0.006106722, 0.15603407, 0.0053312844, 0.08639623, 0.14515692, -0.021130817, -0.03409917, -0.065693125, -0.094659574, 0.0056654327, -0.017579326, 0.05984129, -0.11102351, -0.14903106, ...]</td>\n",
              "    </tr>\n",
              "    <tr>\n",
              "      <th>3401</th>\n",
              "      <td>0</td>\n",
              "      <td>1</td>\n",
              "      <td>1960</td>\n",
              "      <td>50</td>\n",
              "      <td>1</td>\n",
              "      <td>990</td>\n",
              "      <td>[0.066284366, 0.107436806, 0.08907313, 0.022531116, -0.12776099, -0.06363263, 0.07041971, -0.0035944602, 0.010436697, 0.028398357, 0.035279587, -0.27112153, 0.18039596, -0.015602231, -0.033659115, 0.016302992, -0.059191067, -0.023679897, 0.08683318, -0.022216719, -0.010800552, 0.18379477, 0.07507139, -0.016954754, 0.07295834, -0.02651989, -0.077968426, -0.32457796, 0.04659885, -0.16904835, 0.1520303, 0.15350461, -0.055607576, -0.043302335, -0.013580326, -0.049449615, 0.2006787, 0.055692885, -0.019439625, -0.043646894, 0.08001556, 0.026359025, 0.1396713, 0.1805677, -0.3709413, 0.17302115, -0.07603202, -0.28320047, 0.17713135, -0.052278563, -0.0009908128, -0.087477066, 0.03680349, -0.16414578, 0.15821978, 0.03067554, 0.018637007, -0.058290865, 0.02458914, 0.04505344, -0.048292495, 0.1464259, 0.1011878, -0.08550969, -0.046184525, -0.08884234, -0.07536882, -0.119170636, -0.014240101, 0.032573298, -0.115134254, -0.12116162, 0.047118858, 0.11799453, 0.16181824, 0.09877602, -0.009063922, 0.025984632, -0.087686166, 0.09792509, -0.022249024, 0.08633423, -0.035579883, -0.20665821, 0.12310149, 0.10407425, -0.110776015, 0.13186778, 0.037117627, 0.1379455, 0.2088759, -0.05637233, -0.0412194, -0.018723961, 0.028411485, 0.17208233, -0.018258996, 0.07629001, -0.21054903, -0.041586664, ...]</td>\n",
              "    </tr>\n",
              "  </tbody>\n",
              "</table>\n",
              "</div>"
            ],
            "text/plain": [
              "      JAEBUM  JAEBUM_1  출생년도  연령  학력   죄명  \\\n",
              "2583  0       0         1979  30  1   40    \n",
              "2637  0       0         1951  60  1   80    \n",
              "2754  0       1         1954  50  2   80    \n",
              "3216  0       1         1958  50  1   60    \n",
              "3401  0       1         1960  50  1   990   \n",
              "\n",
              "                                                                                                                                                                                                                                                                                                                                                                                                                                                                                                                                                                                                                                                                                                                                                                                                                                                                                                                                                                                                                                                                                                                                                                                                                                                                                                                                                           wv  \n",
              "2583  [0.022427034, 0.20771548, 0.15720652, 0.041360263, -0.2586705, -0.049667887, 0.15541458, 0.0008102008, 0.018608604, 0.1271001, -0.023626462, -0.21867129, 0.10545426, -0.010349628, -0.0005828898, -0.08517236, -0.07292266, -0.09192299, 0.16128847, -0.08617859, 0.08614653, 0.1997228, 0.018213466, -0.0029917315, 0.111996286, -0.013965525, 0.03408659, -0.24751055, 0.037857603, -0.11053614, 0.0707694, 0.11527688, 0.032823477, -0.036801506, -0.07037376, -0.07503013, 0.18551004, 0.11486343, -0.019247122, -0.15579675, -0.011566204, -0.06820336, 0.14685856, 0.14364074, -0.2498748, 0.017659435, -0.12734531, -0.24599133, 0.23310846, -0.113730274, 0.07487614, -0.046728, 0.07864619, -0.22571386, 0.21350747, 0.086509466, -0.052435018, -0.04727672, -0.057193194, -0.041738868, 0.009822437, 0.17759638, 0.05228128, -0.15126926, 0.03204389, -0.15385017, -0.11346399, -0.15373087, 0.035629187, -0.010854018, -0.008044587, -0.04176231, 0.066286154, 0.10626233, 0.15844719, 0.08412814, -0.01572698, 0.041869313, -0.019369218, 0.0777311, -0.10025058, -0.011132741, -0.0289444, -0.15027015, 0.14524275, 0.05637732, -0.035015795, 0.16119067, 0.088129014, 0.008788134, 0.10065247, -0.11232715, -0.05042138, 0.046035673, -0.14953803, 0.0035652716, 0.013114619, 0.100665204, -0.24380256, -0.14170904, ...]                 \n",
              "2637  [0.0024143592, 0.22359283, 0.23931776, -0.009176803, -0.1724028, -0.083909586, 0.1681236, -0.063299514, 0.0022536581, 0.10028522, -0.061160978, -0.26443684, 0.1035318, -0.0053499066, -0.08260588, -0.06697911, -0.15039046, -0.08976439, 0.16005832, -0.043520432, 0.055920128, 0.19715787, 0.015458684, -0.08049787, 0.13672799, 0.03363407, 0.1086228, -0.25755742, -0.0047695427, -0.16981412, 0.0035845698, 0.16977301, 0.021523194, -0.034833618, 0.018917833, -0.15472627, 0.2378537, 0.12229541, -0.028515767, -0.10188825, 0.011147623, -0.007516608, 0.12794548, 0.1338913, -0.18557578, -0.00695003, -0.13810477, -0.21401376, 0.2947855, -0.14790349, 0.04717244, -0.041193433, 0.08038572, -0.14352846, 0.25293458, 0.062639534, 0.056940798, 0.0056231664, -0.099885665, -0.10206846, 0.011044491, 0.12550586, 0.01897038, -0.0954658, 0.020290684, -0.19155909, -0.14847237, -0.13973011, 0.021392789, -0.05533848, -0.034090385, -0.056887127, 0.070846885, 0.18100236, 0.13492021, 0.10983113, -0.01194415, 0.0033753673, -0.011688378, 0.093306266, -0.062177517, 0.04379096, -0.061857775, -0.19817796, 0.123153985, 0.12517229, -0.05018671, 0.12057526, 0.04936708, -0.046084672, 0.19931737, -0.097214945, -0.102353685, 0.06863962, -0.108220235, 0.02734404, -0.033453, 0.08155671, -0.15385462, -0.14619125, ...]              \n",
              "2754  [0.035521317, 0.11344594, 0.20214505, 0.030586706, -0.18599339, 0.0023682078, 0.15518484, -0.088988446, -0.0104938755, 0.045920946, -0.027077213, -0.18725951, 0.15366842, -0.03896866, -0.021850925, -0.13101338, -0.10214641, -0.06529482, 0.17001376, -0.0628186, 0.0033504146, 0.17959574, 0.1745243, -0.037275847, -0.0066113085, -0.099213734, -0.032222137, -0.224235, -0.023048347, -0.1622159, 0.030492632, 0.05025616, 0.054242965, -0.037106544, 0.01056069, -0.06961764, 0.24684761, 0.05160781, -0.105255954, -0.039963923, 0.092465244, -0.06562354, 0.1423415, 0.041160073, -0.11967535, 0.011229293, -0.10604253, -0.07551366, 0.24972035, -0.11008073, 0.029405864, -0.031956356, 0.11673564, -0.23975939, 0.2206031, -0.006652824, 0.13796648, 0.02493328, -0.08505754, -0.07662575, 0.026460316, 0.17698872, 0.00384591, -0.08069256, -0.02962594, -0.13137546, -0.10723997, -0.08942419, 0.007662861, -0.050180756, -0.04497927, -0.1553057, 0.12933822, 0.09268846, 0.11506009, 0.16449124, -0.12975566, 0.06980442, 0.036397323, 0.1359983, -0.03710519, 0.10247635, -0.02619242, -0.18685071, 0.009886602, 0.11994891, 0.08273077, 0.1247979, -0.0144852325, 0.06030652, 0.13289072, -0.051739503, 0.013979459, 0.0006190551, -0.08353992, 0.020923948, -0.038797107, 0.09403739, -0.22667259, -0.05378552, ...]                  \n",
              "3216  [0.07012301, 0.1384207, 0.19392891, 0.020883476, -0.23781216, -0.12072172, 0.09286812, 0.0050702025, -0.114125855, 0.10981894, -0.08373932, -0.23300056, 0.0661852, -0.06937147, -0.004935902, -0.1303974, -0.18628578, -0.06731547, 0.16967085, 0.014301596, 0.0003203202, 0.23201506, 0.05630607, -0.047448978, 0.019453201, -0.058994636, 0.06175878, -0.27741084, 0.017615857, -0.19785416, 0.05915198, 0.06816087, 0.04872551, -0.07564955, -0.06695653, -0.100706115, 0.15206687, 0.033646505, -0.03265463, -0.12519343, 0.064447634, -0.0553304, 0.11476245, 0.11978253, -0.23045386, -0.028558314, -0.13545573, -0.116904885, 0.18965958, -0.17142579, -0.003695987, -0.0004604227, 0.090968326, -0.22387685, 0.20671436, 0.018805906, -0.019053442, -0.07116402, -0.06402162, -0.03277472, -0.006289546, 0.15163668, 0.021244267, -0.13052927, 0.05549249, -0.20190175, -0.103610806, -0.113659665, 0.008459582, -0.00898721, -0.0155398315, -0.016423292, 0.114019096, 0.19940723, 0.109354585, 0.051847782, 0.026119566, -0.013899744, -0.011542566, 0.052683633, -0.068537064, 0.095948994, -0.035912845, -0.16463648, 0.15997465, 0.17252226, 0.006106722, 0.15603407, 0.0053312844, 0.08639623, 0.14515692, -0.021130817, -0.03409917, -0.065693125, -0.094659574, 0.0056654327, -0.017579326, 0.05984129, -0.11102351, -0.14903106, ...]  \n",
              "3401  [0.066284366, 0.107436806, 0.08907313, 0.022531116, -0.12776099, -0.06363263, 0.07041971, -0.0035944602, 0.010436697, 0.028398357, 0.035279587, -0.27112153, 0.18039596, -0.015602231, -0.033659115, 0.016302992, -0.059191067, -0.023679897, 0.08683318, -0.022216719, -0.010800552, 0.18379477, 0.07507139, -0.016954754, 0.07295834, -0.02651989, -0.077968426, -0.32457796, 0.04659885, -0.16904835, 0.1520303, 0.15350461, -0.055607576, -0.043302335, -0.013580326, -0.049449615, 0.2006787, 0.055692885, -0.019439625, -0.043646894, 0.08001556, 0.026359025, 0.1396713, 0.1805677, -0.3709413, 0.17302115, -0.07603202, -0.28320047, 0.17713135, -0.052278563, -0.0009908128, -0.087477066, 0.03680349, -0.16414578, 0.15821978, 0.03067554, 0.018637007, -0.058290865, 0.02458914, 0.04505344, -0.048292495, 0.1464259, 0.1011878, -0.08550969, -0.046184525, -0.08884234, -0.07536882, -0.119170636, -0.014240101, 0.032573298, -0.115134254, -0.12116162, 0.047118858, 0.11799453, 0.16181824, 0.09877602, -0.009063922, 0.025984632, -0.087686166, 0.09792509, -0.022249024, 0.08633423, -0.035579883, -0.20665821, 0.12310149, 0.10407425, -0.110776015, 0.13186778, 0.037117627, 0.1379455, 0.2088759, -0.05637233, -0.0412194, -0.018723961, 0.028411485, 0.17208233, -0.018258996, 0.07629001, -0.21054903, -0.041586664, ...]           "
            ]
          },
          "metadata": {
            "tags": []
          },
          "execution_count": 28
        }
      ]
    },
    {
      "cell_type": "code",
      "metadata": {
        "id": "fj57ATByHQph",
        "colab_type": "code",
        "colab": {
          "base_uri": "https://localhost:8080/"
        },
        "outputId": "41096ae7-76e4-47e9-a8a4-ff90001d5b46"
      },
      "source": [
        "from sklearn.cluster import KMeans\n",
        "import matplotlib.pyplot  as plt\n",
        "import seaborn as sns\n",
        "\n",
        "# create model and prediction\n",
        "model = KMeans(n_clusters=5,algorithm='auto')\n",
        "model.fit(feature)\n",
        "predict = pd.DataFrame(model.predict(feature))\n",
        "predict.columns=['predict']\n",
        "\n",
        "# concatenate labels to df as a new column\n",
        "r = pd.concat([feature,predict],axis=1)\n",
        "\n",
        "print(r)"
      ],
      "execution_count": null,
      "outputs": [
        {
          "output_type": "stream",
          "text": [
            "/usr/local/lib/python3.6/dist-packages/statsmodels/tools/_testing.py:19: FutureWarning: pandas.util.testing is deprecated. Use the functions in the public API at pandas.testing instead.\n",
            "  import pandas.util.testing as tm\n"
          ],
          "name": "stderr"
        },
        {
          "output_type": "error",
          "ename": "ValueError",
          "evalue": "ignored",
          "traceback": [
            "\u001b[0;31m---------------------------------------------------------------------------\u001b[0m",
            "\u001b[0;31mTypeError\u001b[0m                                 Traceback (most recent call last)",
            "\u001b[0;31mTypeError\u001b[0m: only size-1 arrays can be converted to Python scalars",
            "\nThe above exception was the direct cause of the following exception:\n",
            "\u001b[0;31mValueError\u001b[0m                                Traceback (most recent call last)",
            "\u001b[0;32m<ipython-input-29-68fe83cdebbf>\u001b[0m in \u001b[0;36m<module>\u001b[0;34m()\u001b[0m\n\u001b[1;32m      5\u001b[0m \u001b[0;31m# create model and prediction\u001b[0m\u001b[0;34m\u001b[0m\u001b[0;34m\u001b[0m\u001b[0;34m\u001b[0m\u001b[0m\n\u001b[1;32m      6\u001b[0m \u001b[0mmodel\u001b[0m \u001b[0;34m=\u001b[0m \u001b[0mKMeans\u001b[0m\u001b[0;34m(\u001b[0m\u001b[0mn_clusters\u001b[0m\u001b[0;34m=\u001b[0m\u001b[0;36m5\u001b[0m\u001b[0;34m,\u001b[0m\u001b[0malgorithm\u001b[0m\u001b[0;34m=\u001b[0m\u001b[0;34m'auto'\u001b[0m\u001b[0;34m)\u001b[0m\u001b[0;34m\u001b[0m\u001b[0;34m\u001b[0m\u001b[0m\n\u001b[0;32m----> 7\u001b[0;31m \u001b[0mmodel\u001b[0m\u001b[0;34m.\u001b[0m\u001b[0mfit\u001b[0m\u001b[0;34m(\u001b[0m\u001b[0mfeature\u001b[0m\u001b[0;34m)\u001b[0m\u001b[0;34m\u001b[0m\u001b[0;34m\u001b[0m\u001b[0m\n\u001b[0m\u001b[1;32m      8\u001b[0m \u001b[0mpredict\u001b[0m \u001b[0;34m=\u001b[0m \u001b[0mpd\u001b[0m\u001b[0;34m.\u001b[0m\u001b[0mDataFrame\u001b[0m\u001b[0;34m(\u001b[0m\u001b[0mmodel\u001b[0m\u001b[0;34m.\u001b[0m\u001b[0mpredict\u001b[0m\u001b[0;34m(\u001b[0m\u001b[0mfeature\u001b[0m\u001b[0;34m)\u001b[0m\u001b[0;34m)\u001b[0m\u001b[0;34m\u001b[0m\u001b[0;34m\u001b[0m\u001b[0m\n\u001b[1;32m      9\u001b[0m \u001b[0mpredict\u001b[0m\u001b[0;34m.\u001b[0m\u001b[0mcolumns\u001b[0m\u001b[0;34m=\u001b[0m\u001b[0;34m[\u001b[0m\u001b[0;34m'predict'\u001b[0m\u001b[0;34m]\u001b[0m\u001b[0;34m\u001b[0m\u001b[0;34m\u001b[0m\u001b[0m\n",
            "\u001b[0;32m/usr/local/lib/python3.6/dist-packages/sklearn/cluster/_kmeans.py\u001b[0m in \u001b[0;36mfit\u001b[0;34m(self, X, y, sample_weight)\u001b[0m\n\u001b[1;32m    857\u001b[0m         \u001b[0morder\u001b[0m \u001b[0;34m=\u001b[0m \u001b[0;34m\"C\"\u001b[0m \u001b[0;32mif\u001b[0m \u001b[0mself\u001b[0m\u001b[0;34m.\u001b[0m\u001b[0mcopy_x\u001b[0m \u001b[0;32melse\u001b[0m \u001b[0;32mNone\u001b[0m\u001b[0;34m\u001b[0m\u001b[0;34m\u001b[0m\u001b[0m\n\u001b[1;32m    858\u001b[0m         X = check_array(X, accept_sparse='csr', dtype=[np.float64, np.float32],\n\u001b[0;32m--> 859\u001b[0;31m                         order=order, copy=self.copy_x)\n\u001b[0m\u001b[1;32m    860\u001b[0m         \u001b[0;31m# verify that the number of samples given is larger than k\u001b[0m\u001b[0;34m\u001b[0m\u001b[0;34m\u001b[0m\u001b[0;34m\u001b[0m\u001b[0m\n\u001b[1;32m    861\u001b[0m         \u001b[0;32mif\u001b[0m \u001b[0m_num_samples\u001b[0m\u001b[0;34m(\u001b[0m\u001b[0mX\u001b[0m\u001b[0;34m)\u001b[0m \u001b[0;34m<\u001b[0m \u001b[0mself\u001b[0m\u001b[0;34m.\u001b[0m\u001b[0mn_clusters\u001b[0m\u001b[0;34m:\u001b[0m\u001b[0;34m\u001b[0m\u001b[0;34m\u001b[0m\u001b[0m\n",
            "\u001b[0;32m/usr/local/lib/python3.6/dist-packages/sklearn/utils/validation.py\u001b[0m in \u001b[0;36mcheck_array\u001b[0;34m(array, accept_sparse, accept_large_sparse, dtype, order, copy, force_all_finite, ensure_2d, allow_nd, ensure_min_samples, ensure_min_features, warn_on_dtype, estimator)\u001b[0m\n\u001b[1;32m    529\u001b[0m                     \u001b[0marray\u001b[0m \u001b[0;34m=\u001b[0m \u001b[0marray\u001b[0m\u001b[0;34m.\u001b[0m\u001b[0mastype\u001b[0m\u001b[0;34m(\u001b[0m\u001b[0mdtype\u001b[0m\u001b[0;34m,\u001b[0m \u001b[0mcasting\u001b[0m\u001b[0;34m=\u001b[0m\u001b[0;34m\"unsafe\"\u001b[0m\u001b[0;34m,\u001b[0m \u001b[0mcopy\u001b[0m\u001b[0;34m=\u001b[0m\u001b[0;32mFalse\u001b[0m\u001b[0;34m)\u001b[0m\u001b[0;34m\u001b[0m\u001b[0;34m\u001b[0m\u001b[0m\n\u001b[1;32m    530\u001b[0m                 \u001b[0;32melse\u001b[0m\u001b[0;34m:\u001b[0m\u001b[0;34m\u001b[0m\u001b[0;34m\u001b[0m\u001b[0m\n\u001b[0;32m--> 531\u001b[0;31m                     \u001b[0marray\u001b[0m \u001b[0;34m=\u001b[0m \u001b[0mnp\u001b[0m\u001b[0;34m.\u001b[0m\u001b[0masarray\u001b[0m\u001b[0;34m(\u001b[0m\u001b[0marray\u001b[0m\u001b[0;34m,\u001b[0m \u001b[0morder\u001b[0m\u001b[0;34m=\u001b[0m\u001b[0morder\u001b[0m\u001b[0;34m,\u001b[0m \u001b[0mdtype\u001b[0m\u001b[0;34m=\u001b[0m\u001b[0mdtype\u001b[0m\u001b[0;34m)\u001b[0m\u001b[0;34m\u001b[0m\u001b[0;34m\u001b[0m\u001b[0m\n\u001b[0m\u001b[1;32m    532\u001b[0m             \u001b[0;32mexcept\u001b[0m \u001b[0mComplexWarning\u001b[0m\u001b[0;34m:\u001b[0m\u001b[0;34m\u001b[0m\u001b[0;34m\u001b[0m\u001b[0m\n\u001b[1;32m    533\u001b[0m                 raise ValueError(\"Complex data not supported\\n\"\n",
            "\u001b[0;32m/usr/local/lib/python3.6/dist-packages/numpy/core/_asarray.py\u001b[0m in \u001b[0;36masarray\u001b[0;34m(a, dtype, order)\u001b[0m\n\u001b[1;32m     83\u001b[0m \u001b[0;34m\u001b[0m\u001b[0m\n\u001b[1;32m     84\u001b[0m     \"\"\"\n\u001b[0;32m---> 85\u001b[0;31m     \u001b[0;32mreturn\u001b[0m \u001b[0marray\u001b[0m\u001b[0;34m(\u001b[0m\u001b[0ma\u001b[0m\u001b[0;34m,\u001b[0m \u001b[0mdtype\u001b[0m\u001b[0;34m,\u001b[0m \u001b[0mcopy\u001b[0m\u001b[0;34m=\u001b[0m\u001b[0;32mFalse\u001b[0m\u001b[0;34m,\u001b[0m \u001b[0morder\u001b[0m\u001b[0;34m=\u001b[0m\u001b[0morder\u001b[0m\u001b[0;34m)\u001b[0m\u001b[0;34m\u001b[0m\u001b[0;34m\u001b[0m\u001b[0m\n\u001b[0m\u001b[1;32m     86\u001b[0m \u001b[0;34m\u001b[0m\u001b[0m\n\u001b[1;32m     87\u001b[0m \u001b[0;34m\u001b[0m\u001b[0m\n",
            "\u001b[0;31mValueError\u001b[0m: setting an array element with a sequence."
          ]
        }
      ]
    },
    {
      "cell_type": "code",
      "metadata": {
        "id": "r2wo64RfEG1N",
        "colab_type": "code",
        "colab": {
          "base_uri": "https://localhost:8080/"
        },
        "outputId": "5e57b918-95a5-494c-834f-d30fbc49c1cb"
      },
      "source": [
        "start = time.time() # 시작시간\n",
        "\n",
        "word_vectors = bio_exists_df.wv.to_list() \n",
        "num_clusters = 5\n",
        "\n",
        "# K means 를 정의하고 학습시킨다.\n",
        "kmeans_clustering = KMeans( n_clusters = num_clusters )\n",
        "idx = kmeans_clustering.fit_predict( word_vectors )\n",
        "\n",
        "# 끝난 시간에서 시작시각을 빼서 걸린 시간을 구한다.\n",
        "end = time.time()\n",
        "elapsed = end - start\n",
        "print(\"Time taken for K Means clustering: \", elapsed, \"seconds.\")"
      ],
      "execution_count": null,
      "outputs": [
        {
          "output_type": "stream",
          "text": [
            "Time taken for K Means clustering:  12.538073539733887 seconds.\n"
          ],
          "name": "stdout"
        }
      ]
    },
    {
      "cell_type": "code",
      "metadata": {
        "id": "R_StT7XUEHrv",
        "colab_type": "code",
        "colab": {}
      },
      "source": [
        "bio_exists_df['category'] = idx"
      ],
      "execution_count": null,
      "outputs": []
    },
    {
      "cell_type": "code",
      "metadata": {
        "id": "3TOC3DcTEmC-",
        "colab_type": "code",
        "colab": {
          "base_uri": "https://localhost:8080/"
        },
        "outputId": "0f3328b4-d4ac-4f2e-fde1-ae6b4883ce88"
      },
      "source": [
        "bio_exists_df.category.value_counts()"
      ],
      "execution_count": null,
      "outputs": [
        {
          "output_type": "execute_result",
          "data": {
            "text/plain": [
              "1    5623\n",
              "2    5559\n",
              "0    4468\n",
              "3    3651\n",
              "4    1890\n",
              "Name: category, dtype: int64"
            ]
          },
          "metadata": {
            "tags": []
          },
          "execution_count": 32
        }
      ]
    },
    {
      "cell_type": "code",
      "metadata": {
        "id": "gWyA-SH2EnXu",
        "colab_type": "code",
        "colab": {
          "base_uri": "https://localhost:8080/"
        },
        "outputId": "b07c0078-80d9-4897-e0e0-ea3a2b904b2c"
      },
      "source": [
        "bio_exists_df.columns"
      ],
      "execution_count": null,
      "outputs": [
        {
          "output_type": "execute_result",
          "data": {
            "text/plain": [
              "Index(['DSJ_CARD_NO', 'DSJ_JUMIN_NO', 'CONSULT_DATE', 'CARE_OPEN_CLASS_NM',\n",
              "       'CONSULT_CONT', 'JAEBUM', 'JAEBUM_1', '출생년도', '연령', '학력', '죄명',\n",
              "       'CARE_OPEN_CLASS_NM_1', 'user_mecab', 'user_mecab_len', 'wv',\n",
              "       'category'],\n",
              "      dtype='object')"
            ]
          },
          "metadata": {
            "tags": []
          },
          "execution_count": 33
        }
      ]
    },
    {
      "cell_type": "code",
      "metadata": {
        "id": "XSsgnTc2lwoS",
        "colab_type": "code",
        "colab": {}
      },
      "source": [
        "bio_exists_df.to_excel('클러스터링2.xlsx',index=False)"
      ],
      "execution_count": null,
      "outputs": []
    },
    {
      "cell_type": "markdown",
      "metadata": {
        "id": "MKWq4_1NErBO",
        "colab_type": "text"
      },
      "source": [
        "# Embedding & Clustering 시각화하기"
      ]
    },
    {
      "cell_type": "code",
      "metadata": {
        "id": "x6x7vR0UEr5u",
        "colab_type": "code",
        "colab": {}
      },
      "source": [
        "from sklearn.manifold import TSNE"
      ],
      "execution_count": null,
      "outputs": []
    },
    {
      "cell_type": "code",
      "metadata": {
        "id": "We4srZUkEs9r",
        "colab_type": "code",
        "colab": {}
      },
      "source": [
        "X = bio_exists_df['wv'].to_list()\n",
        "y = bio_exists_df['category'].to_list()"
      ],
      "execution_count": null,
      "outputs": []
    },
    {
      "cell_type": "markdown",
      "metadata": {
        "id": "A8zc1GzpK2_B",
        "colab_type": "text"
      },
      "source": [
        "차원축소 300->2차원으로 \n",
        "TSNE - 차원 축소 알고리즘 "
      ]
    },
    {
      "cell_type": "code",
      "metadata": {
        "id": "SJU9RDl1ltlm",
        "colab_type": "code",
        "colab": {}
      },
      "source": [
        "import os.path\n",
        "import pickle\n",
        "\n",
        "tsne_filepath = 'tsne3000.pkl'\n",
        "\n",
        "# File Cache\n",
        "if not os.path.exists(tsne_filepath):\n",
        "    tsne = TSNE(random_state=42)\n",
        "    tsne_points = tsne.fit_transform(X)\n",
        "    with open(tsne_filepath, 'wb+') as f:\n",
        "        pickle.dump(tsne_points, f)\n",
        "else: # Cache Hits!\n",
        "    with open(tsne_filepath, 'rb') as f:\n",
        "        tsne_points = pickle.load(f)\n",
        "\n",
        "tsne_df = pd.DataFrame(tsne_points, index=range(len(X)), columns=['x_coord', 'y_coord'])"
      ],
      "execution_count": null,
      "outputs": []
    },
    {
      "cell_type": "code",
      "metadata": {
        "id": "z0hT2T9FkJL0",
        "colab_type": "code",
        "colab": {}
      },
      "source": [
        "tsne_df['user_bio'] = bio_exists_df['CONSULT_CONT'].to_list()"
      ],
      "execution_count": null,
      "outputs": []
    },
    {
      "cell_type": "code",
      "metadata": {
        "id": "RxGL9Q27FJUk",
        "colab_type": "code",
        "colab": {}
      },
      "source": [
        "tsne_df['cluster_no'] = y"
      ],
      "execution_count": null,
      "outputs": []
    },
    {
      "cell_type": "markdown",
      "metadata": {
        "id": "aUSxsxuBK0KS",
        "colab_type": "text"
      },
      "source": [
        "차원축소하고 2차원의 좌표값이 나오는걸 확인 "
      ]
    },
    {
      "cell_type": "code",
      "metadata": {
        "id": "FGmm8pz8FK7C",
        "colab_type": "code",
        "colab": {}
      },
      "source": [
        "\n",
        "tsne_df.sample(3)"
      ],
      "execution_count": null,
      "outputs": []
    },
    {
      "cell_type": "code",
      "metadata": {
        "id": "vOxskCi7FL0m",
        "colab_type": "code",
        "colab": {}
      },
      "source": [
        "from bokeh.plotting import figure, show, output_notebook\n",
        "from bokeh.models import HoverTool, ColumnDataSource, value\n",
        "from bokeh.palettes import brewer\n",
        "\n",
        "output_notebook()"
      ],
      "execution_count": null,
      "outputs": []
    },
    {
      "cell_type": "code",
      "metadata": {
        "id": "y7h9W4aIFMtX",
        "colab_type": "code",
        "colab": {}
      },
      "source": [
        "# Get the number of colors we'll need for the plot.\n",
        "colors = brewer[\"Spectral\"][len(tsne_df['cluster_no'].unique())]\n",
        "\n",
        "# Create a map between factor and color.\n",
        "colormap = {i: colors[i] for i in tsne_df['cluster_no'].unique()}\n",
        "\n",
        "# Create a list of colors for each value that we will be looking at.\n",
        "colors = [colormap[x] for x in tsne_df['cluster_no']]"
      ],
      "execution_count": null,
      "outputs": []
    },
    {
      "cell_type": "code",
      "metadata": {
        "id": "18lEO1IpFNrR",
        "colab_type": "code",
        "colab": {}
      },
      "source": [
        "tsne_df['color'] = colors"
      ],
      "execution_count": null,
      "outputs": []
    },
    {
      "cell_type": "code",
      "metadata": {
        "id": "OGE8S6-GFO2T",
        "colab_type": "code",
        "colab": {}
      },
      "source": [
        "# Bokeh Datasouce 만들기\n",
        "plot_data = ColumnDataSource(\n",
        "    data=tsne_df.to_dict(orient='list')\n",
        ")\n",
        "\n",
        "# Plot 만들기(배경)\n",
        "tsne_plot = figure(\n",
        "    # title='TSNE Twitter BIO Embeddings',\n",
        "    plot_width = 650,\n",
        "    plot_height = 650,\n",
        "    active_scroll='wheel_zoom',\n",
        "    output_backend=\"webgl\",\n",
        ")\n",
        "\n",
        "# 해당 Hover 툴팁 만들기\n",
        "tsne_plot.add_tools(\n",
        "    HoverTool(\n",
        "        tooltips='@user_bio'\n",
        "    )\n",
        ")\n",
        "\n",
        "tsne_plot.circle(\n",
        "    source=plot_data,\n",
        "    x='x_coord',\n",
        "    y='y_coord',\n",
        "    line_alpha=0.3, \n",
        "    fill_alpha=0.2,\n",
        "    size=10,\n",
        "    fill_color='color',\n",
        "    line_color='color',\n",
        ")\n",
        "\n",
        "# 각 값들 추가해주기 \n",
        "tsne_plot.title.text_font_size = value('16pt')\n",
        "tsne_plot.xaxis.visible = False\n",
        "tsne_plot.yaxis.visible = False\n",
        "tsne_plot.grid.grid_line_color = None\n",
        "tsne_plot.outline_line_color = None\n",
        "\n",
        "# 짠!\n",
        "show(tsne_plot)"
      ],
      "execution_count": null,
      "outputs": []
    },
    {
      "cell_type": "markdown",
      "metadata": {
        "id": "eMVn8DtY4eMy",
        "colab_type": "text"
      },
      "source": [
        "# 엑셀저장 "
      ]
    },
    {
      "cell_type": "code",
      "metadata": {
        "id": "T0S7O5Z5IOOj",
        "colab_type": "code",
        "colab": {
          "base_uri": "https://localhost:8080/",
          "height": 35
        },
        "outputId": "a98d85b2-e11a-4e2c-d0cb-a954c07b52bc"
      },
      "source": [
        "len(bio_exists_df.dropna().head(1)['wv'].to_list()[0])"
      ],
      "execution_count": null,
      "outputs": [
        {
          "output_type": "execute_result",
          "data": {
            "text/plain": [
              "300"
            ]
          },
          "metadata": {
            "tags": []
          },
          "execution_count": 45
        }
      ]
    },
    {
      "cell_type": "code",
      "metadata": {
        "id": "KmE_Dx6i4Pnf",
        "colab_type": "code",
        "colab": {
          "base_uri": "https://localhost:8080/",
          "height": 1000
        },
        "outputId": "e1ec3d24-a6c6-4e81-d22c-586494a7868c"
      },
      "source": [
        "bio_exists_df.head(1)"
      ],
      "execution_count": null,
      "outputs": [
        {
          "output_type": "execute_result",
          "data": {
            "text/html": [
              "<div>\n",
              "<style scoped>\n",
              "    .dataframe tbody tr th:only-of-type {\n",
              "        vertical-align: middle;\n",
              "    }\n",
              "\n",
              "    .dataframe tbody tr th {\n",
              "        vertical-align: top;\n",
              "    }\n",
              "\n",
              "    .dataframe thead th {\n",
              "        text-align: right;\n",
              "    }\n",
              "</style>\n",
              "<table border=\"1\" class=\"dataframe\">\n",
              "  <thead>\n",
              "    <tr style=\"text-align: right;\">\n",
              "      <th></th>\n",
              "      <th>DSJ_CARD_NO</th>\n",
              "      <th>DSJ_JUMIN_NO</th>\n",
              "      <th>CONSULT_DATE</th>\n",
              "      <th>CARE_OPEN_CLASS_NM</th>\n",
              "      <th>CONSULT_CONT</th>\n",
              "      <th>JAEBUM</th>\n",
              "      <th>JAEBUM_1</th>\n",
              "      <th>출생년도</th>\n",
              "      <th>연령</th>\n",
              "      <th>학력</th>\n",
              "      <th>죄명</th>\n",
              "      <th>CARE_OPEN_CLASS_NM_1</th>\n",
              "      <th>user_mecab</th>\n",
              "      <th>user_mecab_len</th>\n",
              "      <th>wv</th>\n",
              "      <th>category</th>\n",
              "    </tr>\n",
              "  </thead>\n",
              "  <tbody>\n",
              "    <tr>\n",
              "      <th>2583</th>\n",
              "      <td>100020120288</td>\n",
              "      <td>4ITuomhVxxwhUfg9Hxg/6A==</td>\n",
              "      <td>20130828</td>\n",
              "      <td>10</td>\n",
              "      <td>숙식제공 연장과 관련하여 면담을 실시하였으며 현재 저축실적이 없고 성실하지 못한 태도로 생활해 왔던 점을 지적하고 연장이 어려울 것같다고 알려주었으며 본인이 나가는 현장에서 제공하는 숙소에서 생활하겠다며 퇴소를 희망하여 성실히 노력해 자립할 수 있도록 노력해 줄것을 당부하고 보호종료 처리함</td>\n",
              "      <td>0</td>\n",
              "      <td>0</td>\n",
              "      <td>1979</td>\n",
              "      <td>30</td>\n",
              "      <td>1</td>\n",
              "      <td>40</td>\n",
              "      <td>10</td>\n",
              "      <td>[숙식, 제공, 연장, 관련, 면담, 실시, 저축, 실적, 성실, 태도, 생활, 지적, 연장, 본인, 현장, 제공, 숙소, 생활, 퇴소, 희망, 노력, 자립, 노력, 당부, 보호, 종료, 처리]</td>\n",
              "      <td>27</td>\n",
              "      <td>[0.022427034, 0.20771548, 0.15720652, 0.041360263, -0.2586705, -0.049667887, 0.15541458, 0.0008102008, 0.018608604, 0.1271001, -0.023626462, -0.21867129, 0.10545426, -0.010349628, -0.0005828898, -0.08517236, -0.07292266, -0.09192299, 0.16128847, -0.08617859, 0.08614653, 0.1997228, 0.018213466, -0.0029917315, 0.111996286, -0.013965525, 0.03408659, -0.24751055, 0.037857603, -0.11053614, 0.0707694, 0.11527688, 0.032823477, -0.036801506, -0.07037376, -0.07503013, 0.18551004, 0.11486343, -0.019247122, -0.15579675, -0.011566204, -0.06820336, 0.14685856, 0.14364074, -0.2498748, 0.017659435, -0.12734531, -0.24599133, 0.23310846, -0.113730274, 0.07487614, -0.046728, 0.07864619, -0.22571386, 0.21350747, 0.086509466, -0.052435018, -0.04727672, -0.057193194, -0.041738868, 0.009822437, 0.17759638, 0.05228128, -0.15126926, 0.03204389, -0.15385017, -0.11346399, -0.15373087, 0.035629187, -0.010854018, -0.008044587, -0.04176231, 0.066286154, 0.10626233, 0.15844719, 0.08412814, -0.01572698, 0.041869313, -0.019369218, 0.0777311, -0.10025058, -0.011132741, -0.0289444, -0.15027015, 0.14524275, 0.05637732, -0.035015795, 0.16119067, 0.088129014, 0.008788134, 0.10065247, -0.11232715, -0.05042138, 0.046035673, -0.14953803, 0.0035652716, 0.013114619, 0.100665204, -0.24380256, -0.14170904, ...]</td>\n",
              "      <td>3</td>\n",
              "    </tr>\n",
              "  </tbody>\n",
              "</table>\n",
              "</div>"
            ],
            "text/plain": [
              "       DSJ_CARD_NO              DSJ_JUMIN_NO  CONSULT_DATE  \\\n",
              "2583  100020120288  4ITuomhVxxwhUfg9Hxg/6A==  20130828       \n",
              "\n",
              "      CARE_OPEN_CLASS_NM  \\\n",
              "2583  10                   \n",
              "\n",
              "                                                                                                                                                            CONSULT_CONT  \\\n",
              "2583  숙식제공 연장과 관련하여 면담을 실시하였으며 현재 저축실적이 없고 성실하지 못한 태도로 생활해 왔던 점을 지적하고 연장이 어려울 것같다고 알려주었으며 본인이 나가는 현장에서 제공하는 숙소에서 생활하겠다며 퇴소를 희망하여 성실히 노력해 자립할 수 있도록 노력해 줄것을 당부하고 보호종료 처리함   \n",
              "\n",
              "      JAEBUM  JAEBUM_1  출생년도  연령  학력  죄명  CARE_OPEN_CLASS_NM_1  \\\n",
              "2583  0       0         1979  30  1   40  10                     \n",
              "\n",
              "                                                                                                        user_mecab  \\\n",
              "2583  [숙식, 제공, 연장, 관련, 면담, 실시, 저축, 실적, 성실, 태도, 생활, 지적, 연장, 본인, 현장, 제공, 숙소, 생활, 퇴소, 희망, 노력, 자립, 노력, 당부, 보호, 종료, 처리]   \n",
              "\n",
              "      user_mecab_len  \\\n",
              "2583  27               \n",
              "\n",
              "                                                                                                                                                                                                                                                                                                                                                                                                                                                                                                                                                                                                                                                                                                                                                                                                                                                                                                                                                                                                                                                                                                                                                                                                                                                                                                                                            wv  \\\n",
              "2583  [0.022427034, 0.20771548, 0.15720652, 0.041360263, -0.2586705, -0.049667887, 0.15541458, 0.0008102008, 0.018608604, 0.1271001, -0.023626462, -0.21867129, 0.10545426, -0.010349628, -0.0005828898, -0.08517236, -0.07292266, -0.09192299, 0.16128847, -0.08617859, 0.08614653, 0.1997228, 0.018213466, -0.0029917315, 0.111996286, -0.013965525, 0.03408659, -0.24751055, 0.037857603, -0.11053614, 0.0707694, 0.11527688, 0.032823477, -0.036801506, -0.07037376, -0.07503013, 0.18551004, 0.11486343, -0.019247122, -0.15579675, -0.011566204, -0.06820336, 0.14685856, 0.14364074, -0.2498748, 0.017659435, -0.12734531, -0.24599133, 0.23310846, -0.113730274, 0.07487614, -0.046728, 0.07864619, -0.22571386, 0.21350747, 0.086509466, -0.052435018, -0.04727672, -0.057193194, -0.041738868, 0.009822437, 0.17759638, 0.05228128, -0.15126926, 0.03204389, -0.15385017, -0.11346399, -0.15373087, 0.035629187, -0.010854018, -0.008044587, -0.04176231, 0.066286154, 0.10626233, 0.15844719, 0.08412814, -0.01572698, 0.041869313, -0.019369218, 0.0777311, -0.10025058, -0.011132741, -0.0289444, -0.15027015, 0.14524275, 0.05637732, -0.035015795, 0.16119067, 0.088129014, 0.008788134, 0.10065247, -0.11232715, -0.05042138, 0.046035673, -0.14953803, 0.0035652716, 0.013114619, 0.100665204, -0.24380256, -0.14170904, ...]   \n",
              "\n",
              "      category  \n",
              "2583  3         "
            ]
          },
          "metadata": {
            "tags": []
          },
          "execution_count": 46
        }
      ]
    },
    {
      "cell_type": "code",
      "metadata": {
        "id": "kfLa4Lro4Yha",
        "colab_type": "code",
        "colab": {}
      },
      "source": [
        "bio_exists_df.to_excel('클러스터링2.xlsx',index=False)"
      ],
      "execution_count": null,
      "outputs": []
    },
    {
      "cell_type": "markdown",
      "metadata": {
        "id": "vGzgNKKtFg60",
        "colab_type": "text"
      },
      "source": [
        "#cluster 별 정보 보기 "
      ]
    },
    {
      "cell_type": "code",
      "metadata": {
        "id": "LjT8UUIVqnrl",
        "colab_type": "code",
        "colab": {
          "base_uri": "https://localhost:8080/",
          "height": 493
        },
        "outputId": "1522276f-f94d-4b08-f76f-819b817b0cc7"
      },
      "source": [
        "bio_exists_df[\n",
        "    bio_exists_df['category'] == 0\n",
        "][['CONSULT_CONT', 'category']].head()"
      ],
      "execution_count": null,
      "outputs": [
        {
          "output_type": "execute_result",
          "data": {
            "text/html": [
              "<div>\n",
              "<style scoped>\n",
              "    .dataframe tbody tr th:only-of-type {\n",
              "        vertical-align: middle;\n",
              "    }\n",
              "\n",
              "    .dataframe tbody tr th {\n",
              "        vertical-align: top;\n",
              "    }\n",
              "\n",
              "    .dataframe thead th {\n",
              "        text-align: right;\n",
              "    }\n",
              "</style>\n",
              "<table border=\"1\" class=\"dataframe\">\n",
              "  <thead>\n",
              "    <tr style=\"text-align: right;\">\n",
              "      <th></th>\n",
              "      <th>CONSULT_CONT</th>\n",
              "      <th>category</th>\n",
              "    </tr>\n",
              "  </thead>\n",
              "  <tbody>\n",
              "    <tr>\n",
              "      <th>2754</th>\n",
              "      <td>상기인은 허그일자리지원 담당자와 함께 금호하이테크에 동행면접을 보고 7월 3일 부터 취업하고자 하였으나 심경의 변화가 생겨 다른 회사에 이력서를 넣고자 하여 이력서 클리닉 실시함. 대상자에게 금호하이테크에 연락하여 입사하지 않음을 고지하고 마무리를 지으라고 조언함. 그리고 대상자가 취업에 성공할것이라는 자신감을 심어줌.</td>\n",
              "      <td>0</td>\n",
              "    </tr>\n",
              "    <tr>\n",
              "      <th>3798</th>\n",
              "      <td>국가기관전략직종산업교육원에서 특수용접기능사(CO2,티그 용접) 과정을 성실히 수강하여 실기시험에 응시하여 10월 4일 합격여부를 기다리고 있는자로 금일 취업알선 위원이며 MOU체결업체인 (주)호현산업에 취업알선코자 동행면접을 다녀왔으며, 취업하게 되면 혼신의 노력을 다할 수 있도록 해줄것을 지도 격려함</td>\n",
              "      <td>0</td>\n",
              "    </tr>\n",
              "    <tr>\n",
              "      <th>3888</th>\n",
              "      <td>숙식제공 대상자로 금일 기능취득취업전문센터 용접(야간반)에 입교 조치하고 자격증 취득 및 수료시까지 최선의 노력을 다하여,동일직종에 취업하여 자립기반을 구축해 나갈 수 있도록 최선의 노력을 다해주길 지도 당부함 \\r\\n</td>\n",
              "      <td>0</td>\n",
              "    </tr>\n",
              "    <tr>\n",
              "      <th>4473</th>\n",
              "      <td>상기인은 생활관에 잘 적응하며 생활하고 있음. 상기인은 현재 엘리트직업능력개발교육원에서 교육을 받으며 지내고 있으며, 숙식제공서비스가 없었다면 교육훈련을 받을 엄두도 못냈을거라고 함. 상기인은 교육훈련을 통해 자격증을 취득하는것도 하나의 재미라고 함. 그러나, 최근 교육종료날이 가까워 오니 이력서 쓰고 할것이 걱정이 된다고 하여 공단에서 적극 도움을 주기로 함.</td>\n",
              "      <td>0</td>\n",
              "    </tr>\n",
              "    <tr>\n",
              "      <th>6077</th>\n",
              "      <td>용접실무과정에 성실히 임하고 있는자로 취업성공패키지에도 참여하여 수료 후 취업성공패키지를 통해 취업 구상중에 있는자로 향후 취업성공패키지 직원과 유기적인 관계를 유지하여 안정된 취업처를 확보할 수 있도록 최선의 노력을 다하도록 지도 격려함</td>\n",
              "      <td>0</td>\n",
              "    </tr>\n",
              "  </tbody>\n",
              "</table>\n",
              "</div>"
            ],
            "text/plain": [
              "                                                                                                                                                                                                     CONSULT_CONT  \\\n",
              "2754  상기인은 허그일자리지원 담당자와 함께 금호하이테크에 동행면접을 보고 7월 3일 부터 취업하고자 하였으나 심경의 변화가 생겨 다른 회사에 이력서를 넣고자 하여 이력서 클리닉 실시함. 대상자에게 금호하이테크에 연락하여 입사하지 않음을 고지하고 마무리를 지으라고 조언함. 그리고 대상자가 취업에 성공할것이라는 자신감을 심어줌.                           \n",
              "3798  국가기관전략직종산업교육원에서 특수용접기능사(CO2,티그 용접) 과정을 성실히 수강하여 실기시험에 응시하여 10월 4일 합격여부를 기다리고 있는자로 금일 취업알선 위원이며 MOU체결업체인 (주)호현산업에 취업알선코자 동행면접을 다녀왔으며, 취업하게 되면 혼신의 노력을 다할 수 있도록 해줄것을 지도 격려함                                     \n",
              "3888  숙식제공 대상자로 금일 기능취득취업전문센터 용접(야간반)에 입교 조치하고 자격증 취득 및 수료시까지 최선의 노력을 다하여,동일직종에 취업하여 자립기반을 구축해 나갈 수 있도록 최선의 노력을 다해주길 지도 당부함 \\r\\n                                                                                    \n",
              "4473  상기인은 생활관에 잘 적응하며 생활하고 있음. 상기인은 현재 엘리트직업능력개발교육원에서 교육을 받으며 지내고 있으며, 숙식제공서비스가 없었다면 교육훈련을 받을 엄두도 못냈을거라고 함. 상기인은 교육훈련을 통해 자격증을 취득하는것도 하나의 재미라고 함. 그러나, 최근 교육종료날이 가까워 오니 이력서 쓰고 할것이 걱정이 된다고 하여 공단에서 적극 도움을 주기로 함.   \n",
              "6077  용접실무과정에 성실히 임하고 있는자로 취업성공패키지에도 참여하여 수료 후 취업성공패키지를 통해 취업 구상중에 있는자로 향후 취업성공패키지 직원과 유기적인 관계를 유지하여 안정된 취업처를 확보할 수 있도록 최선의 노력을 다하도록 지도 격려함                                                                         \n",
              "\n",
              "      category  \n",
              "2754  0         \n",
              "3798  0         \n",
              "3888  0         \n",
              "4473  0         \n",
              "6077  0         "
            ]
          },
          "metadata": {
            "tags": []
          },
          "execution_count": 48
        }
      ]
    },
    {
      "cell_type": "code",
      "metadata": {
        "id": "NGOb_YezqmQp",
        "colab_type": "code",
        "colab": {
          "base_uri": "https://localhost:8080/",
          "height": 527
        },
        "outputId": "be0c7044-4f65-424a-afe8-1d02ec67fccf"
      },
      "source": [
        "bio_exists_df[\n",
        "    bio_exists_df['category'] == 1\n",
        "][['CONSULT_CONT', 'category']].head()"
      ],
      "execution_count": null,
      "outputs": [
        {
          "output_type": "execute_result",
          "data": {
            "text/html": [
              "<div>\n",
              "<style scoped>\n",
              "    .dataframe tbody tr th:only-of-type {\n",
              "        vertical-align: middle;\n",
              "    }\n",
              "\n",
              "    .dataframe tbody tr th {\n",
              "        vertical-align: top;\n",
              "    }\n",
              "\n",
              "    .dataframe thead th {\n",
              "        text-align: right;\n",
              "    }\n",
              "</style>\n",
              "<table border=\"1\" class=\"dataframe\">\n",
              "  <thead>\n",
              "    <tr style=\"text-align: right;\">\n",
              "      <th></th>\n",
              "      <th>CONSULT_CONT</th>\n",
              "      <th>category</th>\n",
              "    </tr>\n",
              "  </thead>\n",
              "  <tbody>\n",
              "    <tr>\n",
              "      <th>3401</th>\n",
              "      <td>숙식제공 대상자를 위한 초기상담, 심리검사를 실시하였음.\\r\\n초기상담-심리적 성격적 특성을 파악하기 위해 과거력, 정신질환의 유무, 가족관계 등에 대한 심층상담을 실시하였음.\\r\\n심리검사-다면적인성검사(mmpi), 문장완성검사(sct)를 실시하였음. 개인의 특성을 파악하기 위한 검사임을 설명하고 성실히 임하도록 지도함.\\r\\n</td>\n",
              "      <td>1</td>\n",
              "    </tr>\n",
              "    <tr>\n",
              "      <th>3511</th>\n",
              "      <td>숙식제공 신청자를 위한 초기상담, 심리검사를 실시하였음.\\r\\n초기상담-심리적 성격적 특성을 파악하기 위해 과거력, 정신질환의 유무, 가족관계 등에 대한 심층상담을 실시하였음.\\r\\n심리검사-다면적인성검사(mmpi), 문장완성검사(sct)를 실시하였음. 개인의 특성을 파악하기 위한 검사임을 설명하고 성실히 임하도록 지도함.</td>\n",
              "      <td>1</td>\n",
              "    </tr>\n",
              "    <tr>\n",
              "      <th>3550</th>\n",
              "      <td>숙식제공 신청자를 위한 초기상담, 심리검사를 실시하였음.\\r\\n초기상담-집단생활을 하기 위한 위험성을 판단하기 위해 과거력, 정신질환의 유무, 가족관계 등에 대한 심층상담을 실시하였음.\\r\\n심리검사-다면적인성검사(mmpi), 문장완성검사(sct)를 실시하였음. 개인의 특성을 파악하기 위한 검사임을 설명하고 성실히 임하도록 지도함.</td>\n",
              "      <td>1</td>\n",
              "    </tr>\n",
              "    <tr>\n",
              "      <th>5479</th>\n",
              "      <td>현재 교통사고로 인해 병원에 입원중에 있으며 사고 진행사항에 대해 청취하였으나 목격자 출현하여 불리한 진술을 하여 사고처리가 되지 않아 병원비를 다 지불하게 되었다고 하여 추후 진행에 대해 알아보기 위해 법률구조공단 방문 등 조치를 취할 것을 알려주고 건강회복에 주력해 줄것을 당부함</td>\n",
              "      <td>1</td>\n",
              "    </tr>\n",
              "    <tr>\n",
              "      <th>8192</th>\n",
              "      <td>상기인은 현재 취업성공패키지를 통해 기능취득취업지원센터에서 용접훈련을 받고 있음. 그러나 최근들어 편도선이 매우 붓고, 건강상태가 악화되어 식사도 제대로 하기 힘든 상황임. 병원치료를 위해 교육을 이틀결석함. 내담자가 치료를 위한 결석으로 인해 수당지급에 불이익을 받지않도록 진단서 또는 입원확인서를 제출하면 출석을 인정받을 수 있도록 조치가 필요함.</td>\n",
              "      <td>1</td>\n",
              "    </tr>\n",
              "  </tbody>\n",
              "</table>\n",
              "</div>"
            ],
            "text/plain": [
              "                                                                                                                                                                                              CONSULT_CONT  \\\n",
              "3401  숙식제공 대상자를 위한 초기상담, 심리검사를 실시하였음.\\r\\n초기상담-심리적 성격적 특성을 파악하기 위해 과거력, 정신질환의 유무, 가족관계 등에 대한 심층상담을 실시하였음.\\r\\n심리검사-다면적인성검사(mmpi), 문장완성검사(sct)를 실시하였음. 개인의 특성을 파악하기 위한 검사임을 설명하고 성실히 임하도록 지도함.\\r\\n              \n",
              "3511  숙식제공 신청자를 위한 초기상담, 심리검사를 실시하였음.\\r\\n초기상담-심리적 성격적 특성을 파악하기 위해 과거력, 정신질환의 유무, 가족관계 등에 대한 심층상담을 실시하였음.\\r\\n심리검사-다면적인성검사(mmpi), 문장완성검사(sct)를 실시하였음. 개인의 특성을 파악하기 위한 검사임을 설명하고 성실히 임하도록 지도함.                  \n",
              "3550  숙식제공 신청자를 위한 초기상담, 심리검사를 실시하였음.\\r\\n초기상담-집단생활을 하기 위한 위험성을 판단하기 위해 과거력, 정신질환의 유무, 가족관계 등에 대한 심층상담을 실시하였음.\\r\\n심리검사-다면적인성검사(mmpi), 문장완성검사(sct)를 실시하였음. 개인의 특성을 파악하기 위한 검사임을 설명하고 성실히 임하도록 지도함.             \n",
              "5479  현재 교통사고로 인해 병원에 입원중에 있으며 사고 진행사항에 대해 청취하였으나 목격자 출현하여 불리한 진술을 하여 사고처리가 되지 않아 병원비를 다 지불하게 되었다고 하여 추후 진행에 대해 알아보기 위해 법률구조공단 방문 등 조치를 취할 것을 알려주고 건강회복에 주력해 줄것을 당부함                                         \n",
              "8192  상기인은 현재 취업성공패키지를 통해 기능취득취업지원센터에서 용접훈련을 받고 있음. 그러나 최근들어 편도선이 매우 붓고, 건강상태가 악화되어 식사도 제대로 하기 힘든 상황임. 병원치료를 위해 교육을 이틀결석함. 내담자가 치료를 위한 결석으로 인해 수당지급에 불이익을 받지않도록 진단서 또는 입원확인서를 제출하면 출석을 인정받을 수 있도록 조치가 필요함.   \n",
              "\n",
              "      category  \n",
              "3401  1         \n",
              "3511  1         \n",
              "3550  1         \n",
              "5479  1         \n",
              "8192  1         "
            ]
          },
          "metadata": {
            "tags": []
          },
          "execution_count": 49
        }
      ]
    },
    {
      "cell_type": "code",
      "metadata": {
        "id": "ml_sBOFjqjwV",
        "colab_type": "code",
        "colab": {
          "base_uri": "https://localhost:8080/",
          "height": 561
        },
        "outputId": "c023cb5b-7fb9-49ae-9151-97c2f85b55c1"
      },
      "source": [
        "bio_exists_df[\n",
        "    bio_exists_df['category'] == 2\n",
        "][['CONSULT_CONT', 'category']].head()"
      ],
      "execution_count": null,
      "outputs": [
        {
          "output_type": "execute_result",
          "data": {
            "text/html": [
              "<div>\n",
              "<style scoped>\n",
              "    .dataframe tbody tr th:only-of-type {\n",
              "        vertical-align: middle;\n",
              "    }\n",
              "\n",
              "    .dataframe tbody tr th {\n",
              "        vertical-align: top;\n",
              "    }\n",
              "\n",
              "    .dataframe thead th {\n",
              "        text-align: right;\n",
              "    }\n",
              "</style>\n",
              "<table border=\"1\" class=\"dataframe\">\n",
              "  <thead>\n",
              "    <tr style=\"text-align: right;\">\n",
              "      <th></th>\n",
              "      <th>CONSULT_CONT</th>\n",
              "      <th>category</th>\n",
              "    </tr>\n",
              "  </thead>\n",
              "  <tbody>\n",
              "    <tr>\n",
              "      <th>3417</th>\n",
              "      <td>숙식제공 대상자를 위한 초기상담, 심리검사를 실시하였음.\\r\\n초기상담-가족과의 갈등으로 인해 힘들었던 과거에 대해서 이야기하여 이에 대해 지지 및 공감해주고, 대상자의 특성 파악을 위한 심층상담을 실시하였음.\\r\\n심리검사-다면적인성검사(mmpi), 문장완성검사(sct), 한국형 알코올 중독 선별 검사표(NAST), 알코올중독 자가진단표(ADUIT), 우울설문지(BDI-2)를 실시하였음. 개인의 특성을 파악하기 위한 검사임을 설명하고 성실히 임하도록 지도함.</td>\n",
              "      <td>2</td>\n",
              "    </tr>\n",
              "    <tr>\n",
              "      <th>3549</th>\n",
              "      <td>성실히 생활하며 자립을 위해 노력해 줄것을 수차례 요구했으나 개선이 되지 않고 있으며 패키지 및 용접 훈련 등 직원의 지도에 응하지 않는등 생활태도에도 문제가 있어 지적하고 개선을 요구했으나 자신 스스로가 여기에서 생활하고자 하는 의지가 없어져 퇴소를 희망해 보호종료 처리함</td>\n",
              "      <td>2</td>\n",
              "    </tr>\n",
              "    <tr>\n",
              "      <th>3978</th>\n",
              "      <td>상기인의 근황을 파악하였으나, 별다른 일은 없음. 상기인은 휴대폰 비용을 내야하는것이 걱정이라고 함. 최근 근로를 위해 매일아침 일용직 노동일터를 가지만 일을 못하는 경우가 절반정도는 된다고 함. 내담자는 능동적으로 돈을벌어 현 상황을 타계하기보다는 억지로 무언가에 이끌려 일을 하러 가는 것 같다고 함. 상기인은 약간 무기력증을 가지고 있어, 능동적인 삶의 태도를 갖게하기위해 KFC 창업자의 감동스토리를 들려줌.</td>\n",
              "      <td>2</td>\n",
              "    </tr>\n",
              "    <tr>\n",
              "      <th>4988</th>\n",
              "      <td>9월 22일 같은방 동료인 권재호와 17:00경 옥상에서 다툼을 벌여 소내규율을 위반 엄히 질책하고 향후 다시는 이런일이 발생하지 않도록 노력해줄것을 지도하고 용접수강중 다시 이런일이 발생되면 퇴소 소치 및 용접실무반에서 탈락 조치됨을 고지하고 재발 사례가 없도록 노력해 줄것을 지도 당부함</td>\n",
              "      <td>2</td>\n",
              "    </tr>\n",
              "    <tr>\n",
              "      <th>5454</th>\n",
              "      <td>기능취득취업전문센터에서 용접실무과정에 현재까지 훈련과정을 잘 이수하고 있는 편이며, 훈련기간 중 안전수칙을 준수하여 안전사고가 발생하지 않도록 하고, 기온차가 심한 날씨로 감기등 건강관리에 유의해 줄것과 지금 본인이 흘리는 땀 방울이 분명 행복의 시간으로 돌아옴을 항상 가슴에 새기고 결석하는 사례가 없이 훈련과정을 잘 이수할 수 있도록 최선의 노력을 다해주길 지도 함.\\r\\n</td>\n",
              "      <td>2</td>\n",
              "    </tr>\n",
              "  </tbody>\n",
              "</table>\n",
              "</div>"
            ],
            "text/plain": [
              "                                                                                                                                                                                                                                                             CONSULT_CONT  \\\n",
              "3417  숙식제공 대상자를 위한 초기상담, 심리검사를 실시하였음.\\r\\n초기상담-가족과의 갈등으로 인해 힘들었던 과거에 대해서 이야기하여 이에 대해 지지 및 공감해주고, 대상자의 특성 파악을 위한 심층상담을 실시하였음.\\r\\n심리검사-다면적인성검사(mmpi), 문장완성검사(sct), 한국형 알코올 중독 선별 검사표(NAST), 알코올중독 자가진단표(ADUIT), 우울설문지(BDI-2)를 실시하였음. 개인의 특성을 파악하기 위한 검사임을 설명하고 성실히 임하도록 지도함.   \n",
              "3549  성실히 생활하며 자립을 위해 노력해 줄것을 수차례 요구했으나 개선이 되지 않고 있으며 패키지 및 용접 훈련 등 직원의 지도에 응하지 않는등 생활태도에도 문제가 있어 지적하고 개선을 요구했으나 자신 스스로가 여기에서 생활하고자 하는 의지가 없어져 퇴소를 희망해 보호종료 처리함                                                                                                             \n",
              "3978  상기인의 근황을 파악하였으나, 별다른 일은 없음. 상기인은 휴대폰 비용을 내야하는것이 걱정이라고 함. 최근 근로를 위해 매일아침 일용직 노동일터를 가지만 일을 못하는 경우가 절반정도는 된다고 함. 내담자는 능동적으로 돈을벌어 현 상황을 타계하기보다는 억지로 무언가에 이끌려 일을 하러 가는 것 같다고 함. 상기인은 약간 무기력증을 가지고 있어, 능동적인 삶의 태도를 갖게하기위해 KFC 창업자의 감동스토리를 들려줌.                              \n",
              "4988  9월 22일 같은방 동료인 권재호와 17:00경 옥상에서 다툼을 벌여 소내규율을 위반 엄히 질책하고 향후 다시는 이런일이 발생하지 않도록 노력해줄것을 지도하고 용접수강중 다시 이런일이 발생되면 퇴소 소치 및 용접실무반에서 탈락 조치됨을 고지하고 재발 사례가 없도록 노력해 줄것을 지도 당부함                                                                                                    \n",
              "5454  기능취득취업전문센터에서 용접실무과정에 현재까지 훈련과정을 잘 이수하고 있는 편이며, 훈련기간 중 안전수칙을 준수하여 안전사고가 발생하지 않도록 하고, 기온차가 심한 날씨로 감기등 건강관리에 유의해 줄것과 지금 본인이 흘리는 땀 방울이 분명 행복의 시간으로 돌아옴을 항상 가슴에 새기고 결석하는 사례가 없이 훈련과정을 잘 이수할 수 있도록 최선의 노력을 다해주길 지도 함.\\r\\n                                                   \n",
              "\n",
              "      category  \n",
              "3417  2         \n",
              "3549  2         \n",
              "3978  2         \n",
              "4988  2         \n",
              "5454  2         "
            ]
          },
          "metadata": {
            "tags": []
          },
          "execution_count": 50
        }
      ]
    },
    {
      "cell_type": "code",
      "metadata": {
        "id": "w6Lhgf_gqh5o",
        "colab_type": "code",
        "colab": {
          "base_uri": "https://localhost:8080/",
          "height": 476
        },
        "outputId": "9d3704e7-ee2a-41fe-c52e-8ff3db808ba9"
      },
      "source": [
        "bio_exists_df[\n",
        "    bio_exists_df['category'] == 3\n",
        "][['CONSULT_CONT', 'category']].head()"
      ],
      "execution_count": null,
      "outputs": [
        {
          "output_type": "execute_result",
          "data": {
            "text/html": [
              "<div>\n",
              "<style scoped>\n",
              "    .dataframe tbody tr th:only-of-type {\n",
              "        vertical-align: middle;\n",
              "    }\n",
              "\n",
              "    .dataframe tbody tr th {\n",
              "        vertical-align: top;\n",
              "    }\n",
              "\n",
              "    .dataframe thead th {\n",
              "        text-align: right;\n",
              "    }\n",
              "</style>\n",
              "<table border=\"1\" class=\"dataframe\">\n",
              "  <thead>\n",
              "    <tr style=\"text-align: right;\">\n",
              "      <th></th>\n",
              "      <th>CONSULT_CONT</th>\n",
              "      <th>category</th>\n",
              "    </tr>\n",
              "  </thead>\n",
              "  <tbody>\n",
              "    <tr>\n",
              "      <th>2583</th>\n",
              "      <td>숙식제공 연장과 관련하여 면담을 실시하였으며 현재 저축실적이 없고 성실하지 못한 태도로 생활해 왔던 점을 지적하고 연장이 어려울 것같다고 알려주었으며 본인이 나가는 현장에서 제공하는 숙소에서 생활하겠다며 퇴소를 희망하여 성실히 노력해 자립할 수 있도록 노력해 줄것을 당부하고 보호종료 처리함</td>\n",
              "      <td>3</td>\n",
              "    </tr>\n",
              "    <tr>\n",
              "      <th>2637</th>\n",
              "      <td>상기자는 그간 취업성공패키지에 참여하여 일을 해오다 숙식기간이 만료가 되어 퇴소를 하게되었으며 평소 성실하지 못한 생활태도를 반드시 개선하고 열심히 취업활동을 하여 자립할 수 있도록 노력해 줄것을 당부하고 취업알선 보호전환 종료함</td>\n",
              "      <td>3</td>\n",
              "    </tr>\n",
              "    <tr>\n",
              "      <th>3216</th>\n",
              "      <td>취업활동 및 저축 등에 대해 신경써 줄것을 당부하고 생활태도를 개선하는 등 전반적으로 달라진 모습을 보여줄 것을 요구하였으나 여기서 생활하는것이 직원들과 동료들에게 폐를 끼치는것 같아 지인의 도움을 얻어 방을 구해 나가고자 희망하여 어디서든 성실히 생활하며 자립의지를 잃지 말고 자립할때까지 최선을 다해줄 것을 당부하고 보호종료 처리함</td>\n",
              "      <td>3</td>\n",
              "    </tr>\n",
              "    <tr>\n",
              "      <th>3873</th>\n",
              "      <td>저축 실적 개선, 생활문제 등으로 면담을 실시 하였으며 자신은 곧 정리를 하고 방을 얻어 생활을 하려고 준비 중에 있어 한동안 저축을 하지 못하였다고 하며 곧 준비가 되는데로 퇴소를 할 계획이라고 하여 숙식을 하는 동안에는 생활관 준칙 및 저축 등 기본적인 준수사항에 대해 지켜줄 것을 지도함</td>\n",
              "      <td>3</td>\n",
              "    </tr>\n",
              "    <tr>\n",
              "      <th>3993</th>\n",
              "      <td>최근 저축실적 및 취업활동이 저조하여 질책하였으며 본인의 의지부족과 나태함에 대해 지적하였으며 취업처 확보에도 소극적인 모습을 보이는 등 생활태도가 불량해 지고 있어 취업처 확보 및 저축실적 개선을 하여 자립기반 조성에 차질이 없도록 노력할 것을 지도함</td>\n",
              "      <td>3</td>\n",
              "    </tr>\n",
              "  </tbody>\n",
              "</table>\n",
              "</div>"
            ],
            "text/plain": [
              "                                                                                                                                                                                     CONSULT_CONT  \\\n",
              "2583  숙식제공 연장과 관련하여 면담을 실시하였으며 현재 저축실적이 없고 성실하지 못한 태도로 생활해 왔던 점을 지적하고 연장이 어려울 것같다고 알려주었으며 본인이 나가는 현장에서 제공하는 숙소에서 생활하겠다며 퇴소를 희망하여 성실히 노력해 자립할 수 있도록 노력해 줄것을 당부하고 보호종료 처리함                            \n",
              "2637  상기자는 그간 취업성공패키지에 참여하여 일을 해오다 숙식기간이 만료가 되어 퇴소를 하게되었으며 평소 성실하지 못한 생활태도를 반드시 개선하고 열심히 취업활동을 하여 자립할 수 있도록 노력해 줄것을 당부하고 취업알선 보호전환 종료함                                                              \n",
              "3216  취업활동 및 저축 등에 대해 신경써 줄것을 당부하고 생활태도를 개선하는 등 전반적으로 달라진 모습을 보여줄 것을 요구하였으나 여기서 생활하는것이 직원들과 동료들에게 폐를 끼치는것 같아 지인의 도움을 얻어 방을 구해 나가고자 희망하여 어디서든 성실히 생활하며 자립의지를 잃지 말고 자립할때까지 최선을 다해줄 것을 당부하고 보호종료 처리함   \n",
              "3873  저축 실적 개선, 생활문제 등으로 면담을 실시 하였으며 자신은 곧 정리를 하고 방을 얻어 생활을 하려고 준비 중에 있어 한동안 저축을 하지 못하였다고 하며 곧 준비가 되는데로 퇴소를 할 계획이라고 하여 숙식을 하는 동안에는 생활관 준칙 및 저축 등 기본적인 준수사항에 대해 지켜줄 것을 지도함                           \n",
              "3993  최근 저축실적 및 취업활동이 저조하여 질책하였으며 본인의 의지부족과 나태함에 대해 지적하였으며 취업처 확보에도 소극적인 모습을 보이는 등 생활태도가 불량해 지고 있어 취업처 확보 및 저축실적 개선을 하여 자립기반 조성에 차질이 없도록 노력할 것을 지도함                                                 \n",
              "\n",
              "      category  \n",
              "2583  3         \n",
              "2637  3         \n",
              "3216  3         \n",
              "3873  3         \n",
              "3993  3         "
            ]
          },
          "metadata": {
            "tags": []
          },
          "execution_count": 51
        }
      ]
    },
    {
      "cell_type": "code",
      "metadata": {
        "id": "sk4rQdAqFf9n",
        "colab_type": "code",
        "colab": {
          "base_uri": "https://localhost:8080/",
          "height": 595
        },
        "outputId": "6a77e023-5bd6-4187-8417-478142b826dc"
      },
      "source": [
        "bio_exists_df[\n",
        "    bio_exists_df['category'] == 4\n",
        "][['CONSULT_CONT', 'category']].head()"
      ],
      "execution_count": null,
      "outputs": [
        {
          "output_type": "execute_result",
          "data": {
            "text/html": [
              "<div>\n",
              "<style scoped>\n",
              "    .dataframe tbody tr th:only-of-type {\n",
              "        vertical-align: middle;\n",
              "    }\n",
              "\n",
              "    .dataframe tbody tr th {\n",
              "        vertical-align: top;\n",
              "    }\n",
              "\n",
              "    .dataframe thead th {\n",
              "        text-align: right;\n",
              "    }\n",
              "</style>\n",
              "<table border=\"1\" class=\"dataframe\">\n",
              "  <thead>\n",
              "    <tr style=\"text-align: right;\">\n",
              "      <th></th>\n",
              "      <th>CONSULT_CONT</th>\n",
              "      <th>category</th>\n",
              "    </tr>\n",
              "  </thead>\n",
              "  <tbody>\n",
              "    <tr>\n",
              "      <th>4152</th>\n",
              "      <td>10일 저녁 보고없이 아르바이트를 한다고 외출하여 새벽녁에 폭력사건에 연루되었으며 오전 김준민은 귀소하였으나 연락이 두절된채 귀소하지 않았으며 15시경 연락이 되어 면담을 하였으며 물의를 일으킨데 대한 책임을 지고 물러날 것을 권유하였으나 본인이 중대범죄를 저지른 것도 아니고 생활관내에서 문제를 일으킨것도 아닌데 왜 책임을 지어야 되냐며 거부하여 징계위원회에 회부됨을 알리고 징계위의 결정사항을 수용할 것을 묻자 알겠다고 대답하여 징계위원회에 회부 조치함</td>\n",
              "      <td>4</td>\n",
              "    </tr>\n",
              "    <tr>\n",
              "      <th>4160</th>\n",
              "      <td>당일 저녁 당직 점호시 불참하여 생활관에 올라가서 직접 면담한 바 너무 피곤하여 점호를 불참하였다면서 당직근무자(이민기)가 자는데 깨웠다고 짜증과 함께 다음부터는 자기가 취침하고 있을때 절대 깨우지 말라고 함. 더불어 익일 새벽2시 식당에 내려와 컵라면을 먹고 있어 정해진 식사기간외에는 생활관 휴게실에서 취식할것을 당부하였으나 마음대로 취식하지 못한것에 불만을 표출하는 등 당직 근무자의 지도에 순응하지 않고 마음대로 행동하며 폭언함.</td>\n",
              "      <td>4</td>\n",
              "    </tr>\n",
              "    <tr>\n",
              "      <th>4470</th>\n",
              "      <td>일요일 저녁 생활관 동료와 음주를 한 후 잠시 귀소했다 다시 외출을 하여 새벽(4:30경)에 음주 후 귀가한 부분을 지적하고 향후 재발방지를 요구했으나 한잔 마실수 있는것이지 너무 하는것 아니냐고 이의를 제기하여 공단에서 생활하는 목적을 잊지 말것을 지도하고 차후 재발시 보호관찰소와 협의하여 거취문제에 대해 논의하겠다고 통보함</td>\n",
              "      <td>4</td>\n",
              "    </tr>\n",
              "    <tr>\n",
              "      <th>4642</th>\n",
              "      <td>음주로 인해 본연의 임무를 잊고 방황하며 계속 음주를 하고 있어 지적하고 개선할 것을 요구하였으며 본인이 괴로움과 힘든 부분으로 상담을 요구하여 상담전문 직원에게 인계하여 상담을 받게 하였으나 지나친 음주로 인해 상담이 불가능 하였으며 차후 재발시 징계위원회에 회부하여 징계할 것을 고지하였음.</td>\n",
              "      <td>4</td>\n",
              "    </tr>\n",
              "    <tr>\n",
              "      <th>7796</th>\n",
              "      <td>26일 저녁 외출 후 귀소하겠다고 하였으나 밤새 음주 후 아침(09:20)분경 귀소하여 용접교육을 받지 않겠다고 하여 얼마 남지 않은 기간이니 며칠만 더 참고 교육에 참여해 줄것을 권유하였으나 본인의 의사가 강경하여 결정을 존중해 줄테니 성실히 생활하고 준칙 준수 등을 지도하였으나 다른 대상자들과 실랑이를 벌인 후 외출하였음</td>\n",
              "      <td>4</td>\n",
              "    </tr>\n",
              "  </tbody>\n",
              "</table>\n",
              "</div>"
            ],
            "text/plain": [
              "                                                                                                                                                                                                                                                         CONSULT_CONT  \\\n",
              "4152  10일 저녁 보고없이 아르바이트를 한다고 외출하여 새벽녁에 폭력사건에 연루되었으며 오전 김준민은 귀소하였으나 연락이 두절된채 귀소하지 않았으며 15시경 연락이 되어 면담을 하였으며 물의를 일으킨데 대한 책임을 지고 물러날 것을 권유하였으나 본인이 중대범죄를 저지른 것도 아니고 생활관내에서 문제를 일으킨것도 아닌데 왜 책임을 지어야 되냐며 거부하여 징계위원회에 회부됨을 알리고 징계위의 결정사항을 수용할 것을 묻자 알겠다고 대답하여 징계위원회에 회부 조치함   \n",
              "4160  당일 저녁 당직 점호시 불참하여 생활관에 올라가서 직접 면담한 바 너무 피곤하여 점호를 불참하였다면서 당직근무자(이민기)가 자는데 깨웠다고 짜증과 함께 다음부터는 자기가 취침하고 있을때 절대 깨우지 말라고 함. 더불어 익일 새벽2시 식당에 내려와 컵라면을 먹고 있어 정해진 식사기간외에는 생활관 휴게실에서 취식할것을 당부하였으나 마음대로 취식하지 못한것에 불만을 표출하는 등 당직 근무자의 지도에 순응하지 않고 마음대로 행동하며 폭언함.              \n",
              "4470  일요일 저녁 생활관 동료와 음주를 한 후 잠시 귀소했다 다시 외출을 하여 새벽(4:30경)에 음주 후 귀가한 부분을 지적하고 향후 재발방지를 요구했으나 한잔 마실수 있는것이지 너무 하는것 아니냐고 이의를 제기하여 공단에서 생활하는 목적을 잊지 말것을 지도하고 차후 재발시 보호관찰소와 협의하여 거취문제에 대해 논의하겠다고 통보함                                                                           \n",
              "4642  음주로 인해 본연의 임무를 잊고 방황하며 계속 음주를 하고 있어 지적하고 개선할 것을 요구하였으며 본인이 괴로움과 힘든 부분으로 상담을 요구하여 상담전문 직원에게 인계하여 상담을 받게 하였으나 지나친 음주로 인해 상담이 불가능 하였으며 차후 재발시 징계위원회에 회부하여 징계할 것을 고지하였음.                                                                                              \n",
              "7796  26일 저녁 외출 후 귀소하겠다고 하였으나 밤새 음주 후 아침(09:20)분경 귀소하여 용접교육을 받지 않겠다고 하여 얼마 남지 않은 기간이니 며칠만 더 참고 교육에 참여해 줄것을 권유하였으나 본인의 의사가 강경하여 결정을 존중해 줄테니 성실히 생활하고 준칙 준수 등을 지도하였으나 다른 대상자들과 실랑이를 벌인 후 외출하였음                                                                            \n",
              "\n",
              "      category  \n",
              "4152  4         \n",
              "4160  4         \n",
              "4470  4         \n",
              "4642  4         \n",
              "7796  4         "
            ]
          },
          "metadata": {
            "tags": []
          },
          "execution_count": 52
        }
      ]
    },
    {
      "cell_type": "code",
      "metadata": {
        "id": "mxWaQR2RsNEn",
        "colab_type": "code",
        "colab": {}
      },
      "source": [
        ""
      ],
      "execution_count": null,
      "outputs": []
    }
  ]
}