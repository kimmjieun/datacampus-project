{
  "nbformat": 4,
  "nbformat_minor": 0,
  "metadata": {
    "colab": {
      "name": "허그일자리_연관성분석_0824.ipynb",
      "provenance": [],
      "collapsed_sections": [],
      "authorship_tag": "ABX9TyNK8v8rOfpzWruoyOcpSfg1",
      "include_colab_link": true
    },
    "kernelspec": {
      "name": "python3",
      "display_name": "Python 3"
    },
    "accelerator": "GPU"
  },
  "cells": [
    {
      "cell_type": "markdown",
      "metadata": {
        "id": "view-in-github",
        "colab_type": "text"
      },
      "source": [
        "<a href=\"https://colab.research.google.com/github/jiieunx/datacampus/blob/master/%ED%97%88%EA%B7%B8%EC%9D%BC%EC%9E%90%EB%A6%AC_%EC%97%B0%EA%B4%80%EC%84%B1%EB%B6%84%EC%84%9D_0824.ipynb\" target=\"_parent\"><img src=\"https://colab.research.google.com/assets/colab-badge.svg\" alt=\"Open In Colab\"/></a>"
      ]
    },
    {
      "cell_type": "code",
      "metadata": {
        "id": "8dhBKIRju84y",
        "colab_type": "code",
        "colab": {
          "base_uri": "https://localhost:8080/",
          "height": 105
        },
        "outputId": "3376c975-172c-46e6-c299-b3bf086cc876"
      },
      "source": [
        "#이거 실행하고 런타임 다시 시작해야함\n",
        "import matplotlib as mpl\n",
        "import matplotlib as plt\n",
        "%config InlineBackend.figure_format = 'retina'\n",
        " \n",
        "!apt -qq -y install fonts-nanum\n",
        " \n",
        "import matplotlib.font_manager as fm\n",
        "fontpath = '/usr/share/fonts/truetype/nanum/NanumBarunGothic.ttf'\n",
        "font = fm.FontProperties(fname=fontpath, size=9)\n",
        "plt.rc('font', family='NanumBarunGothic') \n",
        "mpl.font_manager._rebuild()\n"
      ],
      "execution_count": null,
      "outputs": [
        {
          "output_type": "stream",
          "text": [
            "fonts-nanum is already the newest version (20170925-1).\n",
            "The following package was automatically installed and is no longer required:\n",
            "  libnvidia-common-440\n",
            "Use 'apt autoremove' to remove it.\n",
            "0 upgraded, 0 newly installed, 0 to remove and 60 not upgraded.\n"
          ],
          "name": "stdout"
        }
      ]
    },
    {
      "cell_type": "code",
      "metadata": {
        "id": "fmdv8oaP-sRP",
        "colab_type": "code",
        "colab": {
          "base_uri": "https://localhost:8080/",
          "height": 467
        },
        "outputId": "eb04a207-f244-4606-be57-502aa18e5b57"
      },
      "source": [
        "import pandas as pd\n",
        "df = pd.read_excel('허그일자리.xlsx')\n",
        "df.head()"
      ],
      "execution_count": null,
      "outputs": [
        {
          "output_type": "execute_result",
          "data": {
            "text/html": [
              "<div>\n",
              "<style scoped>\n",
              "    .dataframe tbody tr th:only-of-type {\n",
              "        vertical-align: middle;\n",
              "    }\n",
              "\n",
              "    .dataframe tbody tr th {\n",
              "        vertical-align: top;\n",
              "    }\n",
              "\n",
              "    .dataframe thead th {\n",
              "        text-align: right;\n",
              "    }\n",
              "</style>\n",
              "<table border=\"1\" class=\"dataframe\">\n",
              "  <thead>\n",
              "    <tr style=\"text-align: right;\">\n",
              "      <th></th>\n",
              "      <th>DSJ_JUMIN_NO</th>\n",
              "      <th>DSJ_CARD_NO</th>\n",
              "      <th>CONSULT_DATE</th>\n",
              "      <th>CARE_OPEN_CLASS_CD</th>\n",
              "      <th>CARE_OPEN_CLASS_NM</th>\n",
              "      <th>CONSULT_GBN</th>\n",
              "      <th>CONSULT_GBN_NM</th>\n",
              "      <th>CONSULT_CONT</th>\n",
              "      <th>JAEBUM</th>\n",
              "      <th>IS_JAEBUM</th>\n",
              "    </tr>\n",
              "  </thead>\n",
              "  <tbody>\n",
              "    <tr>\n",
              "      <th>0</th>\n",
              "      <td>/4LlDK6gmHSYrQt7quBqsQ==</td>\n",
              "      <td>40020180651</td>\n",
              "      <td>2018-12-03</td>\n",
              "      <td>100</td>\n",
              "      <td>허그일자리</td>\n",
              "      <td>10</td>\n",
              "      <td>멘토링</td>\n",
              "      <td>직업훈련을 통해 자립하고자하는 의지를 키우고\\n자격증 취득은 필수라고 당부함</td>\n",
              "      <td>0</td>\n",
              "      <td>0</td>\n",
              "    </tr>\n",
              "    <tr>\n",
              "      <th>1</th>\n",
              "      <td>/8G+DQYlcibT07A7vnaGEg==</td>\n",
              "      <td>40020170702</td>\n",
              "      <td>2018-12-24</td>\n",
              "      <td>100</td>\n",
              "      <td>허그일자리</td>\n",
              "      <td>20</td>\n",
              "      <td>사후관리</td>\n",
              "      <td>사후관리 취업알선</td>\n",
              "      <td>0</td>\n",
              "      <td>0</td>\n",
              "    </tr>\n",
              "    <tr>\n",
              "      <th>2</th>\n",
              "      <td>/CmBtronc/EjTx/OwBd+WA==</td>\n",
              "      <td>140020180222</td>\n",
              "      <td>2018-12-21</td>\n",
              "      <td>100</td>\n",
              "      <td>허그일자리</td>\n",
              "      <td>20</td>\n",
              "      <td>사후관리</td>\n",
              "      <td>12.21 김장나눔행사 참여</td>\n",
              "      <td>0</td>\n",
              "      <td>0</td>\n",
              "    </tr>\n",
              "    <tr>\n",
              "      <th>3</th>\n",
              "      <td>/Dwc40CmQNZKgKVmvAA9Rg==</td>\n",
              "      <td>140020190003</td>\n",
              "      <td>2019-01-24</td>\n",
              "      <td>100</td>\n",
              "      <td>허그일자리</td>\n",
              "      <td>20</td>\n",
              "      <td>사후관리</td>\n",
              "      <td>허그일자리사업 집단상담 참여자 및 보호위원 멘토링 연계</td>\n",
              "      <td>0</td>\n",
              "      <td>0</td>\n",
              "    </tr>\n",
              "    <tr>\n",
              "      <th>4</th>\n",
              "      <td>/edYu9wm5a8FLnVO+OLu7Q==</td>\n",
              "      <td>40020180644</td>\n",
              "      <td>2019-05-31</td>\n",
              "      <td>100</td>\n",
              "      <td>허그일자리</td>\n",
              "      <td>10</td>\n",
              "      <td>멘토링</td>\n",
              "      <td>2019 아름다운 동행 낚시대회에 참여하여 긍정적인 사회관계 형성의 변화를 보여주었...</td>\n",
              "      <td>0</td>\n",
              "      <td>0</td>\n",
              "    </tr>\n",
              "  </tbody>\n",
              "</table>\n",
              "</div>"
            ],
            "text/plain": [
              "               DSJ_JUMIN_NO   DSJ_CARD_NO  ... JAEBUM  IS_JAEBUM\n",
              "0  /4LlDK6gmHSYrQt7quBqsQ==   40020180651  ...      0          0\n",
              "1  /8G+DQYlcibT07A7vnaGEg==   40020170702  ...      0          0\n",
              "2  /CmBtronc/EjTx/OwBd+WA==  140020180222  ...      0          0\n",
              "3  /Dwc40CmQNZKgKVmvAA9Rg==  140020190003  ...      0          0\n",
              "4  /edYu9wm5a8FLnVO+OLu7Q==   40020180644  ...      0          0\n",
              "\n",
              "[5 rows x 10 columns]"
            ]
          },
          "metadata": {
            "tags": []
          },
          "execution_count": 14
        }
      ]
    },
    {
      "cell_type": "code",
      "metadata": {
        "id": "gTq5dzEX_HDm",
        "colab_type": "code",
        "colab": {
          "base_uri": "https://localhost:8080/",
          "height": 34
        },
        "outputId": "cb011dff-7831-4e91-8028-547638ac28c6"
      },
      "source": [
        "lists=df['CONSULT_CONT'].tolist()\n",
        "len(lists)"
      ],
      "execution_count": null,
      "outputs": [
        {
          "output_type": "execute_result",
          "data": {
            "text/plain": [
              "1350"
            ]
          },
          "metadata": {
            "tags": []
          },
          "execution_count": 15
        }
      ]
    },
    {
      "cell_type": "code",
      "metadata": {
        "id": "OS3xtNn3_Mr_",
        "colab_type": "code",
        "colab": {}
      },
      "source": [
        "!apt-get update \n",
        "!apt-get install g++ openjdk-8-jdk python-dev python3-dev \n",
        "!pip3 install JPype1-py3 \n",
        "!pip3 install konlpy\n",
        "\n",
        "!JAVA_HOME=\"C:\\Program Files\\Java\\jdk-14.0.2\"\n",
        "#해야함"
      ],
      "execution_count": null,
      "outputs": []
    },
    {
      "cell_type": "code",
      "metadata": {
        "id": "oikLi4fQBIiz",
        "colab_type": "code",
        "colab": {
          "base_uri": "https://localhost:8080/",
          "height": 354
        },
        "outputId": "7f9a78dc-1398-48fb-a277-eb7a81aac7d1"
      },
      "source": [
        "!pip install customized_konlpy\n",
        "from ckonlpy.tag import Twitter\n"
      ],
      "execution_count": null,
      "outputs": [
        {
          "output_type": "stream",
          "text": [
            "Requirement already satisfied: customized_konlpy in /usr/local/lib/python3.6/dist-packages (0.0.64)\n",
            "Requirement already satisfied: Jpype1>=0.6.1 in /usr/local/lib/python3.6/dist-packages (from customized_konlpy) (1.0.2)\n",
            "Requirement already satisfied: konlpy>=0.4.4 in /usr/local/lib/python3.6/dist-packages (from customized_konlpy) (0.5.2)\n",
            "Requirement already satisfied: typing-extensions; python_version < \"3.8\" in /usr/local/lib/python3.6/dist-packages (from Jpype1>=0.6.1->customized_konlpy) (3.7.4.2)\n",
            "Requirement already satisfied: tweepy>=3.7.0 in /usr/local/lib/python3.6/dist-packages (from konlpy>=0.4.4->customized_konlpy) (3.9.0)\n",
            "Requirement already satisfied: colorama in /usr/local/lib/python3.6/dist-packages (from konlpy>=0.4.4->customized_konlpy) (0.4.3)\n",
            "Requirement already satisfied: lxml>=4.1.0 in /usr/local/lib/python3.6/dist-packages (from konlpy>=0.4.4->customized_konlpy) (4.2.6)\n",
            "Requirement already satisfied: numpy>=1.6 in /usr/local/lib/python3.6/dist-packages (from konlpy>=0.4.4->customized_konlpy) (1.18.5)\n",
            "Requirement already satisfied: beautifulsoup4==4.6.0 in /usr/local/lib/python3.6/dist-packages (from konlpy>=0.4.4->customized_konlpy) (4.6.0)\n",
            "Requirement already satisfied: requests-oauthlib>=0.7.0 in /usr/local/lib/python3.6/dist-packages (from tweepy>=3.7.0->konlpy>=0.4.4->customized_konlpy) (1.3.0)\n",
            "Requirement already satisfied: requests[socks]>=2.11.1 in /usr/local/lib/python3.6/dist-packages (from tweepy>=3.7.0->konlpy>=0.4.4->customized_konlpy) (2.23.0)\n",
            "Requirement already satisfied: six>=1.10.0 in /usr/local/lib/python3.6/dist-packages (from tweepy>=3.7.0->konlpy>=0.4.4->customized_konlpy) (1.15.0)\n",
            "Requirement already satisfied: oauthlib>=3.0.0 in /usr/local/lib/python3.6/dist-packages (from requests-oauthlib>=0.7.0->tweepy>=3.7.0->konlpy>=0.4.4->customized_konlpy) (3.1.0)\n",
            "Requirement already satisfied: idna<3,>=2.5 in /usr/local/lib/python3.6/dist-packages (from requests[socks]>=2.11.1->tweepy>=3.7.0->konlpy>=0.4.4->customized_konlpy) (2.10)\n",
            "Requirement already satisfied: certifi>=2017.4.17 in /usr/local/lib/python3.6/dist-packages (from requests[socks]>=2.11.1->tweepy>=3.7.0->konlpy>=0.4.4->customized_konlpy) (2020.6.20)\n",
            "Requirement already satisfied: chardet<4,>=3.0.2 in /usr/local/lib/python3.6/dist-packages (from requests[socks]>=2.11.1->tweepy>=3.7.0->konlpy>=0.4.4->customized_konlpy) (3.0.4)\n",
            "Requirement already satisfied: urllib3!=1.25.0,!=1.25.1,<1.26,>=1.21.1 in /usr/local/lib/python3.6/dist-packages (from requests[socks]>=2.11.1->tweepy>=3.7.0->konlpy>=0.4.4->customized_konlpy) (1.24.3)\n",
            "Requirement already satisfied: PySocks!=1.5.7,>=1.5.6; extra == \"socks\" in /usr/local/lib/python3.6/dist-packages (from requests[socks]>=2.11.1->tweepy>=3.7.0->konlpy>=0.4.4->customized_konlpy) (1.7.1)\n"
          ],
          "name": "stdout"
        }
      ]
    },
    {
      "cell_type": "code",
      "metadata": {
        "id": "CLQ7RKva_SB6",
        "colab_type": "code",
        "colab": {
          "base_uri": "https://localhost:8080/",
          "height": 846
        },
        "outputId": "f8ae4191-c528-49d3-f392-410a4829d2c7"
      },
      "source": [
        "\n",
        "from collections import Counter\n",
        "\n",
        "twt = Twitter()\n",
        "twt.add_dictionary(['허그일자리', '직업훈련', '사후관리', '취업알선','집단상담','경제적','안정적','긍정적','참여자','보호위원','허그일자리사업','구직활동','특이사항','적극적','위문물품','취업박람회','대형면허'], 'Noun') #사용자사전\n",
        "dataset = []\n",
        "\n",
        "\n",
        "for i in range(1350): \n",
        "  try:\n",
        "    tmp = twt.nouns(lists[i])   \n",
        "\n",
        "    stopword=['통해','위해','대한','생으로','고취','다시','참석','맞이','수업','필요','시간','크게','중임','제적','실시','안내','대해','도록','까지','전함','이후','중이','로서','때문','매우','제대로','지금','또힌','자로','지난','오늘','자임','관리','지원','상태','결연','진행','가지','나눔','본인','행사','과정','금일','마련','향후','상황','이야기','위문물품','기반','면서','연락','예정',#의미없는말 \n",
        "              '허그','일자리','허그일자리사업','허그일자리','멘토링','집단상담','취업','참여','활동','현재','사업','참여자','대상자','보호위원','직업','생활','프로그램','수료식','취업박람회','성공','유선','관련', '모습','설명','훈련','명절','학과','근무','운전면허','입교',#활동이나 행사등 \n",
        "              '독려', '당부','격려','근속','확인','지속','자녀','근로']# 상담자가 한말      \n",
        "    \n",
        "    #stopword=['통해','위해','대한','생으로','고취','다시','맞이','크게','중임','대해','전함','이후','중이','로서','때문','매우','제대로','지금','또힌','자로','지난','오늘','자임','관리','지원','상태','결연','진행','가지','나눔','본인','행사','과정','금일', #의미없는말 \n",
        "     #         '허그','일자리','취업','멘토링','상담','참여','활동','현재','집단','훈련','사업','참여자','대상자','보호','직업','위원','생활','프로그램','수료식', #활동이나 행사등 \n",
        "      #        '독려', '당부','격려']# 상담자가 한말  \n",
        "    #stopword=['통해','위해','대한','생으로','고취','다시','맞이','크게','중임','대해','전함','이후','중이','로서','때문','매우','제대로','지금','또힌','자로','지난','오늘','자임','관리','지원','상태','결연','진행','가지','나눔','본인','행사','과정','금일', #의미없는말 \n",
        "     #     '허그','일자리','멘토링','활동','현재','사업','참여자','대상자','생활', #활동이나 행사등 \n",
        "      #    '독려', '당부','격려']# 상담자가 한말  \n",
        "    newlist = [x for x in tmp if len(x)>1 if x not in stopword]\n",
        "\n",
        "    dataset.append(newlist)\n",
        "  except:\n",
        "    print('except')\n",
        "dataset[:10]\n",
        "\n",
        "            "
      ],
      "execution_count": null,
      "outputs": [
        {
          "output_type": "stream",
          "text": [
            "/usr/local/lib/python3.6/dist-packages/konlpy/tag/_okt.py:16: UserWarning: \"Twitter\" has changed to \"Okt\" since KoNLPy v0.4.5.\n",
            "  warn('\"Twitter\" has changed to \"Okt\" since KoNLPy v0.4.5.')\n"
          ],
          "name": "stderr"
        },
        {
          "output_type": "execute_result",
          "data": {
            "text/plain": [
              "[['직업훈련', '자립', '자하', '의지', '자격증', '취득', '필수'],\n",
              " ['사후관리', '취업알선'],\n",
              " ['김장'],\n",
              " [],\n",
              " ['아름',\n",
              "  '다운',\n",
              "  '동행',\n",
              "  '낚시',\n",
              "  '대회',\n",
              "  '긍정적',\n",
              "  '사회',\n",
              "  '관계',\n",
              "  '형성',\n",
              "  '변화',\n",
              "  '여주',\n",
              "  '었으',\n",
              "  '지지',\n",
              "  '계속',\n",
              "  '성실'],\n",
              " ['교육', '성실', '적극적', '자세', '면허', '취득'],\n",
              " [],\n",
              " ['이력서',\n",
              "  '컨설팅',\n",
              "  '상담',\n",
              "  '영업직',\n",
              "  '입사',\n",
              "  '희망',\n",
              "  '경력',\n",
              "  '준비',\n",
              "  '을지',\n",
              "  '자소',\n",
              "  '내용',\n",
              "  '정리',\n",
              "  '영업직',\n",
              "  '라면',\n",
              "  '생산',\n",
              "  '영업직',\n",
              "  '숙식',\n",
              "  '제공',\n",
              "  '문제점',\n",
              "  '관해',\n",
              "  '서도'],\n",
              " ['일터', '동행', '면접', '원함', '의지'],\n",
              " []]"
            ]
          },
          "metadata": {
            "tags": []
          },
          "execution_count": 22
        }
      ]
    },
    {
      "cell_type": "code",
      "metadata": {
        "id": "uVPsfM06_XXb",
        "colab_type": "code",
        "colab": {
          "base_uri": "https://localhost:8080/",
          "height": 34
        },
        "outputId": "97c476d2-a1a7-4f8a-93db-11c608239ba1"
      },
      "source": [
        "pip install apyori"
      ],
      "execution_count": null,
      "outputs": [
        {
          "output_type": "stream",
          "text": [
            "Requirement already satisfied: apyori in /usr/local/lib/python3.6/dist-packages (1.1.2)\n"
          ],
          "name": "stdout"
        }
      ]
    },
    {
      "cell_type": "code",
      "metadata": {
        "id": "P2-3n2Xj_XyY",
        "colab_type": "code",
        "colab": {}
      },
      "source": [
        "import re\n",
        "import networkx as nx\n",
        "import numpy as np\n",
        "import pandas as pd\n",
        "import matplotlib.pyplot as plt"
      ],
      "execution_count": null,
      "outputs": []
    },
    {
      "cell_type": "code",
      "metadata": {
        "id": "ecGMhrlk_Y3n",
        "colab_type": "code",
        "colab": {}
      },
      "source": [
        "from apyori import apriori\n",
        "result =(list(apriori(dataset,min_support=0.025)))"
      ],
      "execution_count": null,
      "outputs": []
    },
    {
      "cell_type": "code",
      "metadata": {
        "id": "tzPCRzpS_an6",
        "colab_type": "code",
        "colab": {
          "base_uri": "https://localhost:8080/",
          "height": 377
        },
        "outputId": "4a64b9bf-4bf0-47c3-acc8-1840eda0e34c"
      },
      "source": [
        "from apyori import apriori\n",
        "result =(list(apriori(dataset,min_support=0.025)))\n",
        "df=pd.DataFrame(result)\n",
        "df['length']=df['items'].apply(lambda x : len(x))\n",
        "df = df[(df['length']==2)&(df['support']>=0.025)].sort_values(by='support',ascending = False) \n",
        "df.head(10)"
      ],
      "execution_count": null,
      "outputs": [
        {
          "output_type": "execute_result",
          "data": {
            "text/html": [
              "<div>\n",
              "<style scoped>\n",
              "    .dataframe tbody tr th:only-of-type {\n",
              "        vertical-align: middle;\n",
              "    }\n",
              "\n",
              "    .dataframe tbody tr th {\n",
              "        vertical-align: top;\n",
              "    }\n",
              "\n",
              "    .dataframe thead th {\n",
              "        text-align: right;\n",
              "    }\n",
              "</style>\n",
              "<table border=\"1\" class=\"dataframe\">\n",
              "  <thead>\n",
              "    <tr style=\"text-align: right;\">\n",
              "      <th></th>\n",
              "      <th>items</th>\n",
              "      <th>support</th>\n",
              "      <th>ordered_statistics</th>\n",
              "      <th>length</th>\n",
              "    </tr>\n",
              "  </thead>\n",
              "  <tbody>\n",
              "    <tr>\n",
              "      <th>27</th>\n",
              "      <td>(경제적, 어려움)</td>\n",
              "      <td>0.105185</td>\n",
              "      <td>[((), (경제적, 어려움), 0.10518518518518519, 1.0), (...</td>\n",
              "      <td>2</td>\n",
              "    </tr>\n",
              "    <tr>\n",
              "      <th>29</th>\n",
              "      <td>(부양가족, 어려움)</td>\n",
              "      <td>0.058519</td>\n",
              "      <td>[((), (부양가족, 어려움), 0.05851851851851852, 1.0), ...</td>\n",
              "      <td>2</td>\n",
              "    </tr>\n",
              "    <tr>\n",
              "      <th>26</th>\n",
              "      <td>(경제적, 부양가족)</td>\n",
              "      <td>0.058519</td>\n",
              "      <td>[((), (경제적, 부양가족), 0.05851851851851852, 1.0), ...</td>\n",
              "      <td>2</td>\n",
              "    </tr>\n",
              "    <tr>\n",
              "      <th>42</th>\n",
              "      <td>(취득, 직업훈련)</td>\n",
              "      <td>0.040000</td>\n",
              "      <td>[((), (취득, 직업훈련), 0.04, 1.0), ((직업훈련), (취득), 0...</td>\n",
              "      <td>2</td>\n",
              "    </tr>\n",
              "    <tr>\n",
              "      <th>28</th>\n",
              "      <td>(취득, 면허)</td>\n",
              "      <td>0.034074</td>\n",
              "      <td>[((), (취득, 면허), 0.034074074074074076, 1.0), ((...</td>\n",
              "      <td>2</td>\n",
              "    </tr>\n",
              "    <tr>\n",
              "      <th>33</th>\n",
              "      <td>(의지, 자립)</td>\n",
              "      <td>0.031852</td>\n",
              "      <td>[((), (의지, 자립), 0.03185185185185185, 1.0), ((의...</td>\n",
              "      <td>2</td>\n",
              "    </tr>\n",
              "    <tr>\n",
              "      <th>39</th>\n",
              "      <td>(직업훈련, 자립)</td>\n",
              "      <td>0.031111</td>\n",
              "      <td>[((), (자립, 직업훈련), 0.03111111111111111, 1.0), (...</td>\n",
              "      <td>2</td>\n",
              "    </tr>\n",
              "    <tr>\n",
              "      <th>31</th>\n",
              "      <td>(성실, 직업훈련)</td>\n",
              "      <td>0.028889</td>\n",
              "      <td>[((), (성실, 직업훈련), 0.028888888888888888, 1.0), ...</td>\n",
              "      <td>2</td>\n",
              "    </tr>\n",
              "    <tr>\n",
              "      <th>32</th>\n",
              "      <td>(안정적, 자립)</td>\n",
              "      <td>0.028889</td>\n",
              "      <td>[((), (안정적, 자립), 0.028888888888888888, 1.0), (...</td>\n",
              "      <td>2</td>\n",
              "    </tr>\n",
              "    <tr>\n",
              "      <th>35</th>\n",
              "      <td>(의지, 직업훈련)</td>\n",
              "      <td>0.028148</td>\n",
              "      <td>[((), (의지, 직업훈련), 0.028148148148148148, 1.0), ...</td>\n",
              "      <td>2</td>\n",
              "    </tr>\n",
              "  </tbody>\n",
              "</table>\n",
              "</div>"
            ],
            "text/plain": [
              "          items  ...  length\n",
              "27   (경제적, 어려움)  ...       2\n",
              "29  (부양가족, 어려움)  ...       2\n",
              "26  (경제적, 부양가족)  ...       2\n",
              "42   (취득, 직업훈련)  ...       2\n",
              "28     (취득, 면허)  ...       2\n",
              "33     (의지, 자립)  ...       2\n",
              "39   (직업훈련, 자립)  ...       2\n",
              "31   (성실, 직업훈련)  ...       2\n",
              "32    (안정적, 자립)  ...       2\n",
              "35   (의지, 직업훈련)  ...       2\n",
              "\n",
              "[10 rows x 4 columns]"
            ]
          },
          "metadata": {
            "tags": []
          },
          "execution_count": 26
        }
      ]
    },
    {
      "cell_type": "code",
      "metadata": {
        "id": "2q0xdxCF_cM0",
        "colab_type": "code",
        "colab": {}
      },
      "source": [
        "G  = nx.Graph()\n",
        "ar = (df['items']); G.add_edges_from(ar)\n"
      ],
      "execution_count": null,
      "outputs": []
    },
    {
      "cell_type": "code",
      "metadata": {
        "id": "MD2qPfxI_fgr",
        "colab_type": "code",
        "colab": {}
      },
      "source": [
        "#페이지 랭크는 노드 순위를 제공하므로 노드 색상과 크기를 지정하는 데 유용하게 사용 \n",
        "pr = nx.pagerank(G)\n",
        "nsize = np.array([v for v in pr.values()])\n",
        "nsize = 2100 * (nsize - min(nsize)) / (max(nsize)-min(nsize))\n"
      ],
      "execution_count": null,
      "outputs": []
    },
    {
      "cell_type": "code",
      "metadata": {
        "id": "hySEzHhB_gXy",
        "colab_type": "code",
        "colab": {}
      },
      "source": [
        "#레이아웃바꾸고싶음\n",
        "#pos = nx.circular_layout(G)\n",
        "#pos = nx.planar_layout(G)\n",
        "#pos = nx.bipartite_layout(G)\n",
        "#pos = nx.kamada_kawai_layout(G)\n",
        "#pos = nx.random_layout(G) #무작위 \n",
        "#pos = nx.rescale_layout(G)\n",
        "#pos = nx.shell_layout(G) #동심원에 노드배치\n",
        "pos = nx.spring_layout(G) #좋아보임 \n",
        "#pos = nx.spectral_layout(G) #선위에 별로\n",
        "#pos = nx.spiral_layout(G) #나선형 레이아웃 \n"
      ],
      "execution_count": null,
      "outputs": []
    },
    {
      "cell_type": "code",
      "metadata": {
        "id": "Qy71tu37_hCY",
        "colab_type": "code",
        "colab": {
          "base_uri": "https://localhost:8080/",
          "height": 683
        },
        "outputId": "d9116825-5b8d-495f-d6ba-8d9dcd25504f"
      },
      "source": [
        "plt.figure(figsize=(16,12));plt.axis('off')\n",
        "nx.draw_networkx(G,font_family = \"NanumBarunGothic\",font_size = 15,\n",
        "                pos=pos,node_color=list(pr.values()),node_size=nsize,\n",
        "                alpha=0.7,edge_color = '.5',cmap=plt.cm.Blues,width=2)\n",
        "\n",
        "#plt.show()\n",
        "plt.savefig('허그일자리_네트워크.png',bbox_inches='tight')"
      ],
      "execution_count": null,
      "outputs": [
        {
          "output_type": "display_data",
          "data": {
            "image/png": "[encoded data removed]",
            "text/plain": [
              "<Figure size 1152x864 with 1 Axes>"
            ]
          },
          "metadata": {
            "tags": [],
            "image/png": {
              "width": 907,
              "height": 666
            }
          }
        }
      ]
    }
  ]
}