{
  "nbformat": 4,
  "nbformat_minor": 0,
  "metadata": {
    "colab": {
      "name": "허그일자리_단계별데이터.ipynb",
      "provenance": [],
      "collapsed_sections": []
    },
    "kernelspec": {
      "name": "python3",
      "display_name": "Python 3"
    },
    "accelerator": "GPU"
  },
  "cells": [
    {
      "cell_type": "markdown",
      "metadata": {
        "id": "view-in-github"
      },
      "source": [
        "<a href=\"https://colab.research.google.com/github/jiieunx/datacampus/blob/master/%ED%97%88%EA%B7%B8%EC%9D%BC%EC%9E%90%EB%A6%AC_%EB%8B%A8%EA%B3%84%EB%B3%84%EB%8D%B0%EC%9D%B4%ED%84%B0.ipynb\" target=\"_parent\"><img src=\"https://colab.research.google.com/assets/colab-badge.svg\" alt=\"Open In Colab\"/></a>"
      ]
    },
    {
      "cell_type": "code",
      "metadata": {
        "id": "EMoV9IPY1yVM"
      },
      "source": [
        "import pandas as pd\n"
      ],
      "execution_count": null,
      "outputs": []
    },
    {
      "cell_type": "code",
      "metadata": {
        "id": "fRRveO4ZweZC"
      },
      "source": [
        "df1 = pd.read_excel('2.jaebum - 복사본.xlsx')\n",
        "df1"
      ],
      "execution_count": null,
      "outputs": []
    },
    {
      "cell_type": "code",
      "metadata": {
        "id": "xh7Ql8hJokAi"
      },
      "source": [
        "print(df1.dtypes)"
      ],
      "execution_count": null,
      "outputs": []
    },
    {
      "cell_type": "code",
      "metadata": {
        "id": "MgOzBA91zmia"
      },
      "source": [
        "df2 = pd.read_excel('허그예시.xlsx')\n",
        "df2"
      ],
      "execution_count": null,
      "outputs": []
    },
    {
      "cell_type": "code",
      "metadata": {
        "id": "8j9NgDandKZ3"
      },
      "source": [
        "print(df2.dtypes)"
      ],
      "execution_count": null,
      "outputs": []
    },
    {
      "cell_type": "code",
      "metadata": {
        "id": "qtlAedRV0OT0"
      },
      "source": [
        "df1=df1[df1['CARE_OPEN_CLASS_NM']=='허그일자리']\n",
        "df1"
      ],
      "execution_count": null,
      "outputs": []
    },
    {
      "cell_type": "code",
      "metadata": {
        "id": "R0W8TJmA2hmA"
      },
      "source": [
        "#진행단계별로 나누기 \n",
        "df2=df2[df2['STEP']==1]\n",
        "df2"
      ],
      "execution_count": null,
      "outputs": []
    },
    {
      "cell_type": "code",
      "metadata": {
        "id": "V1BuayW32wT2"
      },
      "source": [
        "df=pd.merge(df1,df2,how='inner',on='DSJ_JUMIN_NO')\n",
        "df"
      ],
      "execution_count": null,
      "outputs": []
    },
    {
      "cell_type": "code",
      "metadata": {
        "id": "52KuHumyHVNM"
      },
      "source": [
        "import numpy as np\n",
        "new_df=df[(df['CONSULT_DATE'] >= df['START']) & (df['CONSULT_DATE'] <= df['END'])]"
      ],
      "execution_count": null,
      "outputs": []
    },
    {
      "cell_type": "code",
      "metadata": {
        "id": "HO5UKdzNouQP"
      },
      "source": [
        "new_df"
      ],
      "execution_count": null,
      "outputs": []
    }
  ]
}